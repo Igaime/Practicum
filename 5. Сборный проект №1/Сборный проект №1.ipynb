{
 "cells": [
  {
   "cell_type": "markdown",
   "metadata": {},
   "source": [
    "# Сборный проект №1"
   ]
  },
  {
   "cell_type": "markdown",
   "metadata": {},
   "source": [
    "## Введение"
   ]
  },
  {
   "cell_type": "markdown",
   "metadata": {},
   "source": [
    "<div style=\"border:solid Chocolate 2px; padding: 40px\">\n",
    "\n",
    "Вы работаете в интернет-магазине «Стримчик», который продаёт по всему миру компьютерные игры. Из открытых источников доступны исторические данные о продажах игр, оценки пользователей и экспертов, жанры и платформы (например, Xbox или PlayStation). Вам нужно выявить определяющие успешность игры закономерности. Это позволит сделать ставку на потенциально популярный продукт и спланировать рекламные кампании.\n",
    "    \n",
    "<h3> Цель: <a class=\"tocSkip\"> </h3> \n",
    "\n",
    "- выявить закономерности, определяющие успешность игры. Это позволит сделать ставку на потенциально популярный продукт и спланировать рекламные кампании.\n",
    "    \n",
    "<h3> Задачи: <a class=\"tocSkip\"> </h3> \n",
    "    \n",
    "- Открыть файл с данными;\n",
    "- Подготовить данные;\n",
    "- Провести исследовательский анализ данных;\n",
    "- Составить портре пользователя каждого региона;\n",
    "- Проверить гипотезы: \n",
    "    - Средние пользовательские рейтинги платформ Xbox One и PC одинаковые;\n",
    "    - Средние пользовательские рейтинги жанров Action (англ. «действие», экшен-игры) и Sports (англ. «спортивные соревнования») разные;\n",
    "- Написать общий вывод;"
   ]
  },
  {
   "cell_type": "code",
   "execution_count": 1,
   "metadata": {},
   "outputs": [],
   "source": [
    "import pandas as pd\n",
    "import matplotlib.pyplot as plt\n",
    "import numpy as np\n",
    "import seaborn as sns\n",
    "from scipy import stats as st"
   ]
  },
  {
   "cell_type": "code",
   "execution_count": 2,
   "metadata": {},
   "outputs": [],
   "source": [
    "data = pd.read_csv('/datasets/games.csv')"
   ]
  },
  {
   "cell_type": "code",
   "execution_count": 3,
   "metadata": {},
   "outputs": [
    {
     "name": "stdout",
     "output_type": "stream",
     "text": [
      "<class 'pandas.core.frame.DataFrame'>\n",
      "RangeIndex: 16715 entries, 0 to 16714\n",
      "Data columns (total 11 columns):\n",
      " #   Column           Non-Null Count  Dtype  \n",
      "---  ------           --------------  -----  \n",
      " 0   Name             16713 non-null  object \n",
      " 1   Platform         16715 non-null  object \n",
      " 2   Year_of_Release  16446 non-null  float64\n",
      " 3   Genre            16713 non-null  object \n",
      " 4   NA_sales         16715 non-null  float64\n",
      " 5   EU_sales         16715 non-null  float64\n",
      " 6   JP_sales         16715 non-null  float64\n",
      " 7   Other_sales      16715 non-null  float64\n",
      " 8   Critic_Score     8137 non-null   float64\n",
      " 9   User_Score       10014 non-null  object \n",
      " 10  Rating           9949 non-null   object \n",
      "dtypes: float64(6), object(5)\n",
      "memory usage: 1.4+ MB\n"
     ]
    }
   ],
   "source": [
    "data.info()"
   ]
  },
  {
   "cell_type": "markdown",
   "metadata": {},
   "source": [
    "<div class=\"alert alert-info\">\n",
    "<h3> Комментарий <a class=\"tocSkip\"></h3>\n",
    "\n",
    "Загрузили данные. Видим много пропусков в разныл столбцах, неправильные форматы данныз. Займемся этим. \n",
    "</div>"
   ]
  },
  {
   "cell_type": "markdown",
   "metadata": {},
   "source": [
    "## Предобработка"
   ]
  },
  {
   "cell_type": "code",
   "execution_count": 4,
   "metadata": {},
   "outputs": [
    {
     "data": {
      "text/plain": [
       "0"
      ]
     },
     "execution_count": 4,
     "metadata": {},
     "output_type": "execute_result"
    }
   ],
   "source": [
    "#Ищим дубликаты\n",
    "data.duplicated().sum()"
   ]
  },
  {
   "cell_type": "code",
   "execution_count": 5,
   "metadata": {},
   "outputs": [],
   "source": [
    "#приводим столбцы в нижний регистр\n",
    "data.columns = data.columns.str.lower()"
   ]
  },
  {
   "cell_type": "code",
   "execution_count": 6,
   "metadata": {},
   "outputs": [
    {
     "data": {
      "text/plain": [
       "name                  2\n",
       "platform              0\n",
       "year_of_release     269\n",
       "genre                 2\n",
       "na_sales              0\n",
       "eu_sales              0\n",
       "jp_sales              0\n",
       "other_sales           0\n",
       "critic_score       8578\n",
       "user_score         6701\n",
       "rating             6766\n",
       "dtype: int64"
      ]
     },
     "execution_count": 6,
     "metadata": {},
     "output_type": "execute_result"
    }
   ],
   "source": [
    "#считаем пропуски по каждому столбцу\n",
    "data.isnull().sum()"
   ]
  },
  {
   "cell_type": "code",
   "execution_count": 7,
   "metadata": {},
   "outputs": [],
   "source": [
    "data.rating = data.rating.fillna('NAN')"
   ]
  },
  {
   "cell_type": "markdown",
   "metadata": {},
   "source": [
    "<div class=\"alert alert-info\">\n",
    "<h3> Комментарий <a class=\"tocSkip\"></h3>\n",
    "\n",
    "Пытаемся выяснить откуда пропуски в годе выпуска. \n",
    "Очевидной причины не видно. Попуски в разных патформах, разных жанрах и разных годах выпуска. Удалять не будем, эти даные нам понадобятся для дальгейшего анализа. \n",
    "    \n",
    "</div>"
   ]
  },
  {
   "cell_type": "code",
   "execution_count": 8,
   "metadata": {},
   "outputs": [],
   "source": [
    "data.year_of_release = data.year_of_release.astype(float).astype('Int64')\n",
    "#data.year_of_release = data.year_of_release.fillna(0)\n",
    "#data.query('year_of_release == 0').head(15)\n",
    "\n",
    "\n",
    "\n"
   ]
  },
  {
   "cell_type": "markdown",
   "metadata": {},
   "source": [
    "<div class=\"alert alert-info\">\n",
    "<h3> Комментарий <a class=\"tocSkip\"></h3>\n",
    "\n",
    "В user_score есть TBD (to be determined)\n",
    "Видимо эти оценки собираются дополнить позже. Пока меняем их на NaN, чтобы можно было перевести в float \n",
    "    \n",
    "</div>"
   ]
  },
  {
   "cell_type": "code",
   "execution_count": 9,
   "metadata": {},
   "outputs": [],
   "source": [
    "data.user_score = data.user_score.replace(\"tbd\", np.NaN)\n",
    "data.user_score = data.user_score.astype(float).astype('float64')\n"
   ]
  },
  {
   "cell_type": "code",
   "execution_count": 10,
   "metadata": {},
   "outputs": [
    {
     "data": {
      "text/plain": [
       "NAN     6766\n",
       "E       3990\n",
       "T       2961\n",
       "M       1563\n",
       "E10+    1420\n",
       "EC         8\n",
       "K-A        3\n",
       "RP         3\n",
       "AO         1\n",
       "Name: rating, dtype: int64"
      ]
     },
     "execution_count": 10,
     "metadata": {},
     "output_type": "execute_result"
    }
   ],
   "source": [
    "data.rating.value_counts()"
   ]
  },
  {
   "cell_type": "code",
   "execution_count": 11,
   "metadata": {},
   "outputs": [],
   "source": [
    "data = data[(data['rating'] != 'EC') & (data['rating'] != 'RP') & (data['rating'] != 'AO')]"
   ]
  },
  {
   "cell_type": "code",
   "execution_count": 12,
   "metadata": {},
   "outputs": [
    {
     "name": "stdout",
     "output_type": "stream",
     "text": [
      "<class 'pandas.core.frame.DataFrame'>\n",
      "Int64Index: 16703 entries, 0 to 16714\n",
      "Data columns (total 11 columns):\n",
      " #   Column           Non-Null Count  Dtype  \n",
      "---  ------           --------------  -----  \n",
      " 0   name             16701 non-null  object \n",
      " 1   platform         16703 non-null  object \n",
      " 2   year_of_release  16436 non-null  Int64  \n",
      " 3   genre            16701 non-null  object \n",
      " 4   na_sales         16703 non-null  float64\n",
      " 5   eu_sales         16703 non-null  float64\n",
      " 6   jp_sales         16703 non-null  float64\n",
      " 7   other_sales      16703 non-null  float64\n",
      " 8   critic_score     8133 non-null   float64\n",
      " 9   user_score       7586 non-null   float64\n",
      " 10  rating           16703 non-null  object \n",
      "dtypes: Int64(1), float64(6), object(4)\n",
      "memory usage: 1.5+ MB\n"
     ]
    }
   ],
   "source": [
    "#теперь все хорошо\n",
    "data.info()"
   ]
  },
  {
   "cell_type": "markdown",
   "metadata": {},
   "source": [
    "<div class=\"alert alert-info\">\n",
    "<h3> Комментарий <a class=\"tocSkip\"></h3>\n",
    "\n",
    "Предобработали данные. Дубликатов нет. есть пропуски в некоторых столбцах: year_of_realease, critic_score, user_score - удалять или заполнять пропуски не будем. Слишком много пропусков, чтобы просто удалть столцы. А заполянть средним или медианными знаениями будет неправильно в данном случае. \n",
    "    \n",
    "А вот rating мы заполним на 'NAN', эти данные нам понадобятся потом при ислледовании. \n",
    "</div>"
   ]
  },
  {
   "cell_type": "code",
   "execution_count": 13,
   "metadata": {},
   "outputs": [],
   "source": [
    "#Создаем столбец с общими продажами\n",
    "data['total_sales'] = data['na_sales'] + data['eu_sales'] + data['jp_sales'] + data['other_sales']"
   ]
  },
  {
   "cell_type": "markdown",
   "metadata": {},
   "source": [
    "## Исследовательский анализ данных"
   ]
  },
  {
   "cell_type": "markdown",
   "metadata": {},
   "source": [
    "### Тенденции выпуска игр по годам"
   ]
  },
  {
   "cell_type": "code",
   "execution_count": 14,
   "metadata": {},
   "outputs": [
    {
     "data": {
      "image/png": "[encoded data removed]",
      "text/plain": [
       "<Figure size 864x360 with 1 Axes>"
      ]
     },
     "metadata": {
      "needs_background": "light"
     },
     "output_type": "display_data"
    }
   ],
   "source": [
    "plt.figure(figsize=(12,5))\n",
    "sns.histplot (data=data.year_of_release, bins=37)\n",
    "plt.title('Количество продаж игровых платформ')\n",
    "plt.xlabel('Годы выпуска')\n",
    "plt.ylabel('Продажи')\n",
    "plt.show()"
   ]
  },
  {
   "cell_type": "markdown",
   "metadata": {},
   "source": [
    "<div class=\"alert alert-info\">\n",
    "<h3> Комментарий <a class=\"tocSkip\"></h3>\n",
    "\n",
    "Количество выпускаемых игр начало сильно рости с 90-х годов, в 2011 году набюдается резкий спад производста. Скорее всего, это связано с активным развитием смартфонов\n",
    "    \n",
    "</div>"
   ]
  },
  {
   "cell_type": "markdown",
   "metadata": {},
   "source": [
    "### Самые популярные платформы"
   ]
  },
  {
   "cell_type": "code",
   "execution_count": 15,
   "metadata": {},
   "outputs": [
    {
     "data": {
      "image/png": "[encoded data removed]",
      "text/plain": [
       "<Figure size 1080x360 with 1 Axes>"
      ]
     },
     "metadata": {},
     "output_type": "display_data"
    }
   ],
   "source": [
    "platform_on_sales = data.pivot_table(\n",
    "    index='platform', values='total_sales', aggfunc='sum').sort_values(by='total_sales', ascending=False)\n",
    "\n",
    "sns.set(rc={'figure.figsize':(15,5)})\n",
    "sns.barplot(x=platform_on_sales.index,y=platform_on_sales.total_sales)\n",
    "plt.xlabel('Платформы')\n",
    "plt.ylabel('Продажи')\n",
    "plt.show()"
   ]
  },
  {
   "cell_type": "markdown",
   "metadata": {},
   "source": [
    "<div class=\"alert alert-info\">\n",
    "<h3> Комментарий <a class=\"tocSkip\"></h3>\n",
    "\n",
    "5ка лидеров: \n",
    "- PS2;\n",
    "- X360;\n",
    "- PS3;\n",
    "- Wii;\n",
    "- Ds;\n",
    "    \n",
    "</div>"
   ]
  },
  {
   "cell_type": "markdown",
   "metadata": {},
   "source": [
    "### Распределение по годам среди платформ с наибольшими продажами.  Определение актуального периода.\n"
   ]
  },
  {
   "cell_type": "code",
   "execution_count": 16,
   "metadata": {},
   "outputs": [
    {
     "data": {
      "image/png": "[encoded data removed]",
      "text/plain": [
       "<Figure size 1080x360 with 1 Axes>"
      ]
     },
     "metadata": {},
     "output_type": "display_data"
    }
   ],
   "source": [
    "PS2 = data.query('platform ==\"PS2\"').pivot_table(index='year_of_release', values='total_sales', aggfunc='sum')\n",
    "X360 = data.query('platform ==\"X360\"').pivot_table(index='year_of_release', values='total_sales', aggfunc='sum')\n",
    "PS3 = data.query('platform ==\"PS3\"').pivot_table(index='year_of_release', values='total_sales', aggfunc='sum')\n",
    "Wii = data.query('platform ==\"Wii\"').pivot_table(index='year_of_release', values='total_sales', aggfunc='sum')\n",
    "DS = data.query('platform ==\"DS\"').pivot_table(index='year_of_release', values='total_sales', aggfunc='sum')\n",
    "\n",
    "\n",
    "top_platforms = (\n",
    "    PS2.merge(X360, how='outer', on='year_of_release')\n",
    "    .merge(PS3, how='outer', on='year_of_release')\n",
    "    .merge(Wii, how='outer', on='year_of_release')\n",
    "    .merge(DS, how='outer', on='year_of_release')\n",
    ")\n",
    "\n",
    "top_platforms = top_platforms.set_axis(['PS2', 'X360', 'PS3', 'Wii', 'DS'], axis = 'columns')\n",
    "top_platforms.query('year_of_release >= 1995').plot(figsize=(15, 5))\n",
    "plt.show()\n"
   ]
  },
  {
   "cell_type": "markdown",
   "metadata": {},
   "source": [
    "<div class=\"alert alert-info\">\n",
    "<h3> Комментарий <a class=\"tocSkip\"></h3>\n",
    "\n",
    "В среднем платформа существует 10-12 лет. \n",
    "    \n",
    "Судя по графику, мы ограничимся периодом с 2005 года. \n",
    "    \n",
    "Видно, что все платформы к 2016 году практически перестали продаваться. \n",
    "    \n",
    "</div>"
   ]
  },
  {
   "cell_type": "markdown",
   "metadata": {},
   "source": [
    "### Популярные платформы за актуальный период"
   ]
  },
  {
   "cell_type": "code",
   "execution_count": 17,
   "metadata": {},
   "outputs": [],
   "source": [
    "data=data.query('year_of_release >= 2012')"
   ]
  },
  {
   "cell_type": "code",
   "execution_count": 18,
   "metadata": {},
   "outputs": [
    {
     "data": {
      "image/png": "[encoded data removed]",
      "text/plain": [
       "<Figure size 1080x360 with 1 Axes>"
      ]
     },
     "metadata": {},
     "output_type": "display_data"
    }
   ],
   "source": [
    "platform_on_sales = data.pivot_table(\n",
    "    index='platform', values='total_sales', aggfunc='sum').sort_values(by='total_sales', ascending=False)\n",
    "\n",
    "sns.set(rc={'figure.figsize':(15,5)})\n",
    "sns.barplot(x=platform_on_sales.index,y=platform_on_sales.total_sales)\n",
    "plt.xlabel('Платформы')\n",
    "plt.ylabel('Продажи')\n",
    "plt.show()"
   ]
  },
  {
   "cell_type": "markdown",
   "metadata": {},
   "source": [
    "<div class=\"alert alert-info\">\n",
    "<h3> Комментарий <a class=\"tocSkip\"></h3>\n",
    "\n",
    "С 2012 года пятерка фаворитов немного изменилась,\n",
    "    \n",
    "Теперь пятерка фаворитов выглядит так PS4, PS3, X360, 3DS, XOne.\n",
    "    \n",
    "</div>"
   ]
  },
  {
   "cell_type": "markdown",
   "metadata": {},
   "source": [
    "### График «ящик с усами» по глобальным продажам игр в разбивке по платформам"
   ]
  },
  {
   "cell_type": "code",
   "execution_count": 19,
   "metadata": {
    "scrolled": false
   },
   "outputs": [
    {
     "data": {
      "image/png": "[encoded data removed]",
      "text/plain": [
       "<Figure size 1080x360 with 1 Axes>"
      ]
     },
     "metadata": {},
     "output_type": "display_data"
    }
   ],
   "source": [
    "top_platforms = data[data['platform'].isin(['PS4','PS3','X360','3DS','XOne'])]\n",
    "plt.figure(figsize=(15,5))\n",
    "plt.ylim([0,2.5])\n",
    "sns.boxplot(data=top_platforms, x='platform', y='total_sales')\n",
    "plt.xlabel('Платформы')\n",
    "plt.ylabel('Продажи')\n",
    "plt.show()"
   ]
  },
  {
   "cell_type": "markdown",
   "metadata": {},
   "source": [
    "<div class=\"alert alert-info\">\n",
    "<h3> Комментарий<a class=\"tocSkip\"></h3>\n",
    "\n",
    "\n",
    "    \n",
    "Медиана продаж разная, но находится примерно на одном уровне , разница не значительная. \n",
    "\n",
    "Больше продаж у X360. \n",
    "    \n",
    "Дальше примерно одинаково продаются PS3, PS4 и XOne. \n",
    "    \n",
    "Хуже всего дела обстоят у 3DS\n",
    "</div>"
   ]
  },
  {
   "cell_type": "markdown",
   "metadata": {},
   "source": [
    "### Влияние  отзывов пользователей и критокво на продажи внутри самой популярной платформы\n"
   ]
  },
  {
   "cell_type": "code",
   "execution_count": 20,
   "metadata": {},
   "outputs": [
    {
     "data": {
      "image/png": "[encoded data removed]",
      "text/plain": [
       "<Figure size 540x540 with 12 Axes>"
      ]
     },
     "metadata": {},
     "output_type": "display_data"
    }
   ],
   "source": [
    "sns.pairplot(data[data['platform'] == \"X360\"][['total_sales', 'critic_score', 'user_score']])\n",
    "plt.show()"
   ]
  },
  {
   "cell_type": "code",
   "execution_count": 21,
   "metadata": {
    "scrolled": true
   },
   "outputs": [
    {
     "data": {
      "text/html": [
       "<div>\n",
       "<style scoped>\n",
       "    .dataframe tbody tr th:only-of-type {\n",
       "        vertical-align: middle;\n",
       "    }\n",
       "\n",
       "    .dataframe tbody tr th {\n",
       "        vertical-align: top;\n",
       "    }\n",
       "\n",
       "    .dataframe thead th {\n",
       "        text-align: right;\n",
       "    }\n",
       "</style>\n",
       "<table border=\"1\" class=\"dataframe\">\n",
       "  <thead>\n",
       "    <tr style=\"text-align: right;\">\n",
       "      <th></th>\n",
       "      <th>total_sales</th>\n",
       "      <th>critic_score</th>\n",
       "      <th>user_score</th>\n",
       "    </tr>\n",
       "  </thead>\n",
       "  <tbody>\n",
       "    <tr>\n",
       "      <th>total_sales</th>\n",
       "      <td>1.000000</td>\n",
       "      <td>0.360573</td>\n",
       "      <td>0.006164</td>\n",
       "    </tr>\n",
       "    <tr>\n",
       "      <th>critic_score</th>\n",
       "      <td>0.360573</td>\n",
       "      <td>1.000000</td>\n",
       "      <td>0.557352</td>\n",
       "    </tr>\n",
       "    <tr>\n",
       "      <th>user_score</th>\n",
       "      <td>0.006164</td>\n",
       "      <td>0.557352</td>\n",
       "      <td>1.000000</td>\n",
       "    </tr>\n",
       "  </tbody>\n",
       "</table>\n",
       "</div>"
      ],
      "text/plain": [
       "              total_sales  critic_score  user_score\n",
       "total_sales      1.000000      0.360573    0.006164\n",
       "critic_score     0.360573      1.000000    0.557352\n",
       "user_score       0.006164      0.557352    1.000000"
      ]
     },
     "execution_count": 21,
     "metadata": {},
     "output_type": "execute_result"
    }
   ],
   "source": [
    "data[data.platform == \"X360\"][['total_sales', 'critic_score', 'user_score']].corr()"
   ]
  },
  {
   "cell_type": "markdown",
   "metadata": {},
   "source": [
    "<div class=\"alert alert-info\">\n",
    "<h3> Комментарий<a class=\"tocSkip\"></h3>\n",
    "\n",
    "Очевидно, чем больше оценка как критиков, так пользователей, тем больше продаж. Хотя есть некоторые \"выбросы\" у игр с низкими оценками пользователей. Может быть,  это те игры, которые настолько плохи, что нужно в них погирать? :)\n",
    "Посмотрим на другие плафтормы\n",
    "</div>"
   ]
  },
  {
   "cell_type": "markdown",
   "metadata": {},
   "source": [
    "### Зависимость отзывов и продаж других платформ"
   ]
  },
  {
   "cell_type": "code",
   "execution_count": 22,
   "metadata": {
    "scrolled": false
   },
   "outputs": [
    {
     "data": {
      "image/png": "[encoded data removed]",
      "text/plain": [
       "<Figure size 540x540 with 12 Axes>"
      ]
     },
     "metadata": {},
     "output_type": "display_data"
    }
   ],
   "source": [
    "sns.pairplot(data[data['platform'] == \"PS4\"][['total_sales', 'critic_score', 'user_score']])\n",
    "plt.show()"
   ]
  },
  {
   "cell_type": "code",
   "execution_count": 23,
   "metadata": {},
   "outputs": [
    {
     "data": {
      "image/png": "[encoded data removed]",
      "text/plain": [
       "<Figure size 540x540 with 12 Axes>"
      ]
     },
     "metadata": {},
     "output_type": "display_data"
    }
   ],
   "source": [
    "sns.pairplot(data[data['platform'] == \"PS3\"][['total_sales', 'critic_score', 'user_score']])\n",
    "plt.show()"
   ]
  },
  {
   "cell_type": "code",
   "execution_count": 24,
   "metadata": {
    "scrolled": false
   },
   "outputs": [
    {
     "data": {
      "image/png": "[encoded data removed]",
      "text/plain": [
       "<Figure size 540x540 with 12 Axes>"
      ]
     },
     "metadata": {},
     "output_type": "display_data"
    }
   ],
   "source": [
    "sns.pairplot(data[data['platform'] == \"3DS\"][['total_sales', 'critic_score', 'user_score']])\n",
    "plt.show()"
   ]
  },
  {
   "cell_type": "code",
   "execution_count": 25,
   "metadata": {
    "scrolled": false
   },
   "outputs": [
    {
     "data": {
      "image/png": "[encoded data removed]",
      "text/plain": [
       "<Figure size 540x540 with 12 Axes>"
      ]
     },
     "metadata": {},
     "output_type": "display_data"
    }
   ],
   "source": [
    "sns.pairplot(data[data['platform'] == \"XOne\"][['total_sales', 'critic_score', 'user_score']])\n",
    "plt.show()"
   ]
  },
  {
   "cell_type": "markdown",
   "metadata": {},
   "source": [
    "<div class=\"alert alert-info\">\n",
    "<h3> Комментарий<a class=\"tocSkip\"></h3>\n",
    "\n",
    "Видно, что в других платформах зависимость отзывов примерно соотвествует зависимости в самой популярной платформе. Значительных различий нет.\n",
    "    \n",
    "    \n",
    "Очевидно, что чем больше оценка критиков и пользователей, тем больше продажи. Это отлично видно на примере всех платформ\n",
    "    \n",
    "    \n",
    "</div>"
   ]
  },
  {
   "cell_type": "markdown",
   "metadata": {},
   "source": [
    "### Распределение игр по жанрам"
   ]
  },
  {
   "cell_type": "code",
   "execution_count": 26,
   "metadata": {},
   "outputs": [
    {
     "name": "stdout",
     "output_type": "stream",
     "text": [
      "<class 'pandas.core.frame.DataFrame'>\n",
      "RangeIndex: 12 entries, 0 to 11\n",
      "Data columns (total 2 columns):\n",
      " #   Column       Non-Null Count  Dtype  \n",
      "---  ------       --------------  -----  \n",
      " 0   genre        12 non-null     object \n",
      " 1   total_sales  12 non-null     float64\n",
      "dtypes: float64(1), object(1)\n",
      "memory usage: 320.0+ bytes\n"
     ]
    },
    {
     "data": {
      "image/png": "[encoded data removed]",
      "text/plain": [
       "<Figure size 1080x360 with 1 Axes>"
      ]
     },
     "metadata": {},
     "output_type": "display_data"
    }
   ],
   "source": [
    "dis_genre = data.pivot_table(\n",
    "    index='genre', values='total_sales', aggfunc='median').sort_values(by='total_sales', ascending=False).reset_index()\n",
    "dis_genre.info()\n",
    "\n",
    "\n",
    "sns.barplot(x=dis_genre['genre'], y=dis_genre['total_sales'])\n",
    "plt.title('Количество продаж по жанрам')\n",
    "plt.xlabel('Платформы')\n",
    "plt.ylabel('Продажи')\n",
    "plt.show()"
   ]
  },
  {
   "cell_type": "markdown",
   "metadata": {},
   "source": [
    "<div class=\"alert alert-info\">\n",
    "<h3> Комментарий <a class=\"tocSkip\"></h3>\n",
    "\n",
    "Глядя на медиану продаж по жанрам, мы можем увидеть пятерку лидеров: Shooter, Sports, Platform, Role-Playin, Racing\n",
    "</div>"
   ]
  },
  {
   "cell_type": "markdown",
   "metadata": {},
   "source": [
    "### Портерт пользователя каждого региона.  "
   ]
  },
  {
   "cell_type": "code",
   "execution_count": 27,
   "metadata": {},
   "outputs": [
    {
     "data": {
      "text/html": [
       "<div>\n",
       "<style scoped>\n",
       "    .dataframe tbody tr th:only-of-type {\n",
       "        vertical-align: middle;\n",
       "    }\n",
       "\n",
       "    .dataframe tbody tr th {\n",
       "        vertical-align: top;\n",
       "    }\n",
       "\n",
       "    .dataframe thead th {\n",
       "        text-align: right;\n",
       "    }\n",
       "</style>\n",
       "<table border=\"1\" class=\"dataframe\">\n",
       "  <thead>\n",
       "    <tr style=\"text-align: right;\">\n",
       "      <th></th>\n",
       "      <th>eu_sales</th>\n",
       "      <th>jp_sales</th>\n",
       "      <th>na_sales</th>\n",
       "      <th>other_sales</th>\n",
       "      <th>total_sales</th>\n",
       "    </tr>\n",
       "    <tr>\n",
       "      <th>platform</th>\n",
       "      <th></th>\n",
       "      <th></th>\n",
       "      <th></th>\n",
       "      <th></th>\n",
       "      <th></th>\n",
       "    </tr>\n",
       "  </thead>\n",
       "  <tbody>\n",
       "    <tr>\n",
       "      <th>X360</th>\n",
       "      <td>74.52</td>\n",
       "      <td>1.57</td>\n",
       "      <td>140.05</td>\n",
       "      <td>20.40</td>\n",
       "      <td>236.54</td>\n",
       "    </tr>\n",
       "    <tr>\n",
       "      <th>PS4</th>\n",
       "      <td>141.09</td>\n",
       "      <td>15.96</td>\n",
       "      <td>108.74</td>\n",
       "      <td>48.35</td>\n",
       "      <td>314.14</td>\n",
       "    </tr>\n",
       "    <tr>\n",
       "      <th>PS3</th>\n",
       "      <td>106.86</td>\n",
       "      <td>35.29</td>\n",
       "      <td>103.38</td>\n",
       "      <td>43.26</td>\n",
       "      <td>288.79</td>\n",
       "    </tr>\n",
       "    <tr>\n",
       "      <th>XOne</th>\n",
       "      <td>51.59</td>\n",
       "      <td>0.34</td>\n",
       "      <td>93.12</td>\n",
       "      <td>14.27</td>\n",
       "      <td>159.32</td>\n",
       "    </tr>\n",
       "    <tr>\n",
       "      <th>3DS</th>\n",
       "      <td>42.64</td>\n",
       "      <td>87.79</td>\n",
       "      <td>55.31</td>\n",
       "      <td>8.87</td>\n",
       "      <td>194.61</td>\n",
       "    </tr>\n",
       "    <tr>\n",
       "      <th>WiiU</th>\n",
       "      <td>25.13</td>\n",
       "      <td>13.01</td>\n",
       "      <td>38.10</td>\n",
       "      <td>5.95</td>\n",
       "      <td>82.19</td>\n",
       "    </tr>\n",
       "    <tr>\n",
       "      <th>PC</th>\n",
       "      <td>37.76</td>\n",
       "      <td>0.00</td>\n",
       "      <td>19.12</td>\n",
       "      <td>5.77</td>\n",
       "      <td>62.65</td>\n",
       "    </tr>\n",
       "    <tr>\n",
       "      <th>Wii</th>\n",
       "      <td>11.92</td>\n",
       "      <td>3.39</td>\n",
       "      <td>17.45</td>\n",
       "      <td>2.61</td>\n",
       "      <td>35.37</td>\n",
       "    </tr>\n",
       "    <tr>\n",
       "      <th>PSV</th>\n",
       "      <td>11.36</td>\n",
       "      <td>21.04</td>\n",
       "      <td>10.98</td>\n",
       "      <td>5.80</td>\n",
       "      <td>49.18</td>\n",
       "    </tr>\n",
       "    <tr>\n",
       "      <th>DS</th>\n",
       "      <td>3.53</td>\n",
       "      <td>3.72</td>\n",
       "      <td>4.59</td>\n",
       "      <td>0.71</td>\n",
       "      <td>12.55</td>\n",
       "    </tr>\n",
       "    <tr>\n",
       "      <th>PSP</th>\n",
       "      <td>0.42</td>\n",
       "      <td>10.47</td>\n",
       "      <td>0.13</td>\n",
       "      <td>0.17</td>\n",
       "      <td>11.19</td>\n",
       "    </tr>\n",
       "  </tbody>\n",
       "</table>\n",
       "</div>"
      ],
      "text/plain": [
       "          eu_sales  jp_sales  na_sales  other_sales  total_sales\n",
       "platform                                                        \n",
       "X360         74.52      1.57    140.05        20.40       236.54\n",
       "PS4         141.09     15.96    108.74        48.35       314.14\n",
       "PS3         106.86     35.29    103.38        43.26       288.79\n",
       "XOne         51.59      0.34     93.12        14.27       159.32\n",
       "3DS          42.64     87.79     55.31         8.87       194.61\n",
       "WiiU         25.13     13.01     38.10         5.95        82.19\n",
       "PC           37.76      0.00     19.12         5.77        62.65\n",
       "Wii          11.92      3.39     17.45         2.61        35.37\n",
       "PSV          11.36     21.04     10.98         5.80        49.18\n",
       "DS            3.53      3.72      4.59         0.71        12.55\n",
       "PSP           0.42     10.47      0.13         0.17        11.19"
      ]
     },
     "execution_count": 27,
     "metadata": {},
     "output_type": "execute_result"
    }
   ],
   "source": [
    "regions = data\\\n",
    "            .pivot_table(['na_sales','eu_sales','jp_sales','other_sales','total_sales'], ['platform'], aggfunc='sum')\\\n",
    "            .sort_values(by='na_sales', ascending=False)\n",
    "\n",
    "regions"
   ]
  },
  {
   "cell_type": "code",
   "execution_count": 28,
   "metadata": {
    "scrolled": false
   },
   "outputs": [
    {
     "data": {
      "image/png": "[encoded data removed]",
      "text/plain": [
       "<Figure size 1080x360 with 1 Axes>"
      ]
     },
     "metadata": {},
     "output_type": "display_data"
    }
   ],
   "source": [
    "eutop=data.pivot_table(\n",
    "    index='platform', values='eu_sales', aggfunc='sum').sort_values(by='eu_sales', ascending=False).head(15)\n",
    "\n",
    "sns.set(rc={'figure.figsize':(15,5)})\n",
    "sns.barplot(x=eutop.index,y=eutop.eu_sales)\n",
    "plt.title('Продажи по платформам в Европе')\n",
    "plt.xlabel('Платформы')\n",
    "plt.ylabel('Продажи')\n",
    "plt.show()"
   ]
  },
  {
   "cell_type": "code",
   "execution_count": 29,
   "metadata": {},
   "outputs": [
    {
     "data": {
      "image/png": "[encoded data removed]",
      "text/plain": [
       "<Figure size 1080x360 with 1 Axes>"
      ]
     },
     "metadata": {},
     "output_type": "display_data"
    }
   ],
   "source": [
    "jptop=data.pivot_table(\n",
    "    index='platform', values='jp_sales', aggfunc='sum').sort_values(by='jp_sales', ascending=False).head(15)\n",
    "\n",
    "sns.set(rc={'figure.figsize':(15,5)})\n",
    "sns.barplot(x=jptop.index,y=jptop.jp_sales)\n",
    "plt.title('Продажи по платформам в Японии')\n",
    "plt.xlabel('Платформы')\n",
    "plt.ylabel('Продажи')\n",
    "plt.show()"
   ]
  },
  {
   "cell_type": "code",
   "execution_count": 30,
   "metadata": {},
   "outputs": [
    {
     "data": {
      "image/png": "[encoded data removed]",
      "text/plain": [
       "<Figure size 1080x360 with 1 Axes>"
      ]
     },
     "metadata": {},
     "output_type": "display_data"
    }
   ],
   "source": [
    "natop=data.pivot_table(\n",
    "    index='platform', values='na_sales', aggfunc='sum').sort_values(by='na_sales', ascending=False).head(15)\n",
    "\n",
    "sns.set(rc={'figure.figsize':(15,5)})\n",
    "sns.barplot(x=natop.index,y=natop.na_sales)\n",
    "plt.title('Продажи по платформам в Северной Америке')\n",
    "plt.xlabel('Платформы')\n",
    "plt.ylabel('Продажи')\n",
    "plt.show()"
   ]
  },
  {
   "cell_type": "code",
   "execution_count": 31,
   "metadata": {},
   "outputs": [
    {
     "data": {
      "image/png": "[encoded data removed]",
      "text/plain": [
       "<Figure size 1080x360 with 1 Axes>"
      ]
     },
     "metadata": {},
     "output_type": "display_data"
    }
   ],
   "source": [
    "othertop=data.pivot_table(\n",
    "    index='platform', values='other_sales', aggfunc='sum').sort_values(by='other_sales', ascending=False).head(15)\n",
    "\n",
    "sns.set(rc={'figure.figsize':(15,5)})\n",
    "sns.barplot(x=othertop.index,y=othertop.other_sales)\n",
    "plt.title('Продажи по платформам в других регионах')\n",
    "plt.xlabel('Платформы')\n",
    "plt.ylabel('Продажи')\n",
    "plt.show()"
   ]
  },
  {
   "cell_type": "code",
   "execution_count": 32,
   "metadata": {},
   "outputs": [
    {
     "data": {
      "text/html": [
       "<div>\n",
       "<style scoped>\n",
       "    .dataframe tbody tr th:only-of-type {\n",
       "        vertical-align: middle;\n",
       "    }\n",
       "\n",
       "    .dataframe tbody tr th {\n",
       "        vertical-align: top;\n",
       "    }\n",
       "\n",
       "    .dataframe thead th {\n",
       "        text-align: right;\n",
       "    }\n",
       "</style>\n",
       "<table border=\"1\" class=\"dataframe\">\n",
       "  <thead>\n",
       "    <tr style=\"text-align: right;\">\n",
       "      <th></th>\n",
       "      <th>eu_sales</th>\n",
       "      <th>jp_sales</th>\n",
       "      <th>na_sales</th>\n",
       "      <th>other_sales</th>\n",
       "      <th>total_sales</th>\n",
       "    </tr>\n",
       "    <tr>\n",
       "      <th>genre</th>\n",
       "      <th></th>\n",
       "      <th></th>\n",
       "      <th></th>\n",
       "      <th></th>\n",
       "      <th></th>\n",
       "    </tr>\n",
       "  </thead>\n",
       "  <tbody>\n",
       "    <tr>\n",
       "      <th>Action</th>\n",
       "      <td>159.34</td>\n",
       "      <td>52.80</td>\n",
       "      <td>177.84</td>\n",
       "      <td>51.14</td>\n",
       "      <td>441.12</td>\n",
       "    </tr>\n",
       "    <tr>\n",
       "      <th>Shooter</th>\n",
       "      <td>113.47</td>\n",
       "      <td>9.23</td>\n",
       "      <td>144.77</td>\n",
       "      <td>37.26</td>\n",
       "      <td>304.73</td>\n",
       "    </tr>\n",
       "    <tr>\n",
       "      <th>Sports</th>\n",
       "      <td>69.09</td>\n",
       "      <td>8.01</td>\n",
       "      <td>81.53</td>\n",
       "      <td>22.44</td>\n",
       "      <td>181.07</td>\n",
       "    </tr>\n",
       "    <tr>\n",
       "      <th>Role-Playing</th>\n",
       "      <td>48.53</td>\n",
       "      <td>65.44</td>\n",
       "      <td>64.00</td>\n",
       "      <td>14.83</td>\n",
       "      <td>192.80</td>\n",
       "    </tr>\n",
       "    <tr>\n",
       "      <th>Misc</th>\n",
       "      <td>26.32</td>\n",
       "      <td>12.86</td>\n",
       "      <td>38.19</td>\n",
       "      <td>7.67</td>\n",
       "      <td>85.04</td>\n",
       "    </tr>\n",
       "    <tr>\n",
       "      <th>Platform</th>\n",
       "      <td>21.41</td>\n",
       "      <td>8.63</td>\n",
       "      <td>25.38</td>\n",
       "      <td>5.58</td>\n",
       "      <td>61.00</td>\n",
       "    </tr>\n",
       "    <tr>\n",
       "      <th>Fighting</th>\n",
       "      <td>10.79</td>\n",
       "      <td>9.44</td>\n",
       "      <td>19.79</td>\n",
       "      <td>4.47</td>\n",
       "      <td>44.49</td>\n",
       "    </tr>\n",
       "    <tr>\n",
       "      <th>Racing</th>\n",
       "      <td>27.29</td>\n",
       "      <td>2.50</td>\n",
       "      <td>17.22</td>\n",
       "      <td>6.49</td>\n",
       "      <td>53.50</td>\n",
       "    </tr>\n",
       "    <tr>\n",
       "      <th>Adventure</th>\n",
       "      <td>9.46</td>\n",
       "      <td>8.24</td>\n",
       "      <td>8.92</td>\n",
       "      <td>2.81</td>\n",
       "      <td>29.43</td>\n",
       "    </tr>\n",
       "    <tr>\n",
       "      <th>Simulation</th>\n",
       "      <td>14.55</td>\n",
       "      <td>10.41</td>\n",
       "      <td>7.97</td>\n",
       "      <td>2.19</td>\n",
       "      <td>35.12</td>\n",
       "    </tr>\n",
       "    <tr>\n",
       "      <th>Strategy</th>\n",
       "      <td>5.17</td>\n",
       "      <td>2.88</td>\n",
       "      <td>4.23</td>\n",
       "      <td>1.06</td>\n",
       "      <td>13.34</td>\n",
       "    </tr>\n",
       "    <tr>\n",
       "      <th>Puzzle</th>\n",
       "      <td>1.40</td>\n",
       "      <td>2.14</td>\n",
       "      <td>1.13</td>\n",
       "      <td>0.22</td>\n",
       "      <td>4.89</td>\n",
       "    </tr>\n",
       "  </tbody>\n",
       "</table>\n",
       "</div>"
      ],
      "text/plain": [
       "              eu_sales  jp_sales  na_sales  other_sales  total_sales\n",
       "genre                                                               \n",
       "Action          159.34     52.80    177.84        51.14       441.12\n",
       "Shooter         113.47      9.23    144.77        37.26       304.73\n",
       "Sports           69.09      8.01     81.53        22.44       181.07\n",
       "Role-Playing     48.53     65.44     64.00        14.83       192.80\n",
       "Misc             26.32     12.86     38.19         7.67        85.04\n",
       "Platform         21.41      8.63     25.38         5.58        61.00\n",
       "Fighting         10.79      9.44     19.79         4.47        44.49\n",
       "Racing           27.29      2.50     17.22         6.49        53.50\n",
       "Adventure         9.46      8.24      8.92         2.81        29.43\n",
       "Simulation       14.55     10.41      7.97         2.19        35.12\n",
       "Strategy          5.17      2.88      4.23         1.06        13.34\n",
       "Puzzle            1.40      2.14      1.13         0.22         4.89"
      ]
     },
     "execution_count": 32,
     "metadata": {},
     "output_type": "execute_result"
    }
   ],
   "source": [
    "genre = data\\\n",
    "            .pivot_table(['na_sales','eu_sales','jp_sales','other_sales','total_sales'], ['genre'], aggfunc='sum')\\\n",
    "            .sort_values(by='na_sales', ascending=False)\n",
    "\n",
    "genre"
   ]
  },
  {
   "cell_type": "code",
   "execution_count": 33,
   "metadata": {
    "scrolled": false
   },
   "outputs": [
    {
     "data": {
      "image/png": "[encoded data removed]",
      "text/plain": [
       "<Figure size 1080x360 with 1 Axes>"
      ]
     },
     "metadata": {},
     "output_type": "display_data"
    }
   ],
   "source": [
    "eu_genre_top=data.pivot_table(\n",
    "    index='genre', values='eu_sales', aggfunc='sum').sort_values(by='eu_sales', ascending=False)\n",
    "\n",
    "sns.set(rc={'figure.figsize':(15,5)})\n",
    "sns.barplot(x=eu_genre_top.index,y=eu_genre_top.eu_sales)\n",
    "plt.title('Популярные жанры в Европе')\n",
    "plt.xlabel('Жанры')\n",
    "plt.ylabel('Продажи')\n",
    "plt.show()"
   ]
  },
  {
   "cell_type": "code",
   "execution_count": 34,
   "metadata": {},
   "outputs": [
    {
     "data": {
      "image/png": "[encoded data removed]",
      "text/plain": [
       "<Figure size 1080x360 with 1 Axes>"
      ]
     },
     "metadata": {},
     "output_type": "display_data"
    }
   ],
   "source": [
    "jp_genre_top=data.pivot_table(\n",
    "    index='genre', values='jp_sales', aggfunc='sum').sort_values(by='jp_sales', ascending=False)\n",
    "\n",
    "sns.set(rc={'figure.figsize':(15,5)})\n",
    "sns.barplot(x=jp_genre_top.index,y=jp_genre_top.jp_sales)\n",
    "plt.title('Популярные жанры в Японии')\n",
    "plt.xlabel('Жанры')\n",
    "plt.ylabel('Продажи')\n",
    "plt.show()"
   ]
  },
  {
   "cell_type": "code",
   "execution_count": 35,
   "metadata": {},
   "outputs": [
    {
     "data": {
      "image/png": "[encoded data removed]",
      "text/plain": [
       "<Figure size 1080x360 with 1 Axes>"
      ]
     },
     "metadata": {},
     "output_type": "display_data"
    }
   ],
   "source": [
    "na_genre_top=data.pivot_table(\n",
    "    index='genre', values='na_sales', aggfunc='sum').sort_values(by='na_sales', ascending=False)\n",
    "\n",
    "sns.set(rc={'figure.figsize':(15,5)})\n",
    "sns.barplot(x=na_genre_top.index,y=na_genre_top.na_sales)\n",
    "plt.title('Популярные жанры в Северной Америке')\n",
    "plt.xlabel('Жанры')\n",
    "plt.ylabel('Продажи')\n",
    "plt.show()"
   ]
  },
  {
   "cell_type": "code",
   "execution_count": 36,
   "metadata": {
    "scrolled": true
   },
   "outputs": [
    {
     "data": {
      "image/png": "[encoded data removed]",
      "text/plain": [
       "<Figure size 1080x360 with 1 Axes>"
      ]
     },
     "metadata": {},
     "output_type": "display_data"
    }
   ],
   "source": [
    "other_genre_top=data.pivot_table(\n",
    "    index='genre', values='other_sales', aggfunc='sum').sort_values(by='other_sales', ascending=False)\n",
    "\n",
    "sns.set(rc={'figure.figsize':(15,5)})\n",
    "sns.barplot(x=other_genre_top.index,y=other_genre_top.other_sales)\n",
    "plt.title('Популярные жанры в других регионах')\n",
    "plt.xlabel('Жанры')\n",
    "plt.ylabel('Продажи')\n",
    "plt.show()"
   ]
  },
  {
   "cell_type": "markdown",
   "metadata": {},
   "source": [
    "<div class=\"alert alert-info\">\n",
    "<h3> Комментарий <a class=\"tocSkip\"></h3>\n",
    "\n",
    "Популярные платформы: \n",
    "- Европа. PS4, PS3, X360, XOne, 3DS;\n",
    "- Япония. 3DS, PS3, PSV, PS4, WiiU;\n",
    "- Северная Америка. X360, PS4, PS3, XOne, 3DS;\n",
    "- Другие регионы. PS4, PS3, X360, XOne, 3DS.\n",
    "\n",
    "Популярные жанры: \n",
    "- Европа. Action, Shooter, Sport,  Role-playing, Racing;\n",
    "- Япония. Role-playing, Action, Misc, Simulation, Fighting;\n",
    "- Северная Америка. Action, Shooter, Sport, Role-playing, Misc;\n",
    "- Другие регоины. Action, Shooter, Sport, Role-playing, Misc;\n",
    "\n",
    "\n",
    "В целом везде популярны примерно одни и те же платформы и жанры. Только в Япониии немного другое распределение.\n",
    "</div>\n",
    "\n"
   ]
  },
  {
   "cell_type": "markdown",
   "metadata": {},
   "source": [
    "### Влияние рейтинга на продажи. "
   ]
  },
  {
   "cell_type": "code",
   "execution_count": 37,
   "metadata": {},
   "outputs": [
    {
     "data": {
      "image/png": "[encoded data removed]",
      "text/plain": [
       "<Figure size 1080x360 with 1 Axes>"
      ]
     },
     "metadata": {},
     "output_type": "display_data"
    }
   ],
   "source": [
    "rating_eu=data.pivot_table(\n",
    "    index='rating', values='eu_sales', aggfunc='sum').sort_values(by='eu_sales', ascending=False)\n",
    "\n",
    "sns.set(rc={'figure.figsize':(15,5)})\n",
    "sns.barplot(x=rating_eu.index,y=rating_eu.eu_sales)\n",
    "\n",
    "plt.title('Продажи по рейтингу в Европе')\n",
    "plt.xlabel('Рейтинг')\n",
    "plt.ylabel('Продажи')\n",
    "plt.show()"
   ]
  },
  {
   "cell_type": "code",
   "execution_count": 38,
   "metadata": {},
   "outputs": [
    {
     "data": {
      "image/png": "[encoded data removed]",
      "text/plain": [
       "<Figure size 1080x360 with 1 Axes>"
      ]
     },
     "metadata": {},
     "output_type": "display_data"
    }
   ],
   "source": [
    "rating_jp=data.pivot_table(\n",
    "    index='rating', values='jp_sales', aggfunc='sum').sort_values(by='jp_sales', ascending=False)\n",
    "\n",
    "sns.set(rc={'figure.figsize':(15,5)})\n",
    "sns.barplot(x=rating_jp.index,y=rating_jp.jp_sales)\n",
    "plt.title('Продажи по рейтингу в Японии')\n",
    "plt.xlabel('Рейтинг')\n",
    "plt.ylabel('Продажи')\n",
    "plt.show()"
   ]
  },
  {
   "cell_type": "code",
   "execution_count": 39,
   "metadata": {},
   "outputs": [
    {
     "data": {
      "image/png": "[encoded data removed]",
      "text/plain": [
       "<Figure size 1080x360 with 1 Axes>"
      ]
     },
     "metadata": {},
     "output_type": "display_data"
    }
   ],
   "source": [
    "rating_na=data.pivot_table(\n",
    "    index='rating', values='na_sales', aggfunc='sum').sort_values(by='na_sales', ascending=False)\n",
    "\n",
    "sns.set(rc={'figure.figsize':(15,5)})\n",
    "sns.barplot(x=rating_na.index,y=rating_na.na_sales)\n",
    "plt.title('Продажи по рейтингу в Северной Америке')\n",
    "plt.xlabel('Рейтинг')\n",
    "plt.ylabel('Продажи')\n",
    "plt.show()"
   ]
  },
  {
   "cell_type": "code",
   "execution_count": 40,
   "metadata": {},
   "outputs": [
    {
     "data": {
      "image/png": "[encoded data removed]",
      "text/plain": [
       "<Figure size 1080x360 with 1 Axes>"
      ]
     },
     "metadata": {},
     "output_type": "display_data"
    }
   ],
   "source": [
    "rating_other=data.pivot_table(\n",
    "    index='rating', values='other_sales', aggfunc='sum').sort_values(by='other_sales', ascending=False)\n",
    "\n",
    "sns.set(rc={'figure.figsize':(15,5)})\n",
    "sns.barplot(x=rating_other.index,y=rating_other.other_sales)\n",
    "plt.title('Продажи по рейтингу в других регионах')\n",
    "plt.xlabel('Рейтинг')\n",
    "plt.ylabel('Продажи')\n",
    "plt.show()"
   ]
  },
  {
   "cell_type": "markdown",
   "metadata": {},
   "source": [
    "<div class=\"alert alert-info\">\n",
    "<h3> Комментарий <a class=\"tocSkip\"></h3>\n",
    "\n",
    "В Европе и Северной Америке рейтинг сильно влияет на продаже. там на первом месте категория \"Е\".\n",
    "    \n",
    "А Японцы снова отличаются. Игры без рейтина от ESRB занимают первое место и находятся в большом отрыве от остальных игр с оценками. Видимо, ESRB не оценивает игры, популярные и выпускаемые в Японии. \n",
    "</div>"
   ]
  },
  {
   "cell_type": "markdown",
   "metadata": {},
   "source": [
    "## Проверка гипотез"
   ]
  },
  {
   "cell_type": "markdown",
   "metadata": {},
   "source": [
    "### Средние пользовательские рейтинги платформ Xbox One и PC одинаковые:\n",
    "- Нулевая гипотеза: Средние пользовательские рейтинги платформ Xbox One и PC одинаковые; \n",
    "- Альтернативная гипотеза: Средние пользовательские рейтинги платформ Xbox One и PC различаются;"
   ]
  },
  {
   "cell_type": "code",
   "execution_count": 41,
   "metadata": {
    "scrolled": true
   },
   "outputs": [
    {
     "name": "stdout",
     "output_type": "stream",
     "text": [
      "p-значение: 0.5489537965134912\n",
      "Не получилось отвергнуть нулевую гипотезу\n"
     ]
    }
   ],
   "source": [
    "xone_test = data[(data['platform']=='XOne') & (data['user_score'] > 0)]['user_score']\n",
    "pc_test = data[(data['platform']=='PC') & (data['user_score'] > 0)]['user_score']\n",
    "\n",
    "alpha = .05\n",
    "\n",
    "results = st.ttest_ind(xone_test.dropna(), pc_test.dropna(), equal_var=False)\n",
    "\n",
    "print('p-значение:', results.pvalue)\n",
    "\n",
    "\n",
    "if (results.pvalue < alpha):\n",
    "    print(\"Отвергаем нулевую гипотезу\")\n",
    "else:\n",
    "    print(\"Не получилось отвергнуть нулевую гипотезу\")\n",
    "\n"
   ]
  },
  {
   "cell_type": "markdown",
   "metadata": {},
   "source": [
    "### Средние пользовательские рейтинги жанров Action  и Sports разные:\n",
    "\n",
    "- Нулевая гипотеза: Средние пользовательские рейтинги жанров Action и Sports одинаковые;\n",
    "- Альтернативная гипотеза: Средние пользовательские рейтинги жанров Action и Sports различаются;"
   ]
  },
  {
   "cell_type": "code",
   "execution_count": 42,
   "metadata": {
    "scrolled": true
   },
   "outputs": [
    {
     "name": "stdout",
     "output_type": "stream",
     "text": [
      "p-значение: 4.24307776572644e-20\n",
      "Отвергаем нулевую гипотезу\n"
     ]
    }
   ],
   "source": [
    "genre_action_hyp = data[(data['genre']=='Action') & (data['user_score'] > 0)]['user_score']\n",
    "genre_sports_hyp = data[(data['genre']=='Sports') & (data['user_score'] > 0)]['user_score']\n",
    "\n",
    "alpha = .05\n",
    "\n",
    "results = st.ttest_ind(genre_action_hyp.dropna(), genre_sports_hyp.dropna(), equal_var=False)\n",
    "\n",
    "print('p-значение:', results.pvalue)\n",
    "\n",
    "\n",
    "if (results.pvalue < alpha):\n",
    "    print(\"Отвергаем нулевую гипотезу\")\n",
    "else:\n",
    "    print(\"Не получилось отвергнуть нулевую гипотезу\")"
   ]
  },
  {
   "cell_type": "markdown",
   "metadata": {},
   "source": [
    "## Общие выводы"
   ]
  },
  {
   "cell_type": "markdown",
   "metadata": {},
   "source": [
    "<div style=\"border:solid Chocolate 2px; padding: 40px\">\n",
    "    \n",
    "- Мы подготовили данные. Привели к нужному регистру, убрали пропуски, поменяли тип ячеек там, где это нужно было;\n",
    "\n",
    "\n",
    "- Определили, что резкий рост игр начался в 90х, а к концу нудевых произошел резкий спад разработок;\n",
    "\n",
    "\n",
    "- Самые популярные платформы: PS4, PS3, X360, 3DS, XOne.\n",
    "\n",
    "\n",
    "- В среднем платформы появляются и исчезают за 10-12 лет;\n",
    "\n",
    "\n",
    "- Выяснили, что чем больше рейтинг критиков и пользователей, тем больше продаж. Хотя и есть забваные исключения, где рейтинг маленький, но большие продажи; \n",
    "\n",
    "\n",
    "- Самые популярные жанры: Shooter, Sports, Platform, Role-Playin, Racing;\n",
    "\n",
    "\n",
    "- Составили портрет пользователей по регионам. В целом все регионы похожи, только Япония заметно отличается по поведению: \n",
    "  - Популярные платформы: \n",
    "    - Европа. PS4, PS3, X360, XOne, 3DS;\n",
    "    - Япония. 3DS, PS3, PSV, PS4, WiiU;\n",
    "    - Северная Америка. X360, PS4, PS3, XOne, 3DS;\n",
    "    - Другие регионы. PS4, PS3, X360, XOne, 3DS.\n",
    "  - Популярные жанры: \n",
    "    - Европа. Action, Shooter, Sport,  Role-playing, Racing;\n",
    "    - Япония. Role-playing, Action, Misc, Simulation, Fighting;\n",
    "    - Северная Америка. Action, Shooter, Sport, Role-playing, Misc;\n",
    "    - Другие регоины. Action, Shooter, Sport, Role-playing, Misc;\n",
    "    \n",
    "    \n",
    "- Проверка гипотез:\n",
    "  - Гипотеза №1. Не получилось отвергнуть нулевую гипотезу. \n",
    "  - Гипотеза №2. Нулевая гипотеза отвергнута. \n",
    "\n"
   ]
  }
 ],
 "metadata": {
  "ExecuteTimeLog": [
   {
    "duration": 496,
    "start_time": "2022-07-11T15:09:19.308Z"
   },
   {
    "duration": 26,
    "start_time": "2022-07-11T15:09:21.106Z"
   },
   {
    "duration": 18,
    "start_time": "2022-07-11T15:09:36.061Z"
   },
   {
    "duration": 65,
    "start_time": "2022-07-11T15:10:17.304Z"
   },
   {
    "duration": 1037,
    "start_time": "2022-07-11T15:10:26.393Z"
   },
   {
    "duration": 1224,
    "start_time": "2022-07-11T15:10:32.769Z"
   },
   {
    "duration": 22,
    "start_time": "2022-07-11T15:10:36.775Z"
   },
   {
    "duration": 6,
    "start_time": "2022-07-11T15:10:42.110Z"
   },
   {
    "duration": 21,
    "start_time": "2022-07-11T15:10:48.763Z"
   },
   {
    "duration": 5,
    "start_time": "2022-07-11T15:10:58.677Z"
   },
   {
    "duration": 14,
    "start_time": "2022-07-11T15:12:05.169Z"
   },
   {
    "duration": 8,
    "start_time": "2022-07-11T15:12:21.452Z"
   },
   {
    "duration": 5,
    "start_time": "2022-07-11T15:12:26.106Z"
   },
   {
    "duration": 16,
    "start_time": "2022-07-11T15:12:51.731Z"
   },
   {
    "duration": 9,
    "start_time": "2022-07-11T15:13:38.881Z"
   },
   {
    "duration": 3,
    "start_time": "2022-07-11T15:15:48.909Z"
   },
   {
    "duration": 25,
    "start_time": "2022-07-11T15:15:53.253Z"
   },
   {
    "duration": 18,
    "start_time": "2022-07-11T15:18:35.053Z"
   },
   {
    "duration": 5,
    "start_time": "2022-07-11T15:18:53.710Z"
   },
   {
    "duration": 5,
    "start_time": "2022-07-11T15:19:03.125Z"
   },
   {
    "duration": 5,
    "start_time": "2022-07-11T15:19:09.127Z"
   },
   {
    "duration": 29,
    "start_time": "2022-07-11T15:32:22.418Z"
   },
   {
    "duration": 8,
    "start_time": "2022-07-11T15:32:42.837Z"
   },
   {
    "duration": 5,
    "start_time": "2022-07-11T15:32:47.653Z"
   },
   {
    "duration": 22,
    "start_time": "2022-07-11T15:33:17.919Z"
   },
   {
    "duration": 10,
    "start_time": "2022-07-11T15:33:32.386Z"
   },
   {
    "duration": 21,
    "start_time": "2022-07-11T15:33:38.509Z"
   },
   {
    "duration": 30,
    "start_time": "2022-07-11T15:33:53.262Z"
   },
   {
    "duration": 6,
    "start_time": "2022-07-11T15:35:36.939Z"
   },
   {
    "duration": 4,
    "start_time": "2022-07-11T15:35:53.409Z"
   },
   {
    "duration": 6,
    "start_time": "2022-07-11T15:36:00.922Z"
   },
   {
    "duration": 4,
    "start_time": "2022-07-11T15:36:10.156Z"
   },
   {
    "duration": 25,
    "start_time": "2022-07-11T15:36:18.644Z"
   },
   {
    "duration": 33,
    "start_time": "2022-07-11T15:36:45.376Z"
   },
   {
    "duration": 50,
    "start_time": "2022-07-11T15:39:07.518Z"
   },
   {
    "duration": 14,
    "start_time": "2022-07-11T15:39:07.570Z"
   },
   {
    "duration": 19,
    "start_time": "2022-07-11T15:39:07.586Z"
   },
   {
    "duration": 7,
    "start_time": "2022-07-11T15:39:07.608Z"
   },
   {
    "duration": 42,
    "start_time": "2022-07-11T15:39:17.354Z"
   },
   {
    "duration": 20,
    "start_time": "2022-07-11T15:39:17.398Z"
   },
   {
    "duration": 4,
    "start_time": "2022-07-11T15:39:17.420Z"
   },
   {
    "duration": 12,
    "start_time": "2022-07-11T15:39:17.426Z"
   },
   {
    "duration": 9,
    "start_time": "2022-07-11T15:39:33.759Z"
   },
   {
    "duration": 30,
    "start_time": "2022-07-11T15:44:24.747Z"
   },
   {
    "duration": 40,
    "start_time": "2022-07-11T15:44:32.481Z"
   },
   {
    "duration": 38,
    "start_time": "2022-07-11T15:45:01.264Z"
   },
   {
    "duration": 43,
    "start_time": "2022-07-11T15:45:11.522Z"
   },
   {
    "duration": 9,
    "start_time": "2022-07-11T15:45:56.421Z"
   },
   {
    "duration": 5,
    "start_time": "2022-07-11T15:46:01.535Z"
   },
   {
    "duration": 14,
    "start_time": "2022-07-11T15:46:08.715Z"
   },
   {
    "duration": 50,
    "start_time": "2022-07-11T15:50:14.475Z"
   },
   {
    "duration": 20,
    "start_time": "2022-07-11T15:50:14.528Z"
   },
   {
    "duration": 16,
    "start_time": "2022-07-11T15:50:14.550Z"
   },
   {
    "duration": 26,
    "start_time": "2022-07-11T15:50:14.569Z"
   },
   {
    "duration": 16,
    "start_time": "2022-07-11T15:50:37.221Z"
   },
   {
    "duration": 565,
    "start_time": "2022-07-11T15:53:11.679Z"
   },
   {
    "duration": 151,
    "start_time": "2022-07-11T15:53:37.508Z"
   },
   {
    "duration": 156,
    "start_time": "2022-07-11T15:54:18.699Z"
   },
   {
    "duration": 44,
    "start_time": "2022-07-11T15:54:22.333Z"
   },
   {
    "duration": 16,
    "start_time": "2022-07-11T15:54:22.379Z"
   },
   {
    "duration": 4,
    "start_time": "2022-07-11T15:54:22.396Z"
   },
   {
    "duration": 128,
    "start_time": "2022-07-11T15:54:22.402Z"
   },
   {
    "duration": 183,
    "start_time": "2022-07-11T15:54:46.296Z"
   },
   {
    "duration": 44,
    "start_time": "2022-07-11T15:54:54.954Z"
   },
   {
    "duration": 15,
    "start_time": "2022-07-11T15:54:55.001Z"
   },
   {
    "duration": 7,
    "start_time": "2022-07-11T15:54:55.018Z"
   },
   {
    "duration": 159,
    "start_time": "2022-07-11T15:54:55.027Z"
   },
   {
    "duration": 139,
    "start_time": "2022-07-11T15:55:06.433Z"
   },
   {
    "duration": 148,
    "start_time": "2022-07-11T15:55:12.438Z"
   },
   {
    "duration": 4,
    "start_time": "2022-07-11T15:55:25.907Z"
   },
   {
    "duration": 22,
    "start_time": "2022-07-11T15:56:09.856Z"
   },
   {
    "duration": 7,
    "start_time": "2022-07-11T15:56:49.136Z"
   },
   {
    "duration": 18,
    "start_time": "2022-07-11T15:57:00.830Z"
   },
   {
    "duration": 15,
    "start_time": "2022-07-11T15:57:22.663Z"
   },
   {
    "duration": 14,
    "start_time": "2022-07-11T15:57:29.508Z"
   },
   {
    "duration": 25,
    "start_time": "2022-07-11T15:58:21.381Z"
   },
   {
    "duration": 34,
    "start_time": "2022-07-11T15:58:31.267Z"
   },
   {
    "duration": 34,
    "start_time": "2022-07-11T15:58:36.124Z"
   },
   {
    "duration": 14,
    "start_time": "2022-07-11T15:58:43.974Z"
   },
   {
    "duration": 34,
    "start_time": "2022-07-11T15:59:03.363Z"
   },
   {
    "duration": 22,
    "start_time": "2022-07-11T15:59:25.734Z"
   },
   {
    "duration": 18,
    "start_time": "2022-07-11T15:59:34.177Z"
   },
   {
    "duration": 13,
    "start_time": "2022-07-11T15:59:37.393Z"
   },
   {
    "duration": 14,
    "start_time": "2022-07-11T15:59:44.334Z"
   },
   {
    "duration": 19,
    "start_time": "2022-07-11T15:59:48.693Z"
   },
   {
    "duration": 35,
    "start_time": "2022-07-11T16:00:02.894Z"
   },
   {
    "duration": 21,
    "start_time": "2022-07-11T16:00:12.388Z"
   },
   {
    "duration": 19,
    "start_time": "2022-07-11T16:00:19.866Z"
   },
   {
    "duration": 41,
    "start_time": "2022-07-11T16:00:24.464Z"
   },
   {
    "duration": 30,
    "start_time": "2022-07-11T16:00:33.782Z"
   },
   {
    "duration": 50,
    "start_time": "2022-07-18T00:45:13.278Z"
   },
   {
    "duration": 7,
    "start_time": "2022-07-18T00:45:33.020Z"
   },
   {
    "duration": 524,
    "start_time": "2022-07-18T00:45:45.100Z"
   },
   {
    "duration": 15,
    "start_time": "2022-07-18T00:45:45.626Z"
   },
   {
    "duration": 3,
    "start_time": "2022-07-18T00:45:45.642Z"
   },
   {
    "duration": 19,
    "start_time": "2022-07-18T00:45:45.646Z"
   },
   {
    "duration": 14,
    "start_time": "2022-07-18T00:46:08.515Z"
   },
   {
    "duration": 22,
    "start_time": "2022-07-18T00:46:24.706Z"
   },
   {
    "duration": 12,
    "start_time": "2022-07-18T00:46:39.968Z"
   },
   {
    "duration": 79,
    "start_time": "2022-07-18T00:49:48.196Z"
   },
   {
    "duration": 13,
    "start_time": "2022-07-18T00:50:02.875Z"
   },
   {
    "duration": 5,
    "start_time": "2022-07-18T00:50:20.857Z"
   },
   {
    "duration": 11,
    "start_time": "2022-07-18T00:50:22.980Z"
   },
   {
    "duration": 8,
    "start_time": "2022-07-18T00:52:21.839Z"
   },
   {
    "duration": 1492,
    "start_time": "2022-07-18T00:52:48.536Z"
   },
   {
    "duration": 17,
    "start_time": "2022-07-18T00:52:50.030Z"
   },
   {
    "duration": 21,
    "start_time": "2022-07-18T00:52:50.048Z"
   },
   {
    "duration": 29,
    "start_time": "2022-07-18T00:52:50.071Z"
   },
   {
    "duration": 130,
    "start_time": "2022-07-18T00:52:50.103Z"
   },
   {
    "duration": 17,
    "start_time": "2022-07-18T00:53:11.354Z"
   },
   {
    "duration": 5,
    "start_time": "2022-07-18T00:53:32.427Z"
   },
   {
    "duration": 18,
    "start_time": "2022-07-18T00:53:42.372Z"
   },
   {
    "duration": 23,
    "start_time": "2022-07-18T00:54:03.030Z"
   },
   {
    "duration": 11,
    "start_time": "2022-07-18T00:54:43.180Z"
   },
   {
    "duration": 6,
    "start_time": "2022-07-18T00:55:39.135Z"
   },
   {
    "duration": 1239,
    "start_time": "2022-07-18T00:55:55.509Z"
   },
   {
    "duration": 16,
    "start_time": "2022-07-18T00:55:56.750Z"
   },
   {
    "duration": 11,
    "start_time": "2022-07-18T00:55:56.768Z"
   },
   {
    "duration": 10,
    "start_time": "2022-07-18T00:55:56.781Z"
   },
   {
    "duration": 9,
    "start_time": "2022-07-18T00:55:56.793Z"
   },
   {
    "duration": 7,
    "start_time": "2022-07-18T00:56:05.206Z"
   },
   {
    "duration": 32,
    "start_time": "2022-07-18T00:56:15.606Z"
   },
   {
    "duration": 13,
    "start_time": "2022-07-18T00:56:45.173Z"
   },
   {
    "duration": 18,
    "start_time": "2022-07-18T00:57:04.902Z"
   },
   {
    "duration": 106,
    "start_time": "2022-07-18T00:57:25.018Z"
   },
   {
    "duration": 9,
    "start_time": "2022-07-18T00:57:42.114Z"
   },
   {
    "duration": 20,
    "start_time": "2022-07-18T00:57:50.576Z"
   },
   {
    "duration": 14,
    "start_time": "2022-07-18T00:58:00.774Z"
   },
   {
    "duration": 12,
    "start_time": "2022-07-18T00:58:43.888Z"
   },
   {
    "duration": 10,
    "start_time": "2022-07-18T01:00:57.544Z"
   },
   {
    "duration": 15,
    "start_time": "2022-07-18T01:01:02.236Z"
   },
   {
    "duration": 4,
    "start_time": "2022-07-18T01:01:33.445Z"
   },
   {
    "duration": 7,
    "start_time": "2022-07-18T01:01:39.159Z"
   },
   {
    "duration": 11,
    "start_time": "2022-07-18T01:01:55.535Z"
   },
   {
    "duration": 33,
    "start_time": "2022-07-18T01:02:04.578Z"
   },
   {
    "duration": 33,
    "start_time": "2022-07-18T01:02:26.800Z"
   },
   {
    "duration": 1136,
    "start_time": "2022-07-18T01:02:35.703Z"
   },
   {
    "duration": 20,
    "start_time": "2022-07-18T01:02:36.841Z"
   },
   {
    "duration": 4,
    "start_time": "2022-07-18T01:02:36.862Z"
   },
   {
    "duration": 22,
    "start_time": "2022-07-18T01:02:36.868Z"
   },
   {
    "duration": 22,
    "start_time": "2022-07-18T01:02:36.892Z"
   },
   {
    "duration": 13,
    "start_time": "2022-07-18T01:02:36.916Z"
   },
   {
    "duration": 35,
    "start_time": "2022-07-18T01:02:42.634Z"
   },
   {
    "duration": 24,
    "start_time": "2022-07-18T01:02:58.109Z"
   },
   {
    "duration": 1166,
    "start_time": "2022-07-18T01:05:46.390Z"
   },
   {
    "duration": 16,
    "start_time": "2022-07-18T01:05:47.558Z"
   },
   {
    "duration": 3,
    "start_time": "2022-07-18T01:05:47.576Z"
   },
   {
    "duration": 8,
    "start_time": "2022-07-18T01:05:47.581Z"
   },
   {
    "duration": 10,
    "start_time": "2022-07-18T01:05:47.591Z"
   },
   {
    "duration": 20,
    "start_time": "2022-07-18T01:05:47.602Z"
   },
   {
    "duration": 136,
    "start_time": "2022-07-18T01:07:45.397Z"
   },
   {
    "duration": 193,
    "start_time": "2022-07-18T01:09:36.480Z"
   },
   {
    "duration": 166,
    "start_time": "2022-07-18T01:09:48.271Z"
   },
   {
    "duration": 48,
    "start_time": "2022-07-18T01:10:27.995Z"
   },
   {
    "duration": 205,
    "start_time": "2022-07-18T01:11:00.089Z"
   },
   {
    "duration": 14,
    "start_time": "2022-07-18T01:11:18.684Z"
   },
   {
    "duration": 14,
    "start_time": "2022-07-18T01:11:23.625Z"
   },
   {
    "duration": 17,
    "start_time": "2022-07-18T01:11:27.983Z"
   },
   {
    "duration": 173,
    "start_time": "2022-07-18T01:11:31.809Z"
   },
   {
    "duration": 170,
    "start_time": "2022-07-18T01:11:34.240Z"
   },
   {
    "duration": 99,
    "start_time": "2022-07-18T01:14:31.134Z"
   },
   {
    "duration": 11,
    "start_time": "2022-07-18T01:14:38.653Z"
   },
   {
    "duration": 5,
    "start_time": "2022-07-18T01:16:15.379Z"
   },
   {
    "duration": 1250,
    "start_time": "2022-07-18T01:16:21.460Z"
   },
   {
    "duration": 18,
    "start_time": "2022-07-18T01:16:22.712Z"
   },
   {
    "duration": 4,
    "start_time": "2022-07-18T01:16:22.732Z"
   },
   {
    "duration": 6,
    "start_time": "2022-07-18T01:16:22.738Z"
   },
   {
    "duration": 9,
    "start_time": "2022-07-18T01:16:22.746Z"
   },
   {
    "duration": 53,
    "start_time": "2022-07-18T01:16:22.757Z"
   },
   {
    "duration": 7,
    "start_time": "2022-07-18T01:16:22.812Z"
   },
   {
    "duration": 225,
    "start_time": "2022-07-18T01:16:22.821Z"
   },
   {
    "duration": 211,
    "start_time": "2022-07-18T01:16:23.048Z"
   },
   {
    "duration": 111,
    "start_time": "2022-07-18T01:16:23.261Z"
   },
   {
    "duration": 11,
    "start_time": "2022-07-18T01:16:43.462Z"
   },
   {
    "duration": 20,
    "start_time": "2022-07-18T01:16:47.680Z"
   },
   {
    "duration": 155,
    "start_time": "2022-07-18T01:16:54.697Z"
   },
   {
    "duration": 158,
    "start_time": "2022-07-18T01:17:59.130Z"
   },
   {
    "duration": 166,
    "start_time": "2022-07-18T01:18:05.699Z"
   },
   {
    "duration": 139,
    "start_time": "2022-07-18T01:18:10.381Z"
   },
   {
    "duration": 161,
    "start_time": "2022-07-18T01:18:17.132Z"
   },
   {
    "duration": 146,
    "start_time": "2022-07-18T01:18:22.095Z"
   },
   {
    "duration": 247,
    "start_time": "2022-07-18T01:18:27.535Z"
   },
   {
    "duration": 185,
    "start_time": "2022-07-18T01:18:33.369Z"
   },
   {
    "duration": 179,
    "start_time": "2022-07-18T01:18:43.564Z"
   },
   {
    "duration": 166,
    "start_time": "2022-07-18T01:19:11.834Z"
   },
   {
    "duration": 222,
    "start_time": "2022-07-18T01:28:14.333Z"
   },
   {
    "duration": 198,
    "start_time": "2022-07-18T01:28:20.338Z"
   },
   {
    "duration": 236,
    "start_time": "2022-07-18T01:28:27.519Z"
   },
   {
    "duration": 10,
    "start_time": "2022-07-18T01:29:11.331Z"
   },
   {
    "duration": 190,
    "start_time": "2022-07-18T01:29:25.757Z"
   },
   {
    "duration": 258,
    "start_time": "2022-07-18T01:29:47.529Z"
   },
   {
    "duration": 11,
    "start_time": "2022-07-18T01:31:48.097Z"
   },
   {
    "duration": 386,
    "start_time": "2022-07-18T01:31:53.963Z"
   },
   {
    "duration": 54,
    "start_time": "2022-07-18T01:32:26.916Z"
   },
   {
    "duration": 138,
    "start_time": "2022-07-18T01:32:35.098Z"
   },
   {
    "duration": 136,
    "start_time": "2022-07-18T01:32:45.325Z"
   },
   {
    "duration": 141,
    "start_time": "2022-07-18T01:33:17.828Z"
   },
   {
    "duration": 163,
    "start_time": "2022-07-18T01:34:32.413Z"
   },
   {
    "duration": 345,
    "start_time": "2022-07-18T01:34:39.403Z"
   },
   {
    "duration": 209,
    "start_time": "2022-07-18T01:35:15.845Z"
   },
   {
    "duration": 286,
    "start_time": "2022-07-18T01:36:53.402Z"
   },
   {
    "duration": 208,
    "start_time": "2022-07-18T01:37:03.435Z"
   },
   {
    "duration": 205,
    "start_time": "2022-07-18T01:37:34.353Z"
   },
   {
    "duration": 197,
    "start_time": "2022-07-18T01:37:45.724Z"
   },
   {
    "duration": 341,
    "start_time": "2022-07-18T01:37:53.069Z"
   },
   {
    "duration": 226,
    "start_time": "2022-07-18T01:38:00.229Z"
   },
   {
    "duration": 251,
    "start_time": "2022-07-18T01:38:06.881Z"
   },
   {
    "duration": 227,
    "start_time": "2022-07-18T01:41:32.621Z"
   },
   {
    "duration": 72,
    "start_time": "2022-07-18T01:41:46.049Z"
   },
   {
    "duration": 14,
    "start_time": "2022-07-18T01:41:46.123Z"
   },
   {
    "duration": 11,
    "start_time": "2022-07-18T01:41:46.139Z"
   },
   {
    "duration": 18,
    "start_time": "2022-07-18T01:41:46.152Z"
   },
   {
    "duration": 8,
    "start_time": "2022-07-18T01:41:46.171Z"
   },
   {
    "duration": 22,
    "start_time": "2022-07-18T01:41:46.181Z"
   },
   {
    "duration": 21,
    "start_time": "2022-07-18T01:41:46.205Z"
   },
   {
    "duration": 256,
    "start_time": "2022-07-18T01:41:46.228Z"
   },
   {
    "duration": 243,
    "start_time": "2022-07-18T01:41:46.486Z"
   },
   {
    "duration": 353,
    "start_time": "2022-07-18T01:41:55.144Z"
   },
   {
    "duration": 1136,
    "start_time": "2022-07-18T01:42:07.323Z"
   },
   {
    "duration": 14,
    "start_time": "2022-07-18T01:42:08.461Z"
   },
   {
    "duration": 8,
    "start_time": "2022-07-18T01:42:08.477Z"
   },
   {
    "duration": 8,
    "start_time": "2022-07-18T01:42:08.487Z"
   },
   {
    "duration": 8,
    "start_time": "2022-07-18T01:42:08.497Z"
   },
   {
    "duration": 16,
    "start_time": "2022-07-18T01:42:08.507Z"
   },
   {
    "duration": 8,
    "start_time": "2022-07-18T01:42:08.525Z"
   },
   {
    "duration": 239,
    "start_time": "2022-07-18T01:42:08.535Z"
   },
   {
    "duration": 315,
    "start_time": "2022-07-18T01:42:08.775Z"
   },
   {
    "duration": 226,
    "start_time": "2022-07-18T01:42:22.697Z"
   },
   {
    "duration": 243,
    "start_time": "2022-07-18T01:42:43.860Z"
   },
   {
    "duration": 349,
    "start_time": "2022-07-18T01:42:52.699Z"
   },
   {
    "duration": 14,
    "start_time": "2022-07-18T01:45:00.817Z"
   },
   {
    "duration": 3244,
    "start_time": "2022-07-18T01:46:12.262Z"
   },
   {
    "duration": 527,
    "start_time": "2022-07-18T01:46:37.199Z"
   },
   {
    "duration": 856,
    "start_time": "2022-07-18T01:48:18.495Z"
   },
   {
    "duration": 168,
    "start_time": "2022-07-18T01:48:35.144Z"
   },
   {
    "duration": 20,
    "start_time": "2022-07-18T01:49:43.002Z"
   },
   {
    "duration": 50,
    "start_time": "2022-07-18T01:51:56.195Z"
   },
   {
    "duration": 17,
    "start_time": "2022-07-18T01:52:01.742Z"
   },
   {
    "duration": 28,
    "start_time": "2022-07-18T01:52:09.452Z"
   },
   {
    "duration": 17,
    "start_time": "2022-07-18T02:03:13.703Z"
   },
   {
    "duration": 111,
    "start_time": "2022-07-18T02:06:00.585Z"
   },
   {
    "duration": 11,
    "start_time": "2022-07-18T02:06:15.369Z"
   },
   {
    "duration": 15,
    "start_time": "2022-07-18T02:06:21.347Z"
   },
   {
    "duration": 55,
    "start_time": "2022-07-18T02:08:38.757Z"
   },
   {
    "duration": 1145,
    "start_time": "2022-07-18T02:08:52.900Z"
   },
   {
    "duration": 14,
    "start_time": "2022-07-18T02:08:54.047Z"
   },
   {
    "duration": 5,
    "start_time": "2022-07-18T02:08:54.063Z"
   },
   {
    "duration": 8,
    "start_time": "2022-07-18T02:08:54.070Z"
   },
   {
    "duration": 9,
    "start_time": "2022-07-18T02:08:54.079Z"
   },
   {
    "duration": 63,
    "start_time": "2022-07-18T02:08:54.089Z"
   },
   {
    "duration": 5,
    "start_time": "2022-07-18T02:08:54.154Z"
   },
   {
    "duration": 202,
    "start_time": "2022-07-18T02:08:54.161Z"
   },
   {
    "duration": 381,
    "start_time": "2022-07-18T02:08:54.365Z"
   },
   {
    "duration": 48,
    "start_time": "2022-07-18T02:08:54.748Z"
   },
   {
    "duration": 99,
    "start_time": "2022-07-18T02:09:52.015Z"
   },
   {
    "duration": 22,
    "start_time": "2022-07-18T02:10:09.573Z"
   },
   {
    "duration": 63,
    "start_time": "2022-07-18T02:10:38.811Z"
   },
   {
    "duration": 51,
    "start_time": "2022-07-18T02:10:51.317Z"
   },
   {
    "duration": 546,
    "start_time": "2022-07-18T02:12:24.248Z"
   },
   {
    "duration": 568,
    "start_time": "2022-07-18T02:12:44.922Z"
   },
   {
    "duration": 58,
    "start_time": "2022-07-18T02:14:25.327Z"
   },
   {
    "duration": 68,
    "start_time": "2022-07-18T02:14:50.773Z"
   },
   {
    "duration": 59,
    "start_time": "2022-07-18T02:15:06.528Z"
   },
   {
    "duration": 327,
    "start_time": "2022-07-18T02:15:34.930Z"
   },
   {
    "duration": 342,
    "start_time": "2022-07-18T02:16:02.640Z"
   },
   {
    "duration": 326,
    "start_time": "2022-07-18T02:16:10.749Z"
   },
   {
    "duration": 132,
    "start_time": "2022-07-18T02:16:51.841Z"
   },
   {
    "duration": 81,
    "start_time": "2022-07-18T02:17:02.625Z"
   },
   {
    "duration": 85,
    "start_time": "2022-07-18T02:17:11.157Z"
   },
   {
    "duration": 304,
    "start_time": "2022-07-18T02:17:18.666Z"
   },
   {
    "duration": 326,
    "start_time": "2022-07-18T02:17:57.461Z"
   },
   {
    "duration": 420,
    "start_time": "2022-07-18T02:18:57.428Z"
   },
   {
    "duration": 448,
    "start_time": "2022-07-18T02:20:21.552Z"
   },
   {
    "duration": 65,
    "start_time": "2022-07-20T15:56:49.805Z"
   },
   {
    "duration": 1683,
    "start_time": "2022-07-20T15:56:55.291Z"
   },
   {
    "duration": 15,
    "start_time": "2022-07-20T15:56:56.977Z"
   },
   {
    "duration": 3,
    "start_time": "2022-07-20T15:56:56.994Z"
   },
   {
    "duration": 8,
    "start_time": "2022-07-20T15:56:56.999Z"
   },
   {
    "duration": 14,
    "start_time": "2022-07-20T15:56:57.009Z"
   },
   {
    "duration": 20,
    "start_time": "2022-07-20T15:56:57.024Z"
   },
   {
    "duration": 6,
    "start_time": "2022-07-20T15:56:57.046Z"
   },
   {
    "duration": 241,
    "start_time": "2022-07-20T15:56:57.053Z"
   },
   {
    "duration": 421,
    "start_time": "2022-07-20T15:56:57.296Z"
   },
   {
    "duration": 344,
    "start_time": "2022-07-20T15:56:57.720Z"
   },
   {
    "duration": 105,
    "start_time": "2022-07-20T16:01:52.908Z"
   },
   {
    "duration": 5,
    "start_time": "2022-07-20T16:02:02.014Z"
   },
   {
    "duration": 16,
    "start_time": "2022-07-20T16:02:16.996Z"
   },
   {
    "duration": 5,
    "start_time": "2022-07-20T16:02:21.275Z"
   },
   {
    "duration": 28,
    "start_time": "2022-07-20T16:02:22.691Z"
   },
   {
    "duration": 6,
    "start_time": "2022-07-20T16:02:35.092Z"
   },
   {
    "duration": 12,
    "start_time": "2022-07-20T16:03:07.093Z"
   },
   {
    "duration": 7,
    "start_time": "2022-07-20T16:03:39.674Z"
   },
   {
    "duration": 188,
    "start_time": "2022-07-20T16:03:40.994Z"
   },
   {
    "duration": 5,
    "start_time": "2022-07-20T16:04:31.589Z"
   },
   {
    "duration": 179,
    "start_time": "2022-07-20T16:04:35.597Z"
   },
   {
    "duration": 7,
    "start_time": "2022-07-20T16:04:58.610Z"
   },
   {
    "duration": 193,
    "start_time": "2022-07-20T16:05:00.219Z"
   },
   {
    "duration": 323,
    "start_time": "2022-07-20T16:05:08.667Z"
   },
   {
    "duration": 7,
    "start_time": "2022-07-20T16:05:22.397Z"
   },
   {
    "duration": 201,
    "start_time": "2022-07-20T16:05:23.921Z"
   },
   {
    "duration": 300,
    "start_time": "2022-07-20T16:05:26.158Z"
   },
   {
    "duration": 8,
    "start_time": "2022-07-20T16:05:38.637Z"
   },
   {
    "duration": 234,
    "start_time": "2022-07-20T16:05:39.979Z"
   },
   {
    "duration": 200,
    "start_time": "2022-07-20T16:05:48.193Z"
   },
   {
    "duration": 7,
    "start_time": "2022-07-20T16:05:49.891Z"
   },
   {
    "duration": 7,
    "start_time": "2022-07-20T16:05:52.877Z"
   },
   {
    "duration": 211,
    "start_time": "2022-07-20T16:05:54.051Z"
   },
   {
    "duration": 7,
    "start_time": "2022-07-20T16:05:59.041Z"
   },
   {
    "duration": 215,
    "start_time": "2022-07-20T16:06:01.104Z"
   },
   {
    "duration": 2094,
    "start_time": "2022-07-20T16:24:35.552Z"
   },
   {
    "duration": 2195,
    "start_time": "2022-07-20T16:25:49.622Z"
   },
   {
    "duration": 2493,
    "start_time": "2022-07-20T16:26:01.189Z"
   },
   {
    "duration": 51,
    "start_time": "2022-07-25T17:01:43.953Z"
   },
   {
    "duration": 1590,
    "start_time": "2022-07-25T17:01:52.562Z"
   },
   {
    "duration": 16,
    "start_time": "2022-07-25T17:01:54.155Z"
   },
   {
    "duration": 4,
    "start_time": "2022-07-25T17:01:54.173Z"
   },
   {
    "duration": 7,
    "start_time": "2022-07-25T17:01:54.179Z"
   },
   {
    "duration": 9,
    "start_time": "2022-07-25T17:01:54.188Z"
   },
   {
    "duration": 22,
    "start_time": "2022-07-25T17:01:54.198Z"
   },
   {
    "duration": 35,
    "start_time": "2022-07-25T17:01:54.222Z"
   },
   {
    "duration": 255,
    "start_time": "2022-07-25T17:01:54.259Z"
   },
   {
    "duration": 442,
    "start_time": "2022-07-25T17:01:54.516Z"
   },
   {
    "duration": 354,
    "start_time": "2022-07-25T17:01:54.960Z"
   },
   {
    "duration": 9,
    "start_time": "2022-07-25T17:01:55.316Z"
   },
   {
    "duration": 254,
    "start_time": "2022-07-25T17:01:55.327Z"
   },
   {
    "duration": 2375,
    "start_time": "2022-07-25T17:01:55.582Z"
   },
   {
    "duration": 1255,
    "start_time": "2022-07-25T17:02:01.883Z"
   },
   {
    "duration": 20,
    "start_time": "2022-07-25T17:02:03.141Z"
   },
   {
    "duration": 6,
    "start_time": "2022-07-25T17:02:03.164Z"
   },
   {
    "duration": 13,
    "start_time": "2022-07-25T17:02:03.172Z"
   },
   {
    "duration": 11,
    "start_time": "2022-07-25T17:02:03.187Z"
   },
   {
    "duration": 32,
    "start_time": "2022-07-25T17:02:03.200Z"
   },
   {
    "duration": 6,
    "start_time": "2022-07-25T17:02:03.234Z"
   },
   {
    "duration": 249,
    "start_time": "2022-07-25T17:02:03.242Z"
   },
   {
    "duration": 424,
    "start_time": "2022-07-25T17:02:03.493Z"
   },
   {
    "duration": 394,
    "start_time": "2022-07-25T17:02:03.920Z"
   },
   {
    "duration": 11,
    "start_time": "2022-07-25T17:02:04.316Z"
   },
   {
    "duration": 290,
    "start_time": "2022-07-25T17:02:04.328Z"
   },
   {
    "duration": 2178,
    "start_time": "2022-07-25T17:02:04.623Z"
   },
   {
    "duration": 2633,
    "start_time": "2022-07-25T17:02:06.804Z"
   },
   {
    "duration": 13,
    "start_time": "2022-07-25T17:02:09.444Z"
   },
   {
    "duration": 2255,
    "start_time": "2022-07-25T17:03:31.647Z"
   },
   {
    "duration": 19,
    "start_time": "2022-07-25T17:04:25.165Z"
   },
   {
    "duration": 18,
    "start_time": "2022-07-25T17:07:15.667Z"
   },
   {
    "duration": 19,
    "start_time": "2022-07-25T17:07:36.208Z"
   },
   {
    "duration": 20,
    "start_time": "2022-07-25T17:07:41.943Z"
   },
   {
    "duration": 109,
    "start_time": "2022-07-25T17:18:44.439Z"
   },
   {
    "duration": 25,
    "start_time": "2022-07-25T17:19:01.550Z"
   },
   {
    "duration": 14,
    "start_time": "2022-07-25T17:19:18.155Z"
   },
   {
    "duration": 13,
    "start_time": "2022-07-25T17:19:20.560Z"
   },
   {
    "duration": 27,
    "start_time": "2022-07-25T17:19:27.887Z"
   },
   {
    "duration": 23,
    "start_time": "2022-07-25T17:20:48.931Z"
   },
   {
    "duration": 22,
    "start_time": "2022-07-25T17:20:56.200Z"
   },
   {
    "duration": 15,
    "start_time": "2022-07-25T17:20:58.673Z"
   },
   {
    "duration": 27,
    "start_time": "2022-07-25T17:21:03.074Z"
   },
   {
    "duration": 80,
    "start_time": "2022-07-25T17:25:51.099Z"
   },
   {
    "duration": 16,
    "start_time": "2022-07-25T17:25:58.112Z"
   },
   {
    "duration": 27,
    "start_time": "2022-07-25T17:27:18.553Z"
   },
   {
    "duration": 14,
    "start_time": "2022-07-25T17:28:00.415Z"
   },
   {
    "duration": 14,
    "start_time": "2022-07-25T17:28:18.882Z"
   },
   {
    "duration": 32,
    "start_time": "2022-07-25T17:28:24.351Z"
   },
   {
    "duration": 20,
    "start_time": "2022-07-25T17:28:37.200Z"
   },
   {
    "duration": 8,
    "start_time": "2022-07-25T17:28:49.671Z"
   },
   {
    "duration": 31,
    "start_time": "2022-07-25T17:43:15.376Z"
   },
   {
    "duration": 27,
    "start_time": "2022-07-25T17:43:31.400Z"
   },
   {
    "duration": 32,
    "start_time": "2022-07-25T17:44:39.500Z"
   },
   {
    "duration": 25,
    "start_time": "2022-07-25T17:45:10.695Z"
   },
   {
    "duration": 434,
    "start_time": "2022-07-25T17:45:21.731Z"
   },
   {
    "duration": 556,
    "start_time": "2022-07-25T17:45:33.738Z"
   },
   {
    "duration": 1236,
    "start_time": "2022-07-25T17:45:44.277Z"
   },
   {
    "duration": 16,
    "start_time": "2022-07-25T17:45:45.515Z"
   },
   {
    "duration": 19,
    "start_time": "2022-07-25T17:45:45.535Z"
   },
   {
    "duration": 16,
    "start_time": "2022-07-25T17:45:45.555Z"
   },
   {
    "duration": 30,
    "start_time": "2022-07-25T17:45:45.573Z"
   },
   {
    "duration": 32,
    "start_time": "2022-07-25T17:45:45.605Z"
   },
   {
    "duration": 6,
    "start_time": "2022-07-25T17:45:45.641Z"
   },
   {
    "duration": 222,
    "start_time": "2022-07-25T17:45:45.648Z"
   },
   {
    "duration": 429,
    "start_time": "2022-07-25T17:45:45.872Z"
   },
   {
    "duration": 383,
    "start_time": "2022-07-25T17:45:46.303Z"
   },
   {
    "duration": 10,
    "start_time": "2022-07-25T17:45:46.688Z"
   },
   {
    "duration": 219,
    "start_time": "2022-07-25T17:45:46.700Z"
   },
   {
    "duration": 2428,
    "start_time": "2022-07-25T17:45:46.924Z"
   },
   {
    "duration": 18,
    "start_time": "2022-07-25T17:45:49.354Z"
   },
   {
    "duration": 25,
    "start_time": "2022-07-25T17:45:49.374Z"
   },
   {
    "duration": 53,
    "start_time": "2022-07-25T17:45:49.401Z"
   },
   {
    "duration": 490,
    "start_time": "2022-07-25T17:45:49.456Z"
   },
   {
    "duration": 25,
    "start_time": "2022-07-25T17:45:49.947Z"
   },
   {
    "duration": 424,
    "start_time": "2022-07-25T17:45:58.565Z"
   },
   {
    "duration": 513,
    "start_time": "2022-07-25T17:46:24.358Z"
   },
   {
    "duration": 125,
    "start_time": "2022-07-25T17:47:34.211Z"
   },
   {
    "duration": 406,
    "start_time": "2022-07-25T17:47:51.897Z"
   },
   {
    "duration": 434,
    "start_time": "2022-07-25T17:48:23.086Z"
   },
   {
    "duration": 19,
    "start_time": "2022-07-25T17:49:01.684Z"
   },
   {
    "duration": 440,
    "start_time": "2022-07-25T17:49:29.385Z"
   },
   {
    "duration": 18,
    "start_time": "2022-07-25T17:50:23.550Z"
   },
   {
    "duration": 488,
    "start_time": "2022-07-25T17:50:29.048Z"
   },
   {
    "duration": 23,
    "start_time": "2022-07-25T17:52:39.493Z"
   },
   {
    "duration": 275,
    "start_time": "2022-07-25T17:53:30.590Z"
   },
   {
    "duration": 291,
    "start_time": "2022-07-25T17:54:04.722Z"
   },
   {
    "duration": 319,
    "start_time": "2022-07-25T17:54:18.745Z"
   },
   {
    "duration": 192,
    "start_time": "2022-07-25T17:54:39.512Z"
   },
   {
    "duration": 262,
    "start_time": "2022-07-25T17:54:42.564Z"
   },
   {
    "duration": 432,
    "start_time": "2022-07-25T17:54:49.848Z"
   },
   {
    "duration": 308,
    "start_time": "2022-07-25T17:55:05.459Z"
   },
   {
    "duration": 21,
    "start_time": "2022-07-25T17:55:13.041Z"
   },
   {
    "duration": 1550,
    "start_time": "2022-07-25T17:55:24.559Z"
   },
   {
    "duration": 17,
    "start_time": "2022-07-25T17:55:26.111Z"
   },
   {
    "duration": 21,
    "start_time": "2022-07-25T17:55:26.134Z"
   },
   {
    "duration": 21,
    "start_time": "2022-07-25T17:55:26.157Z"
   },
   {
    "duration": 23,
    "start_time": "2022-07-25T17:55:26.180Z"
   },
   {
    "duration": 38,
    "start_time": "2022-07-25T17:55:26.205Z"
   },
   {
    "duration": 28,
    "start_time": "2022-07-25T17:55:26.245Z"
   },
   {
    "duration": 274,
    "start_time": "2022-07-25T17:55:26.275Z"
   },
   {
    "duration": 451,
    "start_time": "2022-07-25T17:55:26.552Z"
   },
   {
    "duration": 401,
    "start_time": "2022-07-25T17:55:27.004Z"
   },
   {
    "duration": 8,
    "start_time": "2022-07-25T17:55:27.407Z"
   },
   {
    "duration": 250,
    "start_time": "2022-07-25T17:55:27.417Z"
   },
   {
    "duration": 2550,
    "start_time": "2022-07-25T17:55:27.669Z"
   },
   {
    "duration": 17,
    "start_time": "2022-07-25T17:55:30.221Z"
   },
   {
    "duration": 36,
    "start_time": "2022-07-25T17:55:30.240Z"
   },
   {
    "duration": 36,
    "start_time": "2022-07-25T17:55:30.278Z"
   },
   {
    "duration": 303,
    "start_time": "2022-07-25T17:55:30.316Z"
   },
   {
    "duration": 135,
    "start_time": "2022-07-25T17:55:30.623Z"
   },
   {
    "duration": 0,
    "start_time": "2022-07-25T17:55:30.760Z"
   },
   {
    "duration": 0,
    "start_time": "2022-07-25T17:55:30.762Z"
   },
   {
    "duration": 0,
    "start_time": "2022-07-25T17:55:30.763Z"
   },
   {
    "duration": 0,
    "start_time": "2022-07-25T17:55:30.766Z"
   },
   {
    "duration": 20,
    "start_time": "2022-07-25T17:55:41.798Z"
   },
   {
    "duration": 450,
    "start_time": "2022-07-25T17:55:57.950Z"
   },
   {
    "duration": 419,
    "start_time": "2022-07-25T17:56:01.008Z"
   },
   {
    "duration": 287,
    "start_time": "2022-07-25T17:56:07.948Z"
   },
   {
    "duration": 389,
    "start_time": "2022-07-25T17:56:13.683Z"
   },
   {
    "duration": 286,
    "start_time": "2022-07-25T17:56:21.363Z"
   },
   {
    "duration": 24,
    "start_time": "2022-07-25T17:56:25.642Z"
   },
   {
    "duration": 271,
    "start_time": "2022-07-25T17:56:29.627Z"
   },
   {
    "duration": 265,
    "start_time": "2022-07-25T17:56:38.395Z"
   },
   {
    "duration": 271,
    "start_time": "2022-07-25T17:57:01.072Z"
   },
   {
    "duration": 30,
    "start_time": "2022-07-25T17:57:17.754Z"
   },
   {
    "duration": 21,
    "start_time": "2022-07-25T17:57:21.117Z"
   },
   {
    "duration": 267,
    "start_time": "2022-07-25T17:57:35.520Z"
   },
   {
    "duration": 266,
    "start_time": "2022-07-25T17:59:56.188Z"
   },
   {
    "duration": 251,
    "start_time": "2022-07-25T18:00:02.040Z"
   },
   {
    "duration": 253,
    "start_time": "2022-07-25T18:00:50.823Z"
   },
   {
    "duration": 249,
    "start_time": "2022-07-25T18:01:21.279Z"
   },
   {
    "duration": 229,
    "start_time": "2022-07-25T18:04:53.202Z"
   },
   {
    "duration": 336,
    "start_time": "2022-07-25T18:05:43.955Z"
   },
   {
    "duration": 262,
    "start_time": "2022-07-25T18:06:06.920Z"
   },
   {
    "duration": 245,
    "start_time": "2022-07-25T18:06:39.398Z"
   },
   {
    "duration": 219,
    "start_time": "2022-07-25T18:07:06.452Z"
   },
   {
    "duration": 9,
    "start_time": "2022-07-25T18:19:48.103Z"
   },
   {
    "duration": 2482,
    "start_time": "2022-07-25T18:19:57.234Z"
   },
   {
    "duration": 23,
    "start_time": "2022-07-25T18:19:59.718Z"
   },
   {
    "duration": 25,
    "start_time": "2022-07-25T18:19:59.745Z"
   },
   {
    "duration": 18,
    "start_time": "2022-07-25T18:19:59.772Z"
   },
   {
    "duration": 7,
    "start_time": "2022-07-25T18:19:59.794Z"
   },
   {
    "duration": 14,
    "start_time": "2022-07-25T18:19:59.803Z"
   },
   {
    "duration": 7,
    "start_time": "2022-07-25T18:19:59.818Z"
   },
   {
    "duration": 283,
    "start_time": "2022-07-25T18:19:59.827Z"
   },
   {
    "duration": 456,
    "start_time": "2022-07-25T18:20:00.112Z"
   },
   {
    "duration": 408,
    "start_time": "2022-07-25T18:20:00.570Z"
   },
   {
    "duration": 10,
    "start_time": "2022-07-25T18:20:00.980Z"
   },
   {
    "duration": 29,
    "start_time": "2022-07-25T18:20:00.991Z"
   },
   {
    "duration": 266,
    "start_time": "2022-07-25T18:20:01.022Z"
   },
   {
    "duration": 1991,
    "start_time": "2022-07-25T18:20:01.292Z"
   },
   {
    "duration": 14,
    "start_time": "2022-07-25T18:20:03.286Z"
   },
   {
    "duration": 38,
    "start_time": "2022-07-25T18:20:03.302Z"
   },
   {
    "duration": 24,
    "start_time": "2022-07-25T18:20:03.342Z"
   },
   {
    "duration": 290,
    "start_time": "2022-07-25T18:20:03.367Z"
   },
   {
    "duration": 316,
    "start_time": "2022-07-25T18:20:03.659Z"
   },
   {
    "duration": 290,
    "start_time": "2022-07-25T18:20:03.977Z"
   },
   {
    "duration": 301,
    "start_time": "2022-07-25T18:20:04.269Z"
   },
   {
    "duration": 23,
    "start_time": "2022-07-25T18:20:04.572Z"
   },
   {
    "duration": 278,
    "start_time": "2022-07-25T18:20:04.596Z"
   },
   {
    "duration": 291,
    "start_time": "2022-07-25T18:20:04.876Z"
   },
   {
    "duration": 278,
    "start_time": "2022-07-25T18:20:05.170Z"
   },
   {
    "duration": 268,
    "start_time": "2022-07-25T18:20:05.452Z"
   },
   {
    "duration": 331,
    "start_time": "2022-07-25T18:20:05.723Z"
   },
   {
    "duration": 215,
    "start_time": "2022-07-25T18:20:06.058Z"
   },
   {
    "duration": 194,
    "start_time": "2022-07-25T18:20:06.274Z"
   },
   {
    "duration": 215,
    "start_time": "2022-07-25T18:20:06.470Z"
   },
   {
    "duration": 3,
    "start_time": "2022-07-25T18:20:06.687Z"
   },
   {
    "duration": 82,
    "start_time": "2022-07-25T18:21:09.996Z"
   },
   {
    "duration": 193,
    "start_time": "2022-07-25T18:21:19.825Z"
   },
   {
    "duration": 17,
    "start_time": "2022-07-25T18:21:31.067Z"
   },
   {
    "duration": 67,
    "start_time": "2022-07-25T18:22:04.408Z"
   },
   {
    "duration": 707,
    "start_time": "2022-07-25T18:22:36.558Z"
   },
   {
    "duration": 8,
    "start_time": "2022-07-25T18:23:13.400Z"
   },
   {
    "duration": 18,
    "start_time": "2022-07-25T18:23:20.822Z"
   },
   {
    "duration": 13,
    "start_time": "2022-07-25T18:23:26.096Z"
   },
   {
    "duration": 10,
    "start_time": "2022-07-25T18:23:50.442Z"
   },
   {
    "duration": 8,
    "start_time": "2022-07-25T18:23:57.561Z"
   },
   {
    "duration": 15,
    "start_time": "2022-07-25T18:24:47.177Z"
   },
   {
    "duration": 1258,
    "start_time": "2022-07-25T18:27:54.158Z"
   },
   {
    "duration": 19,
    "start_time": "2022-07-25T18:27:55.418Z"
   },
   {
    "duration": 31,
    "start_time": "2022-07-25T18:27:55.439Z"
   },
   {
    "duration": 7,
    "start_time": "2022-07-25T18:27:55.472Z"
   },
   {
    "duration": 10,
    "start_time": "2022-07-25T18:27:55.481Z"
   },
   {
    "duration": 20,
    "start_time": "2022-07-25T18:27:55.492Z"
   },
   {
    "duration": 7,
    "start_time": "2022-07-25T18:27:55.514Z"
   },
   {
    "duration": 259,
    "start_time": "2022-07-25T18:27:55.522Z"
   },
   {
    "duration": 472,
    "start_time": "2022-07-25T18:27:55.783Z"
   },
   {
    "duration": 356,
    "start_time": "2022-07-25T18:27:56.257Z"
   },
   {
    "duration": 8,
    "start_time": "2022-07-25T18:27:56.615Z"
   },
   {
    "duration": 39,
    "start_time": "2022-07-25T18:27:56.625Z"
   },
   {
    "duration": 228,
    "start_time": "2022-07-25T18:27:56.666Z"
   },
   {
    "duration": 1987,
    "start_time": "2022-07-25T18:27:56.898Z"
   },
   {
    "duration": 19,
    "start_time": "2022-07-25T18:27:58.887Z"
   },
   {
    "duration": 30,
    "start_time": "2022-07-25T18:27:58.908Z"
   },
   {
    "duration": 62,
    "start_time": "2022-07-25T18:27:58.940Z"
   },
   {
    "duration": 361,
    "start_time": "2022-07-25T18:27:59.003Z"
   },
   {
    "duration": 284,
    "start_time": "2022-07-25T18:27:59.366Z"
   },
   {
    "duration": 333,
    "start_time": "2022-07-25T18:27:59.658Z"
   },
   {
    "duration": 301,
    "start_time": "2022-07-25T18:27:59.993Z"
   },
   {
    "duration": 31,
    "start_time": "2022-07-25T18:28:00.296Z"
   },
   {
    "duration": 287,
    "start_time": "2022-07-25T18:28:00.329Z"
   },
   {
    "duration": 286,
    "start_time": "2022-07-25T18:28:00.618Z"
   },
   {
    "duration": 276,
    "start_time": "2022-07-25T18:28:00.907Z"
   },
   {
    "duration": 275,
    "start_time": "2022-07-25T18:28:01.186Z"
   },
   {
    "duration": 330,
    "start_time": "2022-07-25T18:28:01.462Z"
   },
   {
    "duration": 219,
    "start_time": "2022-07-25T18:28:01.794Z"
   },
   {
    "duration": 241,
    "start_time": "2022-07-25T18:28:02.015Z"
   },
   {
    "duration": 229,
    "start_time": "2022-07-25T18:28:02.258Z"
   },
   {
    "duration": 119,
    "start_time": "2022-07-25T18:28:02.489Z"
   },
   {
    "duration": 10,
    "start_time": "2022-07-25T18:28:12.885Z"
   },
   {
    "duration": 12,
    "start_time": "2022-07-25T18:28:28.351Z"
   },
   {
    "duration": 13,
    "start_time": "2022-07-25T18:28:54.762Z"
   },
   {
    "duration": 12,
    "start_time": "2022-07-25T18:31:27.309Z"
   },
   {
    "duration": 16,
    "start_time": "2022-07-25T18:31:32.460Z"
   },
   {
    "duration": 12,
    "start_time": "2022-07-25T18:31:50.605Z"
   },
   {
    "duration": 28,
    "start_time": "2022-07-25T18:32:00.330Z"
   },
   {
    "duration": 59,
    "start_time": "2022-07-25T18:34:20.754Z"
   },
   {
    "duration": 51,
    "start_time": "2022-07-25T18:34:33.118Z"
   },
   {
    "duration": 12,
    "start_time": "2022-07-25T18:35:08.461Z"
   },
   {
    "duration": 14,
    "start_time": "2022-07-25T18:35:14.189Z"
   },
   {
    "duration": 13,
    "start_time": "2022-07-25T18:35:29.563Z"
   },
   {
    "duration": 8,
    "start_time": "2022-07-25T18:35:33.778Z"
   },
   {
    "duration": 11,
    "start_time": "2022-07-25T18:35:58.778Z"
   },
   {
    "duration": 21,
    "start_time": "2022-07-25T18:36:01.737Z"
   },
   {
    "duration": 12,
    "start_time": "2022-07-25T18:36:47.470Z"
   },
   {
    "duration": 11,
    "start_time": "2022-07-25T18:37:11.626Z"
   },
   {
    "duration": 1276,
    "start_time": "2022-07-25T18:37:25.523Z"
   },
   {
    "duration": 19,
    "start_time": "2022-07-25T18:37:26.801Z"
   },
   {
    "duration": 4,
    "start_time": "2022-07-25T18:37:26.821Z"
   },
   {
    "duration": 12,
    "start_time": "2022-07-25T18:37:26.827Z"
   },
   {
    "duration": 11,
    "start_time": "2022-07-25T18:37:26.842Z"
   },
   {
    "duration": 18,
    "start_time": "2022-07-25T18:37:26.855Z"
   },
   {
    "duration": 7,
    "start_time": "2022-07-25T18:37:26.875Z"
   },
   {
    "duration": 276,
    "start_time": "2022-07-25T18:37:26.884Z"
   },
   {
    "duration": 424,
    "start_time": "2022-07-25T18:37:27.162Z"
   },
   {
    "duration": 330,
    "start_time": "2022-07-25T18:37:27.588Z"
   },
   {
    "duration": 9,
    "start_time": "2022-07-25T18:37:27.920Z"
   },
   {
    "duration": 18,
    "start_time": "2022-07-25T18:37:27.930Z"
   },
   {
    "duration": 232,
    "start_time": "2022-07-25T18:37:27.950Z"
   },
   {
    "duration": 1990,
    "start_time": "2022-07-25T18:37:28.186Z"
   },
   {
    "duration": 14,
    "start_time": "2022-07-25T18:37:30.178Z"
   },
   {
    "duration": 47,
    "start_time": "2022-07-25T18:37:30.194Z"
   },
   {
    "duration": 47,
    "start_time": "2022-07-25T18:37:30.243Z"
   },
   {
    "duration": 304,
    "start_time": "2022-07-25T18:37:30.292Z"
   },
   {
    "duration": 289,
    "start_time": "2022-07-25T18:37:30.598Z"
   },
   {
    "duration": 286,
    "start_time": "2022-07-25T18:37:30.889Z"
   },
   {
    "duration": 273,
    "start_time": "2022-07-25T18:37:31.177Z"
   },
   {
    "duration": 23,
    "start_time": "2022-07-25T18:37:31.451Z"
   },
   {
    "duration": 264,
    "start_time": "2022-07-25T18:37:31.476Z"
   },
   {
    "duration": 272,
    "start_time": "2022-07-25T18:37:31.742Z"
   },
   {
    "duration": 250,
    "start_time": "2022-07-25T18:37:32.016Z"
   },
   {
    "duration": 263,
    "start_time": "2022-07-25T18:37:32.267Z"
   },
   {
    "duration": 314,
    "start_time": "2022-07-25T18:37:32.532Z"
   },
   {
    "duration": 214,
    "start_time": "2022-07-25T18:37:32.848Z"
   },
   {
    "duration": 187,
    "start_time": "2022-07-25T18:37:33.064Z"
   },
   {
    "duration": 204,
    "start_time": "2022-07-25T18:37:33.253Z"
   },
   {
    "duration": 11,
    "start_time": "2022-07-25T18:37:33.459Z"
   },
   {
    "duration": 14,
    "start_time": "2022-07-25T18:37:33.473Z"
   },
   {
    "duration": 12,
    "start_time": "2022-07-25T18:38:54.863Z"
   },
   {
    "duration": 13,
    "start_time": "2022-07-25T18:39:13.388Z"
   },
   {
    "duration": 1569,
    "start_time": "2022-07-25T18:39:21.367Z"
   },
   {
    "duration": 22,
    "start_time": "2022-07-25T18:39:22.938Z"
   },
   {
    "duration": 28,
    "start_time": "2022-07-25T18:39:22.962Z"
   },
   {
    "duration": 8,
    "start_time": "2022-07-25T18:39:22.993Z"
   },
   {
    "duration": 20,
    "start_time": "2022-07-25T18:39:23.003Z"
   },
   {
    "duration": 20,
    "start_time": "2022-07-25T18:39:23.025Z"
   },
   {
    "duration": 7,
    "start_time": "2022-07-25T18:39:23.047Z"
   },
   {
    "duration": 276,
    "start_time": "2022-07-25T18:39:23.056Z"
   },
   {
    "duration": 460,
    "start_time": "2022-07-25T18:39:23.334Z"
   },
   {
    "duration": 378,
    "start_time": "2022-07-25T18:39:23.798Z"
   },
   {
    "duration": 10,
    "start_time": "2022-07-25T18:39:24.179Z"
   },
   {
    "duration": 20,
    "start_time": "2022-07-25T18:39:24.191Z"
   },
   {
    "duration": 373,
    "start_time": "2022-07-25T18:39:24.214Z"
   },
   {
    "duration": 2452,
    "start_time": "2022-07-25T18:39:24.589Z"
   },
   {
    "duration": 22,
    "start_time": "2022-07-25T18:39:27.043Z"
   },
   {
    "duration": 21,
    "start_time": "2022-07-25T18:39:27.067Z"
   },
   {
    "duration": 54,
    "start_time": "2022-07-25T18:39:27.091Z"
   },
   {
    "duration": 298,
    "start_time": "2022-07-25T18:39:27.147Z"
   },
   {
    "duration": 322,
    "start_time": "2022-07-25T18:39:27.447Z"
   },
   {
    "duration": 360,
    "start_time": "2022-07-25T18:39:27.773Z"
   },
   {
    "duration": 358,
    "start_time": "2022-07-25T18:39:28.135Z"
   },
   {
    "duration": 31,
    "start_time": "2022-07-25T18:39:28.495Z"
   },
   {
    "duration": 263,
    "start_time": "2022-07-25T18:39:28.528Z"
   },
   {
    "duration": 361,
    "start_time": "2022-07-25T18:39:28.793Z"
   },
   {
    "duration": 376,
    "start_time": "2022-07-25T18:39:29.156Z"
   },
   {
    "duration": 441,
    "start_time": "2022-07-25T18:39:29.534Z"
   },
   {
    "duration": 224,
    "start_time": "2022-07-25T18:39:29.977Z"
   },
   {
    "duration": 223,
    "start_time": "2022-07-25T18:39:30.205Z"
   },
   {
    "duration": 209,
    "start_time": "2022-07-25T18:39:30.431Z"
   },
   {
    "duration": 248,
    "start_time": "2022-07-25T18:39:30.642Z"
   },
   {
    "duration": 13,
    "start_time": "2022-07-25T18:39:30.892Z"
   },
   {
    "duration": 86,
    "start_time": "2022-07-25T18:39:30.907Z"
   },
   {
    "duration": 12,
    "start_time": "2022-07-25T18:39:39.360Z"
   },
   {
    "duration": 56,
    "start_time": "2022-07-25T18:45:04.653Z"
   },
   {
    "duration": 6,
    "start_time": "2022-07-25T18:50:06.451Z"
   },
   {
    "duration": 76,
    "start_time": "2022-07-25T18:50:20.412Z"
   },
   {
    "duration": 290,
    "start_time": "2022-07-25T18:51:20.977Z"
   },
   {
    "duration": 1265,
    "start_time": "2022-07-25T18:51:31.480Z"
   },
   {
    "duration": 19,
    "start_time": "2022-07-25T18:51:32.748Z"
   },
   {
    "duration": 3,
    "start_time": "2022-07-25T18:51:32.769Z"
   },
   {
    "duration": 6,
    "start_time": "2022-07-25T18:51:32.775Z"
   },
   {
    "duration": 8,
    "start_time": "2022-07-25T18:51:32.782Z"
   },
   {
    "duration": 38,
    "start_time": "2022-07-25T18:51:32.792Z"
   },
   {
    "duration": 10,
    "start_time": "2022-07-25T18:51:32.832Z"
   },
   {
    "duration": 261,
    "start_time": "2022-07-25T18:51:32.844Z"
   },
   {
    "duration": 452,
    "start_time": "2022-07-25T18:51:33.107Z"
   },
   {
    "duration": 396,
    "start_time": "2022-07-25T18:51:33.562Z"
   },
   {
    "duration": 8,
    "start_time": "2022-07-25T18:51:33.963Z"
   },
   {
    "duration": 8,
    "start_time": "2022-07-25T18:51:33.973Z"
   },
   {
    "duration": 266,
    "start_time": "2022-07-25T18:51:33.982Z"
   },
   {
    "duration": 2031,
    "start_time": "2022-07-25T18:51:34.251Z"
   },
   {
    "duration": 15,
    "start_time": "2022-07-25T18:51:36.283Z"
   },
   {
    "duration": 40,
    "start_time": "2022-07-25T18:51:36.300Z"
   },
   {
    "duration": 46,
    "start_time": "2022-07-25T18:51:36.343Z"
   },
   {
    "duration": 342,
    "start_time": "2022-07-25T18:51:36.390Z"
   },
   {
    "duration": 309,
    "start_time": "2022-07-25T18:51:36.735Z"
   },
   {
    "duration": 282,
    "start_time": "2022-07-25T18:51:37.048Z"
   },
   {
    "duration": 278,
    "start_time": "2022-07-25T18:51:37.334Z"
   },
   {
    "duration": 28,
    "start_time": "2022-07-25T18:51:37.614Z"
   },
   {
    "duration": 264,
    "start_time": "2022-07-25T18:51:37.645Z"
   },
   {
    "duration": 273,
    "start_time": "2022-07-25T18:51:37.911Z"
   },
   {
    "duration": 296,
    "start_time": "2022-07-25T18:51:38.186Z"
   },
   {
    "duration": 435,
    "start_time": "2022-07-25T18:51:38.484Z"
   },
   {
    "duration": 239,
    "start_time": "2022-07-25T18:51:38.920Z"
   },
   {
    "duration": 250,
    "start_time": "2022-07-25T18:51:39.165Z"
   },
   {
    "duration": 215,
    "start_time": "2022-07-25T18:51:39.423Z"
   },
   {
    "duration": 229,
    "start_time": "2022-07-25T18:51:39.642Z"
   },
   {
    "duration": 12,
    "start_time": "2022-07-25T18:51:39.872Z"
   },
   {
    "duration": 14,
    "start_time": "2022-07-25T18:51:39.885Z"
   },
   {
    "duration": 322,
    "start_time": "2022-07-25T18:56:02.779Z"
   },
   {
    "duration": 1309,
    "start_time": "2022-07-25T18:56:24.596Z"
   },
   {
    "duration": 15,
    "start_time": "2022-07-25T18:56:25.907Z"
   },
   {
    "duration": 4,
    "start_time": "2022-07-25T18:56:25.929Z"
   },
   {
    "duration": 28,
    "start_time": "2022-07-25T18:56:25.936Z"
   },
   {
    "duration": 13,
    "start_time": "2022-07-25T18:56:25.966Z"
   },
   {
    "duration": 17,
    "start_time": "2022-07-25T18:56:25.982Z"
   },
   {
    "duration": 7,
    "start_time": "2022-07-25T18:56:26.001Z"
   },
   {
    "duration": 298,
    "start_time": "2022-07-25T18:56:26.010Z"
   },
   {
    "duration": 463,
    "start_time": "2022-07-25T18:56:26.310Z"
   },
   {
    "duration": 410,
    "start_time": "2022-07-25T18:56:26.776Z"
   },
   {
    "duration": 9,
    "start_time": "2022-07-25T18:56:27.188Z"
   },
   {
    "duration": 14,
    "start_time": "2022-07-25T18:56:27.199Z"
   },
   {
    "duration": 292,
    "start_time": "2022-07-25T18:56:27.215Z"
   },
   {
    "duration": 2271,
    "start_time": "2022-07-25T18:56:27.509Z"
   },
   {
    "duration": 17,
    "start_time": "2022-07-25T18:56:29.783Z"
   },
   {
    "duration": 34,
    "start_time": "2022-07-25T18:56:29.802Z"
   },
   {
    "duration": 60,
    "start_time": "2022-07-25T18:56:29.838Z"
   },
   {
    "duration": 354,
    "start_time": "2022-07-25T18:56:29.899Z"
   },
   {
    "duration": 313,
    "start_time": "2022-07-25T18:56:30.260Z"
   },
   {
    "duration": 306,
    "start_time": "2022-07-25T18:56:30.575Z"
   },
   {
    "duration": 377,
    "start_time": "2022-07-25T18:56:30.883Z"
   },
   {
    "duration": 26,
    "start_time": "2022-07-25T18:56:31.263Z"
   },
   {
    "duration": 405,
    "start_time": "2022-07-25T18:56:31.291Z"
   },
   {
    "duration": 409,
    "start_time": "2022-07-25T18:56:31.698Z"
   },
   {
    "duration": 304,
    "start_time": "2022-07-25T18:56:32.109Z"
   },
   {
    "duration": 459,
    "start_time": "2022-07-25T18:56:32.424Z"
   },
   {
    "duration": 290,
    "start_time": "2022-07-25T18:56:32.886Z"
   },
   {
    "duration": 247,
    "start_time": "2022-07-25T18:56:33.179Z"
   },
   {
    "duration": 219,
    "start_time": "2022-07-25T18:56:33.428Z"
   },
   {
    "duration": 234,
    "start_time": "2022-07-25T18:56:33.649Z"
   },
   {
    "duration": 12,
    "start_time": "2022-07-25T18:56:33.885Z"
   },
   {
    "duration": 29,
    "start_time": "2022-07-25T18:56:33.899Z"
   },
   {
    "duration": 7,
    "start_time": "2022-07-25T18:57:29.462Z"
   },
   {
    "duration": 1242,
    "start_time": "2022-07-25T19:01:51.100Z"
   },
   {
    "duration": 18,
    "start_time": "2022-07-25T19:01:52.345Z"
   },
   {
    "duration": 3,
    "start_time": "2022-07-25T19:01:52.365Z"
   },
   {
    "duration": 12,
    "start_time": "2022-07-25T19:01:52.371Z"
   },
   {
    "duration": 11,
    "start_time": "2022-07-25T19:01:52.386Z"
   },
   {
    "duration": 37,
    "start_time": "2022-07-25T19:01:52.399Z"
   },
   {
    "duration": 12,
    "start_time": "2022-07-25T19:01:52.438Z"
   },
   {
    "duration": 251,
    "start_time": "2022-07-25T19:01:52.452Z"
   },
   {
    "duration": 463,
    "start_time": "2022-07-25T19:01:52.704Z"
   },
   {
    "duration": 424,
    "start_time": "2022-07-25T19:01:53.170Z"
   },
   {
    "duration": 6,
    "start_time": "2022-07-25T19:01:53.596Z"
   },
   {
    "duration": 120,
    "start_time": "2022-07-25T19:01:53.605Z"
   },
   {
    "duration": 0,
    "start_time": "2022-07-25T19:01:53.727Z"
   },
   {
    "duration": 0,
    "start_time": "2022-07-25T19:01:53.729Z"
   },
   {
    "duration": 0,
    "start_time": "2022-07-25T19:01:53.730Z"
   },
   {
    "duration": 0,
    "start_time": "2022-07-25T19:01:53.732Z"
   },
   {
    "duration": 0,
    "start_time": "2022-07-25T19:01:53.733Z"
   },
   {
    "duration": 0,
    "start_time": "2022-07-25T19:01:53.734Z"
   },
   {
    "duration": 0,
    "start_time": "2022-07-25T19:01:53.735Z"
   },
   {
    "duration": 0,
    "start_time": "2022-07-25T19:01:53.737Z"
   },
   {
    "duration": 0,
    "start_time": "2022-07-25T19:01:53.738Z"
   },
   {
    "duration": 0,
    "start_time": "2022-07-25T19:01:53.739Z"
   },
   {
    "duration": 0,
    "start_time": "2022-07-25T19:01:53.741Z"
   },
   {
    "duration": 0,
    "start_time": "2022-07-25T19:01:53.743Z"
   },
   {
    "duration": 0,
    "start_time": "2022-07-25T19:01:53.744Z"
   },
   {
    "duration": 0,
    "start_time": "2022-07-25T19:01:53.746Z"
   },
   {
    "duration": 0,
    "start_time": "2022-07-25T19:01:53.747Z"
   },
   {
    "duration": 0,
    "start_time": "2022-07-25T19:01:53.748Z"
   },
   {
    "duration": 0,
    "start_time": "2022-07-25T19:01:53.750Z"
   },
   {
    "duration": 0,
    "start_time": "2022-07-25T19:01:53.751Z"
   },
   {
    "duration": 0,
    "start_time": "2022-07-25T19:01:53.753Z"
   },
   {
    "duration": 1243,
    "start_time": "2022-07-25T19:02:31.546Z"
   },
   {
    "duration": 15,
    "start_time": "2022-07-25T19:02:32.791Z"
   },
   {
    "duration": 3,
    "start_time": "2022-07-25T19:02:32.808Z"
   },
   {
    "duration": 8,
    "start_time": "2022-07-25T19:02:32.813Z"
   },
   {
    "duration": 14,
    "start_time": "2022-07-25T19:02:32.823Z"
   },
   {
    "duration": 53,
    "start_time": "2022-07-25T19:02:32.840Z"
   },
   {
    "duration": 10,
    "start_time": "2022-07-25T19:02:32.895Z"
   },
   {
    "duration": 281,
    "start_time": "2022-07-25T19:02:32.907Z"
   },
   {
    "duration": 446,
    "start_time": "2022-07-25T19:02:33.190Z"
   },
   {
    "duration": 402,
    "start_time": "2022-07-25T19:02:33.640Z"
   },
   {
    "duration": 8,
    "start_time": "2022-07-25T19:02:34.043Z"
   },
   {
    "duration": 225,
    "start_time": "2022-07-25T19:02:34.052Z"
   },
   {
    "duration": 1969,
    "start_time": "2022-07-25T19:02:34.279Z"
   },
   {
    "duration": 16,
    "start_time": "2022-07-25T19:02:36.250Z"
   },
   {
    "duration": 16,
    "start_time": "2022-07-25T19:02:36.268Z"
   },
   {
    "duration": 49,
    "start_time": "2022-07-25T19:02:36.286Z"
   },
   {
    "duration": 318,
    "start_time": "2022-07-25T19:02:36.337Z"
   },
   {
    "duration": 301,
    "start_time": "2022-07-25T19:02:36.657Z"
   },
   {
    "duration": 293,
    "start_time": "2022-07-25T19:02:36.960Z"
   },
   {
    "duration": 302,
    "start_time": "2022-07-25T19:02:37.255Z"
   },
   {
    "duration": 24,
    "start_time": "2022-07-25T19:02:37.559Z"
   },
   {
    "duration": 286,
    "start_time": "2022-07-25T19:02:37.585Z"
   },
   {
    "duration": 274,
    "start_time": "2022-07-25T19:02:37.874Z"
   },
   {
    "duration": 260,
    "start_time": "2022-07-25T19:02:38.150Z"
   },
   {
    "duration": 398,
    "start_time": "2022-07-25T19:02:38.413Z"
   },
   {
    "duration": 240,
    "start_time": "2022-07-25T19:02:38.813Z"
   },
   {
    "duration": 250,
    "start_time": "2022-07-25T19:02:39.055Z"
   },
   {
    "duration": 205,
    "start_time": "2022-07-25T19:02:39.311Z"
   },
   {
    "duration": 222,
    "start_time": "2022-07-25T19:02:39.518Z"
   },
   {
    "duration": 15,
    "start_time": "2022-07-25T19:02:39.742Z"
   },
   {
    "duration": 14,
    "start_time": "2022-07-25T19:02:39.759Z"
   },
   {
    "duration": 165,
    "start_time": "2022-07-25T19:05:38.379Z"
   },
   {
    "duration": 219,
    "start_time": "2022-07-25T19:05:57.762Z"
   },
   {
    "duration": 267,
    "start_time": "2022-07-25T19:07:02.403Z"
   },
   {
    "duration": 242,
    "start_time": "2022-07-25T19:07:13.159Z"
   },
   {
    "duration": 238,
    "start_time": "2022-07-25T19:08:46.009Z"
   },
   {
    "duration": 206,
    "start_time": "2022-07-25T19:09:37.836Z"
   },
   {
    "duration": 2146,
    "start_time": "2022-07-25T19:10:58.003Z"
   },
   {
    "duration": 12,
    "start_time": "2022-07-25T19:11:04.170Z"
   },
   {
    "duration": 3673,
    "start_time": "2022-07-25T19:16:42.102Z"
   },
   {
    "duration": 1633,
    "start_time": "2022-07-25T19:18:41.851Z"
   },
   {
    "duration": 2158,
    "start_time": "2022-07-25T19:19:03.881Z"
   },
   {
    "duration": 60,
    "start_time": "2022-07-25T19:19:25.952Z"
   },
   {
    "duration": 22,
    "start_time": "2022-07-25T19:19:26.015Z"
   },
   {
    "duration": 21,
    "start_time": "2022-07-25T19:19:26.039Z"
   },
   {
    "duration": 13,
    "start_time": "2022-07-25T19:19:26.063Z"
   },
   {
    "duration": 20,
    "start_time": "2022-07-25T19:19:26.078Z"
   },
   {
    "duration": 20,
    "start_time": "2022-07-25T19:19:26.100Z"
   },
   {
    "duration": 7,
    "start_time": "2022-07-25T19:19:26.122Z"
   },
   {
    "duration": 338,
    "start_time": "2022-07-25T19:19:26.131Z"
   },
   {
    "duration": 643,
    "start_time": "2022-07-25T19:19:26.471Z"
   },
   {
    "duration": 346,
    "start_time": "2022-07-25T19:19:27.117Z"
   },
   {
    "duration": 7,
    "start_time": "2022-07-25T19:19:27.465Z"
   },
   {
    "duration": 257,
    "start_time": "2022-07-25T19:19:27.474Z"
   },
   {
    "duration": 1397,
    "start_time": "2022-07-25T19:19:31.775Z"
   },
   {
    "duration": 24,
    "start_time": "2022-07-25T19:19:33.175Z"
   },
   {
    "duration": 5,
    "start_time": "2022-07-25T19:19:33.201Z"
   },
   {
    "duration": 13,
    "start_time": "2022-07-25T19:19:33.209Z"
   },
   {
    "duration": 28,
    "start_time": "2022-07-25T19:19:33.225Z"
   },
   {
    "duration": 28,
    "start_time": "2022-07-25T19:19:33.255Z"
   },
   {
    "duration": 8,
    "start_time": "2022-07-25T19:19:33.285Z"
   },
   {
    "duration": 279,
    "start_time": "2022-07-25T19:19:33.295Z"
   },
   {
    "duration": 487,
    "start_time": "2022-07-25T19:19:33.576Z"
   },
   {
    "duration": 370,
    "start_time": "2022-07-25T19:19:34.068Z"
   },
   {
    "duration": 9,
    "start_time": "2022-07-25T19:19:34.441Z"
   },
   {
    "duration": 247,
    "start_time": "2022-07-25T19:19:34.452Z"
   },
   {
    "duration": 2346,
    "start_time": "2022-07-25T19:19:34.701Z"
   },
   {
    "duration": 22,
    "start_time": "2022-07-25T19:19:37.049Z"
   },
   {
    "duration": 4378,
    "start_time": "2022-07-25T19:19:37.073Z"
   },
   {
    "duration": 2704,
    "start_time": "2022-07-25T19:19:41.453Z"
   },
   {
    "duration": 24,
    "start_time": "2022-07-25T19:19:44.159Z"
   },
   {
    "duration": 50,
    "start_time": "2022-07-25T19:19:44.185Z"
   },
   {
    "duration": 293,
    "start_time": "2022-07-25T19:19:44.237Z"
   },
   {
    "duration": 291,
    "start_time": "2022-07-25T19:19:44.532Z"
   },
   {
    "duration": 336,
    "start_time": "2022-07-25T19:19:44.826Z"
   },
   {
    "duration": 278,
    "start_time": "2022-07-25T19:19:45.165Z"
   },
   {
    "duration": 23,
    "start_time": "2022-07-25T19:19:45.445Z"
   },
   {
    "duration": 319,
    "start_time": "2022-07-25T19:19:45.470Z"
   },
   {
    "duration": 311,
    "start_time": "2022-07-25T19:19:45.792Z"
   },
   {
    "duration": 253,
    "start_time": "2022-07-25T19:19:46.105Z"
   },
   {
    "duration": 387,
    "start_time": "2022-07-25T19:19:46.359Z"
   },
   {
    "duration": 213,
    "start_time": "2022-07-25T19:19:46.750Z"
   },
   {
    "duration": 278,
    "start_time": "2022-07-25T19:19:46.965Z"
   },
   {
    "duration": 207,
    "start_time": "2022-07-25T19:19:47.245Z"
   },
   {
    "duration": 239,
    "start_time": "2022-07-25T19:19:47.455Z"
   },
   {
    "duration": 29,
    "start_time": "2022-07-25T19:19:47.697Z"
   },
   {
    "duration": 14,
    "start_time": "2022-07-25T19:19:47.728Z"
   },
   {
    "duration": 1861,
    "start_time": "2022-07-25T19:20:37.643Z"
   },
   {
    "duration": 1858,
    "start_time": "2022-07-25T19:20:56.450Z"
   },
   {
    "duration": 3920,
    "start_time": "2022-07-25T19:21:18.968Z"
   },
   {
    "duration": 3954,
    "start_time": "2022-07-25T19:21:49.784Z"
   },
   {
    "duration": 26,
    "start_time": "2022-07-25T19:22:18.508Z"
   },
   {
    "duration": 33,
    "start_time": "2022-07-25T19:24:33.685Z"
   },
   {
    "duration": 370,
    "start_time": "2022-07-25T19:24:48.978Z"
   },
   {
    "duration": 541,
    "start_time": "2022-07-25T19:25:04.495Z"
   },
   {
    "duration": 372,
    "start_time": "2022-07-25T19:25:14.586Z"
   },
   {
    "duration": 361,
    "start_time": "2022-07-25T19:25:24.602Z"
   },
   {
    "duration": 26,
    "start_time": "2022-07-25T19:25:34.595Z"
   },
   {
    "duration": 339,
    "start_time": "2022-07-25T19:25:43.613Z"
   },
   {
    "duration": 369,
    "start_time": "2022-07-25T19:25:53.884Z"
   },
   {
    "duration": 264,
    "start_time": "2022-07-25T19:26:02.610Z"
   },
   {
    "duration": 285,
    "start_time": "2022-07-25T19:26:14.880Z"
   },
   {
    "duration": 1447,
    "start_time": "2022-07-25T19:26:29.667Z"
   },
   {
    "duration": 28,
    "start_time": "2022-07-25T19:26:31.116Z"
   },
   {
    "duration": 17,
    "start_time": "2022-07-25T19:26:31.153Z"
   },
   {
    "duration": 25,
    "start_time": "2022-07-25T19:26:31.172Z"
   },
   {
    "duration": 33,
    "start_time": "2022-07-25T19:26:31.201Z"
   },
   {
    "duration": 54,
    "start_time": "2022-07-25T19:26:31.236Z"
   },
   {
    "duration": 8,
    "start_time": "2022-07-25T19:26:31.293Z"
   },
   {
    "duration": 299,
    "start_time": "2022-07-25T19:26:31.303Z"
   },
   {
    "duration": 460,
    "start_time": "2022-07-25T19:26:31.603Z"
   },
   {
    "duration": 425,
    "start_time": "2022-07-25T19:26:32.067Z"
   },
   {
    "duration": 10,
    "start_time": "2022-07-25T19:26:32.495Z"
   },
   {
    "duration": 310,
    "start_time": "2022-07-25T19:26:32.507Z"
   },
   {
    "duration": 2289,
    "start_time": "2022-07-25T19:26:32.819Z"
   },
   {
    "duration": 31,
    "start_time": "2022-07-25T19:26:35.111Z"
   },
   {
    "duration": 3953,
    "start_time": "2022-07-25T19:26:35.144Z"
   },
   {
    "duration": 33,
    "start_time": "2022-07-25T19:26:39.103Z"
   },
   {
    "duration": 93,
    "start_time": "2022-07-25T19:26:39.139Z"
   },
   {
    "duration": 0,
    "start_time": "2022-07-25T19:26:39.237Z"
   },
   {
    "duration": 0,
    "start_time": "2022-07-25T19:26:39.240Z"
   },
   {
    "duration": 0,
    "start_time": "2022-07-25T19:26:39.241Z"
   },
   {
    "duration": 0,
    "start_time": "2022-07-25T19:26:39.242Z"
   },
   {
    "duration": 0,
    "start_time": "2022-07-25T19:26:39.244Z"
   },
   {
    "duration": 0,
    "start_time": "2022-07-25T19:26:39.245Z"
   },
   {
    "duration": 0,
    "start_time": "2022-07-25T19:26:39.246Z"
   },
   {
    "duration": 0,
    "start_time": "2022-07-25T19:26:39.248Z"
   },
   {
    "duration": 0,
    "start_time": "2022-07-25T19:26:39.250Z"
   },
   {
    "duration": 0,
    "start_time": "2022-07-25T19:26:39.251Z"
   },
   {
    "duration": 0,
    "start_time": "2022-07-25T19:26:39.252Z"
   },
   {
    "duration": 0,
    "start_time": "2022-07-25T19:26:39.254Z"
   },
   {
    "duration": 0,
    "start_time": "2022-07-25T19:26:39.255Z"
   },
   {
    "duration": 0,
    "start_time": "2022-07-25T19:26:39.256Z"
   },
   {
    "duration": 0,
    "start_time": "2022-07-25T19:26:39.257Z"
   },
   {
    "duration": 0,
    "start_time": "2022-07-25T19:26:39.258Z"
   },
   {
    "duration": 1312,
    "start_time": "2022-07-25T19:26:58.044Z"
   },
   {
    "duration": 19,
    "start_time": "2022-07-25T19:26:59.358Z"
   },
   {
    "duration": 8,
    "start_time": "2022-07-25T19:26:59.379Z"
   },
   {
    "duration": 8,
    "start_time": "2022-07-25T19:26:59.389Z"
   },
   {
    "duration": 28,
    "start_time": "2022-07-25T19:26:59.401Z"
   },
   {
    "duration": 26,
    "start_time": "2022-07-25T19:26:59.433Z"
   },
   {
    "duration": 7,
    "start_time": "2022-07-25T19:26:59.461Z"
   },
   {
    "duration": 235,
    "start_time": "2022-07-25T19:26:59.470Z"
   },
   {
    "duration": 443,
    "start_time": "2022-07-25T19:26:59.708Z"
   },
   {
    "duration": 384,
    "start_time": "2022-07-25T19:27:00.154Z"
   },
   {
    "duration": 7,
    "start_time": "2022-07-25T19:27:00.541Z"
   },
   {
    "duration": 246,
    "start_time": "2022-07-25T19:27:00.550Z"
   },
   {
    "duration": 2293,
    "start_time": "2022-07-25T19:27:00.798Z"
   },
   {
    "duration": 15,
    "start_time": "2022-07-25T19:27:03.125Z"
   },
   {
    "duration": 3926,
    "start_time": "2022-07-25T19:27:03.142Z"
   },
   {
    "duration": 21,
    "start_time": "2022-07-25T19:27:07.071Z"
   },
   {
    "duration": 56,
    "start_time": "2022-07-25T19:27:07.094Z"
   },
   {
    "duration": 298,
    "start_time": "2022-07-25T19:27:07.152Z"
   },
   {
    "duration": 295,
    "start_time": "2022-07-25T19:27:07.452Z"
   },
   {
    "duration": 300,
    "start_time": "2022-07-25T19:27:07.749Z"
   },
   {
    "duration": 293,
    "start_time": "2022-07-25T19:27:08.051Z"
   },
   {
    "duration": 21,
    "start_time": "2022-07-25T19:27:08.347Z"
   },
   {
    "duration": 443,
    "start_time": "2022-07-25T19:27:08.371Z"
   },
   {
    "duration": 368,
    "start_time": "2022-07-25T19:27:08.817Z"
   },
   {
    "duration": 309,
    "start_time": "2022-07-25T19:27:09.187Z"
   },
   {
    "duration": 268,
    "start_time": "2022-07-25T19:27:09.498Z"
   },
   {
    "duration": 218,
    "start_time": "2022-07-25T19:27:09.768Z"
   },
   {
    "duration": 210,
    "start_time": "2022-07-25T19:27:09.987Z"
   },
   {
    "duration": 199,
    "start_time": "2022-07-25T19:27:10.198Z"
   },
   {
    "duration": 211,
    "start_time": "2022-07-25T19:27:10.399Z"
   },
   {
    "duration": 24,
    "start_time": "2022-07-25T19:27:10.612Z"
   },
   {
    "duration": 63,
    "start_time": "2022-07-25T19:27:10.638Z"
   },
   {
    "duration": 296,
    "start_time": "2022-07-25T19:47:25.109Z"
   },
   {
    "duration": 48,
    "start_time": "2022-07-25T19:50:52.638Z"
   },
   {
    "duration": 55,
    "start_time": "2022-07-25T19:51:48.514Z"
   },
   {
    "duration": 12,
    "start_time": "2022-07-25T19:52:33.226Z"
   },
   {
    "duration": 74,
    "start_time": "2022-07-25T19:53:24.173Z"
   },
   {
    "duration": 1294,
    "start_time": "2022-07-25T20:09:47.770Z"
   },
   {
    "duration": 22,
    "start_time": "2022-07-25T20:09:49.066Z"
   },
   {
    "duration": 4,
    "start_time": "2022-07-25T20:09:49.091Z"
   },
   {
    "duration": 30,
    "start_time": "2022-07-25T20:09:49.097Z"
   },
   {
    "duration": 58,
    "start_time": "2022-07-25T20:09:49.129Z"
   },
   {
    "duration": 43,
    "start_time": "2022-07-25T20:09:49.189Z"
   },
   {
    "duration": 22,
    "start_time": "2022-07-25T20:09:49.234Z"
   },
   {
    "duration": 274,
    "start_time": "2022-07-25T20:09:49.259Z"
   },
   {
    "duration": 445,
    "start_time": "2022-07-25T20:09:49.536Z"
   },
   {
    "duration": 358,
    "start_time": "2022-07-25T20:09:49.983Z"
   },
   {
    "duration": 14,
    "start_time": "2022-07-25T20:09:50.343Z"
   },
   {
    "duration": 256,
    "start_time": "2022-07-25T20:09:50.360Z"
   },
   {
    "duration": 2301,
    "start_time": "2022-07-25T20:09:50.618Z"
   },
   {
    "duration": 22,
    "start_time": "2022-07-25T20:09:52.925Z"
   },
   {
    "duration": 3815,
    "start_time": "2022-07-25T20:09:52.950Z"
   },
   {
    "duration": 16,
    "start_time": "2022-07-25T20:09:56.767Z"
   },
   {
    "duration": 52,
    "start_time": "2022-07-25T20:09:56.785Z"
   },
   {
    "duration": 314,
    "start_time": "2022-07-25T20:09:56.839Z"
   },
   {
    "duration": 291,
    "start_time": "2022-07-25T20:09:57.155Z"
   },
   {
    "duration": 313,
    "start_time": "2022-07-25T20:09:57.449Z"
   },
   {
    "duration": 293,
    "start_time": "2022-07-25T20:09:57.763Z"
   },
   {
    "duration": 22,
    "start_time": "2022-07-25T20:09:58.058Z"
   },
   {
    "duration": 469,
    "start_time": "2022-07-25T20:09:58.082Z"
   },
   {
    "duration": 307,
    "start_time": "2022-07-25T20:09:58.553Z"
   },
   {
    "duration": 380,
    "start_time": "2022-07-25T20:09:58.864Z"
   },
   {
    "duration": 324,
    "start_time": "2022-07-25T20:09:59.247Z"
   },
   {
    "duration": 231,
    "start_time": "2022-07-25T20:09:59.573Z"
   },
   {
    "duration": 228,
    "start_time": "2022-07-25T20:09:59.806Z"
   },
   {
    "duration": 216,
    "start_time": "2022-07-25T20:10:00.036Z"
   },
   {
    "duration": 228,
    "start_time": "2022-07-25T20:10:00.255Z"
   },
   {
    "duration": 14,
    "start_time": "2022-07-25T20:10:00.485Z"
   },
   {
    "duration": 50,
    "start_time": "2022-07-25T20:10:00.502Z"
   },
   {
    "duration": 1174,
    "start_time": "2022-07-25T20:13:49.557Z"
   },
   {
    "duration": 14,
    "start_time": "2022-07-25T20:13:50.733Z"
   },
   {
    "duration": 8,
    "start_time": "2022-07-25T20:13:50.749Z"
   },
   {
    "duration": 9,
    "start_time": "2022-07-25T20:13:50.758Z"
   },
   {
    "duration": 19,
    "start_time": "2022-07-25T20:13:50.769Z"
   },
   {
    "duration": 15,
    "start_time": "2022-07-25T20:13:50.789Z"
   },
   {
    "duration": 5,
    "start_time": "2022-07-25T20:13:50.805Z"
   },
   {
    "duration": 194,
    "start_time": "2022-07-25T20:13:50.812Z"
   },
   {
    "duration": 346,
    "start_time": "2022-07-25T20:13:51.008Z"
   },
   {
    "duration": 308,
    "start_time": "2022-07-25T20:13:51.356Z"
   },
   {
    "duration": 6,
    "start_time": "2022-07-25T20:13:51.666Z"
   },
   {
    "duration": 199,
    "start_time": "2022-07-25T20:13:51.674Z"
   },
   {
    "duration": 1902,
    "start_time": "2022-07-25T20:13:51.875Z"
   },
   {
    "duration": 16,
    "start_time": "2022-07-25T20:13:53.781Z"
   },
   {
    "duration": 3265,
    "start_time": "2022-07-25T20:13:53.799Z"
   },
   {
    "duration": 15,
    "start_time": "2022-07-25T20:13:57.066Z"
   },
   {
    "duration": 19,
    "start_time": "2022-07-25T20:13:57.083Z"
   },
   {
    "duration": 253,
    "start_time": "2022-07-25T20:13:57.103Z"
   },
   {
    "duration": 257,
    "start_time": "2022-07-25T20:13:57.363Z"
   },
   {
    "duration": 229,
    "start_time": "2022-07-25T20:13:57.622Z"
   },
   {
    "duration": 245,
    "start_time": "2022-07-25T20:13:57.852Z"
   },
   {
    "duration": 19,
    "start_time": "2022-07-25T20:13:58.099Z"
   },
   {
    "duration": 412,
    "start_time": "2022-07-25T20:13:58.119Z"
   },
   {
    "duration": 228,
    "start_time": "2022-07-25T20:13:58.533Z"
   },
   {
    "duration": 218,
    "start_time": "2022-07-25T20:13:58.762Z"
   },
   {
    "duration": 222,
    "start_time": "2022-07-25T20:13:58.982Z"
   },
   {
    "duration": 166,
    "start_time": "2022-07-25T20:13:59.206Z"
   },
   {
    "duration": 178,
    "start_time": "2022-07-25T20:13:59.373Z"
   },
   {
    "duration": 165,
    "start_time": "2022-07-25T20:13:59.553Z"
   },
   {
    "duration": 181,
    "start_time": "2022-07-25T20:13:59.720Z"
   },
   {
    "duration": 14,
    "start_time": "2022-07-25T20:13:59.903Z"
   },
   {
    "duration": 19,
    "start_time": "2022-07-25T20:13:59.918Z"
   },
   {
    "duration": 7,
    "start_time": "2022-07-25T20:29:53.353Z"
   },
   {
    "duration": 9,
    "start_time": "2022-07-25T20:29:56.711Z"
   },
   {
    "duration": 9,
    "start_time": "2022-07-25T20:29:59.809Z"
   },
   {
    "duration": 11,
    "start_time": "2022-07-25T20:43:58.536Z"
   },
   {
    "duration": 8,
    "start_time": "2022-07-25T20:45:31.336Z"
   },
   {
    "duration": 12,
    "start_time": "2022-07-25T20:46:14.064Z"
   },
   {
    "duration": 1272,
    "start_time": "2022-07-25T20:46:30.262Z"
   },
   {
    "duration": 15,
    "start_time": "2022-07-25T20:46:31.536Z"
   },
   {
    "duration": 13,
    "start_time": "2022-07-25T20:46:31.553Z"
   },
   {
    "duration": 9,
    "start_time": "2022-07-25T20:46:31.568Z"
   },
   {
    "duration": 25,
    "start_time": "2022-07-25T20:46:31.579Z"
   },
   {
    "duration": 18,
    "start_time": "2022-07-25T20:46:31.606Z"
   },
   {
    "duration": 12,
    "start_time": "2022-07-25T20:46:31.626Z"
   },
   {
    "duration": 5,
    "start_time": "2022-07-25T20:46:31.640Z"
   },
   {
    "duration": 226,
    "start_time": "2022-07-25T20:46:31.647Z"
   },
   {
    "duration": 368,
    "start_time": "2022-07-25T20:46:31.876Z"
   },
   {
    "duration": 302,
    "start_time": "2022-07-25T20:46:32.246Z"
   },
   {
    "duration": 14,
    "start_time": "2022-07-25T20:46:32.550Z"
   },
   {
    "duration": 235,
    "start_time": "2022-07-25T20:46:32.566Z"
   },
   {
    "duration": 1823,
    "start_time": "2022-07-25T20:46:32.803Z"
   },
   {
    "duration": 14,
    "start_time": "2022-07-25T20:46:34.627Z"
   },
   {
    "duration": 3036,
    "start_time": "2022-07-25T20:46:34.643Z"
   },
   {
    "duration": 16,
    "start_time": "2022-07-25T20:46:37.681Z"
   },
   {
    "duration": 23,
    "start_time": "2022-07-25T20:46:37.699Z"
   },
   {
    "duration": 262,
    "start_time": "2022-07-25T20:46:37.723Z"
   },
   {
    "duration": 249,
    "start_time": "2022-07-25T20:46:37.987Z"
   },
   {
    "duration": 238,
    "start_time": "2022-07-25T20:46:38.238Z"
   },
   {
    "duration": 235,
    "start_time": "2022-07-25T20:46:38.477Z"
   },
   {
    "duration": 19,
    "start_time": "2022-07-25T20:46:38.714Z"
   },
   {
    "duration": 395,
    "start_time": "2022-07-25T20:46:38.734Z"
   },
   {
    "duration": 212,
    "start_time": "2022-07-25T20:46:39.130Z"
   },
   {
    "duration": 210,
    "start_time": "2022-07-25T20:46:39.344Z"
   },
   {
    "duration": 216,
    "start_time": "2022-07-25T20:46:39.555Z"
   },
   {
    "duration": 170,
    "start_time": "2022-07-25T20:46:39.774Z"
   },
   {
    "duration": 172,
    "start_time": "2022-07-25T20:46:39.946Z"
   },
   {
    "duration": 162,
    "start_time": "2022-07-25T20:46:40.120Z"
   },
   {
    "duration": 191,
    "start_time": "2022-07-25T20:46:40.284Z"
   },
   {
    "duration": 11,
    "start_time": "2022-07-25T20:46:40.477Z"
   },
   {
    "duration": 14,
    "start_time": "2022-07-25T20:46:40.489Z"
   },
   {
    "duration": 8,
    "start_time": "2022-07-25T20:47:20.297Z"
   },
   {
    "duration": 13,
    "start_time": "2022-07-25T20:47:30.748Z"
   },
   {
    "duration": 1148,
    "start_time": "2022-07-25T20:47:50.760Z"
   },
   {
    "duration": 16,
    "start_time": "2022-07-25T20:47:51.910Z"
   },
   {
    "duration": 3,
    "start_time": "2022-07-25T20:47:51.928Z"
   },
   {
    "duration": 16,
    "start_time": "2022-07-25T20:47:51.934Z"
   },
   {
    "duration": 14,
    "start_time": "2022-07-25T20:47:51.951Z"
   },
   {
    "duration": 14,
    "start_time": "2022-07-25T20:47:51.967Z"
   },
   {
    "duration": 13,
    "start_time": "2022-07-25T20:47:51.983Z"
   },
   {
    "duration": 6,
    "start_time": "2022-07-25T20:47:51.998Z"
   },
   {
    "duration": 223,
    "start_time": "2022-07-25T20:47:52.005Z"
   },
   {
    "duration": 397,
    "start_time": "2022-07-25T20:47:52.232Z"
   },
   {
    "duration": 292,
    "start_time": "2022-07-25T20:47:52.630Z"
   },
   {
    "duration": 7,
    "start_time": "2022-07-25T20:47:52.924Z"
   },
   {
    "duration": 201,
    "start_time": "2022-07-25T20:47:52.932Z"
   },
   {
    "duration": 1810,
    "start_time": "2022-07-25T20:47:53.135Z"
   },
   {
    "duration": 23,
    "start_time": "2022-07-25T20:47:54.946Z"
   },
   {
    "duration": 3056,
    "start_time": "2022-07-25T20:47:54.971Z"
   },
   {
    "duration": 16,
    "start_time": "2022-07-25T20:47:58.029Z"
   },
   {
    "duration": 32,
    "start_time": "2022-07-25T20:47:58.047Z"
   },
   {
    "duration": 235,
    "start_time": "2022-07-25T20:47:58.081Z"
   },
   {
    "duration": 227,
    "start_time": "2022-07-25T20:47:58.318Z"
   },
   {
    "duration": 232,
    "start_time": "2022-07-25T20:47:58.547Z"
   },
   {
    "duration": 365,
    "start_time": "2022-07-25T20:47:58.781Z"
   },
   {
    "duration": 23,
    "start_time": "2022-07-25T20:47:59.147Z"
   },
   {
    "duration": 213,
    "start_time": "2022-07-25T20:47:59.171Z"
   },
   {
    "duration": 212,
    "start_time": "2022-07-25T20:47:59.385Z"
   },
   {
    "duration": 207,
    "start_time": "2022-07-25T20:47:59.598Z"
   },
   {
    "duration": 217,
    "start_time": "2022-07-25T20:47:59.807Z"
   },
   {
    "duration": 165,
    "start_time": "2022-07-25T20:48:00.027Z"
   },
   {
    "duration": 190,
    "start_time": "2022-07-25T20:48:00.194Z"
   },
   {
    "duration": 180,
    "start_time": "2022-07-25T20:48:00.385Z"
   },
   {
    "duration": 206,
    "start_time": "2022-07-25T20:48:00.567Z"
   },
   {
    "duration": 10,
    "start_time": "2022-07-25T20:48:00.775Z"
   },
   {
    "duration": 13,
    "start_time": "2022-07-25T20:48:00.787Z"
   },
   {
    "duration": 105,
    "start_time": "2022-07-25T20:55:16.343Z"
   },
   {
    "duration": 185,
    "start_time": "2022-07-25T20:55:20.688Z"
   },
   {
    "duration": 168,
    "start_time": "2022-07-25T20:55:33.424Z"
   },
   {
    "duration": 300,
    "start_time": "2022-07-25T20:55:40.335Z"
   },
   {
    "duration": 48,
    "start_time": "2022-07-26T09:36:20.752Z"
   },
   {
    "duration": 1418,
    "start_time": "2022-07-26T09:36:27.415Z"
   },
   {
    "duration": 24,
    "start_time": "2022-07-26T09:36:28.835Z"
   },
   {
    "duration": 11,
    "start_time": "2022-07-26T09:36:28.861Z"
   },
   {
    "duration": 7,
    "start_time": "2022-07-26T09:36:28.875Z"
   },
   {
    "duration": 16,
    "start_time": "2022-07-26T09:36:28.884Z"
   },
   {
    "duration": 22,
    "start_time": "2022-07-26T09:36:28.902Z"
   },
   {
    "duration": 9,
    "start_time": "2022-07-26T09:36:28.926Z"
   },
   {
    "duration": 286,
    "start_time": "2022-07-26T09:36:28.942Z"
   },
   {
    "duration": 375,
    "start_time": "2022-07-26T09:36:29.230Z"
   },
   {
    "duration": 303,
    "start_time": "2022-07-26T09:36:29.608Z"
   },
   {
    "duration": 8,
    "start_time": "2022-07-26T09:36:29.913Z"
   },
   {
    "duration": 229,
    "start_time": "2022-07-26T09:36:29.922Z"
   },
   {
    "duration": 1932,
    "start_time": "2022-07-26T09:36:30.153Z"
   },
   {
    "duration": 12,
    "start_time": "2022-07-26T09:36:32.087Z"
   },
   {
    "duration": 3164,
    "start_time": "2022-07-26T09:36:32.101Z"
   },
   {
    "duration": 15,
    "start_time": "2022-07-26T09:36:35.266Z"
   },
   {
    "duration": 21,
    "start_time": "2022-07-26T09:36:35.282Z"
   },
   {
    "duration": 273,
    "start_time": "2022-07-26T09:36:35.304Z"
   },
   {
    "duration": 274,
    "start_time": "2022-07-26T09:36:35.579Z"
   },
   {
    "duration": 265,
    "start_time": "2022-07-26T09:36:35.855Z"
   },
   {
    "duration": 441,
    "start_time": "2022-07-26T09:36:36.121Z"
   },
   {
    "duration": 19,
    "start_time": "2022-07-26T09:36:36.564Z"
   },
   {
    "duration": 235,
    "start_time": "2022-07-26T09:36:36.585Z"
   },
   {
    "duration": 241,
    "start_time": "2022-07-26T09:36:36.822Z"
   },
   {
    "duration": 224,
    "start_time": "2022-07-26T09:36:37.064Z"
   },
   {
    "duration": 232,
    "start_time": "2022-07-26T09:36:37.290Z"
   },
   {
    "duration": 183,
    "start_time": "2022-07-26T09:36:37.524Z"
   },
   {
    "duration": 200,
    "start_time": "2022-07-26T09:36:37.710Z"
   },
   {
    "duration": 187,
    "start_time": "2022-07-26T09:36:37.913Z"
   },
   {
    "duration": 204,
    "start_time": "2022-07-26T09:36:38.101Z"
   },
   {
    "duration": 11,
    "start_time": "2022-07-26T09:36:38.308Z"
   },
   {
    "duration": 27,
    "start_time": "2022-07-26T09:36:38.321Z"
   },
   {
    "duration": 15,
    "start_time": "2022-07-26T09:36:38.352Z"
   },
   {
    "duration": 6,
    "start_time": "2022-07-26T09:36:48.332Z"
   },
   {
    "duration": 116,
    "start_time": "2022-07-26T09:37:02.258Z"
   },
   {
    "duration": 10,
    "start_time": "2022-07-26T09:37:05.020Z"
   },
   {
    "duration": 7,
    "start_time": "2022-07-26T09:37:31.504Z"
   },
   {
    "duration": 1465,
    "start_time": "2022-07-26T15:20:42.932Z"
   },
   {
    "duration": 197,
    "start_time": "2022-07-26T15:20:44.400Z"
   },
   {
    "duration": 24,
    "start_time": "2022-07-26T15:20:44.599Z"
   },
   {
    "duration": 4,
    "start_time": "2022-07-26T15:20:44.626Z"
   },
   {
    "duration": 10,
    "start_time": "2022-07-26T15:20:44.631Z"
   },
   {
    "duration": 18,
    "start_time": "2022-07-26T15:20:44.643Z"
   },
   {
    "duration": 20,
    "start_time": "2022-07-26T15:20:44.663Z"
   },
   {
    "duration": 6,
    "start_time": "2022-07-26T15:20:44.685Z"
   },
   {
    "duration": 262,
    "start_time": "2022-07-26T15:20:44.693Z"
   },
   {
    "duration": 453,
    "start_time": "2022-07-26T15:20:44.958Z"
   },
   {
    "duration": 373,
    "start_time": "2022-07-26T15:20:45.417Z"
   },
   {
    "duration": 7,
    "start_time": "2022-07-26T15:20:45.792Z"
   },
   {
    "duration": 231,
    "start_time": "2022-07-26T15:20:45.801Z"
   },
   {
    "duration": 2265,
    "start_time": "2022-07-26T15:20:46.034Z"
   },
   {
    "duration": 27,
    "start_time": "2022-07-26T15:20:48.301Z"
   },
   {
    "duration": 3734,
    "start_time": "2022-07-26T15:20:48.333Z"
   },
   {
    "duration": 19,
    "start_time": "2022-07-26T15:20:52.069Z"
   },
   {
    "duration": 46,
    "start_time": "2022-07-26T15:20:52.090Z"
   },
   {
    "duration": 313,
    "start_time": "2022-07-26T15:20:52.138Z"
   },
   {
    "duration": 302,
    "start_time": "2022-07-26T15:20:52.453Z"
   },
   {
    "duration": 304,
    "start_time": "2022-07-26T15:20:52.758Z"
   },
   {
    "duration": 464,
    "start_time": "2022-07-26T15:20:53.064Z"
   },
   {
    "duration": 22,
    "start_time": "2022-07-26T15:20:53.530Z"
   },
   {
    "duration": 303,
    "start_time": "2022-07-26T15:20:53.553Z"
   },
   {
    "duration": 261,
    "start_time": "2022-07-26T15:20:53.858Z"
   },
   {
    "duration": 258,
    "start_time": "2022-07-26T15:20:54.126Z"
   },
   {
    "duration": 260,
    "start_time": "2022-07-26T15:20:54.387Z"
   },
   {
    "duration": 200,
    "start_time": "2022-07-26T15:20:54.651Z"
   },
   {
    "duration": 220,
    "start_time": "2022-07-26T15:20:54.852Z"
   },
   {
    "duration": 209,
    "start_time": "2022-07-26T15:20:55.074Z"
   },
   {
    "duration": 220,
    "start_time": "2022-07-26T15:20:55.285Z"
   },
   {
    "duration": 23,
    "start_time": "2022-07-26T15:20:55.507Z"
   },
   {
    "duration": 15,
    "start_time": "2022-07-26T15:20:55.531Z"
   },
   {
    "duration": 8,
    "start_time": "2022-07-26T15:20:55.548Z"
   },
   {
    "duration": 143,
    "start_time": "2022-07-26T15:21:08.854Z"
   },
   {
    "duration": 11,
    "start_time": "2022-07-26T15:21:13.326Z"
   },
   {
    "duration": 14,
    "start_time": "2022-07-26T15:21:33.229Z"
   },
   {
    "duration": 12,
    "start_time": "2022-07-26T15:21:39.267Z"
   },
   {
    "duration": 19,
    "start_time": "2022-07-26T15:22:00.777Z"
   },
   {
    "duration": 39,
    "start_time": "2022-07-26T15:22:04.461Z"
   },
   {
    "duration": 19,
    "start_time": "2022-07-26T15:22:10.764Z"
   },
   {
    "duration": 39,
    "start_time": "2022-07-26T15:22:16.305Z"
   },
   {
    "duration": 1214,
    "start_time": "2022-07-26T15:24:28.032Z"
   },
   {
    "duration": 57,
    "start_time": "2022-07-26T15:24:29.248Z"
   },
   {
    "duration": 23,
    "start_time": "2022-07-26T15:24:29.307Z"
   },
   {
    "duration": 20,
    "start_time": "2022-07-26T15:24:29.333Z"
   },
   {
    "duration": 3,
    "start_time": "2022-07-26T15:24:29.355Z"
   },
   {
    "duration": 7,
    "start_time": "2022-07-26T15:24:29.359Z"
   },
   {
    "duration": 11,
    "start_time": "2022-07-26T15:24:29.367Z"
   },
   {
    "duration": 48,
    "start_time": "2022-07-26T15:24:29.379Z"
   },
   {
    "duration": 12,
    "start_time": "2022-07-26T15:24:29.429Z"
   },
   {
    "duration": 236,
    "start_time": "2022-07-26T15:24:29.443Z"
   },
   {
    "duration": 443,
    "start_time": "2022-07-26T15:24:29.681Z"
   },
   {
    "duration": 352,
    "start_time": "2022-07-26T15:24:30.126Z"
   },
   {
    "duration": 8,
    "start_time": "2022-07-26T15:24:30.480Z"
   },
   {
    "duration": 243,
    "start_time": "2022-07-26T15:24:30.489Z"
   },
   {
    "duration": 2290,
    "start_time": "2022-07-26T15:24:30.734Z"
   },
   {
    "duration": 14,
    "start_time": "2022-07-26T15:24:33.026Z"
   },
   {
    "duration": 3629,
    "start_time": "2022-07-26T15:24:33.041Z"
   },
   {
    "duration": 16,
    "start_time": "2022-07-26T15:24:36.673Z"
   },
   {
    "duration": 53,
    "start_time": "2022-07-26T15:24:36.691Z"
   },
   {
    "duration": 281,
    "start_time": "2022-07-26T15:24:36.745Z"
   },
   {
    "duration": 299,
    "start_time": "2022-07-26T15:24:37.028Z"
   },
   {
    "duration": 316,
    "start_time": "2022-07-26T15:24:37.328Z"
   },
   {
    "duration": 317,
    "start_time": "2022-07-26T15:24:37.647Z"
   },
   {
    "duration": 22,
    "start_time": "2022-07-26T15:24:37.966Z"
   },
   {
    "duration": 452,
    "start_time": "2022-07-26T15:24:37.990Z"
   },
   {
    "duration": 266,
    "start_time": "2022-07-26T15:24:38.443Z"
   },
   {
    "duration": 266,
    "start_time": "2022-07-26T15:24:38.722Z"
   },
   {
    "duration": 271,
    "start_time": "2022-07-26T15:24:38.992Z"
   },
   {
    "duration": 202,
    "start_time": "2022-07-26T15:24:39.265Z"
   },
   {
    "duration": 207,
    "start_time": "2022-07-26T15:24:39.469Z"
   },
   {
    "duration": 196,
    "start_time": "2022-07-26T15:24:39.678Z"
   },
   {
    "duration": 212,
    "start_time": "2022-07-26T15:24:39.876Z"
   },
   {
    "duration": 12,
    "start_time": "2022-07-26T15:24:40.090Z"
   },
   {
    "duration": 15,
    "start_time": "2022-07-26T15:24:40.116Z"
   },
   {
    "duration": 9,
    "start_time": "2022-07-26T15:24:40.134Z"
   },
   {
    "duration": 80,
    "start_time": "2022-07-26T15:24:55.251Z"
   },
   {
    "duration": 119,
    "start_time": "2022-07-26T15:25:52.630Z"
   },
   {
    "duration": 7,
    "start_time": "2022-07-26T15:25:58.925Z"
   },
   {
    "duration": 36,
    "start_time": "2022-07-26T15:27:11.237Z"
   },
   {
    "duration": 35,
    "start_time": "2022-07-26T15:27:30.560Z"
   },
   {
    "duration": 79,
    "start_time": "2022-07-26T15:28:27.628Z"
   },
   {
    "duration": 29,
    "start_time": "2022-07-26T15:28:34.675Z"
   },
   {
    "duration": 7,
    "start_time": "2022-07-26T15:28:50.026Z"
   },
   {
    "duration": 36,
    "start_time": "2022-07-26T15:29:01.683Z"
   },
   {
    "duration": 28,
    "start_time": "2022-07-26T15:29:06.964Z"
   },
   {
    "duration": 8,
    "start_time": "2022-07-26T15:31:52.494Z"
   },
   {
    "duration": 1269,
    "start_time": "2022-07-26T15:31:59.584Z"
   },
   {
    "duration": 70,
    "start_time": "2022-07-26T15:32:00.855Z"
   },
   {
    "duration": 17,
    "start_time": "2022-07-26T15:32:00.926Z"
   },
   {
    "duration": 22,
    "start_time": "2022-07-26T15:32:00.944Z"
   },
   {
    "duration": 5,
    "start_time": "2022-07-26T15:32:00.968Z"
   },
   {
    "duration": 15,
    "start_time": "2022-07-26T15:32:00.974Z"
   },
   {
    "duration": 47,
    "start_time": "2022-07-26T15:32:00.991Z"
   },
   {
    "duration": 21,
    "start_time": "2022-07-26T15:32:01.040Z"
   },
   {
    "duration": 25,
    "start_time": "2022-07-26T15:32:01.063Z"
   },
   {
    "duration": 30,
    "start_time": "2022-07-26T15:32:01.090Z"
   },
   {
    "duration": 39,
    "start_time": "2022-07-26T15:32:01.122Z"
   },
   {
    "duration": 241,
    "start_time": "2022-07-26T15:32:01.163Z"
   },
   {
    "duration": 490,
    "start_time": "2022-07-26T15:32:01.410Z"
   },
   {
    "duration": 424,
    "start_time": "2022-07-26T15:32:01.910Z"
   },
   {
    "duration": 7,
    "start_time": "2022-07-26T15:32:02.336Z"
   },
   {
    "duration": 242,
    "start_time": "2022-07-26T15:32:02.344Z"
   },
   {
    "duration": 2176,
    "start_time": "2022-07-26T15:32:02.588Z"
   },
   {
    "duration": 14,
    "start_time": "2022-07-26T15:32:04.766Z"
   },
   {
    "duration": 3682,
    "start_time": "2022-07-26T15:32:04.782Z"
   },
   {
    "duration": 16,
    "start_time": "2022-07-26T15:32:08.466Z"
   },
   {
    "duration": 44,
    "start_time": "2022-07-26T15:32:08.484Z"
   },
   {
    "duration": 304,
    "start_time": "2022-07-26T15:32:08.530Z"
   },
   {
    "duration": 302,
    "start_time": "2022-07-26T15:32:08.836Z"
   },
   {
    "duration": 285,
    "start_time": "2022-07-26T15:32:09.140Z"
   },
   {
    "duration": 476,
    "start_time": "2022-07-26T15:32:09.428Z"
   },
   {
    "duration": 35,
    "start_time": "2022-07-26T15:32:09.906Z"
   },
   {
    "duration": 293,
    "start_time": "2022-07-26T15:32:09.943Z"
   },
   {
    "duration": 337,
    "start_time": "2022-07-26T15:32:10.238Z"
   },
   {
    "duration": 261,
    "start_time": "2022-07-26T15:32:10.576Z"
   },
   {
    "duration": 286,
    "start_time": "2022-07-26T15:32:10.838Z"
   },
   {
    "duration": 165,
    "start_time": "2022-07-26T15:32:11.126Z"
   },
   {
    "duration": 192,
    "start_time": "2022-07-26T15:32:11.293Z"
   },
   {
    "duration": 171,
    "start_time": "2022-07-26T15:32:11.487Z"
   },
   {
    "duration": 217,
    "start_time": "2022-07-26T15:32:11.660Z"
   },
   {
    "duration": 16,
    "start_time": "2022-07-26T15:32:11.879Z"
   },
   {
    "duration": 28,
    "start_time": "2022-07-26T15:32:11.897Z"
   },
   {
    "duration": 30,
    "start_time": "2022-07-26T15:32:11.928Z"
   },
   {
    "duration": 7,
    "start_time": "2022-07-26T15:32:16.937Z"
   },
   {
    "duration": 7,
    "start_time": "2022-07-26T15:32:34.444Z"
   },
   {
    "duration": 1247,
    "start_time": "2022-07-26T15:32:54.705Z"
   },
   {
    "duration": 66,
    "start_time": "2022-07-26T15:32:55.954Z"
   },
   {
    "duration": 18,
    "start_time": "2022-07-26T15:32:56.022Z"
   },
   {
    "duration": 23,
    "start_time": "2022-07-26T15:32:56.041Z"
   },
   {
    "duration": 3,
    "start_time": "2022-07-26T15:32:56.066Z"
   },
   {
    "duration": 12,
    "start_time": "2022-07-26T15:32:56.071Z"
   },
   {
    "duration": 8,
    "start_time": "2022-07-26T15:32:56.085Z"
   },
   {
    "duration": 29,
    "start_time": "2022-07-26T15:32:56.094Z"
   },
   {
    "duration": 22,
    "start_time": "2022-07-26T15:32:56.124Z"
   },
   {
    "duration": 15,
    "start_time": "2022-07-26T15:32:56.148Z"
   },
   {
    "duration": 6,
    "start_time": "2022-07-26T15:32:56.165Z"
   },
   {
    "duration": 274,
    "start_time": "2022-07-26T15:32:56.173Z"
   },
   {
    "duration": 449,
    "start_time": "2022-07-26T15:32:56.450Z"
   },
   {
    "duration": 381,
    "start_time": "2022-07-26T15:32:56.909Z"
   },
   {
    "duration": 7,
    "start_time": "2022-07-26T15:32:57.292Z"
   },
   {
    "duration": 230,
    "start_time": "2022-07-26T15:32:57.300Z"
   },
   {
    "duration": 2055,
    "start_time": "2022-07-26T15:32:57.532Z"
   },
   {
    "duration": 24,
    "start_time": "2022-07-26T15:32:59.589Z"
   },
   {
    "duration": 3765,
    "start_time": "2022-07-26T15:32:59.617Z"
   },
   {
    "duration": 41,
    "start_time": "2022-07-26T15:33:03.385Z"
   },
   {
    "duration": 33,
    "start_time": "2022-07-26T15:33:03.428Z"
   },
   {
    "duration": 318,
    "start_time": "2022-07-26T15:33:03.463Z"
   },
   {
    "duration": 306,
    "start_time": "2022-07-26T15:33:03.783Z"
   },
   {
    "duration": 291,
    "start_time": "2022-07-26T15:33:04.090Z"
   },
   {
    "duration": 474,
    "start_time": "2022-07-26T15:33:04.383Z"
   },
   {
    "duration": 22,
    "start_time": "2022-07-26T15:33:04.859Z"
   },
   {
    "duration": 273,
    "start_time": "2022-07-26T15:33:04.883Z"
   },
   {
    "duration": 269,
    "start_time": "2022-07-26T15:33:05.159Z"
   },
   {
    "duration": 247,
    "start_time": "2022-07-26T15:33:05.430Z"
   },
   {
    "duration": 249,
    "start_time": "2022-07-26T15:33:05.678Z"
   },
   {
    "duration": 181,
    "start_time": "2022-07-26T15:33:05.929Z"
   },
   {
    "duration": 171,
    "start_time": "2022-07-26T15:33:06.112Z"
   },
   {
    "duration": 173,
    "start_time": "2022-07-26T15:33:06.285Z"
   },
   {
    "duration": 193,
    "start_time": "2022-07-26T15:33:06.460Z"
   },
   {
    "duration": 12,
    "start_time": "2022-07-26T15:33:06.655Z"
   },
   {
    "duration": 12,
    "start_time": "2022-07-26T15:33:06.668Z"
   },
   {
    "duration": 42,
    "start_time": "2022-07-26T15:33:06.681Z"
   },
   {
    "duration": 76,
    "start_time": "2022-07-26T15:34:03.823Z"
   },
   {
    "duration": 89,
    "start_time": "2022-07-26T15:34:14.870Z"
   },
   {
    "duration": 9,
    "start_time": "2022-07-26T15:34:31.943Z"
   },
   {
    "duration": 20,
    "start_time": "2022-07-26T15:38:11.726Z"
   },
   {
    "duration": 22,
    "start_time": "2022-07-26T15:38:16.101Z"
   },
   {
    "duration": 1322,
    "start_time": "2022-07-26T15:38:35.052Z"
   },
   {
    "duration": 67,
    "start_time": "2022-07-26T15:38:36.377Z"
   },
   {
    "duration": 17,
    "start_time": "2022-07-26T15:38:36.446Z"
   },
   {
    "duration": 22,
    "start_time": "2022-07-26T15:38:36.465Z"
   },
   {
    "duration": 4,
    "start_time": "2022-07-26T15:38:36.488Z"
   },
   {
    "duration": 19,
    "start_time": "2022-07-26T15:38:36.510Z"
   },
   {
    "duration": 5,
    "start_time": "2022-07-26T15:38:36.531Z"
   },
   {
    "duration": 9,
    "start_time": "2022-07-26T15:38:36.538Z"
   },
   {
    "duration": 8,
    "start_time": "2022-07-26T15:38:36.549Z"
   },
   {
    "duration": 10,
    "start_time": "2022-07-26T15:38:36.560Z"
   },
   {
    "duration": 55,
    "start_time": "2022-07-26T15:38:36.571Z"
   },
   {
    "duration": 6,
    "start_time": "2022-07-26T15:38:36.628Z"
   },
   {
    "duration": 255,
    "start_time": "2022-07-26T15:38:36.636Z"
   },
   {
    "duration": 452,
    "start_time": "2022-07-26T15:38:36.893Z"
   },
   {
    "duration": 375,
    "start_time": "2022-07-26T15:38:37.347Z"
   },
   {
    "duration": 7,
    "start_time": "2022-07-26T15:38:37.724Z"
   },
   {
    "duration": 257,
    "start_time": "2022-07-26T15:38:37.733Z"
   },
   {
    "duration": 2345,
    "start_time": "2022-07-26T15:38:37.992Z"
   },
   {
    "duration": 17,
    "start_time": "2022-07-26T15:38:40.339Z"
   },
   {
    "duration": 3863,
    "start_time": "2022-07-26T15:38:40.358Z"
   },
   {
    "duration": 18,
    "start_time": "2022-07-26T15:38:44.223Z"
   },
   {
    "duration": 22,
    "start_time": "2022-07-26T15:38:44.243Z"
   },
   {
    "duration": 310,
    "start_time": "2022-07-26T15:38:44.267Z"
   },
   {
    "duration": 301,
    "start_time": "2022-07-26T15:38:44.579Z"
   },
   {
    "duration": 297,
    "start_time": "2022-07-26T15:38:44.883Z"
   },
   {
    "duration": 308,
    "start_time": "2022-07-26T15:38:45.182Z"
   },
   {
    "duration": 35,
    "start_time": "2022-07-26T15:38:45.493Z"
   },
   {
    "duration": 465,
    "start_time": "2022-07-26T15:38:45.532Z"
   },
   {
    "duration": 279,
    "start_time": "2022-07-26T15:38:45.999Z"
   },
   {
    "duration": 285,
    "start_time": "2022-07-26T15:38:46.280Z"
   },
   {
    "duration": 267,
    "start_time": "2022-07-26T15:38:46.566Z"
   },
   {
    "duration": 168,
    "start_time": "2022-07-26T15:38:46.835Z"
   },
   {
    "duration": 189,
    "start_time": "2022-07-26T15:38:47.005Z"
   },
   {
    "duration": 181,
    "start_time": "2022-07-26T15:38:47.196Z"
   },
   {
    "duration": 187,
    "start_time": "2022-07-26T15:38:47.378Z"
   },
   {
    "duration": 11,
    "start_time": "2022-07-26T15:38:47.567Z"
   },
   {
    "duration": 12,
    "start_time": "2022-07-26T15:38:47.579Z"
   },
   {
    "duration": 32,
    "start_time": "2022-07-26T15:38:47.592Z"
   },
   {
    "duration": 9,
    "start_time": "2022-07-26T15:39:43.831Z"
   },
   {
    "duration": 98,
    "start_time": "2022-07-26T15:41:51.664Z"
   },
   {
    "duration": 82,
    "start_time": "2022-07-26T15:45:44.406Z"
   },
   {
    "duration": 293,
    "start_time": "2022-07-26T15:47:26.595Z"
   },
   {
    "duration": 1216,
    "start_time": "2022-07-26T15:47:37.878Z"
   },
   {
    "duration": 69,
    "start_time": "2022-07-26T15:47:39.097Z"
   },
   {
    "duration": 17,
    "start_time": "2022-07-26T15:47:39.167Z"
   },
   {
    "duration": 19,
    "start_time": "2022-07-26T15:47:39.186Z"
   },
   {
    "duration": 14,
    "start_time": "2022-07-26T15:47:39.207Z"
   },
   {
    "duration": 20,
    "start_time": "2022-07-26T15:47:39.223Z"
   },
   {
    "duration": 5,
    "start_time": "2022-07-26T15:47:39.245Z"
   },
   {
    "duration": 10,
    "start_time": "2022-07-26T15:47:39.252Z"
   },
   {
    "duration": 8,
    "start_time": "2022-07-26T15:47:39.264Z"
   },
   {
    "duration": 12,
    "start_time": "2022-07-26T15:47:39.275Z"
   },
   {
    "duration": 33,
    "start_time": "2022-07-26T15:47:39.289Z"
   },
   {
    "duration": 7,
    "start_time": "2022-07-26T15:47:39.325Z"
   },
   {
    "duration": 250,
    "start_time": "2022-07-26T15:47:39.334Z"
   },
   {
    "duration": 445,
    "start_time": "2022-07-26T15:47:39.585Z"
   },
   {
    "duration": 390,
    "start_time": "2022-07-26T15:47:40.032Z"
   },
   {
    "duration": 8,
    "start_time": "2022-07-26T15:47:40.425Z"
   },
   {
    "duration": 233,
    "start_time": "2022-07-26T15:47:40.435Z"
   },
   {
    "duration": 2361,
    "start_time": "2022-07-26T15:47:40.670Z"
   },
   {
    "duration": 15,
    "start_time": "2022-07-26T15:47:43.033Z"
   },
   {
    "duration": 3643,
    "start_time": "2022-07-26T15:47:43.050Z"
   },
   {
    "duration": 24,
    "start_time": "2022-07-26T15:47:46.696Z"
   },
   {
    "duration": 29,
    "start_time": "2022-07-26T15:47:46.721Z"
   },
   {
    "duration": 273,
    "start_time": "2022-07-26T15:47:46.752Z"
   },
   {
    "duration": 271,
    "start_time": "2022-07-26T15:47:47.027Z"
   },
   {
    "duration": 280,
    "start_time": "2022-07-26T15:47:47.300Z"
   },
   {
    "duration": 281,
    "start_time": "2022-07-26T15:47:47.583Z"
   },
   {
    "duration": 22,
    "start_time": "2022-07-26T15:47:47.866Z"
   },
   {
    "duration": 418,
    "start_time": "2022-07-26T15:47:47.892Z"
   },
   {
    "duration": 270,
    "start_time": "2022-07-26T15:47:48.312Z"
   },
   {
    "duration": 256,
    "start_time": "2022-07-26T15:47:48.583Z"
   },
   {
    "duration": 259,
    "start_time": "2022-07-26T15:47:48.841Z"
   },
   {
    "duration": 169,
    "start_time": "2022-07-26T15:47:49.102Z"
   },
   {
    "duration": 175,
    "start_time": "2022-07-26T15:47:49.273Z"
   },
   {
    "duration": 175,
    "start_time": "2022-07-26T15:47:49.450Z"
   },
   {
    "duration": 176,
    "start_time": "2022-07-26T15:47:49.627Z"
   },
   {
    "duration": 21,
    "start_time": "2022-07-26T15:47:49.805Z"
   },
   {
    "duration": 36,
    "start_time": "2022-07-26T15:47:49.827Z"
   },
   {
    "duration": 28,
    "start_time": "2022-07-26T15:47:49.865Z"
   },
   {
    "duration": 1370,
    "start_time": "2022-07-26T15:48:20.786Z"
   },
   {
    "duration": 66,
    "start_time": "2022-07-26T15:48:22.159Z"
   },
   {
    "duration": 17,
    "start_time": "2022-07-26T15:48:22.227Z"
   },
   {
    "duration": 18,
    "start_time": "2022-07-26T15:48:22.246Z"
   },
   {
    "duration": 3,
    "start_time": "2022-07-26T15:48:22.266Z"
   },
   {
    "duration": 13,
    "start_time": "2022-07-26T15:48:22.271Z"
   },
   {
    "duration": 35,
    "start_time": "2022-07-26T15:48:22.285Z"
   },
   {
    "duration": 9,
    "start_time": "2022-07-26T15:48:22.323Z"
   },
   {
    "duration": 9,
    "start_time": "2022-07-26T15:48:22.334Z"
   },
   {
    "duration": 11,
    "start_time": "2022-07-26T15:48:22.346Z"
   },
   {
    "duration": 13,
    "start_time": "2022-07-26T15:48:22.358Z"
   },
   {
    "duration": 6,
    "start_time": "2022-07-26T15:48:22.373Z"
   },
   {
    "duration": 279,
    "start_time": "2022-07-26T15:48:22.381Z"
   },
   {
    "duration": 441,
    "start_time": "2022-07-26T15:48:22.661Z"
   },
   {
    "duration": 373,
    "start_time": "2022-07-26T15:48:23.105Z"
   },
   {
    "duration": 8,
    "start_time": "2022-07-26T15:48:23.479Z"
   },
   {
    "duration": 240,
    "start_time": "2022-07-26T15:48:23.489Z"
   },
   {
    "duration": 2217,
    "start_time": "2022-07-26T15:48:23.731Z"
   },
   {
    "duration": 17,
    "start_time": "2022-07-26T15:48:25.950Z"
   },
   {
    "duration": 3713,
    "start_time": "2022-07-26T15:48:25.969Z"
   },
   {
    "duration": 16,
    "start_time": "2022-07-26T15:48:29.683Z"
   },
   {
    "duration": 40,
    "start_time": "2022-07-26T15:48:29.701Z"
   },
   {
    "duration": 282,
    "start_time": "2022-07-26T15:48:29.743Z"
   },
   {
    "duration": 307,
    "start_time": "2022-07-26T15:48:30.028Z"
   },
   {
    "duration": 284,
    "start_time": "2022-07-26T15:48:30.337Z"
   },
   {
    "duration": 281,
    "start_time": "2022-07-26T15:48:30.623Z"
   },
   {
    "duration": 28,
    "start_time": "2022-07-26T15:48:30.906Z"
   },
   {
    "duration": 462,
    "start_time": "2022-07-26T15:48:30.938Z"
   },
   {
    "duration": 262,
    "start_time": "2022-07-26T15:48:31.402Z"
   },
   {
    "duration": 324,
    "start_time": "2022-07-26T15:48:31.666Z"
   },
   {
    "duration": 315,
    "start_time": "2022-07-26T15:48:31.993Z"
   },
   {
    "duration": 182,
    "start_time": "2022-07-26T15:48:32.309Z"
   },
   {
    "duration": 178,
    "start_time": "2022-07-26T15:48:32.493Z"
   },
   {
    "duration": 169,
    "start_time": "2022-07-26T15:48:32.673Z"
   },
   {
    "duration": 187,
    "start_time": "2022-07-26T15:48:32.844Z"
   },
   {
    "duration": 10,
    "start_time": "2022-07-26T15:48:33.033Z"
   },
   {
    "duration": 12,
    "start_time": "2022-07-26T15:48:33.045Z"
   },
   {
    "duration": 10,
    "start_time": "2022-07-26T15:48:33.058Z"
   },
   {
    "duration": 1320,
    "start_time": "2022-07-26T15:49:31.649Z"
   },
   {
    "duration": 64,
    "start_time": "2022-07-26T15:49:32.971Z"
   },
   {
    "duration": 18,
    "start_time": "2022-07-26T15:49:33.037Z"
   },
   {
    "duration": 20,
    "start_time": "2022-07-26T15:49:33.057Z"
   },
   {
    "duration": 3,
    "start_time": "2022-07-26T15:49:33.079Z"
   },
   {
    "duration": 43,
    "start_time": "2022-07-26T15:49:33.084Z"
   },
   {
    "duration": 6,
    "start_time": "2022-07-26T15:49:33.128Z"
   },
   {
    "duration": 11,
    "start_time": "2022-07-26T15:49:33.135Z"
   },
   {
    "duration": 11,
    "start_time": "2022-07-26T15:49:33.148Z"
   },
   {
    "duration": 9,
    "start_time": "2022-07-26T15:49:33.162Z"
   },
   {
    "duration": 13,
    "start_time": "2022-07-26T15:49:33.172Z"
   },
   {
    "duration": 39,
    "start_time": "2022-07-26T15:49:33.186Z"
   },
   {
    "duration": 255,
    "start_time": "2022-07-26T15:49:33.227Z"
   },
   {
    "duration": 458,
    "start_time": "2022-07-26T15:49:33.484Z"
   },
   {
    "duration": 378,
    "start_time": "2022-07-26T15:49:33.944Z"
   },
   {
    "duration": 7,
    "start_time": "2022-07-26T15:49:34.324Z"
   },
   {
    "duration": 239,
    "start_time": "2022-07-26T15:49:34.333Z"
   },
   {
    "duration": 2253,
    "start_time": "2022-07-26T15:49:34.574Z"
   },
   {
    "duration": 13,
    "start_time": "2022-07-26T15:49:36.829Z"
   },
   {
    "duration": 3741,
    "start_time": "2022-07-26T15:49:36.844Z"
   },
   {
    "duration": 26,
    "start_time": "2022-07-26T15:49:40.587Z"
   },
   {
    "duration": 29,
    "start_time": "2022-07-26T15:49:40.616Z"
   },
   {
    "duration": 297,
    "start_time": "2022-07-26T15:49:40.647Z"
   },
   {
    "duration": 298,
    "start_time": "2022-07-26T15:49:40.946Z"
   },
   {
    "duration": 279,
    "start_time": "2022-07-26T15:49:41.246Z"
   },
   {
    "duration": 515,
    "start_time": "2022-07-26T15:49:41.527Z"
   },
   {
    "duration": 29,
    "start_time": "2022-07-26T15:49:42.044Z"
   },
   {
    "duration": 292,
    "start_time": "2022-07-26T15:49:42.078Z"
   },
   {
    "duration": 279,
    "start_time": "2022-07-26T15:49:42.372Z"
   },
   {
    "duration": 252,
    "start_time": "2022-07-26T15:49:42.653Z"
   },
   {
    "duration": 280,
    "start_time": "2022-07-26T15:49:42.907Z"
   },
   {
    "duration": 169,
    "start_time": "2022-07-26T15:49:43.189Z"
   },
   {
    "duration": 187,
    "start_time": "2022-07-26T15:49:43.361Z"
   },
   {
    "duration": 183,
    "start_time": "2022-07-26T15:49:43.551Z"
   },
   {
    "duration": 192,
    "start_time": "2022-07-26T15:49:43.736Z"
   },
   {
    "duration": 11,
    "start_time": "2022-07-26T15:49:43.930Z"
   },
   {
    "duration": 12,
    "start_time": "2022-07-26T15:49:43.943Z"
   },
   {
    "duration": 12,
    "start_time": "2022-07-26T15:49:43.957Z"
   },
   {
    "duration": 9,
    "start_time": "2022-07-26T15:51:03.723Z"
   },
   {
    "duration": 227,
    "start_time": "2022-07-26T15:51:03.735Z"
   },
   {
    "duration": 2063,
    "start_time": "2022-07-26T15:51:03.964Z"
   },
   {
    "duration": 11,
    "start_time": "2022-07-26T15:51:06.029Z"
   },
   {
    "duration": 1831,
    "start_time": "2022-07-26T15:51:06.042Z"
   },
   {
    "duration": 16,
    "start_time": "2022-07-26T15:51:07.876Z"
   },
   {
    "duration": 50,
    "start_time": "2022-07-26T15:51:07.894Z"
   },
   {
    "duration": 248,
    "start_time": "2022-07-26T15:51:07.946Z"
   },
   {
    "duration": 375,
    "start_time": "2022-07-26T15:51:08.196Z"
   },
   {
    "duration": 276,
    "start_time": "2022-07-26T15:51:08.574Z"
   },
   {
    "duration": 267,
    "start_time": "2022-07-26T15:51:08.852Z"
   },
   {
    "duration": 20,
    "start_time": "2022-07-26T15:51:09.122Z"
   },
   {
    "duration": 257,
    "start_time": "2022-07-26T15:51:09.143Z"
   },
   {
    "duration": 290,
    "start_time": "2022-07-26T15:51:09.402Z"
   },
   {
    "duration": 273,
    "start_time": "2022-07-26T15:51:09.694Z"
   },
   {
    "duration": 257,
    "start_time": "2022-07-26T15:51:09.969Z"
   },
   {
    "duration": 197,
    "start_time": "2022-07-26T15:51:10.228Z"
   },
   {
    "duration": 176,
    "start_time": "2022-07-26T15:51:10.427Z"
   },
   {
    "duration": 164,
    "start_time": "2022-07-26T15:51:10.605Z"
   },
   {
    "duration": 188,
    "start_time": "2022-07-26T15:51:10.771Z"
   },
   {
    "duration": 10,
    "start_time": "2022-07-26T15:51:10.961Z"
   },
   {
    "duration": 9,
    "start_time": "2022-07-26T15:51:10.973Z"
   },
   {
    "duration": 8,
    "start_time": "2022-07-26T15:51:10.984Z"
   },
   {
    "duration": 249,
    "start_time": "2022-07-26T15:53:00.957Z"
   },
   {
    "duration": 1169,
    "start_time": "2022-07-26T15:53:23.170Z"
   },
   {
    "duration": 59,
    "start_time": "2022-07-26T15:53:24.341Z"
   },
   {
    "duration": 27,
    "start_time": "2022-07-26T15:53:24.402Z"
   },
   {
    "duration": 26,
    "start_time": "2022-07-26T15:53:24.431Z"
   },
   {
    "duration": 3,
    "start_time": "2022-07-26T15:53:24.459Z"
   },
   {
    "duration": 12,
    "start_time": "2022-07-26T15:53:24.464Z"
   },
   {
    "duration": 4,
    "start_time": "2022-07-26T15:53:24.478Z"
   },
   {
    "duration": 11,
    "start_time": "2022-07-26T15:53:24.484Z"
   },
   {
    "duration": 8,
    "start_time": "2022-07-26T15:53:24.521Z"
   },
   {
    "duration": 11,
    "start_time": "2022-07-26T15:53:24.532Z"
   },
   {
    "duration": 18,
    "start_time": "2022-07-26T15:53:24.545Z"
   },
   {
    "duration": 6,
    "start_time": "2022-07-26T15:53:24.565Z"
   },
   {
    "duration": 261,
    "start_time": "2022-07-26T15:53:24.572Z"
   },
   {
    "duration": 441,
    "start_time": "2022-07-26T15:53:24.835Z"
   },
   {
    "duration": 380,
    "start_time": "2022-07-26T15:53:25.278Z"
   },
   {
    "duration": 8,
    "start_time": "2022-07-26T15:53:25.660Z"
   },
   {
    "duration": 229,
    "start_time": "2022-07-26T15:53:25.670Z"
   },
   {
    "duration": 206,
    "start_time": "2022-07-26T15:53:25.901Z"
   },
   {
    "duration": 1981,
    "start_time": "2022-07-26T15:53:26.109Z"
   },
   {
    "duration": 31,
    "start_time": "2022-07-26T15:53:28.091Z"
   },
   {
    "duration": 1685,
    "start_time": "2022-07-26T15:53:28.123Z"
   },
   {
    "duration": 16,
    "start_time": "2022-07-26T15:53:29.812Z"
   },
   {
    "duration": 23,
    "start_time": "2022-07-26T15:53:29.830Z"
   },
   {
    "duration": 265,
    "start_time": "2022-07-26T15:53:29.855Z"
   },
   {
    "duration": 367,
    "start_time": "2022-07-26T15:53:30.122Z"
   },
   {
    "duration": 242,
    "start_time": "2022-07-26T15:53:30.491Z"
   },
   {
    "duration": 241,
    "start_time": "2022-07-26T15:53:30.735Z"
   },
   {
    "duration": 31,
    "start_time": "2022-07-26T15:53:30.979Z"
   },
   {
    "duration": 268,
    "start_time": "2022-07-26T15:53:31.017Z"
   },
   {
    "duration": 266,
    "start_time": "2022-07-26T15:53:31.287Z"
   },
   {
    "duration": 272,
    "start_time": "2022-07-26T15:53:31.555Z"
   },
   {
    "duration": 301,
    "start_time": "2022-07-26T15:53:31.829Z"
   },
   {
    "duration": 194,
    "start_time": "2022-07-26T15:53:32.135Z"
   },
   {
    "duration": 174,
    "start_time": "2022-07-26T15:53:32.331Z"
   },
   {
    "duration": 171,
    "start_time": "2022-07-26T15:53:32.507Z"
   },
   {
    "duration": 185,
    "start_time": "2022-07-26T15:53:32.680Z"
   },
   {
    "duration": 10,
    "start_time": "2022-07-26T15:53:32.866Z"
   },
   {
    "duration": 10,
    "start_time": "2022-07-26T15:53:32.878Z"
   },
   {
    "duration": 13,
    "start_time": "2022-07-26T15:53:32.910Z"
   },
   {
    "duration": 1255,
    "start_time": "2022-07-26T15:55:18.166Z"
   },
   {
    "duration": 63,
    "start_time": "2022-07-26T15:55:19.427Z"
   },
   {
    "duration": 22,
    "start_time": "2022-07-26T15:55:19.492Z"
   },
   {
    "duration": 29,
    "start_time": "2022-07-26T15:55:19.520Z"
   },
   {
    "duration": 4,
    "start_time": "2022-07-26T15:55:19.551Z"
   },
   {
    "duration": 15,
    "start_time": "2022-07-26T15:55:19.557Z"
   },
   {
    "duration": 5,
    "start_time": "2022-07-26T15:55:19.574Z"
   },
   {
    "duration": 9,
    "start_time": "2022-07-26T15:55:19.581Z"
   },
   {
    "duration": 36,
    "start_time": "2022-07-26T15:55:19.591Z"
   },
   {
    "duration": 10,
    "start_time": "2022-07-26T15:55:19.631Z"
   },
   {
    "duration": 29,
    "start_time": "2022-07-26T15:55:19.643Z"
   },
   {
    "duration": 12,
    "start_time": "2022-07-26T15:55:19.673Z"
   },
   {
    "duration": 250,
    "start_time": "2022-07-26T15:55:19.687Z"
   },
   {
    "duration": 451,
    "start_time": "2022-07-26T15:55:19.939Z"
   },
   {
    "duration": 374,
    "start_time": "2022-07-26T15:55:20.392Z"
   },
   {
    "duration": 7,
    "start_time": "2022-07-26T15:55:20.768Z"
   },
   {
    "duration": 250,
    "start_time": "2022-07-26T15:55:20.777Z"
   },
   {
    "duration": 228,
    "start_time": "2022-07-26T15:55:21.030Z"
   },
   {
    "duration": 2174,
    "start_time": "2022-07-26T15:55:21.260Z"
   },
   {
    "duration": 19,
    "start_time": "2022-07-26T15:55:23.436Z"
   },
   {
    "duration": 1839,
    "start_time": "2022-07-26T15:55:23.457Z"
   },
   {
    "duration": 31,
    "start_time": "2022-07-26T15:55:25.298Z"
   },
   {
    "duration": 28,
    "start_time": "2022-07-26T15:55:25.331Z"
   },
   {
    "duration": 265,
    "start_time": "2022-07-26T15:55:25.361Z"
   },
   {
    "duration": 340,
    "start_time": "2022-07-26T15:55:25.628Z"
   },
   {
    "duration": 260,
    "start_time": "2022-07-26T15:55:25.970Z"
   },
   {
    "duration": 239,
    "start_time": "2022-07-26T15:55:26.232Z"
   },
   {
    "duration": 22,
    "start_time": "2022-07-26T15:55:26.476Z"
   },
   {
    "duration": 272,
    "start_time": "2022-07-26T15:55:26.499Z"
   },
   {
    "duration": 266,
    "start_time": "2022-07-26T15:55:26.773Z"
   },
   {
    "duration": 267,
    "start_time": "2022-07-26T15:55:27.041Z"
   },
   {
    "duration": 246,
    "start_time": "2022-07-26T15:55:27.322Z"
   },
   {
    "duration": 196,
    "start_time": "2022-07-26T15:55:27.570Z"
   },
   {
    "duration": 185,
    "start_time": "2022-07-26T15:55:27.768Z"
   },
   {
    "duration": 185,
    "start_time": "2022-07-26T15:55:27.955Z"
   },
   {
    "duration": 184,
    "start_time": "2022-07-26T15:55:28.142Z"
   },
   {
    "duration": 12,
    "start_time": "2022-07-26T15:55:28.331Z"
   },
   {
    "duration": 12,
    "start_time": "2022-07-26T15:55:28.346Z"
   },
   {
    "duration": 14,
    "start_time": "2022-07-26T15:55:28.360Z"
   },
   {
    "duration": 388,
    "start_time": "2022-07-26T15:56:51.262Z"
   },
   {
    "duration": 213,
    "start_time": "2022-07-26T15:57:06.066Z"
   },
   {
    "duration": 18,
    "start_time": "2022-07-26T15:57:10.390Z"
   },
   {
    "duration": 236,
    "start_time": "2022-07-26T15:59:14.343Z"
   },
   {
    "duration": 249,
    "start_time": "2022-07-26T15:59:20.327Z"
   },
   {
    "duration": 236,
    "start_time": "2022-07-26T15:59:24.242Z"
   },
   {
    "duration": 221,
    "start_time": "2022-07-26T15:59:30.756Z"
   },
   {
    "duration": 218,
    "start_time": "2022-07-26T15:59:43.027Z"
   },
   {
    "duration": 210,
    "start_time": "2022-07-26T16:00:42.889Z"
   },
   {
    "duration": 82,
    "start_time": "2022-07-26T16:01:31.879Z"
   },
   {
    "duration": 1955,
    "start_time": "2022-07-26T16:06:55.806Z"
   },
   {
    "duration": 12,
    "start_time": "2022-07-26T16:07:04.682Z"
   },
   {
    "duration": 12,
    "start_time": "2022-07-26T16:07:30.187Z"
   },
   {
    "duration": 1870,
    "start_time": "2022-07-26T16:07:34.222Z"
   },
   {
    "duration": 1231,
    "start_time": "2022-07-26T16:07:42.842Z"
   },
   {
    "duration": 67,
    "start_time": "2022-07-26T16:07:44.075Z"
   },
   {
    "duration": 19,
    "start_time": "2022-07-26T16:07:44.144Z"
   },
   {
    "duration": 20,
    "start_time": "2022-07-26T16:07:44.165Z"
   },
   {
    "duration": 4,
    "start_time": "2022-07-26T16:07:44.188Z"
   },
   {
    "duration": 18,
    "start_time": "2022-07-26T16:07:44.210Z"
   },
   {
    "duration": 6,
    "start_time": "2022-07-26T16:07:44.230Z"
   },
   {
    "duration": 7,
    "start_time": "2022-07-26T16:07:44.238Z"
   },
   {
    "duration": 9,
    "start_time": "2022-07-26T16:07:44.247Z"
   },
   {
    "duration": 14,
    "start_time": "2022-07-26T16:07:44.258Z"
   },
   {
    "duration": 43,
    "start_time": "2022-07-26T16:07:44.273Z"
   },
   {
    "duration": 10,
    "start_time": "2022-07-26T16:07:44.318Z"
   },
   {
    "duration": 253,
    "start_time": "2022-07-26T16:07:44.330Z"
   },
   {
    "duration": 437,
    "start_time": "2022-07-26T16:07:44.586Z"
   },
   {
    "duration": 385,
    "start_time": "2022-07-26T16:07:45.025Z"
   },
   {
    "duration": 7,
    "start_time": "2022-07-26T16:07:45.412Z"
   },
   {
    "duration": 238,
    "start_time": "2022-07-26T16:07:45.421Z"
   },
   {
    "duration": 215,
    "start_time": "2022-07-26T16:07:45.661Z"
   },
   {
    "duration": 1867,
    "start_time": "2022-07-26T16:07:45.878Z"
   },
   {
    "duration": 16,
    "start_time": "2022-07-26T16:07:47.747Z"
   },
   {
    "duration": 1832,
    "start_time": "2022-07-26T16:07:47.765Z"
   },
   {
    "duration": 30,
    "start_time": "2022-07-26T16:07:49.598Z"
   },
   {
    "duration": 22,
    "start_time": "2022-07-26T16:07:49.630Z"
   },
   {
    "duration": 282,
    "start_time": "2022-07-26T16:07:49.654Z"
   },
   {
    "duration": 253,
    "start_time": "2022-07-26T16:07:49.938Z"
   },
   {
    "duration": 363,
    "start_time": "2022-07-26T16:07:50.193Z"
   },
   {
    "duration": 235,
    "start_time": "2022-07-26T16:07:50.558Z"
   },
   {
    "duration": 37,
    "start_time": "2022-07-26T16:07:50.795Z"
   },
   {
    "duration": 271,
    "start_time": "2022-07-26T16:07:50.834Z"
   },
   {
    "duration": 264,
    "start_time": "2022-07-26T16:07:51.110Z"
   },
   {
    "duration": 262,
    "start_time": "2022-07-26T16:07:51.375Z"
   },
   {
    "duration": 285,
    "start_time": "2022-07-26T16:07:51.639Z"
   },
   {
    "duration": 230,
    "start_time": "2022-07-26T16:07:51.926Z"
   },
   {
    "duration": 185,
    "start_time": "2022-07-26T16:07:52.158Z"
   },
   {
    "duration": 170,
    "start_time": "2022-07-26T16:07:52.345Z"
   },
   {
    "duration": 176,
    "start_time": "2022-07-26T16:07:52.520Z"
   },
   {
    "duration": 20,
    "start_time": "2022-07-26T16:07:52.697Z"
   },
   {
    "duration": 13,
    "start_time": "2022-07-26T16:07:52.720Z"
   },
   {
    "duration": 12,
    "start_time": "2022-07-26T16:07:52.734Z"
   },
   {
    "duration": 2105,
    "start_time": "2022-07-26T16:09:06.813Z"
   },
   {
    "duration": 1904,
    "start_time": "2022-07-26T16:09:49.237Z"
   },
   {
    "duration": 1805,
    "start_time": "2022-07-26T16:10:17.481Z"
   },
   {
    "duration": 1749,
    "start_time": "2022-07-26T16:10:41.337Z"
   },
   {
    "duration": 1955,
    "start_time": "2022-07-26T16:11:21.596Z"
   },
   {
    "duration": 1688,
    "start_time": "2022-07-26T16:11:29.544Z"
   },
   {
    "duration": 1995,
    "start_time": "2022-07-26T16:12:43.490Z"
   },
   {
    "duration": 118,
    "start_time": "2022-07-26T16:15:12.350Z"
   },
   {
    "duration": 1265,
    "start_time": "2022-07-26T16:17:59.586Z"
   },
   {
    "duration": 68,
    "start_time": "2022-07-26T16:18:00.853Z"
   },
   {
    "duration": 16,
    "start_time": "2022-07-26T16:18:00.924Z"
   },
   {
    "duration": 31,
    "start_time": "2022-07-26T16:18:00.943Z"
   },
   {
    "duration": 6,
    "start_time": "2022-07-26T16:18:00.976Z"
   },
   {
    "duration": 37,
    "start_time": "2022-07-26T16:18:00.984Z"
   },
   {
    "duration": 6,
    "start_time": "2022-07-26T16:18:01.024Z"
   },
   {
    "duration": 29,
    "start_time": "2022-07-26T16:18:01.032Z"
   },
   {
    "duration": 22,
    "start_time": "2022-07-26T16:18:01.063Z"
   },
   {
    "duration": 32,
    "start_time": "2022-07-26T16:18:01.089Z"
   },
   {
    "duration": 17,
    "start_time": "2022-07-26T16:18:01.123Z"
   },
   {
    "duration": 9,
    "start_time": "2022-07-26T16:18:01.142Z"
   },
   {
    "duration": 292,
    "start_time": "2022-07-26T16:18:01.153Z"
   },
   {
    "duration": 481,
    "start_time": "2022-07-26T16:18:01.447Z"
   },
   {
    "duration": 427,
    "start_time": "2022-07-26T16:18:01.931Z"
   },
   {
    "duration": 6,
    "start_time": "2022-07-26T16:18:02.360Z"
   },
   {
    "duration": 256,
    "start_time": "2022-07-26T16:18:02.368Z"
   },
   {
    "duration": 224,
    "start_time": "2022-07-26T16:18:02.627Z"
   },
   {
    "duration": 1944,
    "start_time": "2022-07-26T16:18:02.852Z"
   },
   {
    "duration": 24,
    "start_time": "2022-07-26T16:18:04.798Z"
   },
   {
    "duration": 2066,
    "start_time": "2022-07-26T16:18:04.824Z"
   },
   {
    "duration": 1836,
    "start_time": "2022-07-26T16:18:06.892Z"
   },
   {
    "duration": 1865,
    "start_time": "2022-07-26T16:18:08.730Z"
   },
   {
    "duration": 1952,
    "start_time": "2022-07-26T16:18:10.597Z"
   },
   {
    "duration": 15,
    "start_time": "2022-07-26T16:18:12.551Z"
   },
   {
    "duration": 22,
    "start_time": "2022-07-26T16:18:12.568Z"
   },
   {
    "duration": 253,
    "start_time": "2022-07-26T16:18:12.616Z"
   },
   {
    "duration": 229,
    "start_time": "2022-07-26T16:18:12.872Z"
   },
   {
    "duration": 244,
    "start_time": "2022-07-26T16:18:13.103Z"
   },
   {
    "duration": 249,
    "start_time": "2022-07-26T16:18:13.349Z"
   },
   {
    "duration": 29,
    "start_time": "2022-07-26T16:18:13.600Z"
   },
   {
    "duration": 279,
    "start_time": "2022-07-26T16:18:13.631Z"
   },
   {
    "duration": 272,
    "start_time": "2022-07-26T16:18:13.922Z"
   },
   {
    "duration": 272,
    "start_time": "2022-07-26T16:18:14.197Z"
   },
   {
    "duration": 264,
    "start_time": "2022-07-26T16:18:14.471Z"
   },
   {
    "duration": 287,
    "start_time": "2022-07-26T16:18:14.737Z"
   },
   {
    "duration": 172,
    "start_time": "2022-07-26T16:18:15.026Z"
   },
   {
    "duration": 181,
    "start_time": "2022-07-26T16:18:15.200Z"
   },
   {
    "duration": 191,
    "start_time": "2022-07-26T16:18:15.383Z"
   },
   {
    "duration": 13,
    "start_time": "2022-07-26T16:18:15.575Z"
   },
   {
    "duration": 12,
    "start_time": "2022-07-26T16:18:15.589Z"
   },
   {
    "duration": 15,
    "start_time": "2022-07-26T16:20:08.150Z"
   },
   {
    "duration": 18,
    "start_time": "2022-07-26T16:20:18.823Z"
   },
   {
    "duration": 18,
    "start_time": "2022-07-26T16:20:40.366Z"
   },
   {
    "duration": 16,
    "start_time": "2022-07-26T16:20:59.960Z"
   },
   {
    "duration": 15,
    "start_time": "2022-07-26T16:22:57.444Z"
   },
   {
    "duration": 1307,
    "start_time": "2022-07-26T16:23:48.459Z"
   },
   {
    "duration": 65,
    "start_time": "2022-07-26T16:23:49.768Z"
   },
   {
    "duration": 19,
    "start_time": "2022-07-26T16:23:49.835Z"
   },
   {
    "duration": 39,
    "start_time": "2022-07-26T16:23:49.855Z"
   },
   {
    "duration": 25,
    "start_time": "2022-07-26T16:23:49.896Z"
   },
   {
    "duration": 32,
    "start_time": "2022-07-26T16:23:49.924Z"
   },
   {
    "duration": 15,
    "start_time": "2022-07-26T16:23:49.958Z"
   },
   {
    "duration": 28,
    "start_time": "2022-07-26T16:23:49.975Z"
   },
   {
    "duration": 31,
    "start_time": "2022-07-26T16:23:50.004Z"
   },
   {
    "duration": 23,
    "start_time": "2022-07-26T16:23:50.037Z"
   },
   {
    "duration": 22,
    "start_time": "2022-07-26T16:23:50.062Z"
   },
   {
    "duration": 10,
    "start_time": "2022-07-26T16:23:50.086Z"
   },
   {
    "duration": 301,
    "start_time": "2022-07-26T16:23:50.098Z"
   },
   {
    "duration": 445,
    "start_time": "2022-07-26T16:23:50.402Z"
   },
   {
    "duration": 342,
    "start_time": "2022-07-26T16:23:50.849Z"
   },
   {
    "duration": 6,
    "start_time": "2022-07-26T16:23:51.193Z"
   },
   {
    "duration": 246,
    "start_time": "2022-07-26T16:23:51.201Z"
   },
   {
    "duration": 224,
    "start_time": "2022-07-26T16:23:51.450Z"
   },
   {
    "duration": 1983,
    "start_time": "2022-07-26T16:23:51.676Z"
   },
   {
    "duration": 13,
    "start_time": "2022-07-26T16:23:53.661Z"
   },
   {
    "duration": 2045,
    "start_time": "2022-07-26T16:23:53.675Z"
   },
   {
    "duration": 1955,
    "start_time": "2022-07-26T16:23:55.723Z"
   },
   {
    "duration": 1690,
    "start_time": "2022-07-26T16:23:57.680Z"
   },
   {
    "duration": 1999,
    "start_time": "2022-07-26T16:23:59.372Z"
   },
   {
    "duration": 17,
    "start_time": "2022-07-26T16:24:01.373Z"
   },
   {
    "duration": 39,
    "start_time": "2022-07-26T16:24:01.391Z"
   },
   {
    "duration": 260,
    "start_time": "2022-07-26T16:24:01.433Z"
   },
   {
    "duration": 275,
    "start_time": "2022-07-26T16:24:01.695Z"
   },
   {
    "duration": 298,
    "start_time": "2022-07-26T16:24:01.973Z"
   },
   {
    "duration": 252,
    "start_time": "2022-07-26T16:24:02.273Z"
   },
   {
    "duration": 21,
    "start_time": "2022-07-26T16:24:02.528Z"
   },
   {
    "duration": 286,
    "start_time": "2022-07-26T16:24:02.552Z"
   },
   {
    "duration": 252,
    "start_time": "2022-07-26T16:24:02.840Z"
   },
   {
    "duration": 267,
    "start_time": "2022-07-26T16:24:03.094Z"
   },
   {
    "duration": 261,
    "start_time": "2022-07-26T16:24:03.363Z"
   },
   {
    "duration": 294,
    "start_time": "2022-07-26T16:24:03.627Z"
   },
   {
    "duration": 171,
    "start_time": "2022-07-26T16:24:03.923Z"
   },
   {
    "duration": 174,
    "start_time": "2022-07-26T16:24:04.096Z"
   },
   {
    "duration": 193,
    "start_time": "2022-07-26T16:24:04.272Z"
   },
   {
    "duration": 11,
    "start_time": "2022-07-26T16:24:04.466Z"
   },
   {
    "duration": 19,
    "start_time": "2022-07-26T16:24:04.480Z"
   },
   {
    "duration": 231,
    "start_time": "2022-07-26T16:30:13.359Z"
   },
   {
    "duration": 234,
    "start_time": "2022-07-26T16:30:24.898Z"
   },
   {
    "duration": 243,
    "start_time": "2022-07-26T16:30:34.162Z"
   },
   {
    "duration": 252,
    "start_time": "2022-07-26T16:30:43.503Z"
   },
   {
    "duration": 253,
    "start_time": "2022-07-26T16:31:06.734Z"
   },
   {
    "duration": 257,
    "start_time": "2022-07-26T16:31:14.036Z"
   },
   {
    "duration": 283,
    "start_time": "2022-07-26T16:31:24.973Z"
   },
   {
    "duration": 389,
    "start_time": "2022-07-26T16:31:36.258Z"
   },
   {
    "duration": 250,
    "start_time": "2022-07-26T16:31:45.923Z"
   },
   {
    "duration": 8,
    "start_time": "2022-07-26T16:34:24.676Z"
   },
   {
    "duration": 6,
    "start_time": "2022-07-26T16:34:35.429Z"
   },
   {
    "duration": 5,
    "start_time": "2022-07-26T16:34:44.097Z"
   },
   {
    "duration": 4,
    "start_time": "2022-07-26T16:36:55.882Z"
   },
   {
    "duration": 3,
    "start_time": "2022-07-26T16:36:59.984Z"
   },
   {
    "duration": 61,
    "start_time": "2022-07-26T16:36:59.990Z"
   },
   {
    "duration": 14,
    "start_time": "2022-07-26T16:37:00.053Z"
   },
   {
    "duration": 17,
    "start_time": "2022-07-26T16:37:00.069Z"
   },
   {
    "duration": 3,
    "start_time": "2022-07-26T16:37:00.089Z"
   },
   {
    "duration": 32,
    "start_time": "2022-07-26T16:37:00.093Z"
   },
   {
    "duration": 18,
    "start_time": "2022-07-26T16:37:00.127Z"
   },
   {
    "duration": 1228,
    "start_time": "2022-07-26T16:37:04.331Z"
   },
   {
    "duration": 65,
    "start_time": "2022-07-26T16:37:05.561Z"
   },
   {
    "duration": 17,
    "start_time": "2022-07-26T16:37:05.627Z"
   },
   {
    "duration": 19,
    "start_time": "2022-07-26T16:37:05.646Z"
   },
   {
    "duration": 4,
    "start_time": "2022-07-26T16:37:05.668Z"
   },
   {
    "duration": 12,
    "start_time": "2022-07-26T16:37:05.674Z"
   },
   {
    "duration": 39,
    "start_time": "2022-07-26T16:37:05.688Z"
   },
   {
    "duration": 8,
    "start_time": "2022-07-26T16:37:05.728Z"
   },
   {
    "duration": 8,
    "start_time": "2022-07-26T16:37:05.738Z"
   },
   {
    "duration": 7,
    "start_time": "2022-07-26T16:37:05.748Z"
   },
   {
    "duration": 13,
    "start_time": "2022-07-26T16:37:05.757Z"
   },
   {
    "duration": 14,
    "start_time": "2022-07-26T16:37:05.772Z"
   },
   {
    "duration": 33,
    "start_time": "2022-07-26T16:37:05.788Z"
   },
   {
    "duration": 235,
    "start_time": "2022-07-26T16:37:05.825Z"
   },
   {
    "duration": 417,
    "start_time": "2022-07-26T16:37:06.062Z"
   },
   {
    "duration": 353,
    "start_time": "2022-07-26T16:37:06.481Z"
   },
   {
    "duration": 8,
    "start_time": "2022-07-26T16:37:06.835Z"
   },
   {
    "duration": 228,
    "start_time": "2022-07-26T16:37:06.845Z"
   },
   {
    "duration": 224,
    "start_time": "2022-07-26T16:37:07.075Z"
   },
   {
    "duration": 1934,
    "start_time": "2022-07-26T16:37:07.301Z"
   },
   {
    "duration": 13,
    "start_time": "2022-07-26T16:37:09.237Z"
   },
   {
    "duration": 1976,
    "start_time": "2022-07-26T16:37:09.251Z"
   },
   {
    "duration": 1843,
    "start_time": "2022-07-26T16:37:11.229Z"
   },
   {
    "duration": 1659,
    "start_time": "2022-07-26T16:37:13.074Z"
   },
   {
    "duration": 1924,
    "start_time": "2022-07-26T16:37:14.734Z"
   },
   {
    "duration": 16,
    "start_time": "2022-07-26T16:37:16.660Z"
   },
   {
    "duration": 45,
    "start_time": "2022-07-26T16:37:16.678Z"
   },
   {
    "duration": 252,
    "start_time": "2022-07-26T16:37:16.725Z"
   },
   {
    "duration": 244,
    "start_time": "2022-07-26T16:37:16.978Z"
   },
   {
    "duration": 280,
    "start_time": "2022-07-26T16:37:17.224Z"
   },
   {
    "duration": 244,
    "start_time": "2022-07-26T16:37:17.506Z"
   },
   {
    "duration": 29,
    "start_time": "2022-07-26T16:37:17.753Z"
   },
   {
    "duration": 302,
    "start_time": "2022-07-26T16:37:17.784Z"
   },
   {
    "duration": 269,
    "start_time": "2022-07-26T16:37:18.088Z"
   },
   {
    "duration": 288,
    "start_time": "2022-07-26T16:37:18.359Z"
   },
   {
    "duration": 299,
    "start_time": "2022-07-26T16:37:18.650Z"
   },
   {
    "duration": 324,
    "start_time": "2022-07-26T16:37:18.951Z"
   },
   {
    "duration": 184,
    "start_time": "2022-07-26T16:37:19.276Z"
   },
   {
    "duration": 181,
    "start_time": "2022-07-26T16:37:19.461Z"
   },
   {
    "duration": 184,
    "start_time": "2022-07-26T16:37:19.643Z"
   },
   {
    "duration": 10,
    "start_time": "2022-07-26T16:37:19.831Z"
   },
   {
    "duration": 17,
    "start_time": "2022-07-26T16:37:19.843Z"
   },
   {
    "duration": 1234,
    "start_time": "2022-07-26T16:45:49.108Z"
   },
   {
    "duration": 63,
    "start_time": "2022-07-26T16:45:50.344Z"
   },
   {
    "duration": 22,
    "start_time": "2022-07-26T16:45:50.409Z"
   },
   {
    "duration": 24,
    "start_time": "2022-07-26T16:45:50.434Z"
   },
   {
    "duration": 3,
    "start_time": "2022-07-26T16:45:50.460Z"
   },
   {
    "duration": 23,
    "start_time": "2022-07-26T16:45:50.466Z"
   },
   {
    "duration": 23,
    "start_time": "2022-07-26T16:45:50.491Z"
   },
   {
    "duration": 7,
    "start_time": "2022-07-26T16:45:50.516Z"
   },
   {
    "duration": 8,
    "start_time": "2022-07-26T16:45:50.525Z"
   },
   {
    "duration": 12,
    "start_time": "2022-07-26T16:45:50.537Z"
   },
   {
    "duration": 11,
    "start_time": "2022-07-26T16:45:50.552Z"
   },
   {
    "duration": 15,
    "start_time": "2022-07-26T16:45:50.565Z"
   },
   {
    "duration": 7,
    "start_time": "2022-07-26T16:45:50.610Z"
   },
   {
    "duration": 235,
    "start_time": "2022-07-26T16:45:50.619Z"
   },
   {
    "duration": 397,
    "start_time": "2022-07-26T16:45:50.856Z"
   },
   {
    "duration": 371,
    "start_time": "2022-07-26T16:45:51.255Z"
   },
   {
    "duration": 8,
    "start_time": "2022-07-26T16:45:51.628Z"
   },
   {
    "duration": 258,
    "start_time": "2022-07-26T16:45:51.637Z"
   },
   {
    "duration": 258,
    "start_time": "2022-07-26T16:45:51.897Z"
   },
   {
    "duration": 1872,
    "start_time": "2022-07-26T16:45:52.157Z"
   },
   {
    "duration": 13,
    "start_time": "2022-07-26T16:45:54.031Z"
   },
   {
    "duration": 1983,
    "start_time": "2022-07-26T16:45:54.046Z"
   },
   {
    "duration": 1768,
    "start_time": "2022-07-26T16:45:56.031Z"
   },
   {
    "duration": 1584,
    "start_time": "2022-07-26T16:45:57.801Z"
   },
   {
    "duration": 1844,
    "start_time": "2022-07-26T16:45:59.387Z"
   },
   {
    "duration": 16,
    "start_time": "2022-07-26T16:46:01.233Z"
   },
   {
    "duration": 73,
    "start_time": "2022-07-26T16:46:01.251Z"
   },
   {
    "duration": 248,
    "start_time": "2022-07-26T16:46:01.329Z"
   },
   {
    "duration": 241,
    "start_time": "2022-07-26T16:46:01.579Z"
   },
   {
    "duration": 322,
    "start_time": "2022-07-26T16:46:01.822Z"
   },
   {
    "duration": 255,
    "start_time": "2022-07-26T16:46:02.146Z"
   },
   {
    "duration": 38,
    "start_time": "2022-07-26T16:46:02.403Z"
   },
   {
    "duration": 263,
    "start_time": "2022-07-26T16:46:02.442Z"
   },
   {
    "duration": 255,
    "start_time": "2022-07-26T16:46:02.707Z"
   },
   {
    "duration": 274,
    "start_time": "2022-07-26T16:46:02.964Z"
   },
   {
    "duration": 251,
    "start_time": "2022-07-26T16:46:03.239Z"
   },
   {
    "duration": 307,
    "start_time": "2022-07-26T16:46:03.492Z"
   },
   {
    "duration": 186,
    "start_time": "2022-07-26T16:46:03.801Z"
   },
   {
    "duration": 172,
    "start_time": "2022-07-26T16:46:03.989Z"
   },
   {
    "duration": 189,
    "start_time": "2022-07-26T16:46:04.163Z"
   },
   {
    "duration": 22,
    "start_time": "2022-07-26T16:46:04.354Z"
   },
   {
    "duration": 10,
    "start_time": "2022-07-26T16:46:04.378Z"
   },
   {
    "duration": 218,
    "start_time": "2022-07-26T16:46:41.723Z"
   },
   {
    "duration": 170,
    "start_time": "2022-07-26T16:46:50.726Z"
   },
   {
    "duration": 173,
    "start_time": "2022-07-26T16:46:59.371Z"
   },
   {
    "duration": 181,
    "start_time": "2022-07-26T16:47:07.263Z"
   },
   {
    "duration": 187,
    "start_time": "2022-07-26T16:47:11.099Z"
   },
   {
    "duration": 78,
    "start_time": "2022-07-26T16:47:54.537Z"
   },
   {
    "duration": 107,
    "start_time": "2022-07-27T04:54:48.797Z"
   },
   {
    "duration": 1271,
    "start_time": "2022-07-27T09:20:21.635Z"
   },
   {
    "duration": 186,
    "start_time": "2022-07-27T09:20:22.908Z"
   },
   {
    "duration": 14,
    "start_time": "2022-07-27T09:20:23.096Z"
   },
   {
    "duration": 15,
    "start_time": "2022-07-27T09:20:23.113Z"
   },
   {
    "duration": 3,
    "start_time": "2022-07-27T09:20:23.130Z"
   },
   {
    "duration": 9,
    "start_time": "2022-07-27T09:20:23.135Z"
   },
   {
    "duration": 5,
    "start_time": "2022-07-27T09:20:23.145Z"
   },
   {
    "duration": 7,
    "start_time": "2022-07-27T09:20:23.152Z"
   },
   {
    "duration": 7,
    "start_time": "2022-07-27T09:20:23.160Z"
   },
   {
    "duration": 6,
    "start_time": "2022-07-27T09:20:23.171Z"
   },
   {
    "duration": 9,
    "start_time": "2022-07-27T09:20:23.178Z"
   },
   {
    "duration": 14,
    "start_time": "2022-07-27T09:20:23.189Z"
   },
   {
    "duration": 6,
    "start_time": "2022-07-27T09:20:23.231Z"
   },
   {
    "duration": 197,
    "start_time": "2022-07-27T09:20:23.239Z"
   },
   {
    "duration": 333,
    "start_time": "2022-07-27T09:20:23.437Z"
   },
   {
    "duration": 278,
    "start_time": "2022-07-27T09:20:23.771Z"
   },
   {
    "duration": 6,
    "start_time": "2022-07-27T09:20:24.051Z"
   },
   {
    "duration": 187,
    "start_time": "2022-07-27T09:20:24.059Z"
   },
   {
    "duration": 166,
    "start_time": "2022-07-27T09:20:24.247Z"
   },
   {
    "duration": 1571,
    "start_time": "2022-07-27T09:20:24.415Z"
   },
   {
    "duration": 11,
    "start_time": "2022-07-27T09:20:25.988Z"
   },
   {
    "duration": 1613,
    "start_time": "2022-07-27T09:20:26.001Z"
   },
   {
    "duration": 1488,
    "start_time": "2022-07-27T09:20:27.615Z"
   },
   {
    "duration": 1378,
    "start_time": "2022-07-27T09:20:29.104Z"
   },
   {
    "duration": 1502,
    "start_time": "2022-07-27T09:20:30.484Z"
   },
   {
    "duration": 13,
    "start_time": "2022-07-27T09:20:31.987Z"
   },
   {
    "duration": 31,
    "start_time": "2022-07-27T09:20:32.001Z"
   },
   {
    "duration": 202,
    "start_time": "2022-07-27T09:20:32.035Z"
   },
   {
    "duration": 189,
    "start_time": "2022-07-27T09:20:32.238Z"
   },
   {
    "duration": 197,
    "start_time": "2022-07-27T09:20:32.431Z"
   },
   {
    "duration": 194,
    "start_time": "2022-07-27T09:20:32.629Z"
   },
   {
    "duration": 17,
    "start_time": "2022-07-27T09:20:32.830Z"
   },
   {
    "duration": 218,
    "start_time": "2022-07-27T09:20:32.848Z"
   },
   {
    "duration": 208,
    "start_time": "2022-07-27T09:20:33.068Z"
   },
   {
    "duration": 231,
    "start_time": "2022-07-27T09:20:33.278Z"
   },
   {
    "duration": 219,
    "start_time": "2022-07-27T09:20:33.511Z"
   },
   {
    "duration": 274,
    "start_time": "2022-07-27T09:20:33.732Z"
   },
   {
    "duration": 155,
    "start_time": "2022-07-27T09:20:34.008Z"
   },
   {
    "duration": 153,
    "start_time": "2022-07-27T09:20:34.165Z"
   },
   {
    "duration": 154,
    "start_time": "2022-07-27T09:20:34.320Z"
   },
   {
    "duration": 10,
    "start_time": "2022-07-27T09:20:34.476Z"
   },
   {
    "duration": 13,
    "start_time": "2022-07-27T09:20:34.488Z"
   },
   {
    "duration": 1452,
    "start_time": "2022-07-27T09:21:48.432Z"
   },
   {
    "duration": 1709,
    "start_time": "2022-07-27T09:22:09.175Z"
   },
   {
    "duration": 1755,
    "start_time": "2022-07-27T09:22:26.842Z"
   },
   {
    "duration": 1371,
    "start_time": "2022-07-27T09:22:43.637Z"
   },
   {
    "duration": 1036,
    "start_time": "2022-07-27T09:24:28.358Z"
   },
   {
    "duration": 52,
    "start_time": "2022-07-27T09:24:29.396Z"
   },
   {
    "duration": 13,
    "start_time": "2022-07-27T09:24:29.449Z"
   },
   {
    "duration": 16,
    "start_time": "2022-07-27T09:24:29.463Z"
   },
   {
    "duration": 3,
    "start_time": "2022-07-27T09:24:29.481Z"
   },
   {
    "duration": 9,
    "start_time": "2022-07-27T09:24:29.486Z"
   },
   {
    "duration": 4,
    "start_time": "2022-07-27T09:24:29.496Z"
   },
   {
    "duration": 30,
    "start_time": "2022-07-27T09:24:29.501Z"
   },
   {
    "duration": 7,
    "start_time": "2022-07-27T09:24:29.532Z"
   },
   {
    "duration": 12,
    "start_time": "2022-07-27T09:24:29.540Z"
   },
   {
    "duration": 12,
    "start_time": "2022-07-27T09:24:29.553Z"
   },
   {
    "duration": 11,
    "start_time": "2022-07-27T09:24:29.566Z"
   },
   {
    "duration": 4,
    "start_time": "2022-07-27T09:24:29.579Z"
   },
   {
    "duration": 219,
    "start_time": "2022-07-27T09:24:29.586Z"
   },
   {
    "duration": 361,
    "start_time": "2022-07-27T09:24:29.807Z"
   },
   {
    "duration": 296,
    "start_time": "2022-07-27T09:24:30.170Z"
   },
   {
    "duration": 5,
    "start_time": "2022-07-27T09:24:30.468Z"
   },
   {
    "duration": 192,
    "start_time": "2022-07-27T09:24:30.475Z"
   },
   {
    "duration": 177,
    "start_time": "2022-07-27T09:24:30.669Z"
   },
   {
    "duration": 1495,
    "start_time": "2022-07-27T09:24:30.847Z"
   },
   {
    "duration": 11,
    "start_time": "2022-07-27T09:24:32.343Z"
   },
   {
    "duration": 1453,
    "start_time": "2022-07-27T09:24:32.355Z"
   },
   {
    "duration": 1670,
    "start_time": "2022-07-27T09:24:33.809Z"
   },
   {
    "duration": 1829,
    "start_time": "2022-07-27T09:24:35.481Z"
   },
   {
    "duration": 1482,
    "start_time": "2022-07-27T09:24:37.312Z"
   },
   {
    "duration": 16,
    "start_time": "2022-07-27T09:24:38.796Z"
   },
   {
    "duration": 32,
    "start_time": "2022-07-27T09:24:38.813Z"
   },
   {
    "duration": 218,
    "start_time": "2022-07-27T09:24:38.846Z"
   },
   {
    "duration": 184,
    "start_time": "2022-07-27T09:24:39.065Z"
   },
   {
    "duration": 208,
    "start_time": "2022-07-27T09:24:39.251Z"
   },
   {
    "duration": 200,
    "start_time": "2022-07-27T09:24:39.460Z"
   },
   {
    "duration": 19,
    "start_time": "2022-07-27T09:24:39.662Z"
   },
   {
    "duration": 242,
    "start_time": "2022-07-27T09:24:39.682Z"
   },
   {
    "duration": 352,
    "start_time": "2022-07-27T09:24:39.926Z"
   },
   {
    "duration": 237,
    "start_time": "2022-07-27T09:24:40.280Z"
   },
   {
    "duration": 194,
    "start_time": "2022-07-27T09:24:40.519Z"
   },
   {
    "duration": 159,
    "start_time": "2022-07-27T09:24:40.714Z"
   },
   {
    "duration": 153,
    "start_time": "2022-07-27T09:24:40.875Z"
   },
   {
    "duration": 147,
    "start_time": "2022-07-27T09:24:41.031Z"
   },
   {
    "duration": 153,
    "start_time": "2022-07-27T09:24:41.180Z"
   },
   {
    "duration": 8,
    "start_time": "2022-07-27T09:24:41.336Z"
   },
   {
    "duration": 7,
    "start_time": "2022-07-27T09:24:41.346Z"
   },
   {
    "duration": 51,
    "start_time": "2023-02-13T18:51:08.974Z"
   },
   {
    "duration": 1237,
    "start_time": "2023-02-13T18:51:17.521Z"
   },
   {
    "duration": 95,
    "start_time": "2023-02-13T18:51:18.760Z"
   },
   {
    "duration": 15,
    "start_time": "2023-02-13T18:51:18.857Z"
   },
   {
    "duration": 17,
    "start_time": "2023-02-13T18:51:18.875Z"
   },
   {
    "duration": 4,
    "start_time": "2023-02-13T18:51:18.893Z"
   },
   {
    "duration": 15,
    "start_time": "2023-02-13T18:51:18.899Z"
   },
   {
    "duration": 5,
    "start_time": "2023-02-13T18:51:18.916Z"
   },
   {
    "duration": 17,
    "start_time": "2023-02-13T18:51:18.923Z"
   },
   {
    "duration": 10,
    "start_time": "2023-02-13T18:51:18.942Z"
   },
   {
    "duration": 14,
    "start_time": "2023-02-13T18:51:18.955Z"
   },
   {
    "duration": 10,
    "start_time": "2023-02-13T18:51:18.970Z"
   },
   {
    "duration": 17,
    "start_time": "2023-02-13T18:51:18.982Z"
   },
   {
    "duration": 5,
    "start_time": "2023-02-13T18:51:19.001Z"
   },
   {
    "duration": 250,
    "start_time": "2023-02-13T18:51:19.008Z"
   },
   {
    "duration": 510,
    "start_time": "2023-02-13T18:51:19.260Z"
   },
   {
    "duration": 328,
    "start_time": "2023-02-13T18:51:19.772Z"
   },
   {
    "duration": 6,
    "start_time": "2023-02-13T18:51:20.102Z"
   },
   {
    "duration": 231,
    "start_time": "2023-02-13T18:51:20.110Z"
   },
   {
    "duration": 206,
    "start_time": "2023-02-13T18:51:20.343Z"
   },
   {
    "duration": 1744,
    "start_time": "2023-02-13T18:51:20.550Z"
   },
   {
    "duration": 13,
    "start_time": "2023-02-13T18:51:22.296Z"
   },
   {
    "duration": 1778,
    "start_time": "2023-02-13T18:51:22.310Z"
   },
   {
    "duration": 2015,
    "start_time": "2023-02-13T18:51:24.090Z"
   },
   {
    "duration": 2023,
    "start_time": "2023-02-13T18:51:26.107Z"
   },
   {
    "duration": 1729,
    "start_time": "2023-02-13T18:51:28.140Z"
   },
   {
    "duration": 20,
    "start_time": "2023-02-13T18:51:29.871Z"
   },
   {
    "duration": 40,
    "start_time": "2023-02-13T18:51:29.893Z"
   },
   {
    "duration": 279,
    "start_time": "2023-02-13T18:51:29.942Z"
   },
   {
    "duration": 235,
    "start_time": "2023-02-13T18:51:30.222Z"
   },
   {
    "duration": 281,
    "start_time": "2023-02-13T18:51:30.459Z"
   },
   {
    "duration": 265,
    "start_time": "2023-02-13T18:51:30.742Z"
   },
   {
    "duration": 33,
    "start_time": "2023-02-13T18:51:31.009Z"
   },
   {
    "duration": 298,
    "start_time": "2023-02-13T18:51:31.044Z"
   },
   {
    "duration": 434,
    "start_time": "2023-02-13T18:51:31.344Z"
   },
   {
    "duration": 289,
    "start_time": "2023-02-13T18:51:31.780Z"
   },
   {
    "duration": 281,
    "start_time": "2023-02-13T18:51:32.071Z"
   },
   {
    "duration": 192,
    "start_time": "2023-02-13T18:51:32.354Z"
   },
   {
    "duration": 192,
    "start_time": "2023-02-13T18:51:32.548Z"
   },
   {
    "duration": 201,
    "start_time": "2023-02-13T18:51:32.742Z"
   },
   {
    "duration": 209,
    "start_time": "2023-02-13T18:51:32.945Z"
   },
   {
    "duration": 12,
    "start_time": "2023-02-13T18:51:33.156Z"
   },
   {
    "duration": 17,
    "start_time": "2023-02-13T18:51:33.170Z"
   },
   {
    "duration": 8,
    "start_time": "2023-02-13T18:52:25.733Z"
   },
   {
    "duration": 1208,
    "start_time": "2023-02-13T18:52:31.966Z"
   },
   {
    "duration": 52,
    "start_time": "2023-02-13T18:52:33.176Z"
   },
   {
    "duration": 23,
    "start_time": "2023-02-13T18:52:33.230Z"
   },
   {
    "duration": 24,
    "start_time": "2023-02-13T18:52:33.257Z"
   },
   {
    "duration": 17,
    "start_time": "2023-02-13T18:52:33.282Z"
   },
   {
    "duration": 17,
    "start_time": "2023-02-13T18:52:33.301Z"
   },
   {
    "duration": 5,
    "start_time": "2023-02-13T18:52:33.320Z"
   },
   {
    "duration": 14,
    "start_time": "2023-02-13T18:52:33.328Z"
   },
   {
    "duration": 30,
    "start_time": "2023-02-13T18:52:33.344Z"
   },
   {
    "duration": 12,
    "start_time": "2023-02-13T18:52:33.377Z"
   },
   {
    "duration": 32,
    "start_time": "2023-02-13T18:52:33.391Z"
   },
   {
    "duration": 18,
    "start_time": "2023-02-13T18:52:33.425Z"
   },
   {
    "duration": 6,
    "start_time": "2023-02-13T18:52:33.445Z"
   },
   {
    "duration": 241,
    "start_time": "2023-02-13T18:52:33.453Z"
   },
   {
    "duration": 399,
    "start_time": "2023-02-13T18:52:33.696Z"
   },
   {
    "duration": 304,
    "start_time": "2023-02-13T18:52:34.097Z"
   },
   {
    "duration": 8,
    "start_time": "2023-02-13T18:52:34.402Z"
   },
   {
    "duration": 239,
    "start_time": "2023-02-13T18:52:34.413Z"
   },
   {
    "duration": 202,
    "start_time": "2023-02-13T18:52:34.654Z"
   },
   {
    "duration": 1850,
    "start_time": "2023-02-13T18:52:34.858Z"
   },
   {
    "duration": 14,
    "start_time": "2023-02-13T18:52:36.709Z"
   },
   {
    "duration": 1790,
    "start_time": "2023-02-13T18:52:36.725Z"
   },
   {
    "duration": 2093,
    "start_time": "2023-02-13T18:52:38.516Z"
   },
   {
    "duration": 2057,
    "start_time": "2023-02-13T18:52:40.610Z"
   },
   {
    "duration": 1759,
    "start_time": "2023-02-13T18:52:42.669Z"
   },
   {
    "duration": 21,
    "start_time": "2023-02-13T18:52:44.430Z"
   },
   {
    "duration": 22,
    "start_time": "2023-02-13T18:52:44.453Z"
   },
   {
    "duration": 266,
    "start_time": "2023-02-13T18:52:44.481Z"
   },
   {
    "duration": 224,
    "start_time": "2023-02-13T18:52:44.750Z"
   },
   {
    "duration": 277,
    "start_time": "2023-02-13T18:52:44.976Z"
   },
   {
    "duration": 236,
    "start_time": "2023-02-13T18:52:45.255Z"
   },
   {
    "duration": 20,
    "start_time": "2023-02-13T18:52:45.492Z"
   },
   {
    "duration": 366,
    "start_time": "2023-02-13T18:52:45.514Z"
   },
   {
    "duration": 420,
    "start_time": "2023-02-13T18:52:45.882Z"
   },
   {
    "duration": 262,
    "start_time": "2023-02-13T18:52:46.305Z"
   },
   {
    "duration": 257,
    "start_time": "2023-02-13T18:52:46.570Z"
   },
   {
    "duration": 190,
    "start_time": "2023-02-13T18:52:46.829Z"
   },
   {
    "duration": 218,
    "start_time": "2023-02-13T18:52:47.022Z"
   },
   {
    "duration": 224,
    "start_time": "2023-02-13T18:52:47.242Z"
   },
   {
    "duration": 215,
    "start_time": "2023-02-13T18:52:47.467Z"
   },
   {
    "duration": 15,
    "start_time": "2023-02-13T18:52:47.685Z"
   },
   {
    "duration": 26,
    "start_time": "2023-02-13T18:52:47.702Z"
   },
   {
    "duration": 118,
    "start_time": "2023-02-13T18:57:06.345Z"
   },
   {
    "duration": 249,
    "start_time": "2023-02-13T18:57:42.664Z"
   },
   {
    "duration": 1232,
    "start_time": "2023-02-13T18:57:52.557Z"
   },
   {
    "duration": 55,
    "start_time": "2023-02-13T18:57:53.793Z"
   },
   {
    "duration": 19,
    "start_time": "2023-02-13T18:57:53.850Z"
   },
   {
    "duration": 41,
    "start_time": "2023-02-13T18:57:53.872Z"
   },
   {
    "duration": 30,
    "start_time": "2023-02-13T18:57:53.915Z"
   },
   {
    "duration": 27,
    "start_time": "2023-02-13T18:57:53.948Z"
   },
   {
    "duration": 30,
    "start_time": "2023-02-13T18:57:53.977Z"
   },
   {
    "duration": 28,
    "start_time": "2023-02-13T18:57:54.009Z"
   },
   {
    "duration": 33,
    "start_time": "2023-02-13T18:57:54.038Z"
   },
   {
    "duration": 27,
    "start_time": "2023-02-13T18:57:54.075Z"
   },
   {
    "duration": 37,
    "start_time": "2023-02-13T18:57:54.104Z"
   },
   {
    "duration": 21,
    "start_time": "2023-02-13T18:57:54.143Z"
   },
   {
    "duration": 9,
    "start_time": "2023-02-13T18:57:54.167Z"
   },
   {
    "duration": 290,
    "start_time": "2023-02-13T18:57:54.179Z"
   },
   {
    "duration": 442,
    "start_time": "2023-02-13T18:57:54.471Z"
   },
   {
    "duration": 386,
    "start_time": "2023-02-13T18:57:54.915Z"
   },
   {
    "duration": 8,
    "start_time": "2023-02-13T18:57:55.304Z"
   },
   {
    "duration": 296,
    "start_time": "2023-02-13T18:57:55.315Z"
   },
   {
    "duration": 230,
    "start_time": "2023-02-13T18:57:55.613Z"
   },
   {
    "duration": 1930,
    "start_time": "2023-02-13T18:57:55.845Z"
   },
   {
    "duration": 15,
    "start_time": "2023-02-13T18:57:57.776Z"
   },
   {
    "duration": 1901,
    "start_time": "2023-02-13T18:57:57.793Z"
   },
   {
    "duration": 2155,
    "start_time": "2023-02-13T18:57:59.696Z"
   },
   {
    "duration": 2150,
    "start_time": "2023-02-13T18:58:01.853Z"
   },
   {
    "duration": 1692,
    "start_time": "2023-02-13T18:58:04.004Z"
   },
   {
    "duration": 23,
    "start_time": "2023-02-13T18:58:05.699Z"
   },
   {
    "duration": 29,
    "start_time": "2023-02-13T18:58:05.740Z"
   },
   {
    "duration": 311,
    "start_time": "2023-02-13T18:58:05.772Z"
   },
   {
    "duration": 277,
    "start_time": "2023-02-13T18:58:06.085Z"
   },
   {
    "duration": 267,
    "start_time": "2023-02-13T18:58:06.365Z"
   },
   {
    "duration": 269,
    "start_time": "2023-02-13T18:58:06.640Z"
   },
   {
    "duration": 35,
    "start_time": "2023-02-13T18:58:06.910Z"
   },
   {
    "duration": 293,
    "start_time": "2023-02-13T18:58:06.947Z"
   },
   {
    "duration": 416,
    "start_time": "2023-02-13T18:58:07.242Z"
   },
   {
    "duration": 318,
    "start_time": "2023-02-13T18:58:07.662Z"
   },
   {
    "duration": 323,
    "start_time": "2023-02-13T18:58:07.982Z"
   },
   {
    "duration": 210,
    "start_time": "2023-02-13T18:58:08.308Z"
   },
   {
    "duration": 261,
    "start_time": "2023-02-13T18:58:08.520Z"
   },
   {
    "duration": 222,
    "start_time": "2023-02-13T18:58:08.783Z"
   },
   {
    "duration": 267,
    "start_time": "2023-02-13T18:58:09.010Z"
   },
   {
    "duration": 20,
    "start_time": "2023-02-13T18:58:09.282Z"
   },
   {
    "duration": 20,
    "start_time": "2023-02-13T18:58:09.304Z"
   },
   {
    "duration": 5,
    "start_time": "2023-02-13T18:59:11.762Z"
   },
   {
    "duration": 133,
    "start_time": "2023-02-13T19:17:57.626Z"
   },
   {
    "duration": 15,
    "start_time": "2023-02-13T19:18:05.789Z"
   },
   {
    "duration": 18,
    "start_time": "2023-02-13T19:18:11.263Z"
   },
   {
    "duration": 26,
    "start_time": "2023-02-13T19:18:17.932Z"
   },
   {
    "duration": 259,
    "start_time": "2023-02-13T19:18:50.208Z"
   },
   {
    "duration": 244,
    "start_time": "2023-02-13T19:19:11.853Z"
   },
   {
    "duration": 238,
    "start_time": "2023-02-13T19:19:47.876Z"
   },
   {
    "duration": 247,
    "start_time": "2023-02-13T19:20:28.217Z"
   },
   {
    "duration": 346,
    "start_time": "2023-02-13T19:20:49.926Z"
   },
   {
    "duration": 234,
    "start_time": "2023-02-13T19:21:00.219Z"
   },
   {
    "duration": 236,
    "start_time": "2023-02-13T19:21:03.397Z"
   },
   {
    "duration": 239,
    "start_time": "2023-02-13T19:21:18.201Z"
   },
   {
    "duration": 242,
    "start_time": "2023-02-13T19:21:21.370Z"
   },
   {
    "duration": 1256,
    "start_time": "2023-02-13T19:23:12.818Z"
   },
   {
    "duration": 50,
    "start_time": "2023-02-13T19:23:14.077Z"
   },
   {
    "duration": 16,
    "start_time": "2023-02-13T19:23:14.129Z"
   },
   {
    "duration": 18,
    "start_time": "2023-02-13T19:23:14.148Z"
   },
   {
    "duration": 4,
    "start_time": "2023-02-13T19:23:14.168Z"
   },
   {
    "duration": 18,
    "start_time": "2023-02-13T19:23:14.174Z"
   },
   {
    "duration": 9,
    "start_time": "2023-02-13T19:23:14.194Z"
   },
   {
    "duration": 6,
    "start_time": "2023-02-13T19:23:14.205Z"
   },
   {
    "duration": 31,
    "start_time": "2023-02-13T19:23:14.213Z"
   },
   {
    "duration": 11,
    "start_time": "2023-02-13T19:23:14.246Z"
   },
   {
    "duration": 15,
    "start_time": "2023-02-13T19:23:14.259Z"
   },
   {
    "duration": 19,
    "start_time": "2023-02-13T19:23:14.276Z"
   },
   {
    "duration": 7,
    "start_time": "2023-02-13T19:23:14.297Z"
   },
   {
    "duration": 271,
    "start_time": "2023-02-13T19:23:14.306Z"
   },
   {
    "duration": 406,
    "start_time": "2023-02-13T19:23:14.580Z"
   },
   {
    "duration": 353,
    "start_time": "2023-02-13T19:23:14.988Z"
   },
   {
    "duration": 9,
    "start_time": "2023-02-13T19:23:15.344Z"
   },
   {
    "duration": 354,
    "start_time": "2023-02-13T19:23:15.355Z"
   },
   {
    "duration": 260,
    "start_time": "2023-02-13T19:23:15.712Z"
   },
   {
    "duration": 1901,
    "start_time": "2023-02-13T19:23:15.975Z"
   },
   {
    "duration": 16,
    "start_time": "2023-02-13T19:23:17.878Z"
   },
   {
    "duration": 1800,
    "start_time": "2023-02-13T19:23:17.896Z"
   },
   {
    "duration": 2080,
    "start_time": "2023-02-13T19:23:19.699Z"
   },
   {
    "duration": 2109,
    "start_time": "2023-02-13T19:23:21.781Z"
   },
   {
    "duration": 1711,
    "start_time": "2023-02-13T19:23:23.893Z"
   },
   {
    "duration": 277,
    "start_time": "2023-02-13T19:23:25.607Z"
   },
   {
    "duration": 29,
    "start_time": "2023-02-13T19:23:25.886Z"
   },
   {
    "duration": 286,
    "start_time": "2023-02-13T19:23:25.919Z"
   },
   {
    "duration": 263,
    "start_time": "2023-02-13T19:23:26.208Z"
   },
   {
    "duration": 263,
    "start_time": "2023-02-13T19:23:26.473Z"
   },
   {
    "duration": 245,
    "start_time": "2023-02-13T19:23:26.740Z"
   },
   {
    "duration": 22,
    "start_time": "2023-02-13T19:23:26.987Z"
   },
   {
    "duration": 420,
    "start_time": "2023-02-13T19:23:27.011Z"
   },
   {
    "duration": 252,
    "start_time": "2023-02-13T19:23:27.433Z"
   },
   {
    "duration": 269,
    "start_time": "2023-02-13T19:23:27.687Z"
   },
   {
    "duration": 247,
    "start_time": "2023-02-13T19:23:27.958Z"
   },
   {
    "duration": 188,
    "start_time": "2023-02-13T19:23:28.207Z"
   },
   {
    "duration": 177,
    "start_time": "2023-02-13T19:23:28.397Z"
   },
   {
    "duration": 181,
    "start_time": "2023-02-13T19:23:28.576Z"
   },
   {
    "duration": 194,
    "start_time": "2023-02-13T19:23:28.759Z"
   },
   {
    "duration": 11,
    "start_time": "2023-02-13T19:23:28.955Z"
   },
   {
    "duration": 24,
    "start_time": "2023-02-13T19:23:28.968Z"
   },
   {
    "duration": 242,
    "start_time": "2023-02-13T19:23:40.107Z"
   },
   {
    "duration": 15,
    "start_time": "2023-02-13T19:27:20.789Z"
   },
   {
    "duration": 11,
    "start_time": "2023-02-13T19:29:55.874Z"
   },
   {
    "duration": 5,
    "start_time": "2023-02-13T19:32:23.058Z"
   },
   {
    "duration": 1233,
    "start_time": "2023-02-13T19:32:36.780Z"
   },
   {
    "duration": 56,
    "start_time": "2023-02-13T19:32:38.015Z"
   },
   {
    "duration": 26,
    "start_time": "2023-02-13T19:32:38.073Z"
   },
   {
    "duration": 45,
    "start_time": "2023-02-13T19:32:38.102Z"
   },
   {
    "duration": 3,
    "start_time": "2023-02-13T19:32:38.151Z"
   },
   {
    "duration": 21,
    "start_time": "2023-02-13T19:32:38.157Z"
   },
   {
    "duration": 10,
    "start_time": "2023-02-13T19:32:38.181Z"
   },
   {
    "duration": 7,
    "start_time": "2023-02-13T19:32:38.193Z"
   },
   {
    "duration": 9,
    "start_time": "2023-02-13T19:32:38.203Z"
   },
   {
    "duration": 13,
    "start_time": "2023-02-13T19:32:38.241Z"
   },
   {
    "duration": 22,
    "start_time": "2023-02-13T19:32:38.257Z"
   },
   {
    "duration": 36,
    "start_time": "2023-02-13T19:32:38.281Z"
   },
   {
    "duration": 21,
    "start_time": "2023-02-13T19:32:38.319Z"
   },
   {
    "duration": 271,
    "start_time": "2023-02-13T19:32:38.347Z"
   },
   {
    "duration": 498,
    "start_time": "2023-02-13T19:32:38.621Z"
   },
   {
    "duration": 481,
    "start_time": "2023-02-13T19:32:39.122Z"
   },
   {
    "duration": 8,
    "start_time": "2023-02-13T19:32:39.605Z"
   },
   {
    "duration": 245,
    "start_time": "2023-02-13T19:32:39.615Z"
   },
   {
    "duration": 402,
    "start_time": "2023-02-13T19:32:39.862Z"
   },
   {
    "duration": 3011,
    "start_time": "2023-02-13T19:32:40.268Z"
   },
   {
    "duration": 18,
    "start_time": "2023-02-13T19:32:43.281Z"
   },
   {
    "duration": 1902,
    "start_time": "2023-02-13T19:32:43.302Z"
   },
   {
    "duration": 2339,
    "start_time": "2023-02-13T19:32:45.206Z"
   },
   {
    "duration": 2284,
    "start_time": "2023-02-13T19:32:47.546Z"
   },
   {
    "duration": 1691,
    "start_time": "2023-02-13T19:32:49.839Z"
   },
   {
    "duration": 322,
    "start_time": "2023-02-13T19:32:51.539Z"
   },
   {
    "duration": 25,
    "start_time": "2023-02-13T19:32:51.863Z"
   },
   {
    "duration": 270,
    "start_time": "2023-02-13T19:32:51.890Z"
   },
   {
    "duration": 252,
    "start_time": "2023-02-13T19:32:52.162Z"
   },
   {
    "duration": 276,
    "start_time": "2023-02-13T19:32:52.416Z"
   },
   {
    "duration": 250,
    "start_time": "2023-02-13T19:32:52.694Z"
   },
   {
    "duration": 41,
    "start_time": "2023-02-13T19:32:52.946Z"
   },
   {
    "duration": 461,
    "start_time": "2023-02-13T19:32:52.989Z"
   },
   {
    "duration": 254,
    "start_time": "2023-02-13T19:32:53.453Z"
   },
   {
    "duration": 269,
    "start_time": "2023-02-13T19:32:53.709Z"
   },
   {
    "duration": 301,
    "start_time": "2023-02-13T19:32:53.980Z"
   },
   {
    "duration": 200,
    "start_time": "2023-02-13T19:32:54.283Z"
   },
   {
    "duration": 184,
    "start_time": "2023-02-13T19:32:54.486Z"
   },
   {
    "duration": 176,
    "start_time": "2023-02-13T19:32:54.672Z"
   },
   {
    "duration": 209,
    "start_time": "2023-02-13T19:32:54.851Z"
   },
   {
    "duration": 10,
    "start_time": "2023-02-13T19:32:55.064Z"
   },
   {
    "duration": 29,
    "start_time": "2023-02-13T19:32:55.076Z"
   }
  ],
  "kernelspec": {
   "display_name": "Python 3 (ipykernel)",
   "language": "python",
   "name": "python3"
  },
  "language_info": {
   "codemirror_mode": {
    "name": "ipython",
    "version": 3
   },
   "file_extension": ".py",
   "mimetype": "text/x-python",
   "name": "python",
   "nbconvert_exporter": "python",
   "pygments_lexer": "ipython3",
   "version": "3.9.5"
  },
  "toc": {
   "base_numbering": 1,
   "nav_menu": {},
   "number_sections": true,
   "sideBar": true,
   "skip_h1_title": true,
   "title_cell": "Table of Contents",
   "title_sidebar": "Contents",
   "toc_cell": false,
   "toc_position": {},
   "toc_section_display": true,
   "toc_window_display": true
  }
 },
 "nbformat": 4,
 "nbformat_minor": 2
}
