{
 "cells": [
  {
   "cell_type": "markdown",
   "id": "2bd793ac",
   "metadata": {},
   "source": [
    "## Задача №1\n",
    "\n",
    "Посчитайте, сколько компаний закрылось."
   ]
  },
  {
   "cell_type": "code",
   "execution_count": null,
   "id": "249656e3",
   "metadata": {},
   "outputs": [],
   "source": [
    "SELECT COUNT (status)\n",
    "FROM company \n",
    "WHERE status = 'closed';"
   ]
  },
  {
   "cell_type": "markdown",
   "id": "aa83b943",
   "metadata": {},
   "source": [
    "## Задача №2\n",
    "\n",
    "Отобразите количество привлечённых средств для новостных компаний США. Используйте данные из таблицы company. Отсортируйте таблицу по убыванию значений в поле funding_total ."
   ]
  },
  {
   "cell_type": "code",
   "execution_count": null,
   "id": "b34e5030",
   "metadata": {},
   "outputs": [],
   "source": [
    "SELECT funding_total\n",
    "FROM company\n",
    "WHERE category_code = 'news' AND country_code = 'USA'\n",
    "ORDER BY funding_total DESC"
   ]
  },
  {
   "cell_type": "markdown",
   "id": "411d464d",
   "metadata": {},
   "source": [
    "## Задача №3\n",
    "\n",
    "Найдите общую сумму сделок по покупке одних компаний другими в долларах. Отберите сделки, которые осуществлялись только за наличные с 2011 по 2013 год включительно."
   ]
  },
  {
   "cell_type": "code",
   "execution_count": null,
   "id": "3913a076",
   "metadata": {},
   "outputs": [],
   "source": [
    "SELECT SUM(price_amount)\n",
    "FROM acquisition\n",
    "WHERE term_code = 'cash' and acquired_at between '2011-01-01' and '2013-12-31'"
   ]
  },
  {
   "cell_type": "markdown",
   "id": "51e775b4",
   "metadata": {},
   "source": [
    "## Задача №4\n",
    "\n",
    "Отобразите имя, фамилию и названия аккаунтов людей в твиттере, у которых названия аккаунтов начинаются на 'Silver'."
   ]
  },
  {
   "cell_type": "code",
   "execution_count": null,
   "id": "5556d5a8",
   "metadata": {},
   "outputs": [],
   "source": [
    "SELECT first_name,\n",
    "       last_name,\n",
    "       twitter_username\n",
    "FROM  people\n",
    "WHERE twitter_username LIKE 'Silver%'"
   ]
  },
  {
   "cell_type": "markdown",
   "id": "d3eca456",
   "metadata": {},
   "source": [
    "## Задача №5\n",
    "\n",
    "Выведите на экран всю информацию о людях, у которых названия аккаунтов в твиттере содержат подстроку 'money', а фамилия начинается на 'K'."
   ]
  },
  {
   "cell_type": "code",
   "execution_count": null,
   "id": "44cb84ff",
   "metadata": {},
   "outputs": [],
   "source": [
    "SELECT *\n",
    "FROM people \n",
    "WHERE twitter_username LIKE '%money%' AND last_name LIKE 'K%'"
   ]
  },
  {
   "cell_type": "markdown",
   "id": "d08cc22f",
   "metadata": {},
   "source": [
    "## Задача №6\n",
    "\n",
    "Для каждой страны отобразите общую сумму привлечённых инвестиций, которые получили компании, зарегистрированные в этой стране. Страну, в которой зарегистрирована компания, можно определить по коду страны. Отсортируйте данные по убыванию суммы."
   ]
  },
  {
   "cell_type": "code",
   "execution_count": null,
   "id": "af9f0828",
   "metadata": {},
   "outputs": [],
   "source": [
    "SELECT country_code,\n",
    "       SUM(funding_total) as sum\n",
    "FROM company\n",
    "GROUP BY country_code\n",
    "ORDER BY sum DESC"
   ]
  },
  {
   "cell_type": "markdown",
   "id": "c2d4bd9d",
   "metadata": {},
   "source": [
    "## Задача №7\n",
    "\n",
    "Составьте таблицу, в которую войдёт дата проведения раунда, а также минимальное и максимальное значения суммы инвестиций, привлечённых в эту дату.\n",
    "\n",
    "Оставьте в итоговой таблице только те записи, в которых минимальное значение суммы инвестиций не равно нулю и не равно максимальному значению."
   ]
  },
  {
   "cell_type": "code",
   "execution_count": null,
   "id": "f565cffa",
   "metadata": {},
   "outputs": [],
   "source": [
    "SELECT funded_at,\n",
    "       MIN(raised_amount),\n",
    "       MAX(raised_amount)\n",
    "FROM funding_round\n",
    "group by funded_at\n",
    "HAVING MIN(raised_amount) != 0 and MIN(raised_amount) != MAX (raised_amount);"
   ]
  },
  {
   "cell_type": "markdown",
   "id": "9fea6d17",
   "metadata": {},
   "source": [
    "## Задача №8\n",
    "\n",
    "Создайте поле с категориями:\n",
    "- Для фондов, которые инвестируют в 100 и более компаний, назначьте категорию high_activity.\n",
    "- Для фондов, которые инвестируют в 20 и более компаний до 100, назначьте категорию middle_activity.\n",
    "- Если количество инвестируемых компаний фонда не достигает 20, назначьте категорию low_activity.\n",
    "\n",
    "Отобразите все поля таблицы fund и новое поле с категориями."
   ]
  },
  {
   "cell_type": "code",
   "execution_count": null,
   "id": "5dc869e0",
   "metadata": {},
   "outputs": [],
   "source": [
    "SELECT *,\n",
    "    CASE \n",
    "        WHEN invested_companies >= 100 THEN 'high_activity'\n",
    "        WHEN invested_companies >= 20 and invested_companies < 100 THEN 'middle_activity'\n",
    "        ELSE 'low_activity'\n",
    "     END \n",
    "FROM fund "
   ]
  },
  {
   "cell_type": "markdown",
   "id": "1fd8ccb2",
   "metadata": {},
   "source": [
    "## Задача №9\n",
    "\n",
    "Для каждой из категорий, назначенных в предыдущем задании, посчитайте округлённое до ближайшего целого числа среднее количество инвестиционных раундов, в которых фонд принимал участие. Выведите на экран категории и среднее число инвестиционных раундов. Отсортируйте таблицу по возрастанию среднего."
   ]
  },
  {
   "cell_type": "code",
   "execution_count": null,
   "id": "6876b366",
   "metadata": {},
   "outputs": [],
   "source": [
    "SELECT ROUND(AVG(investment_rounds)),\n",
    "       CASE\n",
    "           WHEN invested_companies>=100 THEN 'high_activity'\n",
    "           WHEN invested_companies>=20 THEN 'middle_activity'\n",
    "           ELSE 'low_activity'\n",
    "       END AS activity\n",
    "FROM fund\n",
    "GROUP BY activity\n",
    "ORDER BY ROUND(AVG(investment_rounds))"
   ]
  },
  {
   "cell_type": "markdown",
   "id": "b5c804e6",
   "metadata": {},
   "source": [
    "## Задача №10\n",
    "\n",
    "Проанализируйте, в каких странах находятся фонды, которые чаще всего инвестируют в стартапы. \n",
    "\n",
    "Для каждой страны посчитайте минимальное, максимальное и среднее число компаний, в которые инвестировали фонды этой страны, основанные с 2010 по 2012 год включительно. Исключите страны с фондами, у которых минимальное число компаний, получивших инвестиции, равно нулю. Выгрузите десять самых активных стран-инвесторов.\n",
    "\n",
    "Отсортируйте таблицу по среднему количеству компаний от большего к меньшему, а затем по коду страны в лексикографическом порядке."
   ]
  },
  {
   "cell_type": "code",
   "execution_count": null,
   "id": "ee63f0bb",
   "metadata": {},
   "outputs": [],
   "source": [
    "SELECT country_code,\n",
    "       MIN (invested_companies),\n",
    "       MAX(invested_companies),\n",
    "       AVG(invested_companies)\n",
    "FROM fund\n",
    "WHERE founded_at BETWEEN '2010-01-01' AND '2012-12-31'\n",
    "GROUP BY country_code\n",
    "HAVING MIN(invested_companies) != 0\n",
    "ORDER BY AVG (invested_companies) DESC, country_code\n",
    "LIMIT 10"
   ]
  },
  {
   "cell_type": "markdown",
   "id": "66b7fe7b",
   "metadata": {},
   "source": [
    "## Задача №11\n",
    "\n",
    "Отобразите имя и фамилию всех сотрудников стартапов. Добавьте поле с названием учебного заведения, которое окончил сотрудник, если эта информация известна."
   ]
  },
  {
   "cell_type": "code",
   "execution_count": null,
   "id": "280fdc10",
   "metadata": {},
   "outputs": [],
   "source": [
    "SELECT p.first_name,\n",
    "       p.last_name,\n",
    "       e.instituition\n",
    "FROM people as p\n",
    "LEFT JOIN education as e on p.id = e.person_id"
   ]
  },
  {
   "cell_type": "markdown",
   "id": "5269d42e",
   "metadata": {},
   "source": [
    "## Задача №12\n",
    "\n",
    "Для каждой компании найдите количество учебных заведений, которые окончили её сотрудники. Выведите название компании и число уникальных названий учебных заведений. Составьте топ-5 компаний по количеству университетов."
   ]
  },
  {
   "cell_type": "code",
   "execution_count": null,
   "id": "6ec76659",
   "metadata": {},
   "outputs": [],
   "source": [
    "SELECT c.name,\n",
    "      COUNT (DISTINCT e.instituition)\n",
    "FROM company as c\n",
    "\n",
    "JOIN people as p ON c.id=p.company_id\n",
    "JOIN education as e ON p.id=e.person_id\n",
    "\n",
    "GROUP BY c.name \n",
    "ORDER BY COUNT(DISTINCT e.instituition) DESC\n",
    "LIMIT 5;"
   ]
  },
  {
   "cell_type": "markdown",
   "id": "0c030077",
   "metadata": {},
   "source": [
    "## Задача №13\n",
    "\n",
    "Составьте список с уникальными названиями закрытых компаний, для которых первый раунд финансирования оказался последним."
   ]
  },
  {
   "cell_type": "code",
   "execution_count": null,
   "id": "3721bfff",
   "metadata": {},
   "outputs": [],
   "source": [
    "SELECT DISTINCT c.name\n",
    "FROM company as c\n",
    "WHERE id IN (SELECT company_id\n",
    "            FROM funding_round\n",
    "            WHERE is_first_round = 1 AND is_last_round = 1)\n",
    "AND status = 'closed'\n",
    "\n"
   ]
  },
  {
   "cell_type": "markdown",
   "id": "34d7e0ff",
   "metadata": {},
   "source": [
    "## Задача №14\n",
    "\n",
    "Составьте список уникальных номеров сотрудников, которые работают в компаниях, отобранных в предыдущем задании."
   ]
  },
  {
   "cell_type": "code",
   "execution_count": null,
   "id": "f5d3bd42",
   "metadata": {},
   "outputs": [],
   "source": [
    "SELECT DISTINCT p.id\n",
    "FROM people as p\n",
    "WHERE company_id in (SELECT id\n",
    "                    FROM company as c\n",
    "                    WHERE id IN (SELECT company_id\n",
    "                                 FROM funding_round\n",
    "                                 WHERE is_first_round = 1 AND is_last_round = 1)\n",
    "                    AND status = 'closed')\n",
    "\n"
   ]
  },
  {
   "cell_type": "markdown",
   "id": "92e7bbe7",
   "metadata": {},
   "source": [
    "## Задача №15\n",
    "\n",
    "\n",
    "Составьте таблицу, куда войдут уникальные пары с номерами сотрудников из предыдущей задачи и учебным заведением, которое окончил сотрудник."
   ]
  },
  {
   "cell_type": "code",
   "execution_count": null,
   "id": "b88cb2f4",
   "metadata": {},
   "outputs": [],
   "source": [
    "SELECT DISTINCT p.id,\n",
    "       e.instituition\n",
    "       \n",
    "FROM (SELECT id  \n",
    "      FROM people as p\n",
    "      WHERE company_id in (SELECT id\n",
    "                    FROM company as c\n",
    "                    WHERE id IN (SELECT company_id\n",
    "                                 FROM funding_round\n",
    "                                 WHERE is_first_round = 1 AND is_last_round = 1)\n",
    "                    AND status = 'closed')) as p\n",
    "                    \n",
    " JOIN\n",
    "\n",
    "( SELECT person_id,\n",
    "         instituition\n",
    "    FROM education) as e ON p.id=e.person_id\n"
   ]
  },
  {
   "cell_type": "markdown",
   "id": "7e537e75",
   "metadata": {},
   "source": [
    "## Задача №16\n",
    "\n",
    "Посчитайте количество учебных заведений для каждого сотрудника из предыдущего задания. При подсчёте учитывайте, что некоторые сотрудники могли окончить одно и то же заведение дважды."
   ]
  },
  {
   "cell_type": "code",
   "execution_count": null,
   "id": "1a5b5924",
   "metadata": {},
   "outputs": [],
   "source": [
    "SELECT DISTINCT p.id as id,\n",
    "      COUNT(e.instituition) as instituition\n",
    "       \n",
    "FROM (SELECT id  \n",
    "      FROM people as p\n",
    "      WHERE company_id in (SELECT id\n",
    "                    FROM company as c\n",
    "                    WHERE id IN (SELECT company_id\n",
    "                                 FROM funding_round\n",
    "                                 WHERE is_first_round = 1 AND is_last_round = 1)\n",
    "                    AND status = 'closed')) as p\n",
    "                    \n",
    " JOIN\n",
    "\n",
    "( SELECT person_id,\n",
    "         instituition\n",
    "    FROM education) as e ON p.id=e.person_id\n",
    "\n",
    "GROUP BY id\n"
   ]
  },
  {
   "cell_type": "markdown",
   "id": "e91d83c2",
   "metadata": {},
   "source": [
    "## Задача №17\n",
    "\n",
    "Дополните предыдущий запрос и выведите среднее число учебных заведений (всех, не только уникальных), которые окончили сотрудники разных компаний. Нужно вывести только одну запись, группировка здесь не понадобится."
   ]
  },
  {
   "cell_type": "code",
   "execution_count": null,
   "id": "8c628f5f",
   "metadata": {},
   "outputs": [],
   "source": [
    "SELECT SUM(e.instituition)/COUNT(e.id)\n",
    "FROM\n",
    "(SELECT DISTINCT p.id as id,\n",
    "       COUNT(e.instituition) as instituition\n",
    "       \n",
    "FROM (SELECT id  \n",
    "      FROM people as p\n",
    "      WHERE company_id in (SELECT id\n",
    "                    FROM company as c\n",
    "                    WHERE id IN (SELECT company_id\n",
    "                                 FROM funding_round\n",
    "                                 WHERE is_first_round = 1 AND is_last_round = 1)\n",
    "                    AND status = 'closed')) as p\n",
    "                    \n",
    " JOIN\n",
    "\n",
    "( SELECT person_id,\n",
    "         instituition\n",
    "    FROM education) as e ON p.id=e.person_id\n",
    "\n",
    "GROUP BY id) as e\n"
   ]
  },
  {
   "cell_type": "markdown",
   "id": "53a18fc7",
   "metadata": {},
   "source": [
    "## Задача №18\n",
    "\n",
    "Напишите похожий запрос: выведите среднее число учебных заведений (всех, не только уникальных), которые окончили сотрудники Facebook*.\n",
    "*(сервис, запрещённый на территории РФ)"
   ]
  },
  {
   "cell_type": "code",
   "execution_count": null,
   "id": "9844d3ef",
   "metadata": {},
   "outputs": [],
   "source": [
    "SELECT SUM(e.instituition)/COUNT(e.id)\n",
    "FROM\n",
    "(SELECT DISTINCT p.id as id,\n",
    "       COUNT(e.instituition) as instituition\n",
    "       \n",
    "FROM (SELECT id  \n",
    "      FROM people as p\n",
    "      WHERE company_id in (SELECT id\n",
    "                    FROM company as c\n",
    "                    WHERE name = 'Facebook')) as p\n",
    "                    \n",
    " JOIN\n",
    "\n",
    "( SELECT person_id,\n",
    "         instituition\n",
    "    FROM education) as e ON p.id=e.person_id\n",
    "\n",
    "GROUP BY id) as e\n"
   ]
  },
  {
   "cell_type": "markdown",
   "id": "e015f84b",
   "metadata": {},
   "source": [
    "## Задача №19\n",
    "\n",
    "\n",
    "Составьте таблицу из полей:\n",
    "- name_of_fund — название фонда;\n",
    "- name_of_company — название компании;\n",
    "- amount — сумма инвестиций, которую привлекла компания в раунде.\n",
    "\n",
    "В таблицу войдут данные о компаниях, в истории которых было больше шести важных этапов, а раунды финансирования проходили с 2012 по 2013 год включительно."
   ]
  },
  {
   "cell_type": "code",
   "execution_count": null,
   "id": "f1dbcfe8",
   "metadata": {},
   "outputs": [],
   "source": [
    "select f.name as name_of_fund,\n",
    "       c.name as name_of_company,\n",
    "       fr.raised_amount as amount\n",
    "from investment as i\n",
    "    join company as c ON i.company_id=c.id \n",
    "    join fund as f ON i.fund_id=f.id \n",
    "    join funding_round as fr ON i.funding_round_id=fr.id \n",
    "where с.milestones > 6 and\n",
    "            extract(year from cast(fr.funded_at as date)) between '2012' and '2013' \n"
   ]
  },
  {
   "cell_type": "markdown",
   "id": "289269a2",
   "metadata": {},
   "source": [
    "## Задача №20\n",
    "\n",
    "\n",
    "Выгрузите таблицу, в которой будут такие поля:\n",
    "- название компании-покупателя;\n",
    "- сумма сделки;\n",
    "- название компании, которую купили;\n",
    "- сумма инвестиций, вложенных в купленную компанию;\n",
    "- доля, которая отображает, во сколько раз сумма покупки превысила сумму вложенных в компанию инвестиций, округлённая до ближайшего целого числа.\n",
    "\n",
    "Не учитывайте те сделки, в которых сумма покупки равна нулю. Если сумма инвестиций в компанию равна нулю, исключите такую компанию из таблицы. \n",
    "\n",
    "Отсортируйте таблицу по сумме сделки от большей к меньшей, а затем по названию купленной компании в лексикографическом порядке. Ограничьте таблицу первыми десятью записями."
   ]
  },
  {
   "cell_type": "code",
   "execution_count": null,
   "id": "bcd2149f",
   "metadata": {},
   "outputs": [],
   "source": [
    "SELECT buy.name,\n",
    "       a.price_amount,\n",
    "       sell.name,\n",
    "       sell.funding_total,\n",
    "       ROUND(a.price_amount/sell.funding_total)\n",
    "\n",
    "FROM acquisition AS a\n",
    "LEFT JOIN company AS buy ON a.acquiring_company_id=buy.id\n",
    "LEFT JOIN company AS sell ON a.acquired_company_id=sell.id\n",
    "\n",
    "WHERE a.price_amount !=0\n",
    "AND sell.funding_total !=0\n",
    "ORDER BY a.price_amount DESC, sell.name \n",
    "LIMIT 10;"
   ]
  },
  {
   "cell_type": "markdown",
   "id": "a60cdf57",
   "metadata": {},
   "source": [
    "## Задача №21\n",
    "\n",
    "Выгрузите таблицу, в которую войдут названия компаний из категории social, получившие финансирование с 2010 по 2013 год включительно. Проверьте, что сумма инвестиций не равна нулю. Выведите также номер месяца, в котором проходил раунд финансирования."
   ]
  },
  {
   "cell_type": "code",
   "execution_count": null,
   "id": "92d42296",
   "metadata": {},
   "outputs": [],
   "source": [
    "SELECT c.name as name,\n",
    "       EXTRACT (MONTH FROM CAST(fr.funded_at as date))\n",
    "FROM company as c\n",
    "    LEFT JOIN funding_round as fr ON c.id = fr.company_id\n",
    "WHERE category_code = 'social'\n",
    "       AND fr.funded_at BETWEEN '2010-01-01' AND '2013-12-31' \n",
    "       AND fr.raised_amount != 0"
   ]
  },
  {
   "cell_type": "markdown",
   "id": "39c43445",
   "metadata": {},
   "source": [
    "## Задача №22\n",
    "\n",
    "Отберите данные по месяцам с 2010 по 2013 год, когда проходили инвестиционные раунды. Сгруппируйте данные по номеру месяца и получите таблицу, в которой будут поля:\n",
    "- номер месяца, в котором проходили раунды;\n",
    "- количество уникальных названий фондов из США, которые инвестировали в этом месяце;\n",
    "- количество компаний, купленных за этот месяц;\n",
    "- общая сумма сделок по покупкам в этом месяце."
   ]
  },
  {
   "cell_type": "code",
   "execution_count": null,
   "id": "a51a9570",
   "metadata": {},
   "outputs": [],
   "source": [
    "WITH\n",
    "uno AS (SELECT COUNT(DISTINCT f.name),\n",
    "               EXTRACT(MONTH FROM CAST(fr.funded_at AS DATE))\n",
    "        FROM funding_round AS fr\n",
    "        LEFT JOIN investment AS i ON fr.id=i.funding_round_id\n",
    "        LEFT JOIN fund AS f ON i.fund_id=f.id\n",
    "        WHERE EXTRACT(YEAR FROM CAST(fr.funded_at AS DATE)) BETWEEN 2010 AND 2013\n",
    "        AND f.country_code = 'USA'\n",
    "        GROUP BY EXTRACT(MONTH FROM CAST(fr.funded_at AS DATE))),\n",
    "        \n",
    "due AS (SELECT EXTRACT(MONTH FROM CAST(a.acquired_at AS DATE)),\n",
    "                COUNT(a.acquired_company_id),\n",
    "                SUM(a.price_amount)\n",
    "        FROM acquisition AS a\n",
    "        WHERE EXTRACT(YEAR FROM CAST(a.acquired_at AS DATE)) BETWEEN 2010 AND 2013\n",
    "        GROUP BY EXTRACT(MONTH FROM CAST(a.acquired_at AS DATE)))\n",
    "        \n",
    "SELECT uno.date_part AS month,\n",
    "        uno.count AS funds,\n",
    "        due.count AS startups,\n",
    "        due.sum\n",
    "FROM uno\n",
    "FULL OUTER JOIN due ON uno.date_part=due.date_part;"
   ]
  },
  {
   "cell_type": "markdown",
   "id": "908d2c0e",
   "metadata": {},
   "source": [
    "## Задача №23\n",
    "\n",
    "Составьте сводную таблицу и выведите среднюю сумму инвестиций для стран, в которых есть стартапы, зарегистрированные в 2011, 2012 и 2013 годах. Данные за каждый год должны быть в отдельном поле. Отсортируйте таблицу по среднему значению инвестиций за 2011 год от большего к меньшему."
   ]
  },
  {
   "cell_type": "code",
   "execution_count": null,
   "id": "2a5adc77",
   "metadata": {},
   "outputs": [],
   "source": [
    "SELECT A.country_code, A.year_2011, B.year_2012, C.year_2013\n",
    "from\n",
    "(select avg(funding_total) as year_2011,\n",
    "    country_code\n",
    "    from company\n",
    "    where extract(year from cast(founded_at as date))=2011\n",
    "group by country_code) as A\n",
    "\n",
    "INNER JOIN\n",
    "\n",
    "(select avg(funding_total) as year_2012,\n",
    "    country_code\n",
    "    from company\n",
    "    where extract(year from cast(founded_at as date))=2012\n",
    "group by country_code) as B on\n",
    "A.country_code=B.country_code\n",
    "\n",
    "INNER JOIN \n",
    "\n",
    "(select avg(funding_total) as year_2013,\n",
    "    country_code\n",
    "    from company\n",
    "    where extract(year from cast(founded_at as date))=2013\n",
    "group by country_code) as C on \n",
    "A.country_code=C.country_code\n",
    "\n",
    "\n",
    "order by A.year_2011 desc;"
   ]
  }
 ],
 "metadata": {
  "kernelspec": {
   "display_name": "Python 3 (ipykernel)",
   "language": "python",
   "name": "python3"
  },
  "language_info": {
   "codemirror_mode": {
    "name": "ipython",
    "version": 3
   },
   "file_extension": ".py",
   "mimetype": "text/x-python",
   "name": "python",
   "nbconvert_exporter": "python",
   "pygments_lexer": "ipython3",
   "version": "3.9.13"
  }
 },
 "nbformat": 4,
 "nbformat_minor": 5
}
