{
 "cells": [
  {
   "cell_type": "markdown",
   "id": "904ada0a",
   "metadata": {},
   "source": [
    "## Задача №1\n",
    "\n",
    "- Посчитайте, сколько компаний закрылось."
   ]
  },
  {
   "cell_type": "code",
   "execution_count": null,
   "id": "34a820b8",
   "metadata": {},
   "outputs": [],
   "source": [
    "SELECT COUNT (status)\n",
    "FROM company \n",
    "WHERE status = 'closed';"
   ]
  },
  {
   "cell_type": "markdown",
   "id": "950a5d57",
   "metadata": {},
   "source": [
    "## Задача №2\n",
    "\n",
    "- Отобразите количество привлечённых средств для новостных компаний США. Используйте данные из таблицы company. Отсортируйте таблицу по убыванию значений в поле funding_total ."
   ]
  },
  {
   "cell_type": "code",
   "execution_count": null,
   "id": "22505785",
   "metadata": {},
   "outputs": [],
   "source": [
    "SELECT funding_total\n",
    "FROM company\n",
    "WHERE category_code = 'news' AND country_code = 'USA'\n",
    "ORDER BY funding_total DESC"
   ]
  }
 ],
 "metadata": {
  "kernelspec": {
   "display_name": "Python 3 (ipykernel)",
   "language": "python",
   "name": "python3"
  },
  "language_info": {
   "codemirror_mode": {
    "name": "ipython",
    "version": 3
   },
   "file_extension": ".py",
   "mimetype": "text/x-python",
   "name": "python",
   "nbconvert_exporter": "python",
   "pygments_lexer": "ipython3",
   "version": "3.9.13"
  }
 },
 "nbformat": 4,
 "nbformat_minor": 5
}
