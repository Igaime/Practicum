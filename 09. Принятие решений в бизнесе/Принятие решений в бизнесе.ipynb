{
 "cells": [
  {
   "cell_type": "markdown",
   "metadata": {},
   "source": [
    "# Введение"
   ]
  },
  {
   "cell_type": "markdown",
   "metadata": {},
   "source": [
    "<div style=\"border:solid Chocolate 2px; padding: 40px\">\n",
    "\n",
    "        \n",
    "Совместно с отделом маркетинга был разработан спиоск гипотез для увеличения выручки. В этом проекте мы приоритизируем гипотезы, запустим A/B-тест и проанализируем результаты.\n",
    "    \n",
    "    \n",
    "Проект состоит из двух частей.\n",
    "\n",
    "<h2> Часть 1. Приоритизация гипотез. <a class=\"tocSkip\"> </h2> \n",
    "\n",
    "- применить фреймфорки ICE и RICE. Посмотреть, как отличаются результаты\n",
    "    \n",
    "<h2> Часть 2. Анализ A/B-теста <a class=\"tocSkip\"> </h2> \n",
    "\n",
    "- построить график кумулятивной выручки по группам.  \n",
    "- построить график кумулятивного среднего чека по группам. \n",
    "- построить график относительного изменения кумулятивного среднего чека группы B к группе A. \n",
    "- Построить график кумулятивного среднего количества заказов по группам. \n",
    "- Построить график относительного изменения кумулятивного среднего количества заказов группы B к группе A. \n",
    "- Построить точечный график количества заказов по пользователям. \n",
    "- Посчитать 95-й и 99-й перцентили количества заказов на пользователя. \n",
    "- Построить точечный график стоимостей заказов. \n",
    "- Посчитать 95-й и 99-й перцентили стоимости заказов. \n",
    "- Посчитать статистическую значимость различий в среднем количестве заказов между группами по «сырым» данным. \n",
    "- Посчитать статистическую значимость различий в среднем чеке заказа между группами по «сырым» данным. \n",
    "- Посчитать статистическую значимость различий в среднем количестве заказов между группами по «очищенным» данным. \n",
    "- Посчитать статистическую значимость различий в среднем чеке заказа между группами по «очищенным» данным. \n",
    "- Примите решение по результатам теста\n"
   ]
  },
  {
   "cell_type": "markdown",
   "metadata": {},
   "source": [
    "## Предобработка данных  "
   ]
  },
  {
   "cell_type": "code",
   "execution_count": 1,
   "metadata": {},
   "outputs": [],
   "source": [
    "# Импортируем библиотеки\n",
    "\n",
    "import pandas as pd\n",
    "import numpy as np\n",
    "import matplotlib.pyplot as plt\n",
    "import scipy.stats as stats"
   ]
  },
  {
   "cell_type": "code",
   "execution_count": 2,
   "metadata": {},
   "outputs": [],
   "source": [
    "hypothesis = pd.read_csv('/datasets/hypothesis.csv')\n",
    "orders = pd.read_csv('/datasets/orders.csv')\n",
    "visitors = pd.read_csv('/datasets/visitors.csv')"
   ]
  },
  {
   "cell_type": "code",
   "execution_count": 3,
   "metadata": {},
   "outputs": [
    {
     "name": "stdout",
     "output_type": "stream",
     "text": [
      "<class 'pandas.core.frame.DataFrame'>\n",
      "RangeIndex: 9 entries, 0 to 8\n",
      "Data columns (total 5 columns):\n",
      " #   Column      Non-Null Count  Dtype \n",
      "---  ------      --------------  ----- \n",
      " 0   Hypothesis  9 non-null      object\n",
      " 1   Reach       9 non-null      int64 \n",
      " 2   Impact      9 non-null      int64 \n",
      " 3   Confidence  9 non-null      int64 \n",
      " 4   Efforts     9 non-null      int64 \n",
      "dtypes: int64(4), object(1)\n",
      "memory usage: 488.0+ bytes\n"
     ]
    }
   ],
   "source": [
    "hypothesis.info()"
   ]
  },
  {
   "cell_type": "code",
   "execution_count": 4,
   "metadata": {},
   "outputs": [
    {
     "data": {
      "text/html": [
       "<div>\n",
       "<style scoped>\n",
       "    .dataframe tbody tr th:only-of-type {\n",
       "        vertical-align: middle;\n",
       "    }\n",
       "\n",
       "    .dataframe tbody tr th {\n",
       "        vertical-align: top;\n",
       "    }\n",
       "\n",
       "    .dataframe thead th {\n",
       "        text-align: right;\n",
       "    }\n",
       "</style>\n",
       "<table border=\"1\" class=\"dataframe\">\n",
       "  <thead>\n",
       "    <tr style=\"text-align: right;\">\n",
       "      <th></th>\n",
       "      <th>Hypothesis</th>\n",
       "      <th>Reach</th>\n",
       "      <th>Impact</th>\n",
       "      <th>Confidence</th>\n",
       "      <th>Efforts</th>\n",
       "    </tr>\n",
       "  </thead>\n",
       "  <tbody>\n",
       "    <tr>\n",
       "      <th>0</th>\n",
       "      <td>Добавить два новых канала привлечения трафика,...</td>\n",
       "      <td>3</td>\n",
       "      <td>10</td>\n",
       "      <td>8</td>\n",
       "      <td>6</td>\n",
       "    </tr>\n",
       "    <tr>\n",
       "      <th>1</th>\n",
       "      <td>Запустить собственную службу доставки, что сок...</td>\n",
       "      <td>2</td>\n",
       "      <td>5</td>\n",
       "      <td>4</td>\n",
       "      <td>10</td>\n",
       "    </tr>\n",
       "    <tr>\n",
       "      <th>2</th>\n",
       "      <td>Добавить блоки рекомендаций товаров на сайт ин...</td>\n",
       "      <td>8</td>\n",
       "      <td>3</td>\n",
       "      <td>7</td>\n",
       "      <td>3</td>\n",
       "    </tr>\n",
       "    <tr>\n",
       "      <th>3</th>\n",
       "      <td>Изменить структура категорий, что увеличит кон...</td>\n",
       "      <td>8</td>\n",
       "      <td>3</td>\n",
       "      <td>3</td>\n",
       "      <td>8</td>\n",
       "    </tr>\n",
       "    <tr>\n",
       "      <th>4</th>\n",
       "      <td>Изменить цвет фона главной страницы, чтобы уве...</td>\n",
       "      <td>3</td>\n",
       "      <td>1</td>\n",
       "      <td>1</td>\n",
       "      <td>1</td>\n",
       "    </tr>\n",
       "    <tr>\n",
       "      <th>5</th>\n",
       "      <td>Добавить страницу отзывов клиентов о магазине,...</td>\n",
       "      <td>3</td>\n",
       "      <td>2</td>\n",
       "      <td>2</td>\n",
       "      <td>3</td>\n",
       "    </tr>\n",
       "    <tr>\n",
       "      <th>6</th>\n",
       "      <td>Показать на главной странице баннеры с актуаль...</td>\n",
       "      <td>5</td>\n",
       "      <td>3</td>\n",
       "      <td>8</td>\n",
       "      <td>3</td>\n",
       "    </tr>\n",
       "    <tr>\n",
       "      <th>7</th>\n",
       "      <td>Добавить форму подписки на все основные страни...</td>\n",
       "      <td>10</td>\n",
       "      <td>7</td>\n",
       "      <td>8</td>\n",
       "      <td>5</td>\n",
       "    </tr>\n",
       "    <tr>\n",
       "      <th>8</th>\n",
       "      <td>Запустить акцию, дающую скидку на товар в день...</td>\n",
       "      <td>1</td>\n",
       "      <td>9</td>\n",
       "      <td>9</td>\n",
       "      <td>5</td>\n",
       "    </tr>\n",
       "  </tbody>\n",
       "</table>\n",
       "</div>"
      ],
      "text/plain": [
       "                                          Hypothesis  Reach  Impact  \\\n",
       "0  Добавить два новых канала привлечения трафика,...      3      10   \n",
       "1  Запустить собственную службу доставки, что сок...      2       5   \n",
       "2  Добавить блоки рекомендаций товаров на сайт ин...      8       3   \n",
       "3  Изменить структура категорий, что увеличит кон...      8       3   \n",
       "4  Изменить цвет фона главной страницы, чтобы уве...      3       1   \n",
       "5  Добавить страницу отзывов клиентов о магазине,...      3       2   \n",
       "6  Показать на главной странице баннеры с актуаль...      5       3   \n",
       "7  Добавить форму подписки на все основные страни...     10       7   \n",
       "8  Запустить акцию, дающую скидку на товар в день...      1       9   \n",
       "\n",
       "   Confidence  Efforts  \n",
       "0           8        6  \n",
       "1           4       10  \n",
       "2           7        3  \n",
       "3           3        8  \n",
       "4           1        1  \n",
       "5           2        3  \n",
       "6           8        3  \n",
       "7           8        5  \n",
       "8           9        5  "
      ]
     },
     "execution_count": 4,
     "metadata": {},
     "output_type": "execute_result"
    }
   ],
   "source": [
    "hypothesis"
   ]
  },
  {
   "cell_type": "code",
   "execution_count": 5,
   "metadata": {},
   "outputs": [],
   "source": [
    "#приводим столбцы к удобному формату\n",
    "hypothesis.columns = hypothesis.columns.str.lower()"
   ]
  },
  {
   "cell_type": "code",
   "execution_count": 6,
   "metadata": {},
   "outputs": [
    {
     "data": {
      "text/html": [
       "<div>\n",
       "<style scoped>\n",
       "    .dataframe tbody tr th:only-of-type {\n",
       "        vertical-align: middle;\n",
       "    }\n",
       "\n",
       "    .dataframe tbody tr th {\n",
       "        vertical-align: top;\n",
       "    }\n",
       "\n",
       "    .dataframe thead th {\n",
       "        text-align: right;\n",
       "    }\n",
       "</style>\n",
       "<table border=\"1\" class=\"dataframe\">\n",
       "  <thead>\n",
       "    <tr style=\"text-align: right;\">\n",
       "      <th></th>\n",
       "      <th>transactionId</th>\n",
       "      <th>visitorId</th>\n",
       "      <th>date</th>\n",
       "      <th>revenue</th>\n",
       "      <th>group</th>\n",
       "    </tr>\n",
       "  </thead>\n",
       "  <tbody>\n",
       "    <tr>\n",
       "      <th>0</th>\n",
       "      <td>3667963787</td>\n",
       "      <td>3312258926</td>\n",
       "      <td>2019-08-15</td>\n",
       "      <td>1650</td>\n",
       "      <td>B</td>\n",
       "    </tr>\n",
       "    <tr>\n",
       "      <th>1</th>\n",
       "      <td>2804400009</td>\n",
       "      <td>3642806036</td>\n",
       "      <td>2019-08-15</td>\n",
       "      <td>730</td>\n",
       "      <td>B</td>\n",
       "    </tr>\n",
       "    <tr>\n",
       "      <th>2</th>\n",
       "      <td>2961555356</td>\n",
       "      <td>4069496402</td>\n",
       "      <td>2019-08-15</td>\n",
       "      <td>400</td>\n",
       "      <td>A</td>\n",
       "    </tr>\n",
       "    <tr>\n",
       "      <th>3</th>\n",
       "      <td>3797467345</td>\n",
       "      <td>1196621759</td>\n",
       "      <td>2019-08-15</td>\n",
       "      <td>9759</td>\n",
       "      <td>B</td>\n",
       "    </tr>\n",
       "    <tr>\n",
       "      <th>4</th>\n",
       "      <td>2282983706</td>\n",
       "      <td>2322279887</td>\n",
       "      <td>2019-08-15</td>\n",
       "      <td>2308</td>\n",
       "      <td>B</td>\n",
       "    </tr>\n",
       "  </tbody>\n",
       "</table>\n",
       "</div>"
      ],
      "text/plain": [
       "   transactionId   visitorId        date  revenue group\n",
       "0     3667963787  3312258926  2019-08-15     1650     B\n",
       "1     2804400009  3642806036  2019-08-15      730     B\n",
       "2     2961555356  4069496402  2019-08-15      400     A\n",
       "3     3797467345  1196621759  2019-08-15     9759     B\n",
       "4     2282983706  2322279887  2019-08-15     2308     B"
      ]
     },
     "execution_count": 6,
     "metadata": {},
     "output_type": "execute_result"
    }
   ],
   "source": [
    "orders.head(5)"
   ]
  },
  {
   "cell_type": "code",
   "execution_count": 7,
   "metadata": {},
   "outputs": [
    {
     "name": "stdout",
     "output_type": "stream",
     "text": [
      "<class 'pandas.core.frame.DataFrame'>\n",
      "RangeIndex: 1197 entries, 0 to 1196\n",
      "Data columns (total 5 columns):\n",
      " #   Column         Non-Null Count  Dtype \n",
      "---  ------         --------------  ----- \n",
      " 0   transactionId  1197 non-null   int64 \n",
      " 1   visitorId      1197 non-null   int64 \n",
      " 2   date           1197 non-null   object\n",
      " 3   revenue        1197 non-null   int64 \n",
      " 4   group          1197 non-null   object\n",
      "dtypes: int64(3), object(2)\n",
      "memory usage: 46.9+ KB\n"
     ]
    }
   ],
   "source": [
    "orders.info()"
   ]
  },
  {
   "cell_type": "code",
   "execution_count": 8,
   "metadata": {},
   "outputs": [],
   "source": [
    "#поменяем тип данных\n",
    "orders['date'] = pd.to_datetime(orders['date'], format='%Y-%m-%d')"
   ]
  },
  {
   "cell_type": "code",
   "execution_count": 9,
   "metadata": {},
   "outputs": [
    {
     "data": {
      "text/html": [
       "<div>\n",
       "<style scoped>\n",
       "    .dataframe tbody tr th:only-of-type {\n",
       "        vertical-align: middle;\n",
       "    }\n",
       "\n",
       "    .dataframe tbody tr th {\n",
       "        vertical-align: top;\n",
       "    }\n",
       "\n",
       "    .dataframe thead th {\n",
       "        text-align: right;\n",
       "    }\n",
       "</style>\n",
       "<table border=\"1\" class=\"dataframe\">\n",
       "  <thead>\n",
       "    <tr style=\"text-align: right;\">\n",
       "      <th></th>\n",
       "      <th>transactionId</th>\n",
       "      <th>visitorId</th>\n",
       "      <th>date</th>\n",
       "      <th>revenue</th>\n",
       "      <th>group</th>\n",
       "    </tr>\n",
       "  </thead>\n",
       "  <tbody>\n",
       "    <tr>\n",
       "      <th>0</th>\n",
       "      <td>3667963787</td>\n",
       "      <td>3312258926</td>\n",
       "      <td>2019-08-15</td>\n",
       "      <td>1650</td>\n",
       "      <td>B</td>\n",
       "    </tr>\n",
       "    <tr>\n",
       "      <th>1</th>\n",
       "      <td>2804400009</td>\n",
       "      <td>3642806036</td>\n",
       "      <td>2019-08-15</td>\n",
       "      <td>730</td>\n",
       "      <td>B</td>\n",
       "    </tr>\n",
       "    <tr>\n",
       "      <th>2</th>\n",
       "      <td>2961555356</td>\n",
       "      <td>4069496402</td>\n",
       "      <td>2019-08-15</td>\n",
       "      <td>400</td>\n",
       "      <td>A</td>\n",
       "    </tr>\n",
       "    <tr>\n",
       "      <th>3</th>\n",
       "      <td>3797467345</td>\n",
       "      <td>1196621759</td>\n",
       "      <td>2019-08-15</td>\n",
       "      <td>9759</td>\n",
       "      <td>B</td>\n",
       "    </tr>\n",
       "    <tr>\n",
       "      <th>4</th>\n",
       "      <td>2282983706</td>\n",
       "      <td>2322279887</td>\n",
       "      <td>2019-08-15</td>\n",
       "      <td>2308</td>\n",
       "      <td>B</td>\n",
       "    </tr>\n",
       "    <tr>\n",
       "      <th>...</th>\n",
       "      <td>...</td>\n",
       "      <td>...</td>\n",
       "      <td>...</td>\n",
       "      <td>...</td>\n",
       "      <td>...</td>\n",
       "    </tr>\n",
       "    <tr>\n",
       "      <th>1192</th>\n",
       "      <td>2662137336</td>\n",
       "      <td>3733762160</td>\n",
       "      <td>2019-08-14</td>\n",
       "      <td>6490</td>\n",
       "      <td>B</td>\n",
       "    </tr>\n",
       "    <tr>\n",
       "      <th>1193</th>\n",
       "      <td>2203539145</td>\n",
       "      <td>370388673</td>\n",
       "      <td>2019-08-14</td>\n",
       "      <td>3190</td>\n",
       "      <td>A</td>\n",
       "    </tr>\n",
       "    <tr>\n",
       "      <th>1194</th>\n",
       "      <td>1807773912</td>\n",
       "      <td>573423106</td>\n",
       "      <td>2019-08-14</td>\n",
       "      <td>10550</td>\n",
       "      <td>A</td>\n",
       "    </tr>\n",
       "    <tr>\n",
       "      <th>1195</th>\n",
       "      <td>1947021204</td>\n",
       "      <td>1614305549</td>\n",
       "      <td>2019-08-14</td>\n",
       "      <td>100</td>\n",
       "      <td>A</td>\n",
       "    </tr>\n",
       "    <tr>\n",
       "      <th>1196</th>\n",
       "      <td>3936777065</td>\n",
       "      <td>2108080724</td>\n",
       "      <td>2019-08-15</td>\n",
       "      <td>202740</td>\n",
       "      <td>B</td>\n",
       "    </tr>\n",
       "  </tbody>\n",
       "</table>\n",
       "<p>1197 rows × 5 columns</p>\n",
       "</div>"
      ],
      "text/plain": [
       "      transactionId   visitorId       date  revenue group\n",
       "0        3667963787  3312258926 2019-08-15     1650     B\n",
       "1        2804400009  3642806036 2019-08-15      730     B\n",
       "2        2961555356  4069496402 2019-08-15      400     A\n",
       "3        3797467345  1196621759 2019-08-15     9759     B\n",
       "4        2282983706  2322279887 2019-08-15     2308     B\n",
       "...             ...         ...        ...      ...   ...\n",
       "1192     2662137336  3733762160 2019-08-14     6490     B\n",
       "1193     2203539145   370388673 2019-08-14     3190     A\n",
       "1194     1807773912   573423106 2019-08-14    10550     A\n",
       "1195     1947021204  1614305549 2019-08-14      100     A\n",
       "1196     3936777065  2108080724 2019-08-15   202740     B\n",
       "\n",
       "[1197 rows x 5 columns]"
      ]
     },
     "execution_count": 9,
     "metadata": {},
     "output_type": "execute_result"
    }
   ],
   "source": [
    "orders"
   ]
  },
  {
   "cell_type": "code",
   "execution_count": 10,
   "metadata": {},
   "outputs": [
    {
     "data": {
      "text/plain": [
       "0"
      ]
     },
     "execution_count": 10,
     "metadata": {},
     "output_type": "execute_result"
    }
   ],
   "source": [
    "#проверим на дупликаты\n",
    "orders.duplicated().sum()"
   ]
  },
  {
   "cell_type": "code",
   "execution_count": 11,
   "metadata": {},
   "outputs": [
    {
     "data": {
      "text/html": [
       "<div>\n",
       "<style scoped>\n",
       "    .dataframe tbody tr th:only-of-type {\n",
       "        vertical-align: middle;\n",
       "    }\n",
       "\n",
       "    .dataframe tbody tr th {\n",
       "        vertical-align: top;\n",
       "    }\n",
       "\n",
       "    .dataframe thead th {\n",
       "        text-align: right;\n",
       "    }\n",
       "</style>\n",
       "<table border=\"1\" class=\"dataframe\">\n",
       "  <thead>\n",
       "    <tr style=\"text-align: right;\">\n",
       "      <th></th>\n",
       "      <th>date</th>\n",
       "      <th>group</th>\n",
       "      <th>visitors</th>\n",
       "    </tr>\n",
       "  </thead>\n",
       "  <tbody>\n",
       "    <tr>\n",
       "      <th>0</th>\n",
       "      <td>2019-08-01</td>\n",
       "      <td>A</td>\n",
       "      <td>719</td>\n",
       "    </tr>\n",
       "    <tr>\n",
       "      <th>1</th>\n",
       "      <td>2019-08-02</td>\n",
       "      <td>A</td>\n",
       "      <td>619</td>\n",
       "    </tr>\n",
       "    <tr>\n",
       "      <th>2</th>\n",
       "      <td>2019-08-03</td>\n",
       "      <td>A</td>\n",
       "      <td>507</td>\n",
       "    </tr>\n",
       "    <tr>\n",
       "      <th>3</th>\n",
       "      <td>2019-08-04</td>\n",
       "      <td>A</td>\n",
       "      <td>717</td>\n",
       "    </tr>\n",
       "    <tr>\n",
       "      <th>4</th>\n",
       "      <td>2019-08-05</td>\n",
       "      <td>A</td>\n",
       "      <td>756</td>\n",
       "    </tr>\n",
       "    <tr>\n",
       "      <th>...</th>\n",
       "      <td>...</td>\n",
       "      <td>...</td>\n",
       "      <td>...</td>\n",
       "    </tr>\n",
       "    <tr>\n",
       "      <th>57</th>\n",
       "      <td>2019-08-27</td>\n",
       "      <td>B</td>\n",
       "      <td>720</td>\n",
       "    </tr>\n",
       "    <tr>\n",
       "      <th>58</th>\n",
       "      <td>2019-08-28</td>\n",
       "      <td>B</td>\n",
       "      <td>654</td>\n",
       "    </tr>\n",
       "    <tr>\n",
       "      <th>59</th>\n",
       "      <td>2019-08-29</td>\n",
       "      <td>B</td>\n",
       "      <td>531</td>\n",
       "    </tr>\n",
       "    <tr>\n",
       "      <th>60</th>\n",
       "      <td>2019-08-30</td>\n",
       "      <td>B</td>\n",
       "      <td>490</td>\n",
       "    </tr>\n",
       "    <tr>\n",
       "      <th>61</th>\n",
       "      <td>2019-08-31</td>\n",
       "      <td>B</td>\n",
       "      <td>718</td>\n",
       "    </tr>\n",
       "  </tbody>\n",
       "</table>\n",
       "<p>62 rows × 3 columns</p>\n",
       "</div>"
      ],
      "text/plain": [
       "          date group  visitors\n",
       "0   2019-08-01     A       719\n",
       "1   2019-08-02     A       619\n",
       "2   2019-08-03     A       507\n",
       "3   2019-08-04     A       717\n",
       "4   2019-08-05     A       756\n",
       "..         ...   ...       ...\n",
       "57  2019-08-27     B       720\n",
       "58  2019-08-28     B       654\n",
       "59  2019-08-29     B       531\n",
       "60  2019-08-30     B       490\n",
       "61  2019-08-31     B       718\n",
       "\n",
       "[62 rows x 3 columns]"
      ]
     },
     "execution_count": 11,
     "metadata": {},
     "output_type": "execute_result"
    }
   ],
   "source": [
    "visitors"
   ]
  },
  {
   "cell_type": "code",
   "execution_count": 12,
   "metadata": {},
   "outputs": [
    {
     "name": "stdout",
     "output_type": "stream",
     "text": [
      "<class 'pandas.core.frame.DataFrame'>\n",
      "RangeIndex: 62 entries, 0 to 61\n",
      "Data columns (total 3 columns):\n",
      " #   Column    Non-Null Count  Dtype \n",
      "---  ------    --------------  ----- \n",
      " 0   date      62 non-null     object\n",
      " 1   group     62 non-null     object\n",
      " 2   visitors  62 non-null     int64 \n",
      "dtypes: int64(1), object(2)\n",
      "memory usage: 1.6+ KB\n"
     ]
    }
   ],
   "source": [
    "visitors.info()"
   ]
  },
  {
   "cell_type": "code",
   "execution_count": 13,
   "metadata": {},
   "outputs": [],
   "source": [
    "#поменяем тип данных\n",
    "visitors['date'] = pd.to_datetime(visitors['date'], format='%Y-%m-%d')"
   ]
  },
  {
   "cell_type": "code",
   "execution_count": 14,
   "metadata": {},
   "outputs": [
    {
     "data": {
      "text/plain": [
       "0"
      ]
     },
     "execution_count": 14,
     "metadata": {},
     "output_type": "execute_result"
    }
   ],
   "source": [
    "#проверим на дупликаты\n",
    "visitors.duplicated().sum()"
   ]
  },
  {
   "cell_type": "markdown",
   "metadata": {},
   "source": [
    "<div class=\"alert alert-info\">\n",
    "<h2> Комментарий<a class=\"tocSkip\"></h2>\n",
    "\n",
    "Выполнил предобрадоку данных. Дубликатов нет, в orders и visitors поменял тип данных в датах. Поменяли названия столбцов\n",
    "</div>\n"
   ]
  },
  {
   "cell_type": "markdown",
   "metadata": {},
   "source": [
    "## Приоритизация гипотез"
   ]
  },
  {
   "cell_type": "code",
   "execution_count": 15,
   "metadata": {},
   "outputs": [
    {
     "data": {
      "text/html": [
       "<div>\n",
       "<style scoped>\n",
       "    .dataframe tbody tr th:only-of-type {\n",
       "        vertical-align: middle;\n",
       "    }\n",
       "\n",
       "    .dataframe tbody tr th {\n",
       "        vertical-align: top;\n",
       "    }\n",
       "\n",
       "    .dataframe thead th {\n",
       "        text-align: right;\n",
       "    }\n",
       "</style>\n",
       "<table border=\"1\" class=\"dataframe\">\n",
       "  <thead>\n",
       "    <tr style=\"text-align: right;\">\n",
       "      <th></th>\n",
       "      <th>hypothesis</th>\n",
       "      <th>ICE</th>\n",
       "    </tr>\n",
       "  </thead>\n",
       "  <tbody>\n",
       "    <tr>\n",
       "      <th>8</th>\n",
       "      <td>Запустить акцию, дающую скидку на товар в день рождения</td>\n",
       "      <td>16.2</td>\n",
       "    </tr>\n",
       "    <tr>\n",
       "      <th>0</th>\n",
       "      <td>Добавить два новых канала привлечения трафика, что позволит привлекать на 30% больше пользователей</td>\n",
       "      <td>13.3</td>\n",
       "    </tr>\n",
       "    <tr>\n",
       "      <th>7</th>\n",
       "      <td>Добавить форму подписки на все основные страницы, чтобы собрать базу клиентов для email-рассылок</td>\n",
       "      <td>11.2</td>\n",
       "    </tr>\n",
       "    <tr>\n",
       "      <th>6</th>\n",
       "      <td>Показать на главной странице баннеры с актуальными акциями и распродажами, чтобы увеличить конверсию</td>\n",
       "      <td>8.0</td>\n",
       "    </tr>\n",
       "    <tr>\n",
       "      <th>2</th>\n",
       "      <td>Добавить блоки рекомендаций товаров на сайт интернет магазина, чтобы повысить конверсию и средний чек заказа</td>\n",
       "      <td>7.0</td>\n",
       "    </tr>\n",
       "    <tr>\n",
       "      <th>1</th>\n",
       "      <td>Запустить собственную службу доставки, что сократит срок доставки заказов</td>\n",
       "      <td>2.0</td>\n",
       "    </tr>\n",
       "    <tr>\n",
       "      <th>5</th>\n",
       "      <td>Добавить страницу отзывов клиентов о магазине, что позволит увеличить количество заказов</td>\n",
       "      <td>1.3</td>\n",
       "    </tr>\n",
       "    <tr>\n",
       "      <th>3</th>\n",
       "      <td>Изменить структура категорий, что увеличит конверсию, т.к. пользователи быстрее найдут нужный товар</td>\n",
       "      <td>1.1</td>\n",
       "    </tr>\n",
       "    <tr>\n",
       "      <th>4</th>\n",
       "      <td>Изменить цвет фона главной страницы, чтобы увеличить вовлеченность пользователей</td>\n",
       "      <td>1.0</td>\n",
       "    </tr>\n",
       "  </tbody>\n",
       "</table>\n",
       "</div>"
      ],
      "text/plain": [
       "                                                                                                     hypothesis  \\\n",
       "8                                                       Запустить акцию, дающую скидку на товар в день рождения   \n",
       "0            Добавить два новых канала привлечения трафика, что позволит привлекать на 30% больше пользователей   \n",
       "7              Добавить форму подписки на все основные страницы, чтобы собрать базу клиентов для email-рассылок   \n",
       "6          Показать на главной странице баннеры с актуальными акциями и распродажами, чтобы увеличить конверсию   \n",
       "2  Добавить блоки рекомендаций товаров на сайт интернет магазина, чтобы повысить конверсию и средний чек заказа   \n",
       "1                                     Запустить собственную службу доставки, что сократит срок доставки заказов   \n",
       "5                      Добавить страницу отзывов клиентов о магазине, что позволит увеличить количество заказов   \n",
       "3           Изменить структура категорий, что увеличит конверсию, т.к. пользователи быстрее найдут нужный товар   \n",
       "4                              Изменить цвет фона главной страницы, чтобы увеличить вовлеченность пользователей   \n",
       "\n",
       "    ICE  \n",
       "8  16.2  \n",
       "0  13.3  \n",
       "7  11.2  \n",
       "6   8.0  \n",
       "2   7.0  \n",
       "1   2.0  \n",
       "5   1.3  \n",
       "3   1.1  \n",
       "4   1.0  "
      ]
     },
     "execution_count": 15,
     "metadata": {},
     "output_type": "execute_result"
    }
   ],
   "source": [
    "#ICE\n",
    "hypothesis['ICE'] = (hypothesis['impact']*hypothesis['confidence'])/hypothesis['efforts']\n",
    "\n",
    "pd.options.display.max_colwidth = 400 \n",
    "hypothesis[['hypothesis', 'ICE']].sort_values(by='ICE', ascending=False).round(1)"
   ]
  },
  {
   "cell_type": "code",
   "execution_count": 16,
   "metadata": {},
   "outputs": [
    {
     "data": {
      "text/html": [
       "<div>\n",
       "<style scoped>\n",
       "    .dataframe tbody tr th:only-of-type {\n",
       "        vertical-align: middle;\n",
       "    }\n",
       "\n",
       "    .dataframe tbody tr th {\n",
       "        vertical-align: top;\n",
       "    }\n",
       "\n",
       "    .dataframe thead th {\n",
       "        text-align: right;\n",
       "    }\n",
       "</style>\n",
       "<table border=\"1\" class=\"dataframe\">\n",
       "  <thead>\n",
       "    <tr style=\"text-align: right;\">\n",
       "      <th></th>\n",
       "      <th>hypothesis</th>\n",
       "      <th>RICE</th>\n",
       "    </tr>\n",
       "  </thead>\n",
       "  <tbody>\n",
       "    <tr>\n",
       "      <th>7</th>\n",
       "      <td>Добавить форму подписки на все основные страницы, чтобы собрать базу клиентов для email-рассылок</td>\n",
       "      <td>112.0</td>\n",
       "    </tr>\n",
       "    <tr>\n",
       "      <th>2</th>\n",
       "      <td>Добавить блоки рекомендаций товаров на сайт интернет магазина, чтобы повысить конверсию и средний чек заказа</td>\n",
       "      <td>56.0</td>\n",
       "    </tr>\n",
       "    <tr>\n",
       "      <th>0</th>\n",
       "      <td>Добавить два новых канала привлечения трафика, что позволит привлекать на 30% больше пользователей</td>\n",
       "      <td>40.0</td>\n",
       "    </tr>\n",
       "    <tr>\n",
       "      <th>6</th>\n",
       "      <td>Показать на главной странице баннеры с актуальными акциями и распродажами, чтобы увеличить конверсию</td>\n",
       "      <td>40.0</td>\n",
       "    </tr>\n",
       "    <tr>\n",
       "      <th>8</th>\n",
       "      <td>Запустить акцию, дающую скидку на товар в день рождения</td>\n",
       "      <td>16.2</td>\n",
       "    </tr>\n",
       "    <tr>\n",
       "      <th>3</th>\n",
       "      <td>Изменить структура категорий, что увеличит конверсию, т.к. пользователи быстрее найдут нужный товар</td>\n",
       "      <td>9.0</td>\n",
       "    </tr>\n",
       "    <tr>\n",
       "      <th>1</th>\n",
       "      <td>Запустить собственную службу доставки, что сократит срок доставки заказов</td>\n",
       "      <td>4.0</td>\n",
       "    </tr>\n",
       "    <tr>\n",
       "      <th>5</th>\n",
       "      <td>Добавить страницу отзывов клиентов о магазине, что позволит увеличить количество заказов</td>\n",
       "      <td>4.0</td>\n",
       "    </tr>\n",
       "    <tr>\n",
       "      <th>4</th>\n",
       "      <td>Изменить цвет фона главной страницы, чтобы увеличить вовлеченность пользователей</td>\n",
       "      <td>3.0</td>\n",
       "    </tr>\n",
       "  </tbody>\n",
       "</table>\n",
       "</div>"
      ],
      "text/plain": [
       "                                                                                                     hypothesis  \\\n",
       "7              Добавить форму подписки на все основные страницы, чтобы собрать базу клиентов для email-рассылок   \n",
       "2  Добавить блоки рекомендаций товаров на сайт интернет магазина, чтобы повысить конверсию и средний чек заказа   \n",
       "0            Добавить два новых канала привлечения трафика, что позволит привлекать на 30% больше пользователей   \n",
       "6          Показать на главной странице баннеры с актуальными акциями и распродажами, чтобы увеличить конверсию   \n",
       "8                                                       Запустить акцию, дающую скидку на товар в день рождения   \n",
       "3           Изменить структура категорий, что увеличит конверсию, т.к. пользователи быстрее найдут нужный товар   \n",
       "1                                     Запустить собственную службу доставки, что сократит срок доставки заказов   \n",
       "5                      Добавить страницу отзывов клиентов о магазине, что позволит увеличить количество заказов   \n",
       "4                              Изменить цвет фона главной страницы, чтобы увеличить вовлеченность пользователей   \n",
       "\n",
       "    RICE  \n",
       "7  112.0  \n",
       "2   56.0  \n",
       "0   40.0  \n",
       "6   40.0  \n",
       "8   16.2  \n",
       "3    9.0  \n",
       "1    4.0  \n",
       "5    4.0  \n",
       "4    3.0  "
      ]
     },
     "execution_count": 16,
     "metadata": {},
     "output_type": "execute_result"
    }
   ],
   "source": [
    "#RICE\n",
    "hypothesis['RICE'] = (hypothesis['reach']*hypothesis['impact']*hypothesis['confidence'])/hypothesis['efforts']\n",
    "\n",
    "pd.options.display.max_colwidth = 400 \n",
    "hypothesis[['hypothesis', 'RICE']].sort_values(by='RICE', ascending=False)"
   ]
  },
  {
   "cell_type": "markdown",
   "metadata": {},
   "source": [
    "<div class=\"alert alert-info\">\n",
    "<h2> Комментарий студента<a class=\"tocSkip\"></h2>\n",
    "\n",
    "Из-за разницы в методе подсчета результаты отличаются. В RICE используется показатель \"охват\". Поэтому \"лидеры\" выглядят следующим образом: \n",
    "- ICE - 8,7,0\n",
    "- RICE - 7,2,0\n",
    "</div>"
   ]
  },
  {
   "cell_type": "markdown",
   "metadata": {},
   "source": [
    "## Анализ A/B-теста"
   ]
  },
  {
   "cell_type": "code",
   "execution_count": 17,
   "metadata": {},
   "outputs": [],
   "source": [
    "len(np.intersect1d(orders.query('group == \"A\"')['visitorId'].unique(), orders.query('group == \"B\"')['visitorId'].unique()))\n",
    "list_id = np.intersect1d(orders.query('group == \"A\"')['visitorId'].unique(), \n",
    "                         orders.query('group == \"B\"')['visitorId'].unique())\n",
    "list_id = list_id.tolist()\n",
    "orders = orders[~orders['visitorId'].isin(list_id)]\n"
   ]
  },
  {
   "cell_type": "markdown",
   "metadata": {},
   "source": [
    "### Таблица кумулятивной выручки по группам. "
   ]
  },
  {
   "cell_type": "code",
   "execution_count": 18,
   "metadata": {},
   "outputs": [
    {
     "name": "stdout",
     "output_type": "stream",
     "text": [
      "        date group  orders  buyers  revenue  visitors\n",
      "0 2019-08-01     A      23      19   142779       719\n",
      "1 2019-08-01     B      17      17    59758       713\n",
      "2 2019-08-02     A      42      36   234381      1338\n",
      "3 2019-08-02     B      40      39   221801      1294\n",
      "4 2019-08-03     A      66      60   346854      1845\n"
     ]
    }
   ],
   "source": [
    "# создаем массив уникальных пар значений дат и групп теста\n",
    "datesGroups = orders[['date','group']].drop_duplicates()\n",
    "\n",
    "# получаем агрегированные кумулятивные по дням данные о заказах \n",
    "ordersAggregated = datesGroups.apply(lambda x: orders[np.logical_and(orders['date'] <= x['date'], orders['group'] == x['group'])].agg({'date' : 'max', 'group' : 'max', 'transactionId' : 'nunique', 'visitorId' : 'nunique', 'revenue' : 'sum'}), axis=1).sort_values(by=['date','group'])\n",
    "\n",
    "# получаем агрегированные кумулятивные по дням данные о посетителях интернет-магазина \n",
    "visitorsAggregated = datesGroups.apply(lambda x: visitors[np.logical_and(visitors['date'] <= x['date'], visitors['group'] == x['group'])].agg({'date' : 'max', 'group' : 'max', 'visitors' : 'sum'}), axis=1).sort_values(by=['date','group'])\n",
    "\n",
    "# объединяем кумулятивные данные в одной таблице и присваиваем ее столбцам понятные названия\n",
    "cumulativeData = ordersAggregated.merge(visitorsAggregated, left_on=['date', 'group'], right_on=['date', 'group'])\n",
    "cumulativeData.columns = ['date', 'group', 'orders', 'buyers', 'revenue', 'visitors']\n",
    "\n",
    "print(cumulativeData.head(5))"
   ]
  },
  {
   "cell_type": "markdown",
   "metadata": {},
   "source": [
    "### Графики кумулятивной выручки по дням и группам A/B-тестирования "
   ]
  },
  {
   "cell_type": "code",
   "execution_count": 19,
   "metadata": {},
   "outputs": [
    {
     "data": {
      "image/png": "[encoded data removed]",
      "text/plain": [
       "<Figure size 864x360 with 1 Axes>"
      ]
     },
     "metadata": {
      "needs_background": "light"
     },
     "output_type": "display_data"
    }
   ],
   "source": [
    "# датафрейм с кумулятивным количеством заказов и кумулятивной выручкой по дням в группе А\n",
    "cumulativeRevenueA = cumulativeData[cumulativeData['group']=='A'][['date','revenue', 'orders']]\n",
    "\n",
    "# датафрейм с кумулятивным количеством заказов и кумулятивной выручкой по дням в группе B\n",
    "cumulativeRevenueB = cumulativeData[cumulativeData['group']=='B'][['date','revenue', 'orders']]\n",
    "\n",
    "plt.figure(figsize=(12,5))\n",
    "\n",
    "# Строим график выручки группы А\n",
    "plt.plot(cumulativeRevenueA['date'], cumulativeRevenueA['revenue'], label='A')\n",
    "\n",
    "# Строим график выручки группы B\n",
    "plt.plot(cumulativeRevenueB['date'], cumulativeRevenueB['revenue'], label='B')\n",
    "\n",
    "plt.grid()\n",
    "plt.legend()\n",
    "plt.title('График кумулятивной выручки по дням и группам A/B-тестирования')\n",
    "plt.xlabel('Даты')\n",
    "plt.ylabel('Выручка')\n",
    "plt.show()"
   ]
  },
  {
   "cell_type": "markdown",
   "metadata": {},
   "source": [
    "<div class=\"alert alert-info\">\n",
    "<h2> Комментарий студента<a class=\"tocSkip\"></h2>\n",
    "\n",
    "Выручка в обеих группах росла примерно одинаково. 13го августа они были на одном уровне. Однако с 18 августа в группе В есть резкий скачек. Необходимо проверить, с чем он связан. Либо большой заказ, либо сильный прирост заказов в этот день\n",
    "</div>"
   ]
  },
  {
   "cell_type": "markdown",
   "metadata": {},
   "source": [
    "### График кумулятивного среднего чека по группам."
   ]
  },
  {
   "cell_type": "code",
   "execution_count": 20,
   "metadata": {},
   "outputs": [
    {
     "data": {
      "image/png": "[encoded data removed]",
      "text/plain": [
       "<Figure size 720x360 with 1 Axes>"
      ]
     },
     "metadata": {
      "needs_background": "light"
     },
     "output_type": "display_data"
    }
   ],
   "source": [
    "plt.figure(figsize=(10,5))\n",
    "plt.plot(cumulativeRevenueA['date'], cumulativeRevenueA['revenue']/cumulativeRevenueA['orders'], label='A')\n",
    "plt.plot(cumulativeRevenueB['date'], cumulativeRevenueB['revenue']/cumulativeRevenueB['orders'], label='B')\n",
    "plt.legend() \n",
    "plt.title('График кумулятивного среднего чека')\n",
    "plt.xlabel('Даты')\n",
    "plt.ylabel('Средний чек')\n",
    "plt.grid()"
   ]
  },
  {
   "cell_type": "markdown",
   "metadata": {},
   "source": [
    "<div class=\"alert alert-info\">\n",
    "<h2> Комментарий студента<a class=\"tocSkip\"></h2>\n",
    "\n",
    "Наблюдаем схожую ситуацию. До 18 августа росто примерно одинаковый. Однака с 18го числа группа В сильно вырывается вперед. \n",
    "</div>"
   ]
  },
  {
   "cell_type": "markdown",
   "metadata": {},
   "source": [
    "### График относительного изменения кумулятивного среднего количества заказов группы B к группе A. "
   ]
  },
  {
   "cell_type": "code",
   "execution_count": 21,
   "metadata": {},
   "outputs": [
    {
     "data": {
      "image/png": "[encoded data removed]",
      "text/plain": [
       "<Figure size 720x360 with 1 Axes>"
      ]
     },
     "metadata": {
      "needs_background": "light"
     },
     "output_type": "display_data"
    }
   ],
   "source": [
    "plt.figure(figsize=(10,5))\n",
    "# собираем данные в одном датафрейме\n",
    "mergedCumulativeRevenue = cumulativeRevenueA.merge(cumulativeRevenueB, left_on='date', right_on='date', how='left', suffixes=['A', 'B'])\n",
    "\n",
    "# cтроим отношение средних чеков\n",
    "plt.plot(mergedCumulativeRevenue['date'], (mergedCumulativeRevenue['revenueB']/mergedCumulativeRevenue['ordersB'])/(mergedCumulativeRevenue['revenueA']/mergedCumulativeRevenue['ordersA'])-1)\n",
    "\n",
    "# добавляем ось X\n",
    "plt.axhline(y=0, color='black', linestyle='--')\n",
    "plt.title('Относительное изменение кумулятивного среднего количества заказов группы B к группе A')\n",
    "plt.xlabel('Даты')\n",
    "plt.ylabel('Выручка')\n",
    "plt.grid()"
   ]
  },
  {
   "cell_type": "markdown",
   "metadata": {},
   "source": [
    "<div class=\"alert alert-info\">\n",
    "<h2> Комментарий студента<a class=\"tocSkip\"></h2>\n",
    "\n",
    "Снова видим похожую картину. Группа В сильно вырывается в районе 18го числа. Необходимо понять, что это за анамалии. \n",
    "</div>"
   ]
  },
  {
   "cell_type": "markdown",
   "metadata": {},
   "source": [
    "### Анализ кумулятивной конверсии по группам"
   ]
  },
  {
   "cell_type": "code",
   "execution_count": 22,
   "metadata": {
    "scrolled": true
   },
   "outputs": [
    {
     "data": {
      "image/png": "[encoded data removed]",
      "text/plain": [
       "<Figure size 864x360 with 1 Axes>"
      ]
     },
     "metadata": {
      "needs_background": "light"
     },
     "output_type": "display_data"
    }
   ],
   "source": [
    "\n",
    "\n",
    "cumulativeData['conversion'] = cumulativeData['orders']/cumulativeData['visitors']\n",
    "\n",
    "cumulativeDataA = cumulativeData[cumulativeData['group']=='A']\n",
    "cumulativeDataB = cumulativeData[cumulativeData['group']=='B']\n",
    "\n",
    "plt.figure(figsize=(12,5))\n",
    "plt.grid()\n",
    "plt.plot(cumulativeDataA['date'], cumulativeDataA['conversion'], label='A')\n",
    "plt.plot(cumulativeDataB['date'], cumulativeDataB['conversion'], label='B')\n",
    "plt.title('Кумулятивная конверсия')\n",
    "plt.xlabel('Даты')\n",
    "plt.ylabel('Конверсия')\n",
    "plt.legend();\n"
   ]
  },
  {
   "cell_type": "markdown",
   "metadata": {},
   "source": [
    "<div class=\"alert alert-block alert-info\">\n",
    "  \n",
    "  <b>Комментарий cтудента ver. 2</b>\n",
    "    \n",
    "  В начале теста обе группы сильно колебались. Поначалу группа А даже была выше. Однако к 6 августа группы сравнялись, а дальше группа В выбилась вперед, а к 10 августа сильные колебания прекратились. Конверсия оставалась примерно на одном уровне.\n",
    "</div>"
   ]
  },
  {
   "cell_type": "markdown",
   "metadata": {},
   "source": [
    "### Анализ относительного изменения кумулятивной конверсии группы В к группе А."
   ]
  },
  {
   "cell_type": "code",
   "execution_count": 23,
   "metadata": {},
   "outputs": [
    {
     "data": {
      "text/plain": [
       "<matplotlib.lines.Line2D at 0x7ff689c39e80>"
      ]
     },
     "execution_count": 23,
     "metadata": {},
     "output_type": "execute_result"
    },
    {
     "data": {
      "image/png": "[encoded data removed]",
      "text/plain": [
       "<Figure size 864x360 with 1 Axes>"
      ]
     },
     "metadata": {
      "needs_background": "light"
     },
     "output_type": "display_data"
    }
   ],
   "source": [
    "mergedCumulativeConversions = cumulativeDataA[['date','conversion']].merge(cumulativeDataB[['date','conversion']], left_on='date', right_on='date', how='left', suffixes=['A', 'B'])\n",
    "\n",
    "plt.figure(figsize=(12,5))\n",
    "plt.grid()\n",
    "plt.plot(mergedCumulativeConversions['date'], mergedCumulativeConversions['conversionB']/mergedCumulativeConversions['conversionA']-1, label=\"Относительный прирост конверсии группы B относительно группы A\")\n",
    "plt.legend()\n",
    "plt.title('Кумулятивная конверсия')\n",
    "plt.xlabel('Даты')\n",
    "plt.ylabel('Конверсия')\n",
    "\n",
    "\n",
    "plt.axhline(y=0, color='black', linestyle='--')\n",
    "plt.axhline(y=-0.1, color='grey', linestyle='--')\n",
    "\n",
    "\n",
    "\n"
   ]
  },
  {
   "cell_type": "markdown",
   "metadata": {},
   "source": [
    "<div class=\"alert alert-block alert-info\">\n",
    "  \n",
    "  <b>Комментарий cтудента ver. 2</b>\n",
    "    \n",
    "  Наблюдаем идентичный результат с прошлым графиком. В начале теста  конверсия группы А была выше, но к 10 августа группа В опережает ее. \n",
    "</div>"
   ]
  },
  {
   "cell_type": "markdown",
   "metadata": {},
   "source": [
    "### Точечный график количества заказов по пользователям."
   ]
  },
  {
   "cell_type": "code",
   "execution_count": 24,
   "metadata": {},
   "outputs": [
    {
     "data": {
      "text/html": [
       "<div>\n",
       "<style scoped>\n",
       "    .dataframe tbody tr th:only-of-type {\n",
       "        vertical-align: middle;\n",
       "    }\n",
       "\n",
       "    .dataframe tbody tr th {\n",
       "        vertical-align: top;\n",
       "    }\n",
       "\n",
       "    .dataframe thead th {\n",
       "        text-align: right;\n",
       "    }\n",
       "</style>\n",
       "<table border=\"1\" class=\"dataframe\">\n",
       "  <thead>\n",
       "    <tr style=\"text-align: right;\">\n",
       "      <th></th>\n",
       "      <th>visitorid</th>\n",
       "      <th>orders</th>\n",
       "    </tr>\n",
       "  </thead>\n",
       "  <tbody>\n",
       "    <tr>\n",
       "      <th>908</th>\n",
       "      <td>3967698036</td>\n",
       "      <td>3</td>\n",
       "    </tr>\n",
       "    <tr>\n",
       "      <th>55</th>\n",
       "      <td>249864742</td>\n",
       "      <td>3</td>\n",
       "    </tr>\n",
       "    <tr>\n",
       "      <th>478</th>\n",
       "      <td>2108163459</td>\n",
       "      <td>3</td>\n",
       "    </tr>\n",
       "    <tr>\n",
       "      <th>687</th>\n",
       "      <td>2988190573</td>\n",
       "      <td>3</td>\n",
       "    </tr>\n",
       "    <tr>\n",
       "      <th>890</th>\n",
       "      <td>3908431265</td>\n",
       "      <td>3</td>\n",
       "    </tr>\n",
       "    <tr>\n",
       "      <th>...</th>\n",
       "      <td>...</td>\n",
       "      <td>...</td>\n",
       "    </tr>\n",
       "    <tr>\n",
       "      <th>331</th>\n",
       "      <td>1438226485</td>\n",
       "      <td>1</td>\n",
       "    </tr>\n",
       "    <tr>\n",
       "      <th>332</th>\n",
       "      <td>1452540367</td>\n",
       "      <td>1</td>\n",
       "    </tr>\n",
       "    <tr>\n",
       "      <th>333</th>\n",
       "      <td>1455323168</td>\n",
       "      <td>1</td>\n",
       "    </tr>\n",
       "    <tr>\n",
       "      <th>334</th>\n",
       "      <td>1455861274</td>\n",
       "      <td>1</td>\n",
       "    </tr>\n",
       "    <tr>\n",
       "      <th>972</th>\n",
       "      <td>4283872382</td>\n",
       "      <td>1</td>\n",
       "    </tr>\n",
       "  </tbody>\n",
       "</table>\n",
       "<p>973 rows × 2 columns</p>\n",
       "</div>"
      ],
      "text/plain": [
       "      visitorid  orders\n",
       "908  3967698036       3\n",
       "55    249864742       3\n",
       "478  2108163459       3\n",
       "687  2988190573       3\n",
       "890  3908431265       3\n",
       "..          ...     ...\n",
       "331  1438226485       1\n",
       "332  1452540367       1\n",
       "333  1455323168       1\n",
       "334  1455861274       1\n",
       "972  4283872382       1\n",
       "\n",
       "[973 rows x 2 columns]"
      ]
     },
     "execution_count": 24,
     "metadata": {},
     "output_type": "execute_result"
    }
   ],
   "source": [
    "ordersByUsers = orders.drop(['group', 'revenue', 'date'], axis=1).groupby('visitorId', as_index=False).agg({'transactionId' : pd.Series.nunique})\n",
    "\n",
    "ordersByUsers.columns = ['visitorid','orders']\n",
    "\n",
    "ordersByUsers.sort_values(by='orders',ascending=False)"
   ]
  },
  {
   "cell_type": "code",
   "execution_count": 25,
   "metadata": {},
   "outputs": [
    {
     "data": {
      "text/plain": [
       "<matplotlib.collections.PathCollection at 0x7ff689bb4340>"
      ]
     },
     "execution_count": 25,
     "metadata": {},
     "output_type": "execute_result"
    },
    {
     "data": {
      "image/png": "[encoded data removed]",
      "text/plain": [
       "<Figure size 720x360 with 1 Axes>"
      ]
     },
     "metadata": {
      "needs_background": "light"
     },
     "output_type": "display_data"
    }
   ],
   "source": [
    "x_values = pd.Series(range(0,len(ordersByUsers)))\n",
    "plt.figure(figsize=(10,5))\n",
    "plt.grid()\n",
    "plt.title('График количества заказов по пользователям')\n",
    "plt.scatter(x_values, ordersByUsers['orders']) "
   ]
  },
  {
   "cell_type": "markdown",
   "metadata": {},
   "source": [
    "<div class=\"alert alert-info\">\n",
    "<h2> Комментарий студента<a class=\"tocSkip\"></h2>\n",
    "\n",
    " Большинство клиентов делали только 1 заказ. 3-4 заказ уже редкость. Остальное, скорее всего, можно считать за выбросы.\n",
    "</div>"
   ]
  },
  {
   "cell_type": "markdown",
   "metadata": {},
   "source": [
    "### Считаем 95-й и 99-й перцентили количества заказов на пользователя. Выбираем границу для определения аномальных пользователей. "
   ]
  },
  {
   "cell_type": "code",
   "execution_count": 26,
   "metadata": {},
   "outputs": [
    {
     "data": {
      "text/plain": [
       "array([1., 2.])"
      ]
     },
     "execution_count": 26,
     "metadata": {},
     "output_type": "execute_result"
    }
   ],
   "source": [
    "\n",
    "np.percentile(ordersByUsers['orders'], [95, 99])"
   ]
  },
  {
   "cell_type": "markdown",
   "metadata": {},
   "source": [
    "<div class=\"alert alert-info\">\n",
    "<h2> Комментарий <a class=\"tocSkip\"></h2>\n",
    "\n",
    "Только 5% пользователей оформляли более 2 заказов. Возьмем 2 заказа за границу для определения аномальных пользователей. \n",
    "</div>"
   ]
  },
  {
   "cell_type": "markdown",
   "metadata": {},
   "source": [
    "### Точечный график стоимостей заказов"
   ]
  },
  {
   "cell_type": "code",
   "execution_count": 27,
   "metadata": {},
   "outputs": [
    {
     "data": {
      "text/plain": [
       "<matplotlib.collections.PathCollection at 0x7ff689b2a310>"
      ]
     },
     "execution_count": 27,
     "metadata": {},
     "output_type": "execute_result"
    },
    {
     "data": {
      "image/png": "[encoded data removed]",
      "text/plain": [
       "<Figure size 720x360 with 1 Axes>"
      ]
     },
     "metadata": {
      "needs_background": "light"
     },
     "output_type": "display_data"
    }
   ],
   "source": [
    "x_values = pd.Series(range(0,len(orders['revenue'])))\n",
    "plt.figure(figsize=(10,5))\n",
    "plt.grid()\n",
    "plt.title('График стоимостей заказов')\n",
    "plt.scatter(x_values, orders['revenue'])"
   ]
  },
  {
   "cell_type": "code",
   "execution_count": 28,
   "metadata": {},
   "outputs": [
    {
     "data": {
      "text/plain": [
       "<matplotlib.collections.PathCollection at 0x7ff689b05580>"
      ]
     },
     "execution_count": 28,
     "metadata": {},
     "output_type": "execute_result"
    },
    {
     "data": {
      "image/png": "[encoded data removed]",
      "text/plain": [
       "<Figure size 720x360 with 1 Axes>"
      ]
     },
     "metadata": {
      "needs_background": "light"
     },
     "output_type": "display_data"
    }
   ],
   "source": [
    "ordersOrdered = orders[orders['revenue']<=195000]['revenue']\n",
    "xn_values = pd.Series(range(0,len(ordersOrdered)))\n",
    "plt.figure(figsize=(10,5))\n",
    "plt.grid()\n",
    "plt.title('График стоимостей заказов')\n",
    "plt.scatter(xn_values, ordersOrdered)"
   ]
  },
  {
   "cell_type": "markdown",
   "metadata": {},
   "source": [
    "<div class=\"alert alert-info\">\n",
    "<h2> Комментарий<a class=\"tocSkip\"></h2>\n",
    "Явно видно два выброса, которые сильно повлияли на графики. На втором графике ограничим сумму заказаов и получаем более наглядный график. Большая часть заказов находится до 20 000. \n",
    "</div>"
   ]
  },
  {
   "cell_type": "markdown",
   "metadata": {},
   "source": [
    "### Считаем 95-й и 99-й перцентили стоимости заказов. Выбираем границу для определения аномальных заказов"
   ]
  },
  {
   "cell_type": "code",
   "execution_count": 29,
   "metadata": {},
   "outputs": [
    {
     "data": {
      "text/plain": [
       "array([26785., 53904.])"
      ]
     },
     "execution_count": 29,
     "metadata": {},
     "output_type": "execute_result"
    }
   ],
   "source": [
    "np.percentile(orders['revenue'], [95, 99])"
   ]
  },
  {
   "cell_type": "markdown",
   "metadata": {},
   "source": [
    "<div class=\"alert alert-info\">\n",
    "<h2> Комментарий<a class=\"tocSkip\"></h2>\n",
    "99% заказаов находятся до 53904. Эту сумму мы и будем использовать в качестве границы\n",
    "</div>"
   ]
  },
  {
   "cell_type": "markdown",
   "metadata": {},
   "source": [
    "### Считаем статистическую значимость различий в среднем количестве заказов между группами по «сырым» данным"
   ]
  },
  {
   "cell_type": "code",
   "execution_count": 30,
   "metadata": {},
   "outputs": [
    {
     "data": {
      "text/html": [
       "<div>\n",
       "<style scoped>\n",
       "    .dataframe tbody tr th:only-of-type {\n",
       "        vertical-align: middle;\n",
       "    }\n",
       "\n",
       "    .dataframe tbody tr th {\n",
       "        vertical-align: top;\n",
       "    }\n",
       "\n",
       "    .dataframe thead th {\n",
       "        text-align: right;\n",
       "    }\n",
       "</style>\n",
       "<table border=\"1\" class=\"dataframe\">\n",
       "  <thead>\n",
       "    <tr style=\"text-align: right;\">\n",
       "      <th></th>\n",
       "      <th>date</th>\n",
       "      <th>ordersPerDateA</th>\n",
       "      <th>revenuePerDateA</th>\n",
       "      <th>ordersPerDateB</th>\n",
       "      <th>revenuePerDateB</th>\n",
       "      <th>ordersCummulativeA</th>\n",
       "      <th>revenueCummulativeA</th>\n",
       "      <th>ordersCummulativeB</th>\n",
       "      <th>revenueCummulativeB</th>\n",
       "      <th>visitorsPerDateA</th>\n",
       "      <th>visitorsPerDateB</th>\n",
       "      <th>visitorsCummulativeA</th>\n",
       "      <th>visitorsCummulativeB</th>\n",
       "    </tr>\n",
       "  </thead>\n",
       "  <tbody>\n",
       "    <tr>\n",
       "      <th>0</th>\n",
       "      <td>2019-08-01</td>\n",
       "      <td>23</td>\n",
       "      <td>142779</td>\n",
       "      <td>17</td>\n",
       "      <td>59758</td>\n",
       "      <td>23</td>\n",
       "      <td>142779</td>\n",
       "      <td>17</td>\n",
       "      <td>59758</td>\n",
       "      <td>719</td>\n",
       "      <td>713</td>\n",
       "      <td>719</td>\n",
       "      <td>713</td>\n",
       "    </tr>\n",
       "    <tr>\n",
       "      <th>1</th>\n",
       "      <td>2019-08-02</td>\n",
       "      <td>19</td>\n",
       "      <td>91602</td>\n",
       "      <td>23</td>\n",
       "      <td>162043</td>\n",
       "      <td>42</td>\n",
       "      <td>234381</td>\n",
       "      <td>40</td>\n",
       "      <td>221801</td>\n",
       "      <td>619</td>\n",
       "      <td>581</td>\n",
       "      <td>1338</td>\n",
       "      <td>1294</td>\n",
       "    </tr>\n",
       "    <tr>\n",
       "      <th>2</th>\n",
       "      <td>2019-08-03</td>\n",
       "      <td>24</td>\n",
       "      <td>112473</td>\n",
       "      <td>14</td>\n",
       "      <td>67049</td>\n",
       "      <td>66</td>\n",
       "      <td>346854</td>\n",
       "      <td>54</td>\n",
       "      <td>288850</td>\n",
       "      <td>507</td>\n",
       "      <td>509</td>\n",
       "      <td>1845</td>\n",
       "      <td>1803</td>\n",
       "    </tr>\n",
       "    <tr>\n",
       "      <th>3</th>\n",
       "      <td>2019-08-04</td>\n",
       "      <td>11</td>\n",
       "      <td>41176</td>\n",
       "      <td>14</td>\n",
       "      <td>96890</td>\n",
       "      <td>77</td>\n",
       "      <td>388030</td>\n",
       "      <td>68</td>\n",
       "      <td>385740</td>\n",
       "      <td>717</td>\n",
       "      <td>770</td>\n",
       "      <td>2562</td>\n",
       "      <td>2573</td>\n",
       "    </tr>\n",
       "    <tr>\n",
       "      <th>4</th>\n",
       "      <td>2019-08-05</td>\n",
       "      <td>22</td>\n",
       "      <td>86383</td>\n",
       "      <td>21</td>\n",
       "      <td>89908</td>\n",
       "      <td>99</td>\n",
       "      <td>474413</td>\n",
       "      <td>89</td>\n",
       "      <td>475648</td>\n",
       "      <td>756</td>\n",
       "      <td>707</td>\n",
       "      <td>3318</td>\n",
       "      <td>3280</td>\n",
       "    </tr>\n",
       "  </tbody>\n",
       "</table>\n",
       "</div>"
      ],
      "text/plain": [
       "        date  ordersPerDateA  revenuePerDateA  ordersPerDateB  \\\n",
       "0 2019-08-01              23           142779              17   \n",
       "1 2019-08-02              19            91602              23   \n",
       "2 2019-08-03              24           112473              14   \n",
       "3 2019-08-04              11            41176              14   \n",
       "4 2019-08-05              22            86383              21   \n",
       "\n",
       "   revenuePerDateB  ordersCummulativeA  revenueCummulativeA  \\\n",
       "0            59758                  23               142779   \n",
       "1           162043                  42               234381   \n",
       "2            67049                  66               346854   \n",
       "3            96890                  77               388030   \n",
       "4            89908                  99               474413   \n",
       "\n",
       "   ordersCummulativeB  revenueCummulativeB  visitorsPerDateA  \\\n",
       "0                  17                59758               719   \n",
       "1                  40               221801               619   \n",
       "2                  54               288850               507   \n",
       "3                  68               385740               717   \n",
       "4                  89               475648               756   \n",
       "\n",
       "   visitorsPerDateB  visitorsCummulativeA  visitorsCummulativeB  \n",
       "0               713                   719                   713  \n",
       "1               581                  1338                  1294  \n",
       "2               509                  1845                  1803  \n",
       "3               770                  2562                  2573  \n",
       "4               707                  3318                  3280  "
      ]
     },
     "execution_count": 30,
     "metadata": {},
     "output_type": "execute_result"
    }
   ],
   "source": [
    "visitorsADaily = visitors[visitors['group']=='A'][['date', 'visitors']]\n",
    "visitorsADaily.columns = ['date', 'visitorsPerDateA']\n",
    "\n",
    "visitorsACummulative = visitorsADaily.apply(lambda x: visitorsADaily[visitorsADaily['date'] <= x['date']].agg({'date' : 'max', 'visitorsPerDateA' : 'sum'}), axis=1)\n",
    "visitorsACummulative.columns = ['date', 'visitorsCummulativeA']\n",
    "\n",
    "visitorsBDaily = visitors[visitors['group']=='B'][['date', 'visitors']]\n",
    "visitorsBDaily.columns = ['date', 'visitorsPerDateB']\n",
    "\n",
    "visitorsBCummulative = visitorsBDaily.apply(lambda x: visitorsBDaily[visitorsBDaily['date'] <= x['date']].agg({'date' : 'max', 'visitorsPerDateB' : 'sum'}), axis=1)\n",
    "visitorsBCummulative.columns = ['date', 'visitorsCummulativeB']\n",
    "\n",
    "# Считаем суммарное число заказов до выбранной даты включительно в группах A и B\n",
    "ordersADaily = orders[orders['group']=='A'][['date', 'transactionId', 'visitorId', 'revenue']]\\\n",
    "    .groupby('date', as_index=False)\\\n",
    "    .agg({'transactionId' : pd.Series.nunique, 'revenue' : 'sum'})\n",
    "ordersADaily.columns = ['date', 'ordersPerDateA', 'revenuePerDateA']\n",
    "\n",
    "ordersACummulative = ordersADaily.apply(\n",
    "    lambda x: \\\n",
    "        ordersADaily[ordersADaily['date'] <= x['date']]\\\n",
    "            .agg({\n",
    "                'date' : 'max',\n",
    "                'ordersPerDateA' : 'sum',\n",
    "                'revenuePerDateA' : 'sum'}), axis=1).sort_values(by=['date'])\n",
    "ordersACummulative.columns = ['date', 'ordersCummulativeA', 'revenueCummulativeA']\n",
    "\n",
    "ordersBDaily = orders[orders['group']=='B'][['date', 'transactionId', 'visitorId', 'revenue']]\\\n",
    "    .groupby('date', as_index=False)\\\n",
    "    .agg({'transactionId' : pd.Series.nunique, 'revenue' : 'sum'})\n",
    "ordersBDaily.columns = ['date', 'ordersPerDateB', 'revenuePerDateB']\n",
    "\n",
    "ordersBCummulative = ordersBDaily.apply(\n",
    "    lambda x: \\\n",
    "        ordersBDaily[ordersBDaily['date'] <= x['date']]\\\n",
    "            .agg({\n",
    "                'date' : 'max',\n",
    "                'ordersPerDateB' : 'sum',\n",
    "                'revenuePerDateB' : 'sum'}), axis=1).sort_values(by=['date'])\n",
    "ordersBCummulative.columns = ['date', 'ordersCummulativeB', 'revenueCummulativeB']\n",
    "\n",
    "\n",
    "data = ordersADaily.merge(ordersBDaily, left_on='date', right_on='date', how='left')\\\n",
    "    .merge(ordersACummulative, left_on='date', right_on='date', how='left')\\\n",
    "    .merge(ordersBCummulative, left_on='date', right_on='date', how='left')\\\n",
    "    .merge(visitorsADaily, left_on='date', right_on='date', how='left')\\\n",
    "    .merge(visitorsBDaily, left_on='date', right_on='date', how='left')\\\n",
    "    .merge(visitorsACummulative, left_on='date', right_on='date', how='left')\\\n",
    "    .merge(visitorsBCummulative, left_on='date', right_on='date', how='left')\n",
    "\n",
    "data.head(5)"
   ]
  },
  {
   "cell_type": "code",
   "execution_count": 31,
   "metadata": {},
   "outputs": [],
   "source": [
    "ordersByUsersA = (\n",
    "    orders[orders['group'] == 'A']\n",
    "    .groupby('visitorId', as_index=False)\n",
    "    .agg({'transactionId': pd.Series.nunique})\n",
    ")\n",
    "ordersByUsersA.columns = ['visitorId', 'transactionId']\n",
    "\n",
    "ordersByUsersB = (\n",
    "    orders[orders['group'] == 'B']\n",
    "    .groupby('visitorId', as_index=False)\n",
    "    .agg({'transactionId': pd.Series.nunique})\n",
    ")\n",
    "ordersByUsersB.columns = ['visitorId', 'transactionId']"
   ]
  },
  {
   "cell_type": "code",
   "execution_count": 32,
   "metadata": {},
   "outputs": [],
   "source": [
    "sampleA = pd.concat([ordersByUsersA['visitorId'],pd.Series(0, index=np.arange(data['visitorsPerDateA'].sum() - len(ordersByUsersA['visitorId'])), name='orders')],axis=0)\n",
    "sampleB = pd.concat([ordersByUsersB['visitorId'],pd.Series(0, index=np.arange(data['visitorsPerDateB'].sum() - len(ordersByUsersB['visitorId'])), name='orders')],axis=0)"
   ]
  },
  {
   "cell_type": "code",
   "execution_count": 33,
   "metadata": {},
   "outputs": [
    {
     "name": "stdout",
     "output_type": "stream",
     "text": [
      "0.011\n",
      "0.157\n"
     ]
    }
   ],
   "source": [
    "#Применим статистический критерий Манна-Уитни к полученным выборкам:\n",
    "\n",
    "print(\"{0:.3f}\".format(stats.mannwhitneyu(sampleA, sampleB)[1]))\n",
    "print(\"{0:.3f}\".format(sampleB.mean()/sampleA.mean()-1))"
   ]
  },
  {
   "cell_type": "markdown",
   "metadata": {},
   "source": [
    "<div class=\"alert alert-info\">\n",
    "<h2> Комментарий <a class=\"tocSkip\"></h2>\n",
    "\n",
    "- Н0 статистически значимых различий в конверсии между группами нет \n",
    "- H1 статистически значимые различия есть\n",
    "   \n",
    "    Получаем, что p-value меньше 0.05. Значит, мы отвергаем гипотезу о том, что среди двух групп нет сатистически значимых различий в конверсии. Относительная разница равна 15,7%\n",
    "</div>"
   ]
  },
  {
   "cell_type": "markdown",
   "metadata": {},
   "source": [
    "### Считаем статистическую значимость различий в среднем чеке заказа между группами по «сырым» данным."
   ]
  },
  {
   "cell_type": "code",
   "execution_count": 34,
   "metadata": {
    "scrolled": true
   },
   "outputs": [
    {
     "name": "stdout",
     "output_type": "stream",
     "text": [
      "0.829\n",
      "0.287\n"
     ]
    }
   ],
   "source": [
    "#Применим статистический критерий Манна-Уитни к полученным выборкам:\n",
    "\n",
    "print('{0:.3f}'.format(stats.mannwhitneyu(orders[orders['group']=='A']['revenue'], orders[orders['group']=='B']['revenue'])[1]))\n",
    "print('{0:.3f}'.format(orders[orders['group']=='B']['revenue'].mean()/orders[orders['group']=='A']['revenue'].mean()-1))"
   ]
  },
  {
   "cell_type": "markdown",
   "metadata": {},
   "source": [
    "<div class=\"alert alert-info\">\n",
    "<h2> Комментарий<a class=\"tocSkip\"></h2>\n",
    "\n",
    "- Н0 статистически значимых различий в среднем чеке между группами нет \n",
    "- H1 статистически значимые различия есть\n",
    "   \n",
    "P-value значительно больше 0.05. Значит, причин отвергать нулевую гипотезу и считать, что в среднем чеке есть различия, нет. \n",
    "</div>"
   ]
  },
  {
   "cell_type": "markdown",
   "metadata": {},
   "source": [
    "### Считаем статистическую значимость различий в среднем количестве заказов между группами по «очищенным» данным"
   ]
  },
  {
   "cell_type": "code",
   "execution_count": 35,
   "metadata": {},
   "outputs": [
    {
     "name": "stdout",
     "output_type": "stream",
     "text": [
      "1099    148427295\n",
      "33      249864742\n",
      "58      611059232\n",
      "949     887908475\n",
      "744     888512513\n",
      "Name: visitorId, dtype: int64\n",
      "16\n"
     ]
    }
   ],
   "source": [
    "#выявляем аномальных пользователей\n",
    "usersWithManyOrders = pd.concat(\n",
    "    [\n",
    "        ordersByUsersA[ordersByUsersA['transactionId'] > 2]['visitorId'],\n",
    "        ordersByUsersB[ordersByUsersB['transactionId'] > 2]['visitorId'],\n",
    "    ],\n",
    "    axis=0,\n",
    ")\n",
    "usersWithExpensiveOrders = orders[orders['revenue'] > 53904]['visitorId']\n",
    "abnormalUsers = (\n",
    "    pd.concat([usersWithManyOrders, usersWithExpensiveOrders], axis=0)\n",
    "    .drop_duplicates()\n",
    "    .sort_values()\n",
    ")\n",
    "print(abnormalUsers.head(5))\n",
    "print(abnormalUsers.shape[0])"
   ]
  },
  {
   "cell_type": "code",
   "execution_count": 36,
   "metadata": {},
   "outputs": [],
   "source": [
    "#Узнаем, как их действия повлияли на результаты теста. Посчитаем статистическую значимость различий в среднем количестве \n",
    "#заказов между группами теста по очищенным данным. \n",
    "#Сначала подготовим выборки количества заказов по пользователям по группам теста:\n",
    "\n",
    "sampleAFiltered = pd.concat(\n",
    "    [\n",
    "        ordersByUsersA[\n",
    "            np.logical_not(ordersByUsersA['visitorId'].isin(abnormalUsers))\n",
    "        ]['transactionId'],\n",
    "        pd.Series(\n",
    "            0,\n",
    "            index=np.arange(\n",
    "                data['visitorsPerDateA'].sum() - len(ordersByUsersA['transactionId'])\n",
    "            ),\n",
    "            name='transactionId',\n",
    "        ),\n",
    "    ],\n",
    "    axis=0,\n",
    ")\n",
    "\n",
    "sampleBFiltered = pd.concat(\n",
    "    [\n",
    "        ordersByUsersB[\n",
    "            np.logical_not(ordersByUsersB['visitorId'].isin(abnormalUsers))\n",
    "        ]['transactionId'],\n",
    "        pd.Series(\n",
    "            0,\n",
    "            index=np.arange(\n",
    "                data['visitorsPerDateB'].sum() - len(ordersByUsersB['transactionId'])\n",
    "            ),\n",
    "            name='transactionId',\n",
    "        ),\n",
    "    ],\n",
    "    axis=0,\n",
    ")"
   ]
  },
  {
   "cell_type": "code",
   "execution_count": 37,
   "metadata": {},
   "outputs": [
    {
     "name": "stdout",
     "output_type": "stream",
     "text": [
      "0.007\n",
      "0.189\n"
     ]
    }
   ],
   "source": [
    "#Применим статистический критерий Манна-Уитни к полученным выборкам:\n",
    "\n",
    "print('{0:.3f}'.format(stats.mannwhitneyu(sampleAFiltered, sampleBFiltered)[1]))\n",
    "print('{0:.3f}'.format(sampleBFiltered.mean()/sampleAFiltered.mean()-1))"
   ]
  },
  {
   "cell_type": "markdown",
   "metadata": {},
   "source": [
    "<div class=\"alert alert-info\">\n",
    "<h2> Комментарий <a class=\"tocSkip\"></h2>\n",
    "- Н0 статистически значимых различий в конверсии по очищенным данным между группами нет \n",
    "- H1 статистически значимые различия есть\n",
    "   \n",
    "Результат не изменился. P-value меньше 0.05, нулевую гипотезу отвергаем. \n",
    "Разница между группами 18,9%\n",
    "</div>"
   ]
  },
  {
   "cell_type": "markdown",
   "metadata": {},
   "source": [
    "\n",
    "### Считаем статистическую значимость различий в среднем количестве заказов между группами по «очищенным» данным"
   ]
  },
  {
   "cell_type": "code",
   "execution_count": 38,
   "metadata": {},
   "outputs": [
    {
     "name": "stdout",
     "output_type": "stream",
     "text": [
      "0.788\n",
      "-0.032\n"
     ]
    }
   ],
   "source": [
    "print(\n",
    "    '{0:.3f}'.format(\n",
    "        stats.mannwhitneyu(\n",
    "            orders[\n",
    "                np.logical_and(\n",
    "                    orders['group'] == 'A',\n",
    "                    np.logical_not(orders['visitorId'].isin(abnormalUsers)),\n",
    "                )\n",
    "            ]['revenue'],\n",
    "            orders[\n",
    "                np.logical_and(\n",
    "                    orders['group'] == 'B',\n",
    "                    np.logical_not(orders['visitorId'].isin(abnormalUsers)),\n",
    "                )\n",
    "            ]['revenue'],\n",
    "        )[1]\n",
    "    )\n",
    ")\n",
    "\n",
    "print(\n",
    "    \"{0:.3f}\".format(\n",
    "        orders[\n",
    "            np.logical_and(\n",
    "                orders['group'] == 'B',\n",
    "                np.logical_not(orders['visitorId'].isin(abnormalUsers)),\n",
    "            )\n",
    "        ]['revenue'].mean()\n",
    "        / orders[\n",
    "            np.logical_and(\n",
    "                orders['group'] == 'A',\n",
    "                np.logical_not(orders['visitorId'].isin(abnormalUsers)),\n",
    "            )\n",
    "        ]['revenue'].mean()\n",
    "        - 1\n",
    "    )\n",
    ")"
   ]
  },
  {
   "cell_type": "markdown",
   "metadata": {},
   "source": [
    "<div class=\"alert alert-info\">\n",
    "<h2> Комментарий <a class=\"tocSkip\"></h2>\n",
    "\n",
    "- Н0 статистически значимых различий в среднем чеке  по очищенным данным между группами нет \n",
    "- H1 статистически значимые различия есть\n",
    "    \n",
    "    Причин отвергать нулевую гипотезу и считать, что в среднем чеке есть различия,тоже нет. Теперь группа В незначительно (на 3.2%) уступает группе А. Яркий пример, как сильно аномалии могут влиять на результаты A/B-теста.\n",
    "</div>"
   ]
  },
  {
   "cell_type": "markdown",
   "metadata": {},
   "source": [
    "<h2>  Часть 3. Выводы <a class=\"tocSkip\"> </h2> "
   ]
  },
  {
   "cell_type": "markdown",
   "metadata": {},
   "source": [
    "<div class=\"alert alert-info\">\n",
    "<h2> Комментарий<a class=\"tocSkip\"></h2>\n",
    "\n",
    "- Есть статистически значимые различия по среднему количеству заказов между группами и по «сырым», и по данным после фильтрации аномалий. Разница группы В составялет 15,7 по не очищенным данным, и 18,9 по очищенным;\n",
    "- Статистических различий в среднем чеке нет. По не очищенным данным группа В впереди на 28,7%. После очистки группа В уступает на 3,2%. Наглядно влияние закозов-выбросов.\n",
    "- На основании этих данных можем сделать вывод, что можно остановить тест и зафиксировать победу группы В, т.к. разница в конверсии составляет 18,9%\n",
    "</div>"
   ]
  },
  {
   "cell_type": "code",
   "execution_count": null,
   "metadata": {},
   "outputs": [],
   "source": []
  }
 ],
 "metadata": {
  "ExecuteTimeLog": [
   {
    "duration": 1416,
    "start_time": "2022-11-16T22:05:16.551Z"
   },
   {
    "duration": 63,
    "start_time": "2022-11-16T22:05:45.271Z"
   },
   {
    "duration": 14,
    "start_time": "2022-11-16T22:05:50.218Z"
   },
   {
    "duration": 6,
    "start_time": "2022-11-16T22:09:23.518Z"
   },
   {
    "duration": 11,
    "start_time": "2022-11-16T22:09:27.231Z"
   },
   {
    "duration": 9,
    "start_time": "2022-11-16T22:09:44.199Z"
   },
   {
    "duration": 3,
    "start_time": "2022-11-16T22:10:39.400Z"
   },
   {
    "duration": 1144,
    "start_time": "2022-11-16T22:11:05.718Z"
   },
   {
    "duration": 175,
    "start_time": "2022-11-16T22:11:06.864Z"
   },
   {
    "duration": 16,
    "start_time": "2022-11-16T22:11:07.042Z"
   },
   {
    "duration": 20,
    "start_time": "2022-11-16T22:11:07.060Z"
   },
   {
    "duration": 3,
    "start_time": "2022-11-16T22:11:07.082Z"
   },
   {
    "duration": 13,
    "start_time": "2022-11-16T22:11:18.030Z"
   },
   {
    "duration": 11,
    "start_time": "2022-11-16T22:11:37.138Z"
   },
   {
    "duration": 98,
    "start_time": "2022-11-16T22:13:36.295Z"
   },
   {
    "duration": 11,
    "start_time": "2022-11-16T22:13:51.197Z"
   },
   {
    "duration": 14,
    "start_time": "2022-11-16T22:14:00.756Z"
   },
   {
    "duration": 78,
    "start_time": "2022-11-16T22:15:05.588Z"
   },
   {
    "duration": 71,
    "start_time": "2022-11-16T22:15:09.816Z"
   },
   {
    "duration": 9,
    "start_time": "2022-11-16T22:15:13.728Z"
   },
   {
    "duration": 12,
    "start_time": "2022-11-16T22:15:34.027Z"
   },
   {
    "duration": 10,
    "start_time": "2022-11-16T22:16:13.936Z"
   },
   {
    "duration": 4,
    "start_time": "2022-11-16T22:16:33.727Z"
   },
   {
    "duration": 5,
    "start_time": "2022-11-16T22:17:06.644Z"
   },
   {
    "duration": 1168,
    "start_time": "2022-11-16T22:17:12.399Z"
   },
   {
    "duration": 66,
    "start_time": "2022-11-16T22:17:13.569Z"
   },
   {
    "duration": 15,
    "start_time": "2022-11-16T22:17:13.637Z"
   },
   {
    "duration": 24,
    "start_time": "2022-11-16T22:17:13.654Z"
   },
   {
    "duration": 15,
    "start_time": "2022-11-16T22:17:13.681Z"
   },
   {
    "duration": 33,
    "start_time": "2022-11-16T22:17:13.698Z"
   },
   {
    "duration": 33,
    "start_time": "2022-11-16T22:17:13.733Z"
   },
   {
    "duration": 10,
    "start_time": "2022-11-16T22:17:13.768Z"
   },
   {
    "duration": 12,
    "start_time": "2022-11-16T22:17:17.011Z"
   },
   {
    "duration": 11,
    "start_time": "2022-11-16T22:17:22.551Z"
   },
   {
    "duration": 4,
    "start_time": "2022-11-16T22:18:09.792Z"
   },
   {
    "duration": 13,
    "start_time": "2022-11-16T22:18:17.028Z"
   },
   {
    "duration": 15,
    "start_time": "2022-11-16T22:18:27.099Z"
   },
   {
    "duration": 14,
    "start_time": "2022-11-16T22:18:38.340Z"
   },
   {
    "duration": 1164,
    "start_time": "2022-11-16T22:18:45.883Z"
   },
   {
    "duration": 68,
    "start_time": "2022-11-16T22:18:47.049Z"
   },
   {
    "duration": 11,
    "start_time": "2022-11-16T22:18:47.119Z"
   },
   {
    "duration": 29,
    "start_time": "2022-11-16T22:18:47.132Z"
   },
   {
    "duration": 13,
    "start_time": "2022-11-16T22:18:47.164Z"
   },
   {
    "duration": 40,
    "start_time": "2022-11-16T22:18:47.179Z"
   },
   {
    "duration": 27,
    "start_time": "2022-11-16T22:18:47.221Z"
   },
   {
    "duration": 35,
    "start_time": "2022-11-16T22:18:47.250Z"
   },
   {
    "duration": 27,
    "start_time": "2022-11-16T22:18:47.287Z"
   },
   {
    "duration": 12,
    "start_time": "2022-11-16T22:18:59.771Z"
   },
   {
    "duration": 11,
    "start_time": "2022-11-16T22:19:10.839Z"
   },
   {
    "duration": 1476,
    "start_time": "2022-11-16T22:21:00.448Z"
   },
   {
    "duration": 5,
    "start_time": "2022-11-16T22:21:04.066Z"
   },
   {
    "duration": 6,
    "start_time": "2022-11-16T22:23:12.670Z"
   },
   {
    "duration": 7,
    "start_time": "2022-11-16T22:23:31.316Z"
   },
   {
    "duration": 9,
    "start_time": "2022-11-16T22:23:35.018Z"
   },
   {
    "duration": 8,
    "start_time": "2022-11-16T22:23:48.817Z"
   },
   {
    "duration": 6,
    "start_time": "2022-11-16T22:23:51.768Z"
   },
   {
    "duration": 6,
    "start_time": "2022-11-16T22:24:21.256Z"
   },
   {
    "duration": 66,
    "start_time": "2022-11-16T22:26:58.129Z"
   },
   {
    "duration": 80,
    "start_time": "2022-11-16T22:31:33.872Z"
   },
   {
    "duration": 10,
    "start_time": "2022-11-16T22:32:51.229Z"
   },
   {
    "duration": 7,
    "start_time": "2022-11-16T22:33:03.605Z"
   },
   {
    "duration": 9,
    "start_time": "2022-11-16T22:33:18.756Z"
   },
   {
    "duration": 12,
    "start_time": "2022-11-16T22:33:45.895Z"
   },
   {
    "duration": 12,
    "start_time": "2022-11-16T22:33:55.418Z"
   },
   {
    "duration": 14,
    "start_time": "2022-11-16T22:34:47.967Z"
   },
   {
    "duration": 1134,
    "start_time": "2022-11-16T22:58:28.036Z"
   },
   {
    "duration": 66,
    "start_time": "2022-11-16T22:58:29.171Z"
   },
   {
    "duration": 11,
    "start_time": "2022-11-16T22:58:29.239Z"
   },
   {
    "duration": 18,
    "start_time": "2022-11-16T22:58:29.251Z"
   },
   {
    "duration": 3,
    "start_time": "2022-11-16T22:58:29.272Z"
   },
   {
    "duration": 25,
    "start_time": "2022-11-16T22:58:29.277Z"
   },
   {
    "duration": 14,
    "start_time": "2022-11-16T22:58:29.303Z"
   },
   {
    "duration": 8,
    "start_time": "2022-11-16T22:58:29.318Z"
   },
   {
    "duration": 12,
    "start_time": "2022-11-16T22:58:29.328Z"
   },
   {
    "duration": 7,
    "start_time": "2022-11-16T22:58:29.342Z"
   },
   {
    "duration": 9,
    "start_time": "2022-11-16T22:58:29.350Z"
   },
   {
    "duration": 23,
    "start_time": "2022-11-16T22:58:29.361Z"
   },
   {
    "duration": 5,
    "start_time": "2022-11-16T22:58:29.386Z"
   },
   {
    "duration": 9,
    "start_time": "2022-11-16T22:58:29.394Z"
   },
   {
    "duration": 15,
    "start_time": "2022-11-16T22:58:29.404Z"
   },
   {
    "duration": 9,
    "start_time": "2022-11-16T22:58:29.421Z"
   },
   {
    "duration": 160,
    "start_time": "2022-11-16T22:58:29.432Z"
   },
   {
    "duration": 27,
    "start_time": "2022-11-16T23:00:56.034Z"
   },
   {
    "duration": 27,
    "start_time": "2022-11-16T23:03:28.845Z"
   },
   {
    "duration": 283,
    "start_time": "2022-11-16T23:03:56.096Z"
   },
   {
    "duration": 279,
    "start_time": "2022-11-16T23:05:24.316Z"
   },
   {
    "duration": 162,
    "start_time": "2022-11-16T23:06:28.016Z"
   },
   {
    "duration": 278,
    "start_time": "2022-11-16T23:07:06.515Z"
   },
   {
    "duration": 191,
    "start_time": "2022-11-16T23:07:14.775Z"
   },
   {
    "duration": 341,
    "start_time": "2022-11-16T23:07:43.756Z"
   },
   {
    "duration": 156,
    "start_time": "2022-11-16T23:07:55.877Z"
   },
   {
    "duration": 175,
    "start_time": "2022-11-16T23:08:16.836Z"
   },
   {
    "duration": 191,
    "start_time": "2022-11-16T23:08:24.035Z"
   },
   {
    "duration": 261,
    "start_time": "2022-11-16T23:08:52.635Z"
   },
   {
    "duration": 192,
    "start_time": "2022-11-16T23:09:06.408Z"
   },
   {
    "duration": 75,
    "start_time": "2022-11-16T23:12:27.535Z"
   },
   {
    "duration": 191,
    "start_time": "2022-11-16T23:13:13.376Z"
   },
   {
    "duration": 305,
    "start_time": "2022-11-16T23:13:42.837Z"
   },
   {
    "duration": 282,
    "start_time": "2022-11-16T23:14:01.438Z"
   },
   {
    "duration": 307,
    "start_time": "2022-11-16T23:14:06.883Z"
   },
   {
    "duration": 231,
    "start_time": "2022-11-16T23:20:17.575Z"
   },
   {
    "duration": 209,
    "start_time": "2022-11-16T23:20:43.196Z"
   },
   {
    "duration": 1185,
    "start_time": "2022-11-16T23:21:40.500Z"
   },
   {
    "duration": 68,
    "start_time": "2022-11-16T23:21:41.687Z"
   },
   {
    "duration": 12,
    "start_time": "2022-11-16T23:21:41.756Z"
   },
   {
    "duration": 14,
    "start_time": "2022-11-16T23:21:41.770Z"
   },
   {
    "duration": 3,
    "start_time": "2022-11-16T23:21:41.787Z"
   },
   {
    "duration": 15,
    "start_time": "2022-11-16T23:21:41.792Z"
   },
   {
    "duration": 12,
    "start_time": "2022-11-16T23:21:41.808Z"
   },
   {
    "duration": 7,
    "start_time": "2022-11-16T23:21:41.822Z"
   },
   {
    "duration": 16,
    "start_time": "2022-11-16T23:21:41.830Z"
   },
   {
    "duration": 34,
    "start_time": "2022-11-16T23:21:41.848Z"
   },
   {
    "duration": 11,
    "start_time": "2022-11-16T23:21:41.884Z"
   },
   {
    "duration": 12,
    "start_time": "2022-11-16T23:21:41.897Z"
   },
   {
    "duration": 5,
    "start_time": "2022-11-16T23:21:41.911Z"
   },
   {
    "duration": 9,
    "start_time": "2022-11-16T23:21:41.919Z"
   },
   {
    "duration": 17,
    "start_time": "2022-11-16T23:21:41.929Z"
   },
   {
    "duration": 13,
    "start_time": "2022-11-16T23:21:41.977Z"
   },
   {
    "duration": 319,
    "start_time": "2022-11-16T23:21:41.992Z"
   },
   {
    "duration": 292,
    "start_time": "2022-11-16T23:21:42.313Z"
   },
   {
    "duration": 214,
    "start_time": "2022-11-16T23:21:42.607Z"
   },
   {
    "duration": 312,
    "start_time": "2022-11-16T23:21:42.823Z"
   },
   {
    "duration": 311,
    "start_time": "2022-11-16T23:21:43.136Z"
   },
   {
    "duration": 1149,
    "start_time": "2022-11-16T23:22:33.400Z"
   },
   {
    "duration": 68,
    "start_time": "2022-11-16T23:22:34.552Z"
   },
   {
    "duration": 13,
    "start_time": "2022-11-16T23:22:34.622Z"
   },
   {
    "duration": 17,
    "start_time": "2022-11-16T23:22:34.637Z"
   },
   {
    "duration": 3,
    "start_time": "2022-11-16T23:22:34.656Z"
   },
   {
    "duration": 16,
    "start_time": "2022-11-16T23:22:34.661Z"
   },
   {
    "duration": 14,
    "start_time": "2022-11-16T23:22:34.679Z"
   },
   {
    "duration": 10,
    "start_time": "2022-11-16T23:22:34.695Z"
   },
   {
    "duration": 17,
    "start_time": "2022-11-16T23:22:34.706Z"
   },
   {
    "duration": 7,
    "start_time": "2022-11-16T23:22:34.725Z"
   },
   {
    "duration": 10,
    "start_time": "2022-11-16T23:22:34.733Z"
   },
   {
    "duration": 33,
    "start_time": "2022-11-16T23:22:34.745Z"
   },
   {
    "duration": 5,
    "start_time": "2022-11-16T23:22:34.780Z"
   },
   {
    "duration": 10,
    "start_time": "2022-11-16T23:22:34.787Z"
   },
   {
    "duration": 19,
    "start_time": "2022-11-16T23:22:34.798Z"
   },
   {
    "duration": 13,
    "start_time": "2022-11-16T23:22:34.818Z"
   },
   {
    "duration": 331,
    "start_time": "2022-11-16T23:22:34.832Z"
   },
   {
    "duration": 293,
    "start_time": "2022-11-16T23:22:35.165Z"
   },
   {
    "duration": 207,
    "start_time": "2022-11-16T23:22:35.460Z"
   },
   {
    "duration": 303,
    "start_time": "2022-11-16T23:22:35.677Z"
   },
   {
    "duration": 319,
    "start_time": "2022-11-16T23:22:35.982Z"
   },
   {
    "duration": 243,
    "start_time": "2022-11-16T23:23:17.071Z"
   },
   {
    "duration": 195,
    "start_time": "2022-11-16T23:23:38.516Z"
   },
   {
    "duration": 206,
    "start_time": "2022-11-16T23:23:54.164Z"
   },
   {
    "duration": 330,
    "start_time": "2022-11-16T23:24:12.370Z"
   },
   {
    "duration": 1169,
    "start_time": "2022-11-16T23:24:27.276Z"
   },
   {
    "duration": 65,
    "start_time": "2022-11-16T23:24:28.448Z"
   },
   {
    "duration": 12,
    "start_time": "2022-11-16T23:24:28.515Z"
   },
   {
    "duration": 25,
    "start_time": "2022-11-16T23:24:28.528Z"
   },
   {
    "duration": 4,
    "start_time": "2022-11-16T23:24:28.555Z"
   },
   {
    "duration": 15,
    "start_time": "2022-11-16T23:24:28.561Z"
   },
   {
    "duration": 17,
    "start_time": "2022-11-16T23:24:28.578Z"
   },
   {
    "duration": 8,
    "start_time": "2022-11-16T23:24:28.596Z"
   },
   {
    "duration": 16,
    "start_time": "2022-11-16T23:24:28.606Z"
   },
   {
    "duration": 9,
    "start_time": "2022-11-16T23:24:28.623Z"
   },
   {
    "duration": 10,
    "start_time": "2022-11-16T23:24:28.634Z"
   },
   {
    "duration": 37,
    "start_time": "2022-11-16T23:24:28.645Z"
   },
   {
    "duration": 7,
    "start_time": "2022-11-16T23:24:28.684Z"
   },
   {
    "duration": 9,
    "start_time": "2022-11-16T23:24:28.694Z"
   },
   {
    "duration": 19,
    "start_time": "2022-11-16T23:24:28.705Z"
   },
   {
    "duration": 12,
    "start_time": "2022-11-16T23:24:28.725Z"
   },
   {
    "duration": 357,
    "start_time": "2022-11-16T23:24:28.739Z"
   },
   {
    "duration": 316,
    "start_time": "2022-11-16T23:24:29.097Z"
   },
   {
    "duration": 206,
    "start_time": "2022-11-16T23:24:29.415Z"
   },
   {
    "duration": 293,
    "start_time": "2022-11-16T23:24:29.623Z"
   },
   {
    "duration": 224,
    "start_time": "2022-11-16T23:24:29.917Z"
   },
   {
    "duration": 380,
    "start_time": "2022-11-16T23:25:02.557Z"
   },
   {
    "duration": 350,
    "start_time": "2022-11-16T23:25:18.050Z"
   },
   {
    "duration": 350,
    "start_time": "2022-11-16T23:25:27.297Z"
   },
   {
    "duration": 105,
    "start_time": "2022-11-16T23:28:20.737Z"
   },
   {
    "duration": 16,
    "start_time": "2022-11-16T23:28:41.917Z"
   },
   {
    "duration": 170,
    "start_time": "2022-11-16T23:28:50.237Z"
   },
   {
    "duration": 123,
    "start_time": "2022-11-16T23:30:45.857Z"
   },
   {
    "duration": 222,
    "start_time": "2022-11-16T23:31:09.809Z"
   },
   {
    "duration": 5,
    "start_time": "2022-11-16T23:34:31.325Z"
   },
   {
    "duration": 7,
    "start_time": "2022-11-16T23:34:38.325Z"
   },
   {
    "duration": 75,
    "start_time": "2022-11-16T23:36:13.817Z"
   },
   {
    "duration": 1751,
    "start_time": "2022-11-16T23:40:02.717Z"
   },
   {
    "duration": 143,
    "start_time": "2022-11-16T23:40:34.657Z"
   },
   {
    "duration": 153,
    "start_time": "2022-11-16T23:40:44.096Z"
   },
   {
    "duration": 171,
    "start_time": "2022-11-16T23:41:18.196Z"
   },
   {
    "duration": 185,
    "start_time": "2022-11-16T23:41:22.956Z"
   },
   {
    "duration": 144,
    "start_time": "2022-11-16T23:42:11.156Z"
   },
   {
    "duration": 5,
    "start_time": "2022-11-16T23:45:14.916Z"
   },
   {
    "duration": 138,
    "start_time": "2022-11-16T23:47:13.496Z"
   },
   {
    "duration": 11,
    "start_time": "2022-11-16T23:47:57.837Z"
   },
   {
    "duration": 12,
    "start_time": "2022-11-16T23:48:08.916Z"
   },
   {
    "duration": 140,
    "start_time": "2022-11-16T23:48:15.644Z"
   },
   {
    "duration": 159,
    "start_time": "2022-11-16T23:48:24.237Z"
   },
   {
    "duration": 173,
    "start_time": "2022-11-16T23:48:32.816Z"
   },
   {
    "duration": 14,
    "start_time": "2022-11-16T23:50:01.488Z"
   },
   {
    "duration": 16,
    "start_time": "2022-11-16T23:50:13.754Z"
   },
   {
    "duration": 95,
    "start_time": "2022-11-16T23:51:17.397Z"
   },
   {
    "duration": 134,
    "start_time": "2022-11-16T23:51:26.736Z"
   },
   {
    "duration": 118,
    "start_time": "2022-11-16T23:54:57.564Z"
   },
   {
    "duration": 105,
    "start_time": "2022-11-16T23:56:16.536Z"
   },
   {
    "duration": 106,
    "start_time": "2022-11-16T23:56:45.157Z"
   },
   {
    "duration": 217,
    "start_time": "2022-11-16T23:56:58.405Z"
   },
   {
    "duration": 14,
    "start_time": "2022-11-16T23:57:28.316Z"
   },
   {
    "duration": 150,
    "start_time": "2022-11-16T23:57:49.476Z"
   },
   {
    "duration": 168,
    "start_time": "2022-11-16T23:58:07.176Z"
   },
   {
    "duration": 1201,
    "start_time": "2022-11-16T23:58:50.896Z"
   },
   {
    "duration": 8,
    "start_time": "2022-11-16T23:59:21.456Z"
   },
   {
    "duration": 9,
    "start_time": "2022-11-16T23:59:47.936Z"
   },
   {
    "duration": 137,
    "start_time": "2022-11-17T00:00:09.076Z"
   },
   {
    "duration": 8,
    "start_time": "2022-11-17T00:00:12.305Z"
   },
   {
    "duration": 9,
    "start_time": "2022-11-17T00:00:15.344Z"
   },
   {
    "duration": 7,
    "start_time": "2022-11-17T00:00:50.037Z"
   },
   {
    "duration": 17,
    "start_time": "2022-11-17T00:01:15.337Z"
   },
   {
    "duration": 94,
    "start_time": "2022-11-17T00:01:31.417Z"
   },
   {
    "duration": 204,
    "start_time": "2022-11-17T00:02:22.756Z"
   },
   {
    "duration": 54,
    "start_time": "2022-11-17T15:11:10.398Z"
   },
   {
    "duration": 1304,
    "start_time": "2022-11-17T15:11:42.666Z"
   },
   {
    "duration": 241,
    "start_time": "2022-11-17T15:11:43.972Z"
   },
   {
    "duration": 13,
    "start_time": "2022-11-17T15:11:44.215Z"
   },
   {
    "duration": 17,
    "start_time": "2022-11-17T15:11:44.230Z"
   },
   {
    "duration": 4,
    "start_time": "2022-11-17T15:11:44.249Z"
   },
   {
    "duration": 21,
    "start_time": "2022-11-17T15:11:44.254Z"
   },
   {
    "duration": 16,
    "start_time": "2022-11-17T15:11:44.276Z"
   },
   {
    "duration": 16,
    "start_time": "2022-11-17T15:11:44.295Z"
   },
   {
    "duration": 20,
    "start_time": "2022-11-17T15:11:44.312Z"
   },
   {
    "duration": 7,
    "start_time": "2022-11-17T15:11:44.334Z"
   },
   {
    "duration": 24,
    "start_time": "2022-11-17T15:11:44.342Z"
   },
   {
    "duration": 20,
    "start_time": "2022-11-17T15:11:44.368Z"
   },
   {
    "duration": 9,
    "start_time": "2022-11-17T15:11:44.390Z"
   },
   {
    "duration": 7,
    "start_time": "2022-11-17T15:11:44.402Z"
   },
   {
    "duration": 23,
    "start_time": "2022-11-17T15:11:44.410Z"
   },
   {
    "duration": 11,
    "start_time": "2022-11-17T15:11:44.434Z"
   },
   {
    "duration": 285,
    "start_time": "2022-11-17T15:11:44.447Z"
   },
   {
    "duration": 282,
    "start_time": "2022-11-17T15:11:44.734Z"
   },
   {
    "duration": 221,
    "start_time": "2022-11-17T15:11:45.018Z"
   },
   {
    "duration": 332,
    "start_time": "2022-11-17T15:11:45.241Z"
   },
   {
    "duration": 136,
    "start_time": "2022-11-17T15:11:45.575Z"
   },
   {
    "duration": 151,
    "start_time": "2022-11-17T15:11:45.712Z"
   },
   {
    "duration": 5,
    "start_time": "2022-11-17T15:11:45.866Z"
   },
   {
    "duration": 170,
    "start_time": "2022-11-17T15:11:45.873Z"
   },
   {
    "duration": 166,
    "start_time": "2022-11-17T15:11:46.044Z"
   },
   {
    "duration": 6,
    "start_time": "2022-11-17T15:11:46.211Z"
   },
   {
    "duration": 311,
    "start_time": "2022-11-17T15:11:46.218Z"
   },
   {
    "duration": 135,
    "start_time": "2022-11-17T15:11:46.531Z"
   },
   {
    "duration": 189,
    "start_time": "2022-11-17T15:11:46.667Z"
   },
   {
    "duration": 849,
    "start_time": "2022-11-17T15:11:46.858Z"
   },
   {
    "duration": 315,
    "start_time": "2022-11-17T15:12:15.449Z"
   },
   {
    "duration": 224,
    "start_time": "2022-11-17T15:12:26.250Z"
   },
   {
    "duration": 234,
    "start_time": "2022-11-17T15:12:37.354Z"
   },
   {
    "duration": 136,
    "start_time": "2022-11-17T15:12:48.077Z"
   },
   {
    "duration": 169,
    "start_time": "2022-11-17T15:12:50.749Z"
   },
   {
    "duration": 1155,
    "start_time": "2022-11-17T15:12:57.083Z"
   },
   {
    "duration": 78,
    "start_time": "2022-11-17T15:12:58.240Z"
   },
   {
    "duration": 13,
    "start_time": "2022-11-17T15:12:58.319Z"
   },
   {
    "duration": 12,
    "start_time": "2022-11-17T15:12:58.334Z"
   },
   {
    "duration": 4,
    "start_time": "2022-11-17T15:12:58.348Z"
   },
   {
    "duration": 14,
    "start_time": "2022-11-17T15:12:58.353Z"
   },
   {
    "duration": 12,
    "start_time": "2022-11-17T15:12:58.369Z"
   },
   {
    "duration": 14,
    "start_time": "2022-11-17T15:12:58.382Z"
   },
   {
    "duration": 18,
    "start_time": "2022-11-17T15:12:58.398Z"
   },
   {
    "duration": 7,
    "start_time": "2022-11-17T15:12:58.420Z"
   },
   {
    "duration": 16,
    "start_time": "2022-11-17T15:12:58.428Z"
   },
   {
    "duration": 12,
    "start_time": "2022-11-17T15:12:58.445Z"
   },
   {
    "duration": 9,
    "start_time": "2022-11-17T15:12:58.459Z"
   },
   {
    "duration": 8,
    "start_time": "2022-11-17T15:12:58.470Z"
   },
   {
    "duration": 28,
    "start_time": "2022-11-17T15:12:58.480Z"
   },
   {
    "duration": 12,
    "start_time": "2022-11-17T15:12:58.510Z"
   },
   {
    "duration": 308,
    "start_time": "2022-11-17T15:12:58.523Z"
   },
   {
    "duration": 282,
    "start_time": "2022-11-17T15:12:58.833Z"
   },
   {
    "duration": 194,
    "start_time": "2022-11-17T15:12:59.117Z"
   },
   {
    "duration": 299,
    "start_time": "2022-11-17T15:12:59.313Z"
   },
   {
    "duration": 138,
    "start_time": "2022-11-17T15:12:59.613Z"
   },
   {
    "duration": 149,
    "start_time": "2022-11-17T15:12:59.752Z"
   },
   {
    "duration": 8,
    "start_time": "2022-11-17T15:12:59.902Z"
   },
   {
    "duration": 187,
    "start_time": "2022-11-17T15:12:59.912Z"
   },
   {
    "duration": 185,
    "start_time": "2022-11-17T15:13:00.100Z"
   },
   {
    "duration": 15,
    "start_time": "2022-11-17T15:13:00.286Z"
   },
   {
    "duration": 256,
    "start_time": "2022-11-17T15:13:00.304Z"
   },
   {
    "duration": 173,
    "start_time": "2022-11-17T15:13:00.563Z"
   },
   {
    "duration": 180,
    "start_time": "2022-11-17T15:13:00.738Z"
   },
   {
    "duration": 957,
    "start_time": "2022-11-17T15:13:00.920Z"
   },
   {
    "duration": 8,
    "start_time": "2022-11-17T15:14:04.688Z"
   },
   {
    "duration": 7,
    "start_time": "2022-11-17T15:14:38.431Z"
   },
   {
    "duration": 31,
    "start_time": "2022-11-17T15:19:35.492Z"
   },
   {
    "duration": 1244,
    "start_time": "2022-11-17T15:19:47.810Z"
   },
   {
    "duration": 82,
    "start_time": "2022-11-17T15:19:49.057Z"
   },
   {
    "duration": 12,
    "start_time": "2022-11-17T15:19:49.141Z"
   },
   {
    "duration": 23,
    "start_time": "2022-11-17T15:19:49.155Z"
   },
   {
    "duration": 3,
    "start_time": "2022-11-17T15:19:49.181Z"
   },
   {
    "duration": 24,
    "start_time": "2022-11-17T15:19:49.186Z"
   },
   {
    "duration": 17,
    "start_time": "2022-11-17T15:19:49.213Z"
   },
   {
    "duration": 9,
    "start_time": "2022-11-17T15:19:49.232Z"
   },
   {
    "duration": 21,
    "start_time": "2022-11-17T15:19:49.244Z"
   },
   {
    "duration": 9,
    "start_time": "2022-11-17T15:19:49.268Z"
   },
   {
    "duration": 10,
    "start_time": "2022-11-17T15:19:49.297Z"
   },
   {
    "duration": 14,
    "start_time": "2022-11-17T15:19:49.309Z"
   },
   {
    "duration": 8,
    "start_time": "2022-11-17T15:19:49.325Z"
   },
   {
    "duration": 7,
    "start_time": "2022-11-17T15:19:49.336Z"
   },
   {
    "duration": 19,
    "start_time": "2022-11-17T15:19:49.345Z"
   },
   {
    "duration": 39,
    "start_time": "2022-11-17T15:19:49.366Z"
   },
   {
    "duration": 285,
    "start_time": "2022-11-17T15:19:49.407Z"
   },
   {
    "duration": 314,
    "start_time": "2022-11-17T15:19:49.694Z"
   },
   {
    "duration": 200,
    "start_time": "2022-11-17T15:19:50.010Z"
   },
   {
    "duration": 307,
    "start_time": "2022-11-17T15:19:50.212Z"
   },
   {
    "duration": 125,
    "start_time": "2022-11-17T15:19:50.521Z"
   },
   {
    "duration": 158,
    "start_time": "2022-11-17T15:19:50.648Z"
   },
   {
    "duration": 5,
    "start_time": "2022-11-17T15:19:50.808Z"
   },
   {
    "duration": 167,
    "start_time": "2022-11-17T15:19:50.814Z"
   },
   {
    "duration": 156,
    "start_time": "2022-11-17T15:19:50.983Z"
   },
   {
    "duration": 5,
    "start_time": "2022-11-17T15:19:51.141Z"
   },
   {
    "duration": 233,
    "start_time": "2022-11-17T15:19:51.147Z"
   },
   {
    "duration": 146,
    "start_time": "2022-11-17T15:19:51.382Z"
   },
   {
    "duration": 1154,
    "start_time": "2022-11-17T15:19:51.530Z"
   },
   {
    "duration": 0,
    "start_time": "2022-11-17T15:19:52.686Z"
   },
   {
    "duration": 1115,
    "start_time": "2022-11-17T15:20:46.381Z"
   },
   {
    "duration": 80,
    "start_time": "2022-11-17T15:20:47.499Z"
   },
   {
    "duration": 15,
    "start_time": "2022-11-17T15:20:47.581Z"
   },
   {
    "duration": 15,
    "start_time": "2022-11-17T15:20:47.599Z"
   },
   {
    "duration": 3,
    "start_time": "2022-11-17T15:20:47.616Z"
   },
   {
    "duration": 14,
    "start_time": "2022-11-17T15:20:47.621Z"
   },
   {
    "duration": 15,
    "start_time": "2022-11-17T15:20:47.637Z"
   },
   {
    "duration": 7,
    "start_time": "2022-11-17T15:20:47.653Z"
   },
   {
    "duration": 36,
    "start_time": "2022-11-17T15:20:47.662Z"
   },
   {
    "duration": 7,
    "start_time": "2022-11-17T15:20:47.700Z"
   },
   {
    "duration": 20,
    "start_time": "2022-11-17T15:20:47.709Z"
   },
   {
    "duration": 13,
    "start_time": "2022-11-17T15:20:47.731Z"
   },
   {
    "duration": 8,
    "start_time": "2022-11-17T15:20:47.746Z"
   },
   {
    "duration": 9,
    "start_time": "2022-11-17T15:20:47.756Z"
   },
   {
    "duration": 32,
    "start_time": "2022-11-17T15:20:47.767Z"
   },
   {
    "duration": 16,
    "start_time": "2022-11-17T15:20:47.800Z"
   },
   {
    "duration": 302,
    "start_time": "2022-11-17T15:20:47.818Z"
   },
   {
    "duration": 295,
    "start_time": "2022-11-17T15:20:48.123Z"
   },
   {
    "duration": 201,
    "start_time": "2022-11-17T15:20:48.420Z"
   },
   {
    "duration": 282,
    "start_time": "2022-11-17T15:20:48.623Z"
   },
   {
    "duration": 154,
    "start_time": "2022-11-17T15:20:48.906Z"
   },
   {
    "duration": 170,
    "start_time": "2022-11-17T15:20:49.063Z"
   },
   {
    "duration": 5,
    "start_time": "2022-11-17T15:20:49.234Z"
   },
   {
    "duration": 192,
    "start_time": "2022-11-17T15:20:49.241Z"
   },
   {
    "duration": 173,
    "start_time": "2022-11-17T15:20:49.435Z"
   },
   {
    "duration": 5,
    "start_time": "2022-11-17T15:20:49.609Z"
   },
   {
    "duration": 270,
    "start_time": "2022-11-17T15:20:49.615Z"
   },
   {
    "duration": 158,
    "start_time": "2022-11-17T15:20:49.888Z"
   },
   {
    "duration": 6,
    "start_time": "2022-11-17T15:20:50.048Z"
   },
   {
    "duration": 28,
    "start_time": "2022-11-17T15:20:50.056Z"
   },
   {
    "duration": 1092,
    "start_time": "2022-11-17T15:21:13.646Z"
   },
   {
    "duration": 81,
    "start_time": "2022-11-17T15:21:14.740Z"
   },
   {
    "duration": 13,
    "start_time": "2022-11-17T15:21:14.822Z"
   },
   {
    "duration": 12,
    "start_time": "2022-11-17T15:21:14.837Z"
   },
   {
    "duration": 7,
    "start_time": "2022-11-17T15:21:14.852Z"
   },
   {
    "duration": 17,
    "start_time": "2022-11-17T15:21:14.861Z"
   },
   {
    "duration": 17,
    "start_time": "2022-11-17T15:21:14.880Z"
   },
   {
    "duration": 24,
    "start_time": "2022-11-17T15:21:14.899Z"
   },
   {
    "duration": 26,
    "start_time": "2022-11-17T15:21:14.925Z"
   },
   {
    "duration": 19,
    "start_time": "2022-11-17T15:21:14.953Z"
   },
   {
    "duration": 20,
    "start_time": "2022-11-17T15:21:14.974Z"
   },
   {
    "duration": 26,
    "start_time": "2022-11-17T15:21:14.996Z"
   },
   {
    "duration": 18,
    "start_time": "2022-11-17T15:21:15.024Z"
   },
   {
    "duration": 21,
    "start_time": "2022-11-17T15:21:15.045Z"
   },
   {
    "duration": 18,
    "start_time": "2022-11-17T15:21:15.067Z"
   },
   {
    "duration": 12,
    "start_time": "2022-11-17T15:21:15.086Z"
   },
   {
    "duration": 307,
    "start_time": "2022-11-17T15:21:15.099Z"
   },
   {
    "duration": 295,
    "start_time": "2022-11-17T15:21:15.407Z"
   },
   {
    "duration": 202,
    "start_time": "2022-11-17T15:21:15.704Z"
   },
   {
    "duration": 352,
    "start_time": "2022-11-17T15:21:15.908Z"
   },
   {
    "duration": 138,
    "start_time": "2022-11-17T15:21:16.262Z"
   },
   {
    "duration": 149,
    "start_time": "2022-11-17T15:21:16.402Z"
   },
   {
    "duration": 5,
    "start_time": "2022-11-17T15:21:16.552Z"
   },
   {
    "duration": 166,
    "start_time": "2022-11-17T15:21:16.559Z"
   },
   {
    "duration": 169,
    "start_time": "2022-11-17T15:21:16.727Z"
   },
   {
    "duration": 5,
    "start_time": "2022-11-17T15:21:16.898Z"
   },
   {
    "duration": 239,
    "start_time": "2022-11-17T15:21:16.905Z"
   },
   {
    "duration": 102,
    "start_time": "2022-11-17T15:21:17.146Z"
   },
   {
    "duration": 1,
    "start_time": "2022-11-17T15:21:17.249Z"
   },
   {
    "duration": 0,
    "start_time": "2022-11-17T15:21:17.251Z"
   },
   {
    "duration": 1042,
    "start_time": "2022-11-17T15:21:28.537Z"
   },
   {
    "duration": 82,
    "start_time": "2022-11-17T15:21:29.581Z"
   },
   {
    "duration": 11,
    "start_time": "2022-11-17T15:21:29.665Z"
   },
   {
    "duration": 14,
    "start_time": "2022-11-17T15:21:29.678Z"
   },
   {
    "duration": 17,
    "start_time": "2022-11-17T15:21:29.694Z"
   },
   {
    "duration": 16,
    "start_time": "2022-11-17T15:21:29.713Z"
   },
   {
    "duration": 10,
    "start_time": "2022-11-17T15:21:29.731Z"
   },
   {
    "duration": 7,
    "start_time": "2022-11-17T15:21:29.742Z"
   },
   {
    "duration": 14,
    "start_time": "2022-11-17T15:21:29.751Z"
   },
   {
    "duration": 5,
    "start_time": "2022-11-17T15:21:29.767Z"
   },
   {
    "duration": 10,
    "start_time": "2022-11-17T15:21:29.774Z"
   },
   {
    "duration": 21,
    "start_time": "2022-11-17T15:21:29.796Z"
   },
   {
    "duration": 8,
    "start_time": "2022-11-17T15:21:29.819Z"
   },
   {
    "duration": 9,
    "start_time": "2022-11-17T15:21:29.831Z"
   },
   {
    "duration": 15,
    "start_time": "2022-11-17T15:21:29.842Z"
   },
   {
    "duration": 11,
    "start_time": "2022-11-17T15:21:29.859Z"
   },
   {
    "duration": 304,
    "start_time": "2022-11-17T15:21:29.871Z"
   },
   {
    "duration": 334,
    "start_time": "2022-11-17T15:21:30.177Z"
   },
   {
    "duration": 198,
    "start_time": "2022-11-17T15:21:30.513Z"
   },
   {
    "duration": 310,
    "start_time": "2022-11-17T15:21:30.713Z"
   },
   {
    "duration": 164,
    "start_time": "2022-11-17T15:21:31.025Z"
   },
   {
    "duration": 160,
    "start_time": "2022-11-17T15:21:31.190Z"
   },
   {
    "duration": 6,
    "start_time": "2022-11-17T15:21:31.352Z"
   },
   {
    "duration": 186,
    "start_time": "2022-11-17T15:21:31.359Z"
   },
   {
    "duration": 169,
    "start_time": "2022-11-17T15:21:31.547Z"
   },
   {
    "duration": 5,
    "start_time": "2022-11-17T15:21:31.718Z"
   },
   {
    "duration": 243,
    "start_time": "2022-11-17T15:21:31.724Z"
   },
   {
    "duration": 153,
    "start_time": "2022-11-17T15:21:31.969Z"
   },
   {
    "duration": 6,
    "start_time": "2022-11-17T15:21:32.124Z"
   },
   {
    "duration": 34,
    "start_time": "2022-11-17T15:21:32.131Z"
   },
   {
    "duration": 12,
    "start_time": "2022-11-17T15:26:15.510Z"
   },
   {
    "duration": 52,
    "start_time": "2022-11-17T15:27:57.464Z"
   },
   {
    "duration": 964,
    "start_time": "2022-11-17T15:31:41.992Z"
   },
   {
    "duration": 12,
    "start_time": "2022-11-17T15:32:11.013Z"
   },
   {
    "duration": 40,
    "start_time": "2022-11-17T15:32:53.410Z"
   },
   {
    "duration": 10,
    "start_time": "2022-11-17T15:33:23.136Z"
   },
   {
    "duration": 737,
    "start_time": "2022-11-17T15:34:21.948Z"
   },
   {
    "duration": 812,
    "start_time": "2022-11-17T15:34:33.710Z"
   },
   {
    "duration": 8,
    "start_time": "2022-11-17T15:35:32.186Z"
   },
   {
    "duration": 21,
    "start_time": "2022-11-17T15:35:57.715Z"
   },
   {
    "duration": 1099,
    "start_time": "2022-11-17T15:36:58.269Z"
   },
   {
    "duration": 86,
    "start_time": "2022-11-17T15:36:59.370Z"
   },
   {
    "duration": 11,
    "start_time": "2022-11-17T15:36:59.458Z"
   },
   {
    "duration": 15,
    "start_time": "2022-11-17T15:36:59.471Z"
   },
   {
    "duration": 3,
    "start_time": "2022-11-17T15:36:59.489Z"
   },
   {
    "duration": 26,
    "start_time": "2022-11-17T15:36:59.494Z"
   },
   {
    "duration": 14,
    "start_time": "2022-11-17T15:36:59.521Z"
   },
   {
    "duration": 11,
    "start_time": "2022-11-17T15:36:59.537Z"
   },
   {
    "duration": 16,
    "start_time": "2022-11-17T15:36:59.549Z"
   },
   {
    "duration": 7,
    "start_time": "2022-11-17T15:36:59.567Z"
   },
   {
    "duration": 9,
    "start_time": "2022-11-17T15:36:59.576Z"
   },
   {
    "duration": 24,
    "start_time": "2022-11-17T15:36:59.586Z"
   },
   {
    "duration": 6,
    "start_time": "2022-11-17T15:36:59.612Z"
   },
   {
    "duration": 7,
    "start_time": "2022-11-17T15:36:59.621Z"
   },
   {
    "duration": 19,
    "start_time": "2022-11-17T15:36:59.629Z"
   },
   {
    "duration": 11,
    "start_time": "2022-11-17T15:36:59.649Z"
   },
   {
    "duration": 314,
    "start_time": "2022-11-17T15:36:59.662Z"
   },
   {
    "duration": 325,
    "start_time": "2022-11-17T15:36:59.977Z"
   },
   {
    "duration": 233,
    "start_time": "2022-11-17T15:37:00.309Z"
   },
   {
    "duration": 294,
    "start_time": "2022-11-17T15:37:00.544Z"
   },
   {
    "duration": 172,
    "start_time": "2022-11-17T15:37:00.840Z"
   },
   {
    "duration": 146,
    "start_time": "2022-11-17T15:37:01.014Z"
   },
   {
    "duration": 5,
    "start_time": "2022-11-17T15:37:01.162Z"
   },
   {
    "duration": 182,
    "start_time": "2022-11-17T15:37:01.169Z"
   },
   {
    "duration": 178,
    "start_time": "2022-11-17T15:37:01.353Z"
   },
   {
    "duration": 5,
    "start_time": "2022-11-17T15:37:01.533Z"
   },
   {
    "duration": 250,
    "start_time": "2022-11-17T15:37:01.540Z"
   },
   {
    "duration": 177,
    "start_time": "2022-11-17T15:37:01.796Z"
   },
   {
    "duration": 6,
    "start_time": "2022-11-17T15:37:01.975Z"
   },
   {
    "duration": 37,
    "start_time": "2022-11-17T15:37:01.983Z"
   },
   {
    "duration": 10,
    "start_time": "2022-11-17T15:37:02.022Z"
   },
   {
    "duration": 9,
    "start_time": "2022-11-17T15:37:02.033Z"
   },
   {
    "duration": 12,
    "start_time": "2022-11-17T15:37:02.044Z"
   },
   {
    "duration": 54,
    "start_time": "2022-11-17T15:37:02.058Z"
   },
   {
    "duration": 1105,
    "start_time": "2022-11-17T15:37:14.315Z"
   },
   {
    "duration": 93,
    "start_time": "2022-11-17T15:37:15.422Z"
   },
   {
    "duration": 13,
    "start_time": "2022-11-17T15:37:15.516Z"
   },
   {
    "duration": 15,
    "start_time": "2022-11-17T15:37:15.531Z"
   },
   {
    "duration": 7,
    "start_time": "2022-11-17T15:37:15.548Z"
   },
   {
    "duration": 18,
    "start_time": "2022-11-17T15:37:15.557Z"
   },
   {
    "duration": 13,
    "start_time": "2022-11-17T15:37:15.577Z"
   },
   {
    "duration": 18,
    "start_time": "2022-11-17T15:37:15.591Z"
   },
   {
    "duration": 15,
    "start_time": "2022-11-17T15:37:15.611Z"
   },
   {
    "duration": 8,
    "start_time": "2022-11-17T15:37:15.629Z"
   },
   {
    "duration": 10,
    "start_time": "2022-11-17T15:37:15.638Z"
   },
   {
    "duration": 11,
    "start_time": "2022-11-17T15:37:15.650Z"
   },
   {
    "duration": 7,
    "start_time": "2022-11-17T15:37:15.663Z"
   },
   {
    "duration": 9,
    "start_time": "2022-11-17T15:37:15.671Z"
   },
   {
    "duration": 34,
    "start_time": "2022-11-17T15:37:15.682Z"
   },
   {
    "duration": 15,
    "start_time": "2022-11-17T15:37:15.718Z"
   },
   {
    "duration": 331,
    "start_time": "2022-11-17T15:37:15.734Z"
   },
   {
    "duration": 306,
    "start_time": "2022-11-17T15:37:16.067Z"
   },
   {
    "duration": 244,
    "start_time": "2022-11-17T15:37:16.375Z"
   },
   {
    "duration": 298,
    "start_time": "2022-11-17T15:37:16.622Z"
   },
   {
    "duration": 156,
    "start_time": "2022-11-17T15:37:16.921Z"
   },
   {
    "duration": 155,
    "start_time": "2022-11-17T15:37:17.079Z"
   },
   {
    "duration": 5,
    "start_time": "2022-11-17T15:37:17.236Z"
   },
   {
    "duration": 175,
    "start_time": "2022-11-17T15:37:17.243Z"
   },
   {
    "duration": 158,
    "start_time": "2022-11-17T15:37:17.420Z"
   },
   {
    "duration": 5,
    "start_time": "2022-11-17T15:37:17.579Z"
   },
   {
    "duration": 249,
    "start_time": "2022-11-17T15:37:17.599Z"
   },
   {
    "duration": 161,
    "start_time": "2022-11-17T15:37:17.851Z"
   },
   {
    "duration": 7,
    "start_time": "2022-11-17T15:37:18.014Z"
   },
   {
    "duration": 34,
    "start_time": "2022-11-17T15:37:18.023Z"
   },
   {
    "duration": 12,
    "start_time": "2022-11-17T15:37:18.059Z"
   },
   {
    "duration": 39,
    "start_time": "2022-11-17T15:37:18.073Z"
   },
   {
    "duration": 16,
    "start_time": "2022-11-17T15:37:18.114Z"
   },
   {
    "duration": 40,
    "start_time": "2022-11-17T15:37:18.132Z"
   },
   {
    "duration": 1101,
    "start_time": "2022-11-17T15:37:44.539Z"
   },
   {
    "duration": 86,
    "start_time": "2022-11-17T15:37:45.642Z"
   },
   {
    "duration": 12,
    "start_time": "2022-11-17T15:37:45.730Z"
   },
   {
    "duration": 14,
    "start_time": "2022-11-17T15:37:45.743Z"
   },
   {
    "duration": 4,
    "start_time": "2022-11-17T15:37:45.760Z"
   },
   {
    "duration": 16,
    "start_time": "2022-11-17T15:37:45.766Z"
   },
   {
    "duration": 21,
    "start_time": "2022-11-17T15:37:45.784Z"
   },
   {
    "duration": 11,
    "start_time": "2022-11-17T15:37:45.813Z"
   },
   {
    "duration": 17,
    "start_time": "2022-11-17T15:37:45.825Z"
   },
   {
    "duration": 11,
    "start_time": "2022-11-17T15:37:45.845Z"
   },
   {
    "duration": 10,
    "start_time": "2022-11-17T15:37:45.858Z"
   },
   {
    "duration": 23,
    "start_time": "2022-11-17T15:37:45.870Z"
   },
   {
    "duration": 17,
    "start_time": "2022-11-17T15:37:45.895Z"
   },
   {
    "duration": 14,
    "start_time": "2022-11-17T15:37:45.916Z"
   },
   {
    "duration": 20,
    "start_time": "2022-11-17T15:37:45.933Z"
   },
   {
    "duration": 13,
    "start_time": "2022-11-17T15:37:45.955Z"
   },
   {
    "duration": 361,
    "start_time": "2022-11-17T15:37:45.971Z"
   },
   {
    "duration": 288,
    "start_time": "2022-11-17T15:37:46.334Z"
   },
   {
    "duration": 198,
    "start_time": "2022-11-17T15:37:46.624Z"
   },
   {
    "duration": 296,
    "start_time": "2022-11-17T15:37:46.824Z"
   },
   {
    "duration": 141,
    "start_time": "2022-11-17T15:37:47.122Z"
   },
   {
    "duration": 150,
    "start_time": "2022-11-17T15:37:47.264Z"
   },
   {
    "duration": 5,
    "start_time": "2022-11-17T15:37:47.416Z"
   },
   {
    "duration": 165,
    "start_time": "2022-11-17T15:37:47.422Z"
   },
   {
    "duration": 162,
    "start_time": "2022-11-17T15:37:47.589Z"
   },
   {
    "duration": 5,
    "start_time": "2022-11-17T15:37:47.752Z"
   },
   {
    "duration": 260,
    "start_time": "2022-11-17T15:37:47.759Z"
   },
   {
    "duration": 128,
    "start_time": "2022-11-17T15:37:48.020Z"
   },
   {
    "duration": 6,
    "start_time": "2022-11-17T15:37:48.150Z"
   },
   {
    "duration": 27,
    "start_time": "2022-11-17T15:37:48.157Z"
   },
   {
    "duration": 29,
    "start_time": "2022-11-17T15:37:48.185Z"
   },
   {
    "duration": 13,
    "start_time": "2022-11-17T15:37:48.216Z"
   },
   {
    "duration": 8,
    "start_time": "2022-11-17T15:37:48.231Z"
   },
   {
    "duration": 24,
    "start_time": "2022-11-17T15:37:48.241Z"
   },
   {
    "duration": 15,
    "start_time": "2022-11-17T15:40:33.951Z"
   },
   {
    "duration": 1088,
    "start_time": "2022-11-17T16:00:07.651Z"
   },
   {
    "duration": 79,
    "start_time": "2022-11-17T16:00:08.741Z"
   },
   {
    "duration": 13,
    "start_time": "2022-11-17T16:00:08.821Z"
   },
   {
    "duration": 13,
    "start_time": "2022-11-17T16:00:08.836Z"
   },
   {
    "duration": 20,
    "start_time": "2022-11-17T16:00:08.850Z"
   },
   {
    "duration": 30,
    "start_time": "2022-11-17T16:00:08.871Z"
   },
   {
    "duration": 11,
    "start_time": "2022-11-17T16:00:08.903Z"
   },
   {
    "duration": 6,
    "start_time": "2022-11-17T16:00:08.916Z"
   },
   {
    "duration": 14,
    "start_time": "2022-11-17T16:00:08.923Z"
   },
   {
    "duration": 7,
    "start_time": "2022-11-17T16:00:08.939Z"
   },
   {
    "duration": 10,
    "start_time": "2022-11-17T16:00:08.948Z"
   },
   {
    "duration": 36,
    "start_time": "2022-11-17T16:00:08.961Z"
   },
   {
    "duration": 4,
    "start_time": "2022-11-17T16:00:08.998Z"
   },
   {
    "duration": 11,
    "start_time": "2022-11-17T16:00:09.003Z"
   },
   {
    "duration": 17,
    "start_time": "2022-11-17T16:00:09.016Z"
   },
   {
    "duration": 13,
    "start_time": "2022-11-17T16:00:09.035Z"
   },
   {
    "duration": 298,
    "start_time": "2022-11-17T16:00:09.051Z"
   },
   {
    "duration": 281,
    "start_time": "2022-11-17T16:00:09.351Z"
   },
   {
    "duration": 188,
    "start_time": "2022-11-17T16:00:09.633Z"
   },
   {
    "duration": 288,
    "start_time": "2022-11-17T16:00:09.823Z"
   },
   {
    "duration": 142,
    "start_time": "2022-11-17T16:00:10.113Z"
   },
   {
    "duration": 153,
    "start_time": "2022-11-17T16:00:10.257Z"
   },
   {
    "duration": 6,
    "start_time": "2022-11-17T16:00:10.412Z"
   },
   {
    "duration": 168,
    "start_time": "2022-11-17T16:00:10.420Z"
   },
   {
    "duration": 158,
    "start_time": "2022-11-17T16:00:10.590Z"
   },
   {
    "duration": 6,
    "start_time": "2022-11-17T16:00:10.749Z"
   },
   {
    "duration": 250,
    "start_time": "2022-11-17T16:00:10.756Z"
   },
   {
    "duration": 160,
    "start_time": "2022-11-17T16:00:11.009Z"
   },
   {
    "duration": 5,
    "start_time": "2022-11-17T16:00:11.171Z"
   },
   {
    "duration": 36,
    "start_time": "2022-11-17T16:00:11.177Z"
   },
   {
    "duration": 11,
    "start_time": "2022-11-17T16:00:11.215Z"
   },
   {
    "duration": 10,
    "start_time": "2022-11-17T16:00:11.228Z"
   },
   {
    "duration": 14,
    "start_time": "2022-11-17T16:00:11.240Z"
   },
   {
    "duration": 26,
    "start_time": "2022-11-17T16:00:11.255Z"
   },
   {
    "duration": 14,
    "start_time": "2022-11-17T16:00:11.297Z"
   },
   {
    "duration": 1124,
    "start_time": "2022-11-17T16:27:04.166Z"
   },
   {
    "duration": 236,
    "start_time": "2022-11-17T16:27:05.292Z"
   },
   {
    "duration": 16,
    "start_time": "2022-11-17T16:27:05.530Z"
   },
   {
    "duration": 39,
    "start_time": "2022-11-17T16:27:05.549Z"
   },
   {
    "duration": 22,
    "start_time": "2022-11-17T16:27:05.590Z"
   },
   {
    "duration": 36,
    "start_time": "2022-11-17T16:27:05.615Z"
   },
   {
    "duration": 35,
    "start_time": "2022-11-17T16:27:05.653Z"
   },
   {
    "duration": 44,
    "start_time": "2022-11-17T16:27:05.691Z"
   },
   {
    "duration": 40,
    "start_time": "2022-11-17T16:27:05.737Z"
   },
   {
    "duration": 22,
    "start_time": "2022-11-17T16:27:05.780Z"
   },
   {
    "duration": 24,
    "start_time": "2022-11-17T16:27:05.804Z"
   },
   {
    "duration": 24,
    "start_time": "2022-11-17T16:27:05.830Z"
   },
   {
    "duration": 34,
    "start_time": "2022-11-17T16:27:05.856Z"
   },
   {
    "duration": 25,
    "start_time": "2022-11-17T16:27:05.892Z"
   },
   {
    "duration": 33,
    "start_time": "2022-11-17T16:27:05.919Z"
   },
   {
    "duration": 25,
    "start_time": "2022-11-17T16:27:05.955Z"
   },
   {
    "duration": 339,
    "start_time": "2022-11-17T16:27:05.981Z"
   },
   {
    "duration": 364,
    "start_time": "2022-11-17T16:27:06.323Z"
   },
   {
    "duration": 256,
    "start_time": "2022-11-17T16:27:06.690Z"
   },
   {
    "duration": 288,
    "start_time": "2022-11-17T16:27:06.948Z"
   },
   {
    "duration": 166,
    "start_time": "2022-11-17T16:27:07.239Z"
   },
   {
    "duration": 165,
    "start_time": "2022-11-17T16:27:07.407Z"
   },
   {
    "duration": 6,
    "start_time": "2022-11-17T16:27:07.574Z"
   },
   {
    "duration": 179,
    "start_time": "2022-11-17T16:27:07.582Z"
   },
   {
    "duration": 186,
    "start_time": "2022-11-17T16:27:07.763Z"
   },
   {
    "duration": 5,
    "start_time": "2022-11-17T16:27:07.951Z"
   },
   {
    "duration": 281,
    "start_time": "2022-11-17T16:27:07.958Z"
   },
   {
    "duration": 189,
    "start_time": "2022-11-17T16:27:08.243Z"
   },
   {
    "duration": 7,
    "start_time": "2022-11-17T16:27:08.434Z"
   },
   {
    "duration": 34,
    "start_time": "2022-11-17T16:27:08.443Z"
   },
   {
    "duration": 11,
    "start_time": "2022-11-17T16:27:08.479Z"
   },
   {
    "duration": 26,
    "start_time": "2022-11-17T16:27:08.492Z"
   },
   {
    "duration": 11,
    "start_time": "2022-11-17T16:27:08.520Z"
   },
   {
    "duration": 31,
    "start_time": "2022-11-17T16:27:08.532Z"
   },
   {
    "duration": 16,
    "start_time": "2022-11-17T16:27:08.565Z"
   },
   {
    "duration": 58,
    "start_time": "2022-11-18T12:21:12.345Z"
   },
   {
    "duration": 1474,
    "start_time": "2022-11-18T12:21:23.634Z"
   },
   {
    "duration": 203,
    "start_time": "2022-11-18T12:21:25.110Z"
   },
   {
    "duration": 16,
    "start_time": "2022-11-18T12:21:25.316Z"
   },
   {
    "duration": 34,
    "start_time": "2022-11-18T12:21:25.334Z"
   },
   {
    "duration": 24,
    "start_time": "2022-11-18T12:21:25.371Z"
   },
   {
    "duration": 44,
    "start_time": "2022-11-18T12:21:25.398Z"
   },
   {
    "duration": 23,
    "start_time": "2022-11-18T12:21:25.444Z"
   },
   {
    "duration": 15,
    "start_time": "2022-11-18T12:21:25.469Z"
   },
   {
    "duration": 18,
    "start_time": "2022-11-18T12:21:25.486Z"
   },
   {
    "duration": 12,
    "start_time": "2022-11-18T12:21:25.507Z"
   },
   {
    "duration": 17,
    "start_time": "2022-11-18T12:21:25.521Z"
   },
   {
    "duration": 26,
    "start_time": "2022-11-18T12:21:25.540Z"
   },
   {
    "duration": 17,
    "start_time": "2022-11-18T12:21:25.569Z"
   },
   {
    "duration": 9,
    "start_time": "2022-11-18T12:21:25.591Z"
   },
   {
    "duration": 21,
    "start_time": "2022-11-18T12:21:25.602Z"
   },
   {
    "duration": 31,
    "start_time": "2022-11-18T12:21:25.625Z"
   },
   {
    "duration": 356,
    "start_time": "2022-11-18T12:21:25.658Z"
   },
   {
    "duration": 431,
    "start_time": "2022-11-18T12:21:26.016Z"
   },
   {
    "duration": 223,
    "start_time": "2022-11-18T12:21:26.454Z"
   },
   {
    "duration": 327,
    "start_time": "2022-11-18T12:21:26.680Z"
   },
   {
    "duration": 197,
    "start_time": "2022-11-18T12:21:27.009Z"
   },
   {
    "duration": 169,
    "start_time": "2022-11-18T12:21:27.208Z"
   },
   {
    "duration": 7,
    "start_time": "2022-11-18T12:21:27.379Z"
   },
   {
    "duration": 200,
    "start_time": "2022-11-18T12:21:27.388Z"
   },
   {
    "duration": 172,
    "start_time": "2022-11-18T12:21:27.590Z"
   },
   {
    "duration": 7,
    "start_time": "2022-11-18T12:21:27.764Z"
   },
   {
    "duration": 248,
    "start_time": "2022-11-18T12:21:27.773Z"
   },
   {
    "duration": 180,
    "start_time": "2022-11-18T12:21:28.023Z"
   },
   {
    "duration": 7,
    "start_time": "2022-11-18T12:21:28.205Z"
   },
   {
    "duration": 52,
    "start_time": "2022-11-18T12:21:28.213Z"
   },
   {
    "duration": 13,
    "start_time": "2022-11-18T12:21:28.268Z"
   },
   {
    "duration": 12,
    "start_time": "2022-11-18T12:21:28.289Z"
   },
   {
    "duration": 11,
    "start_time": "2022-11-18T12:21:28.303Z"
   },
   {
    "duration": 49,
    "start_time": "2022-11-18T12:21:28.315Z"
   },
   {
    "duration": 19,
    "start_time": "2022-11-18T12:21:28.366Z"
   },
   {
    "duration": 3,
    "start_time": "2022-11-18T12:24:35.766Z"
   },
   {
    "duration": 16,
    "start_time": "2022-11-18T12:24:57.386Z"
   },
   {
    "duration": 123,
    "start_time": "2022-11-18T12:25:19.111Z"
   },
   {
    "duration": 49,
    "start_time": "2022-11-18T12:26:06.982Z"
   },
   {
    "duration": 13,
    "start_time": "2022-11-18T12:26:12.075Z"
   },
   {
    "duration": 12,
    "start_time": "2022-11-18T12:27:15.305Z"
   },
   {
    "duration": 13,
    "start_time": "2022-11-18T12:27:24.946Z"
   },
   {
    "duration": 17,
    "start_time": "2022-11-18T12:37:12.944Z"
   },
   {
    "duration": 15,
    "start_time": "2022-11-18T12:37:21.925Z"
   },
   {
    "duration": 18,
    "start_time": "2022-11-18T12:37:37.553Z"
   },
   {
    "duration": 8,
    "start_time": "2022-11-18T12:39:13.424Z"
   },
   {
    "duration": 12,
    "start_time": "2022-11-18T12:39:22.025Z"
   },
   {
    "duration": 6,
    "start_time": "2022-11-18T12:44:03.466Z"
   },
   {
    "duration": 9,
    "start_time": "2022-11-18T12:44:15.546Z"
   },
   {
    "duration": 6,
    "start_time": "2022-11-18T12:44:47.065Z"
   },
   {
    "duration": 14,
    "start_time": "2022-11-18T12:44:55.466Z"
   },
   {
    "duration": 6,
    "start_time": "2022-11-18T12:45:16.504Z"
   },
   {
    "duration": 6,
    "start_time": "2022-11-18T12:45:24.125Z"
   },
   {
    "duration": 4,
    "start_time": "2022-11-18T12:45:28.475Z"
   },
   {
    "duration": 215,
    "start_time": "2022-11-18T12:46:41.645Z"
   },
   {
    "duration": 285,
    "start_time": "2022-11-18T12:46:56.718Z"
   },
   {
    "duration": 235,
    "start_time": "2022-11-18T12:47:59.617Z"
   },
   {
    "duration": 262,
    "start_time": "2022-11-18T12:48:07.027Z"
   },
   {
    "duration": 224,
    "start_time": "2022-11-18T12:48:25.265Z"
   },
   {
    "duration": 221,
    "start_time": "2022-11-18T12:48:56.646Z"
   },
   {
    "duration": 351,
    "start_time": "2022-11-18T12:49:45.825Z"
   },
   {
    "duration": 750,
    "start_time": "2022-11-18T12:53:19.446Z"
   },
   {
    "duration": 1321,
    "start_time": "2022-11-18T12:54:14.375Z"
   },
   {
    "duration": 104,
    "start_time": "2022-11-18T12:54:15.700Z"
   },
   {
    "duration": 13,
    "start_time": "2022-11-18T12:54:15.806Z"
   },
   {
    "duration": 14,
    "start_time": "2022-11-18T12:54:15.821Z"
   },
   {
    "duration": 3,
    "start_time": "2022-11-18T12:54:15.838Z"
   },
   {
    "duration": 10,
    "start_time": "2022-11-18T12:54:15.843Z"
   },
   {
    "duration": 42,
    "start_time": "2022-11-18T12:54:15.858Z"
   },
   {
    "duration": 8,
    "start_time": "2022-11-18T12:54:15.902Z"
   },
   {
    "duration": 17,
    "start_time": "2022-11-18T12:54:15.911Z"
   },
   {
    "duration": 8,
    "start_time": "2022-11-18T12:54:15.929Z"
   },
   {
    "duration": 9,
    "start_time": "2022-11-18T12:54:15.938Z"
   },
   {
    "duration": 19,
    "start_time": "2022-11-18T12:54:15.949Z"
   },
   {
    "duration": 16,
    "start_time": "2022-11-18T12:54:15.972Z"
   },
   {
    "duration": 9,
    "start_time": "2022-11-18T12:54:15.992Z"
   },
   {
    "duration": 16,
    "start_time": "2022-11-18T12:54:16.003Z"
   },
   {
    "duration": 12,
    "start_time": "2022-11-18T12:54:16.021Z"
   },
   {
    "duration": 24,
    "start_time": "2022-11-18T12:54:16.034Z"
   },
   {
    "duration": 343,
    "start_time": "2022-11-18T12:54:16.063Z"
   },
   {
    "duration": 345,
    "start_time": "2022-11-18T12:54:16.407Z"
   },
   {
    "duration": 269,
    "start_time": "2022-11-18T12:54:16.753Z"
   },
   {
    "duration": 390,
    "start_time": "2022-11-18T12:54:17.024Z"
   },
   {
    "duration": 911,
    "start_time": "2022-11-18T12:54:17.416Z"
   },
   {
    "duration": 0,
    "start_time": "2022-11-18T12:54:18.328Z"
   },
   {
    "duration": 0,
    "start_time": "2022-11-18T12:54:18.330Z"
   },
   {
    "duration": 0,
    "start_time": "2022-11-18T12:54:18.331Z"
   },
   {
    "duration": 0,
    "start_time": "2022-11-18T12:54:18.332Z"
   },
   {
    "duration": 0,
    "start_time": "2022-11-18T12:54:18.334Z"
   },
   {
    "duration": 0,
    "start_time": "2022-11-18T12:54:18.335Z"
   },
   {
    "duration": 0,
    "start_time": "2022-11-18T12:54:18.336Z"
   },
   {
    "duration": 0,
    "start_time": "2022-11-18T12:54:18.337Z"
   },
   {
    "duration": 0,
    "start_time": "2022-11-18T12:54:18.338Z"
   },
   {
    "duration": 0,
    "start_time": "2022-11-18T12:54:18.340Z"
   },
   {
    "duration": 0,
    "start_time": "2022-11-18T12:54:18.341Z"
   },
   {
    "duration": 0,
    "start_time": "2022-11-18T12:54:18.342Z"
   },
   {
    "duration": 0,
    "start_time": "2022-11-18T12:54:18.343Z"
   },
   {
    "duration": 0,
    "start_time": "2022-11-18T12:54:18.344Z"
   },
   {
    "duration": 0,
    "start_time": "2022-11-18T12:54:18.345Z"
   },
   {
    "duration": 11,
    "start_time": "2022-11-18T12:55:41.213Z"
   },
   {
    "duration": 52,
    "start_time": "2022-11-18T12:56:12.783Z"
   },
   {
    "duration": 226,
    "start_time": "2022-11-18T12:56:15.938Z"
   },
   {
    "duration": 274,
    "start_time": "2022-11-18T12:56:24.182Z"
   },
   {
    "duration": 223,
    "start_time": "2022-11-18T12:56:41.227Z"
   },
   {
    "duration": 257,
    "start_time": "2022-11-18T12:56:59.022Z"
   },
   {
    "duration": 224,
    "start_time": "2022-11-18T12:57:10.925Z"
   },
   {
    "duration": 400,
    "start_time": "2022-11-18T12:58:28.677Z"
   },
   {
    "duration": 342,
    "start_time": "2022-11-18T12:58:47.835Z"
   },
   {
    "duration": 316,
    "start_time": "2022-11-18T13:01:21.904Z"
   },
   {
    "duration": 269,
    "start_time": "2022-11-18T13:01:29.058Z"
   },
   {
    "duration": 241,
    "start_time": "2022-11-18T13:01:41.925Z"
   },
   {
    "duration": 218,
    "start_time": "2022-11-18T13:01:50.365Z"
   },
   {
    "duration": 221,
    "start_time": "2022-11-18T13:01:55.425Z"
   },
   {
    "duration": 373,
    "start_time": "2022-11-18T13:04:03.055Z"
   },
   {
    "duration": 351,
    "start_time": "2022-11-18T13:04:15.345Z"
   },
   {
    "duration": 368,
    "start_time": "2022-11-18T13:04:20.747Z"
   },
   {
    "duration": 381,
    "start_time": "2022-11-18T13:04:36.974Z"
   },
   {
    "duration": 430,
    "start_time": "2022-11-18T13:04:47.445Z"
   },
   {
    "duration": 345,
    "start_time": "2022-11-18T13:05:03.695Z"
   },
   {
    "duration": 378,
    "start_time": "2022-11-18T13:05:13.370Z"
   },
   {
    "duration": 1225,
    "start_time": "2022-11-18T13:07:53.718Z"
   },
   {
    "duration": 82,
    "start_time": "2022-11-18T13:07:54.946Z"
   },
   {
    "duration": 13,
    "start_time": "2022-11-18T13:07:55.030Z"
   },
   {
    "duration": 28,
    "start_time": "2022-11-18T13:07:55.044Z"
   },
   {
    "duration": 38,
    "start_time": "2022-11-18T13:07:55.075Z"
   },
   {
    "duration": 16,
    "start_time": "2022-11-18T13:07:55.115Z"
   },
   {
    "duration": 43,
    "start_time": "2022-11-18T13:07:55.133Z"
   },
   {
    "duration": 34,
    "start_time": "2022-11-18T13:07:55.178Z"
   },
   {
    "duration": 30,
    "start_time": "2022-11-18T13:07:55.214Z"
   },
   {
    "duration": 27,
    "start_time": "2022-11-18T13:07:55.245Z"
   },
   {
    "duration": 41,
    "start_time": "2022-11-18T13:07:55.273Z"
   },
   {
    "duration": 39,
    "start_time": "2022-11-18T13:07:55.315Z"
   },
   {
    "duration": 44,
    "start_time": "2022-11-18T13:07:55.356Z"
   },
   {
    "duration": 19,
    "start_time": "2022-11-18T13:07:55.403Z"
   },
   {
    "duration": 32,
    "start_time": "2022-11-18T13:07:55.424Z"
   },
   {
    "duration": 20,
    "start_time": "2022-11-18T13:07:55.457Z"
   },
   {
    "duration": 40,
    "start_time": "2022-11-18T13:07:55.478Z"
   },
   {
    "duration": 325,
    "start_time": "2022-11-18T13:07:55.520Z"
   },
   {
    "duration": 315,
    "start_time": "2022-11-18T13:07:55.847Z"
   },
   {
    "duration": 228,
    "start_time": "2022-11-18T13:07:56.164Z"
   },
   {
    "duration": 301,
    "start_time": "2022-11-18T13:07:56.394Z"
   },
   {
    "duration": 264,
    "start_time": "2022-11-18T13:07:56.697Z"
   },
   {
    "duration": 341,
    "start_time": "2022-11-18T13:07:56.963Z"
   },
   {
    "duration": 162,
    "start_time": "2022-11-18T13:07:57.306Z"
   },
   {
    "duration": 150,
    "start_time": "2022-11-18T13:07:57.470Z"
   },
   {
    "duration": 5,
    "start_time": "2022-11-18T13:07:57.622Z"
   },
   {
    "duration": 182,
    "start_time": "2022-11-18T13:07:57.629Z"
   },
   {
    "duration": 168,
    "start_time": "2022-11-18T13:07:57.812Z"
   },
   {
    "duration": 5,
    "start_time": "2022-11-18T13:07:57.982Z"
   },
   {
    "duration": 327,
    "start_time": "2022-11-18T13:07:57.989Z"
   },
   {
    "duration": 146,
    "start_time": "2022-11-18T13:07:58.318Z"
   },
   {
    "duration": 7,
    "start_time": "2022-11-18T13:07:58.466Z"
   },
   {
    "duration": 46,
    "start_time": "2022-11-18T13:07:58.475Z"
   },
   {
    "duration": 12,
    "start_time": "2022-11-18T13:07:58.523Z"
   },
   {
    "duration": 30,
    "start_time": "2022-11-18T13:07:58.537Z"
   },
   {
    "duration": 25,
    "start_time": "2022-11-18T13:07:58.569Z"
   },
   {
    "duration": 39,
    "start_time": "2022-11-18T13:07:58.596Z"
   },
   {
    "duration": 16,
    "start_time": "2022-11-18T13:07:58.637Z"
   },
   {
    "duration": 13,
    "start_time": "2022-11-18T13:08:30.185Z"
   },
   {
    "duration": 5,
    "start_time": "2022-11-18T13:08:43.128Z"
   },
   {
    "duration": 9,
    "start_time": "2022-11-18T13:09:47.633Z"
   },
   {
    "duration": 15,
    "start_time": "2022-11-18T13:10:25.085Z"
   },
   {
    "duration": 16,
    "start_time": "2022-11-18T13:11:06.968Z"
   },
   {
    "duration": 7,
    "start_time": "2022-11-18T13:11:51.163Z"
   },
   {
    "duration": 6,
    "start_time": "2022-11-18T13:11:57.315Z"
   },
   {
    "duration": 109,
    "start_time": "2022-11-18T13:12:01.885Z"
   },
   {
    "duration": 6,
    "start_time": "2022-11-18T13:12:42.650Z"
   },
   {
    "duration": 6,
    "start_time": "2022-11-18T13:12:51.616Z"
   },
   {
    "duration": 14,
    "start_time": "2022-11-18T13:13:02.570Z"
   },
   {
    "duration": 11,
    "start_time": "2022-11-18T13:13:08.105Z"
   },
   {
    "duration": 12,
    "start_time": "2022-11-18T13:13:11.377Z"
   },
   {
    "duration": 7,
    "start_time": "2022-11-18T13:13:22.764Z"
   },
   {
    "duration": 13,
    "start_time": "2022-11-18T13:14:03.165Z"
   },
   {
    "duration": 12,
    "start_time": "2022-11-18T13:15:46.623Z"
   },
   {
    "duration": 6,
    "start_time": "2022-11-18T13:16:00.374Z"
   },
   {
    "duration": 17,
    "start_time": "2022-11-18T13:17:17.952Z"
   },
   {
    "duration": 1344,
    "start_time": "2022-11-18T13:17:43.654Z"
   },
   {
    "duration": 21,
    "start_time": "2022-11-18T13:17:54.505Z"
   },
   {
    "duration": 5,
    "start_time": "2022-11-18T13:18:09.884Z"
   },
   {
    "duration": 5,
    "start_time": "2022-11-18T13:19:33.466Z"
   },
   {
    "duration": 4,
    "start_time": "2022-11-18T13:19:54.065Z"
   },
   {
    "duration": 6,
    "start_time": "2022-11-18T13:21:35.145Z"
   },
   {
    "duration": 5,
    "start_time": "2022-11-18T13:21:56.865Z"
   },
   {
    "duration": 6,
    "start_time": "2022-11-18T13:22:12.852Z"
   },
   {
    "duration": 3,
    "start_time": "2022-11-18T13:22:33.614Z"
   },
   {
    "duration": 629,
    "start_time": "2022-11-18T13:22:40.825Z"
   },
   {
    "duration": 5,
    "start_time": "2022-11-18T13:22:55.664Z"
   },
   {
    "duration": 1222,
    "start_time": "2022-11-18T13:23:11.033Z"
   },
   {
    "duration": 79,
    "start_time": "2022-11-18T13:23:12.257Z"
   },
   {
    "duration": 15,
    "start_time": "2022-11-18T13:23:12.338Z"
   },
   {
    "duration": 20,
    "start_time": "2022-11-18T13:23:12.356Z"
   },
   {
    "duration": 3,
    "start_time": "2022-11-18T13:23:12.378Z"
   },
   {
    "duration": 14,
    "start_time": "2022-11-18T13:23:12.383Z"
   },
   {
    "duration": 14,
    "start_time": "2022-11-18T13:23:12.399Z"
   },
   {
    "duration": 7,
    "start_time": "2022-11-18T13:23:12.415Z"
   },
   {
    "duration": 37,
    "start_time": "2022-11-18T13:23:12.423Z"
   },
   {
    "duration": 7,
    "start_time": "2022-11-18T13:23:12.464Z"
   },
   {
    "duration": 10,
    "start_time": "2022-11-18T13:23:12.472Z"
   },
   {
    "duration": 23,
    "start_time": "2022-11-18T13:23:12.484Z"
   },
   {
    "duration": 10,
    "start_time": "2022-11-18T13:23:12.509Z"
   },
   {
    "duration": 11,
    "start_time": "2022-11-18T13:23:12.520Z"
   },
   {
    "duration": 30,
    "start_time": "2022-11-18T13:23:12.532Z"
   },
   {
    "duration": 11,
    "start_time": "2022-11-18T13:23:12.564Z"
   },
   {
    "duration": 8,
    "start_time": "2022-11-18T13:23:12.577Z"
   },
   {
    "duration": 7,
    "start_time": "2022-11-18T13:23:12.586Z"
   },
   {
    "duration": 319,
    "start_time": "2022-11-18T13:23:12.595Z"
   },
   {
    "duration": 318,
    "start_time": "2022-11-18T13:23:12.916Z"
   },
   {
    "duration": 216,
    "start_time": "2022-11-18T13:23:13.236Z"
   },
   {
    "duration": 349,
    "start_time": "2022-11-18T13:23:13.454Z"
   },
   {
    "duration": 236,
    "start_time": "2022-11-18T13:23:13.805Z"
   },
   {
    "duration": 362,
    "start_time": "2022-11-18T13:23:14.043Z"
   },
   {
    "duration": 248,
    "start_time": "2022-11-18T13:23:14.407Z"
   },
   {
    "duration": 168,
    "start_time": "2022-11-18T13:23:14.660Z"
   },
   {
    "duration": 5,
    "start_time": "2022-11-18T13:23:14.830Z"
   },
   {
    "duration": 166,
    "start_time": "2022-11-18T13:23:14.839Z"
   },
   {
    "duration": 188,
    "start_time": "2022-11-18T13:23:15.007Z"
   },
   {
    "duration": 5,
    "start_time": "2022-11-18T13:23:15.198Z"
   },
   {
    "duration": 332,
    "start_time": "2022-11-18T13:23:15.205Z"
   },
   {
    "duration": 166,
    "start_time": "2022-11-18T13:23:15.540Z"
   },
   {
    "duration": 8,
    "start_time": "2022-11-18T13:23:15.708Z"
   },
   {
    "duration": 49,
    "start_time": "2022-11-18T13:23:15.719Z"
   },
   {
    "duration": 15,
    "start_time": "2022-11-18T13:23:15.770Z"
   },
   {
    "duration": 11,
    "start_time": "2022-11-18T13:23:15.787Z"
   },
   {
    "duration": 10,
    "start_time": "2022-11-18T13:23:15.802Z"
   },
   {
    "duration": 56,
    "start_time": "2022-11-18T13:23:15.814Z"
   },
   {
    "duration": 16,
    "start_time": "2022-11-18T13:23:15.872Z"
   },
   {
    "duration": 14,
    "start_time": "2022-11-18T13:23:40.437Z"
   },
   {
    "duration": 95,
    "start_time": "2022-11-18T13:23:52.737Z"
   },
   {
    "duration": 15,
    "start_time": "2022-11-18T13:24:01.036Z"
   },
   {
    "duration": 13,
    "start_time": "2022-11-18T13:24:11.725Z"
   },
   {
    "duration": 728,
    "start_time": "2022-11-18T13:33:52.883Z"
   },
   {
    "duration": 11,
    "start_time": "2022-11-18T13:34:00.157Z"
   },
   {
    "duration": 13,
    "start_time": "2022-11-18T13:34:05.106Z"
   },
   {
    "duration": 15,
    "start_time": "2022-11-18T13:34:29.704Z"
   },
   {
    "duration": 16,
    "start_time": "2022-11-18T13:34:45.546Z"
   },
   {
    "duration": 9,
    "start_time": "2022-11-18T13:34:55.065Z"
   },
   {
    "duration": 11,
    "start_time": "2022-11-18T13:37:31.146Z"
   },
   {
    "duration": 9,
    "start_time": "2022-11-18T13:37:37.593Z"
   },
   {
    "duration": 25,
    "start_time": "2022-11-18T13:37:53.026Z"
   },
   {
    "duration": 26,
    "start_time": "2022-11-18T13:38:27.425Z"
   },
   {
    "duration": 4,
    "start_time": "2022-11-18T13:39:47.297Z"
   },
   {
    "duration": 8,
    "start_time": "2022-11-18T13:39:50.057Z"
   },
   {
    "duration": 9,
    "start_time": "2022-11-18T13:40:19.357Z"
   },
   {
    "duration": 233,
    "start_time": "2022-11-18T14:01:21.594Z"
   },
   {
    "duration": 5,
    "start_time": "2022-11-18T14:02:28.029Z"
   },
   {
    "duration": 14,
    "start_time": "2022-11-18T14:02:35.388Z"
   },
   {
    "duration": 11,
    "start_time": "2022-11-18T14:02:51.694Z"
   },
   {
    "duration": 15,
    "start_time": "2022-11-18T14:03:06.699Z"
   },
   {
    "duration": 95,
    "start_time": "2022-11-18T14:04:09.069Z"
   },
   {
    "duration": 1161,
    "start_time": "2022-11-19T07:02:48.511Z"
   },
   {
    "duration": 197,
    "start_time": "2022-11-19T07:02:49.674Z"
   },
   {
    "duration": 13,
    "start_time": "2022-11-19T07:02:49.872Z"
   },
   {
    "duration": 13,
    "start_time": "2022-11-19T07:02:49.887Z"
   },
   {
    "duration": 4,
    "start_time": "2022-11-19T07:02:49.902Z"
   },
   {
    "duration": 11,
    "start_time": "2022-11-19T07:02:49.907Z"
   },
   {
    "duration": 12,
    "start_time": "2022-11-19T07:02:49.919Z"
   },
   {
    "duration": 8,
    "start_time": "2022-11-19T07:02:49.933Z"
   },
   {
    "duration": 14,
    "start_time": "2022-11-19T07:02:49.943Z"
   },
   {
    "duration": 8,
    "start_time": "2022-11-19T07:02:49.960Z"
   },
   {
    "duration": 15,
    "start_time": "2022-11-19T07:02:49.970Z"
   },
   {
    "duration": 31,
    "start_time": "2022-11-19T07:02:49.986Z"
   },
   {
    "duration": 4,
    "start_time": "2022-11-19T07:02:50.018Z"
   },
   {
    "duration": 11,
    "start_time": "2022-11-19T07:02:50.024Z"
   },
   {
    "duration": 19,
    "start_time": "2022-11-19T07:02:50.037Z"
   },
   {
    "duration": 13,
    "start_time": "2022-11-19T07:02:50.058Z"
   },
   {
    "duration": 41,
    "start_time": "2022-11-19T07:02:50.072Z"
   },
   {
    "duration": 296,
    "start_time": "2022-11-19T07:02:50.114Z"
   },
   {
    "duration": 320,
    "start_time": "2022-11-19T07:02:50.411Z"
   },
   {
    "duration": 226,
    "start_time": "2022-11-19T07:02:50.733Z"
   },
   {
    "duration": 303,
    "start_time": "2022-11-19T07:02:50.961Z"
   },
   {
    "duration": 253,
    "start_time": "2022-11-19T07:02:51.266Z"
   },
   {
    "duration": 347,
    "start_time": "2022-11-19T07:02:51.521Z"
   },
   {
    "duration": 143,
    "start_time": "2022-11-19T07:02:51.869Z"
   },
   {
    "duration": 155,
    "start_time": "2022-11-19T07:02:52.014Z"
   },
   {
    "duration": 5,
    "start_time": "2022-11-19T07:02:52.171Z"
   },
   {
    "duration": 180,
    "start_time": "2022-11-19T07:02:52.178Z"
   },
   {
    "duration": 173,
    "start_time": "2022-11-19T07:02:52.361Z"
   },
   {
    "duration": 5,
    "start_time": "2022-11-19T07:02:52.536Z"
   },
   {
    "duration": 332,
    "start_time": "2022-11-19T07:02:52.543Z"
   },
   {
    "duration": 156,
    "start_time": "2022-11-19T07:02:52.877Z"
   },
   {
    "duration": 7,
    "start_time": "2022-11-19T07:02:53.035Z"
   },
   {
    "duration": 24,
    "start_time": "2022-11-19T07:02:53.043Z"
   },
   {
    "duration": 10,
    "start_time": "2022-11-19T07:02:53.069Z"
   },
   {
    "duration": 34,
    "start_time": "2022-11-19T07:02:53.081Z"
   },
   {
    "duration": 11,
    "start_time": "2022-11-19T07:02:53.117Z"
   },
   {
    "duration": 28,
    "start_time": "2022-11-19T07:02:53.130Z"
   },
   {
    "duration": 14,
    "start_time": "2022-11-19T07:02:53.161Z"
   },
   {
    "duration": 1092,
    "start_time": "2022-11-19T07:03:42.673Z"
   },
   {
    "duration": 80,
    "start_time": "2022-11-19T07:03:43.767Z"
   },
   {
    "duration": 13,
    "start_time": "2022-11-19T07:03:43.848Z"
   },
   {
    "duration": 15,
    "start_time": "2022-11-19T07:03:43.862Z"
   },
   {
    "duration": 3,
    "start_time": "2022-11-19T07:03:43.879Z"
   },
   {
    "duration": 11,
    "start_time": "2022-11-19T07:03:43.883Z"
   },
   {
    "duration": 12,
    "start_time": "2022-11-19T07:03:43.895Z"
   },
   {
    "duration": 8,
    "start_time": "2022-11-19T07:03:43.909Z"
   },
   {
    "duration": 13,
    "start_time": "2022-11-19T07:03:43.919Z"
   },
   {
    "duration": 6,
    "start_time": "2022-11-19T07:03:43.935Z"
   },
   {
    "duration": 13,
    "start_time": "2022-11-19T07:03:43.943Z"
   },
   {
    "duration": 13,
    "start_time": "2022-11-19T07:03:43.958Z"
   },
   {
    "duration": 6,
    "start_time": "2022-11-19T07:03:43.972Z"
   },
   {
    "duration": 10,
    "start_time": "2022-11-19T07:03:43.980Z"
   },
   {
    "duration": 15,
    "start_time": "2022-11-19T07:03:44.011Z"
   },
   {
    "duration": 11,
    "start_time": "2022-11-19T07:03:44.027Z"
   },
   {
    "duration": 14,
    "start_time": "2022-11-19T07:03:44.040Z"
   },
   {
    "duration": 319,
    "start_time": "2022-11-19T07:03:44.055Z"
   },
   {
    "duration": 308,
    "start_time": "2022-11-19T07:03:44.375Z"
   },
   {
    "duration": 224,
    "start_time": "2022-11-19T07:03:44.685Z"
   },
   {
    "duration": 326,
    "start_time": "2022-11-19T07:03:44.911Z"
   },
   {
    "duration": 241,
    "start_time": "2022-11-19T07:03:45.238Z"
   },
   {
    "duration": 360,
    "start_time": "2022-11-19T07:03:45.481Z"
   },
   {
    "duration": 151,
    "start_time": "2022-11-19T07:03:45.843Z"
   },
   {
    "duration": 154,
    "start_time": "2022-11-19T07:03:45.995Z"
   },
   {
    "duration": 5,
    "start_time": "2022-11-19T07:03:46.151Z"
   },
   {
    "duration": 177,
    "start_time": "2022-11-19T07:03:46.157Z"
   },
   {
    "duration": 197,
    "start_time": "2022-11-19T07:03:46.337Z"
   },
   {
    "duration": 6,
    "start_time": "2022-11-19T07:03:46.536Z"
   },
   {
    "duration": 325,
    "start_time": "2022-11-19T07:03:46.544Z"
   },
   {
    "duration": 138,
    "start_time": "2022-11-19T07:03:46.871Z"
   },
   {
    "duration": 6,
    "start_time": "2022-11-19T07:03:47.012Z"
   },
   {
    "duration": 24,
    "start_time": "2022-11-19T07:03:47.020Z"
   },
   {
    "duration": 10,
    "start_time": "2022-11-19T07:03:47.046Z"
   },
   {
    "duration": 11,
    "start_time": "2022-11-19T07:03:47.058Z"
   },
   {
    "duration": 41,
    "start_time": "2022-11-19T07:03:47.071Z"
   },
   {
    "duration": 23,
    "start_time": "2022-11-19T07:03:47.114Z"
   },
   {
    "duration": 14,
    "start_time": "2022-11-19T07:03:47.139Z"
   },
   {
    "duration": 58,
    "start_time": "2022-11-19T11:42:34.881Z"
   },
   {
    "duration": 1253,
    "start_time": "2022-11-19T11:42:44.502Z"
   },
   {
    "duration": 216,
    "start_time": "2022-11-19T11:42:45.757Z"
   },
   {
    "duration": 11,
    "start_time": "2022-11-19T11:42:45.975Z"
   },
   {
    "duration": 21,
    "start_time": "2022-11-19T11:42:45.987Z"
   },
   {
    "duration": 14,
    "start_time": "2022-11-19T11:42:46.018Z"
   },
   {
    "duration": 20,
    "start_time": "2022-11-19T11:42:46.034Z"
   },
   {
    "duration": 19,
    "start_time": "2022-11-19T11:42:46.055Z"
   },
   {
    "duration": 7,
    "start_time": "2022-11-19T11:42:46.075Z"
   },
   {
    "duration": 14,
    "start_time": "2022-11-19T11:42:46.083Z"
   },
   {
    "duration": 23,
    "start_time": "2022-11-19T11:42:46.099Z"
   },
   {
    "duration": 12,
    "start_time": "2022-11-19T11:42:46.123Z"
   },
   {
    "duration": 15,
    "start_time": "2022-11-19T11:42:46.137Z"
   },
   {
    "duration": 13,
    "start_time": "2022-11-19T11:42:46.154Z"
   },
   {
    "duration": 7,
    "start_time": "2022-11-19T11:42:46.169Z"
   },
   {
    "duration": 19,
    "start_time": "2022-11-19T11:42:46.178Z"
   },
   {
    "duration": 23,
    "start_time": "2022-11-19T11:42:46.199Z"
   },
   {
    "duration": 116,
    "start_time": "2022-11-19T11:42:46.224Z"
   },
   {
    "duration": 0,
    "start_time": "2022-11-19T11:42:46.341Z"
   },
   {
    "duration": 0,
    "start_time": "2022-11-19T11:42:46.342Z"
   },
   {
    "duration": 0,
    "start_time": "2022-11-19T11:42:46.343Z"
   },
   {
    "duration": 0,
    "start_time": "2022-11-19T11:42:46.344Z"
   },
   {
    "duration": 0,
    "start_time": "2022-11-19T11:42:46.345Z"
   },
   {
    "duration": 0,
    "start_time": "2022-11-19T11:42:46.346Z"
   },
   {
    "duration": 0,
    "start_time": "2022-11-19T11:42:46.347Z"
   },
   {
    "duration": 0,
    "start_time": "2022-11-19T11:42:46.348Z"
   },
   {
    "duration": 0,
    "start_time": "2022-11-19T11:42:46.349Z"
   },
   {
    "duration": 0,
    "start_time": "2022-11-19T11:42:46.350Z"
   },
   {
    "duration": 0,
    "start_time": "2022-11-19T11:42:46.351Z"
   },
   {
    "duration": 0,
    "start_time": "2022-11-19T11:42:46.352Z"
   },
   {
    "duration": 0,
    "start_time": "2022-11-19T11:42:46.353Z"
   },
   {
    "duration": 0,
    "start_time": "2022-11-19T11:42:46.354Z"
   },
   {
    "duration": 0,
    "start_time": "2022-11-19T11:42:46.355Z"
   },
   {
    "duration": 0,
    "start_time": "2022-11-19T11:42:46.356Z"
   },
   {
    "duration": 0,
    "start_time": "2022-11-19T11:42:46.357Z"
   },
   {
    "duration": 0,
    "start_time": "2022-11-19T11:42:46.358Z"
   },
   {
    "duration": 0,
    "start_time": "2022-11-19T11:42:46.359Z"
   },
   {
    "duration": 0,
    "start_time": "2022-11-19T11:42:46.360Z"
   },
   {
    "duration": 0,
    "start_time": "2022-11-19T11:42:46.361Z"
   },
   {
    "duration": 78,
    "start_time": "2022-11-19T11:44:06.641Z"
   },
   {
    "duration": 6,
    "start_time": "2022-11-19T11:44:11.070Z"
   },
   {
    "duration": 5,
    "start_time": "2022-11-19T11:45:11.070Z"
   },
   {
    "duration": 14,
    "start_time": "2022-11-19T11:45:40.021Z"
   },
   {
    "duration": 5,
    "start_time": "2022-11-19T11:45:53.422Z"
   },
   {
    "duration": 8,
    "start_time": "2022-11-19T11:47:43.121Z"
   },
   {
    "duration": 5,
    "start_time": "2022-11-19T11:47:52.818Z"
   },
   {
    "duration": 5,
    "start_time": "2022-11-19T11:47:57.786Z"
   },
   {
    "duration": 9,
    "start_time": "2022-11-19T11:51:08.164Z"
   },
   {
    "duration": 10,
    "start_time": "2022-11-19T11:51:13.373Z"
   },
   {
    "duration": 19,
    "start_time": "2022-11-19T11:52:57.601Z"
   },
   {
    "duration": 18,
    "start_time": "2022-11-19T11:53:27.242Z"
   },
   {
    "duration": 16,
    "start_time": "2022-11-19T11:53:34.893Z"
   },
   {
    "duration": 19,
    "start_time": "2022-11-19T11:53:41.393Z"
   },
   {
    "duration": 740,
    "start_time": "2022-11-19T11:53:47.406Z"
   },
   {
    "duration": 10,
    "start_time": "2022-11-19T11:54:10.442Z"
   },
   {
    "duration": 14,
    "start_time": "2022-11-19T11:54:27.484Z"
   },
   {
    "duration": 8,
    "start_time": "2022-11-19T11:55:16.401Z"
   },
   {
    "duration": 12,
    "start_time": "2022-11-19T11:55:25.787Z"
   },
   {
    "duration": 15,
    "start_time": "2022-11-19T11:55:59.522Z"
   },
   {
    "duration": 11,
    "start_time": "2022-11-19T11:56:12.610Z"
   },
   {
    "duration": 5,
    "start_time": "2022-11-19T11:56:19.363Z"
   },
   {
    "duration": 10,
    "start_time": "2022-11-19T11:56:24.281Z"
   },
   {
    "duration": 1057,
    "start_time": "2022-11-19T11:56:30.123Z"
   },
   {
    "duration": 78,
    "start_time": "2022-11-19T11:56:31.182Z"
   },
   {
    "duration": 12,
    "start_time": "2022-11-19T11:56:31.262Z"
   },
   {
    "duration": 51,
    "start_time": "2022-11-19T11:56:31.275Z"
   },
   {
    "duration": 19,
    "start_time": "2022-11-19T11:56:31.329Z"
   },
   {
    "duration": 28,
    "start_time": "2022-11-19T11:56:31.350Z"
   },
   {
    "duration": 23,
    "start_time": "2022-11-19T11:56:31.379Z"
   },
   {
    "duration": 52,
    "start_time": "2022-11-19T11:56:31.404Z"
   },
   {
    "duration": 38,
    "start_time": "2022-11-19T11:56:31.458Z"
   },
   {
    "duration": 21,
    "start_time": "2022-11-19T11:56:31.498Z"
   },
   {
    "duration": 13,
    "start_time": "2022-11-19T11:56:31.521Z"
   },
   {
    "duration": 40,
    "start_time": "2022-11-19T11:56:31.536Z"
   },
   {
    "duration": 45,
    "start_time": "2022-11-19T11:56:31.577Z"
   },
   {
    "duration": 29,
    "start_time": "2022-11-19T11:56:31.624Z"
   },
   {
    "duration": 28,
    "start_time": "2022-11-19T11:56:31.654Z"
   },
   {
    "duration": 10,
    "start_time": "2022-11-19T11:56:31.683Z"
   },
   {
    "duration": 32,
    "start_time": "2022-11-19T11:56:31.694Z"
   },
   {
    "duration": 274,
    "start_time": "2022-11-19T11:56:31.727Z"
   },
   {
    "duration": 282,
    "start_time": "2022-11-19T11:56:32.005Z"
   },
   {
    "duration": 212,
    "start_time": "2022-11-19T11:56:32.288Z"
   },
   {
    "duration": 318,
    "start_time": "2022-11-19T11:56:32.504Z"
   },
   {
    "duration": 233,
    "start_time": "2022-11-19T11:56:32.824Z"
   },
   {
    "duration": 311,
    "start_time": "2022-11-19T11:56:33.059Z"
   },
   {
    "duration": 134,
    "start_time": "2022-11-19T11:56:33.371Z"
   },
   {
    "duration": 141,
    "start_time": "2022-11-19T11:56:33.507Z"
   },
   {
    "duration": 4,
    "start_time": "2022-11-19T11:56:33.650Z"
   },
   {
    "duration": 152,
    "start_time": "2022-11-19T11:56:33.656Z"
   },
   {
    "duration": 143,
    "start_time": "2022-11-19T11:56:33.809Z"
   },
   {
    "duration": 4,
    "start_time": "2022-11-19T11:56:33.953Z"
   },
   {
    "duration": 295,
    "start_time": "2022-11-19T11:56:33.959Z"
   },
   {
    "duration": 127,
    "start_time": "2022-11-19T11:56:34.255Z"
   },
   {
    "duration": 5,
    "start_time": "2022-11-19T11:56:34.384Z"
   },
   {
    "duration": 48,
    "start_time": "2022-11-19T11:56:34.390Z"
   },
   {
    "duration": 9,
    "start_time": "2022-11-19T11:56:34.440Z"
   },
   {
    "duration": 20,
    "start_time": "2022-11-19T11:56:34.450Z"
   },
   {
    "duration": 32,
    "start_time": "2022-11-19T11:56:34.471Z"
   },
   {
    "duration": 50,
    "start_time": "2022-11-19T11:56:34.505Z"
   },
   {
    "duration": 12,
    "start_time": "2022-11-19T11:56:34.556Z"
   },
   {
    "duration": 1331,
    "start_time": "2022-11-19T11:59:51.337Z"
   },
   {
    "duration": 10,
    "start_time": "2022-11-19T12:00:07.291Z"
   },
   {
    "duration": 10,
    "start_time": "2022-11-19T12:00:15.337Z"
   },
   {
    "duration": 12,
    "start_time": "2022-11-19T12:00:39.058Z"
   },
   {
    "duration": 13,
    "start_time": "2022-11-19T12:00:46.537Z"
   },
   {
    "duration": 11,
    "start_time": "2022-11-19T12:00:51.496Z"
   },
   {
    "duration": 6,
    "start_time": "2022-11-19T12:00:57.585Z"
   },
   {
    "duration": 11,
    "start_time": "2022-11-19T12:01:02.609Z"
   },
   {
    "duration": 9,
    "start_time": "2022-11-19T12:01:29.775Z"
   },
   {
    "duration": 1098,
    "start_time": "2022-11-19T12:02:22.787Z"
   },
   {
    "duration": 20,
    "start_time": "2022-11-19T12:02:30.107Z"
   },
   {
    "duration": 12,
    "start_time": "2022-11-19T12:02:39.967Z"
   },
   {
    "duration": 21,
    "start_time": "2022-11-19T12:02:43.535Z"
   },
   {
    "duration": 21,
    "start_time": "2022-11-19T12:02:53.163Z"
   },
   {
    "duration": 13,
    "start_time": "2022-11-19T12:03:11.517Z"
   },
   {
    "duration": 1102,
    "start_time": "2022-11-19T12:03:18.077Z"
   },
   {
    "duration": 79,
    "start_time": "2022-11-19T12:03:19.181Z"
   },
   {
    "duration": 13,
    "start_time": "2022-11-19T12:03:19.262Z"
   },
   {
    "duration": 15,
    "start_time": "2022-11-19T12:03:19.277Z"
   },
   {
    "duration": 3,
    "start_time": "2022-11-19T12:03:19.295Z"
   },
   {
    "duration": 11,
    "start_time": "2022-11-19T12:03:19.299Z"
   },
   {
    "duration": 12,
    "start_time": "2022-11-19T12:03:19.311Z"
   },
   {
    "duration": 10,
    "start_time": "2022-11-19T12:03:19.325Z"
   },
   {
    "duration": 20,
    "start_time": "2022-11-19T12:03:19.336Z"
   },
   {
    "duration": 7,
    "start_time": "2022-11-19T12:03:19.358Z"
   },
   {
    "duration": 9,
    "start_time": "2022-11-19T12:03:19.366Z"
   },
   {
    "duration": 15,
    "start_time": "2022-11-19T12:03:19.377Z"
   },
   {
    "duration": 4,
    "start_time": "2022-11-19T12:03:19.404Z"
   },
   {
    "duration": 5,
    "start_time": "2022-11-19T12:03:19.411Z"
   },
   {
    "duration": 15,
    "start_time": "2022-11-19T12:03:19.417Z"
   },
   {
    "duration": 10,
    "start_time": "2022-11-19T12:03:19.433Z"
   },
   {
    "duration": 13,
    "start_time": "2022-11-19T12:03:19.445Z"
   },
   {
    "duration": 309,
    "start_time": "2022-11-19T12:03:19.460Z"
   },
   {
    "duration": 302,
    "start_time": "2022-11-19T12:03:19.771Z"
   },
   {
    "duration": 215,
    "start_time": "2022-11-19T12:03:20.075Z"
   },
   {
    "duration": 321,
    "start_time": "2022-11-19T12:03:20.291Z"
   },
   {
    "duration": 218,
    "start_time": "2022-11-19T12:03:20.614Z"
   },
   {
    "duration": 323,
    "start_time": "2022-11-19T12:03:20.834Z"
   },
   {
    "duration": 115,
    "start_time": "2022-11-19T12:03:21.159Z"
   },
   {
    "duration": 157,
    "start_time": "2022-11-19T12:03:21.276Z"
   },
   {
    "duration": 5,
    "start_time": "2022-11-19T12:03:21.434Z"
   },
   {
    "duration": 150,
    "start_time": "2022-11-19T12:03:21.440Z"
   },
   {
    "duration": 152,
    "start_time": "2022-11-19T12:03:21.592Z"
   },
   {
    "duration": 5,
    "start_time": "2022-11-19T12:03:21.746Z"
   },
   {
    "duration": 294,
    "start_time": "2022-11-19T12:03:21.753Z"
   },
   {
    "duration": 148,
    "start_time": "2022-11-19T12:03:22.049Z"
   },
   {
    "duration": 9,
    "start_time": "2022-11-19T12:03:22.199Z"
   },
   {
    "duration": 52,
    "start_time": "2022-11-19T12:03:22.210Z"
   },
   {
    "duration": 10,
    "start_time": "2022-11-19T12:03:22.264Z"
   },
   {
    "duration": 9,
    "start_time": "2022-11-19T12:03:22.275Z"
   },
   {
    "duration": 7,
    "start_time": "2022-11-19T12:03:22.286Z"
   },
   {
    "duration": 26,
    "start_time": "2022-11-19T12:03:22.295Z"
   },
   {
    "duration": 13,
    "start_time": "2022-11-19T12:03:22.323Z"
   },
   {
    "duration": 1131,
    "start_time": "2022-11-19T12:07:43.323Z"
   },
   {
    "duration": 82,
    "start_time": "2022-11-19T12:07:44.456Z"
   },
   {
    "duration": 11,
    "start_time": "2022-11-19T12:07:44.539Z"
   },
   {
    "duration": 13,
    "start_time": "2022-11-19T12:07:44.552Z"
   },
   {
    "duration": 3,
    "start_time": "2022-11-19T12:07:44.567Z"
   },
   {
    "duration": 12,
    "start_time": "2022-11-19T12:07:44.571Z"
   },
   {
    "duration": 11,
    "start_time": "2022-11-19T12:07:44.585Z"
   },
   {
    "duration": 9,
    "start_time": "2022-11-19T12:07:44.597Z"
   },
   {
    "duration": 14,
    "start_time": "2022-11-19T12:07:44.616Z"
   },
   {
    "duration": 8,
    "start_time": "2022-11-19T12:07:44.632Z"
   },
   {
    "duration": 17,
    "start_time": "2022-11-19T12:07:44.641Z"
   },
   {
    "duration": 10,
    "start_time": "2022-11-19T12:07:44.659Z"
   },
   {
    "duration": 5,
    "start_time": "2022-11-19T12:07:44.671Z"
   },
   {
    "duration": 7,
    "start_time": "2022-11-19T12:07:44.678Z"
   },
   {
    "duration": 32,
    "start_time": "2022-11-19T12:07:44.687Z"
   },
   {
    "duration": 15,
    "start_time": "2022-11-19T12:07:44.721Z"
   },
   {
    "duration": 18,
    "start_time": "2022-11-19T12:07:44.738Z"
   },
   {
    "duration": 312,
    "start_time": "2022-11-19T12:07:44.758Z"
   },
   {
    "duration": 308,
    "start_time": "2022-11-19T12:07:45.072Z"
   },
   {
    "duration": 241,
    "start_time": "2022-11-19T12:07:45.382Z"
   },
   {
    "duration": 300,
    "start_time": "2022-11-19T12:07:45.625Z"
   },
   {
    "duration": 239,
    "start_time": "2022-11-19T12:07:45.927Z"
   },
   {
    "duration": 368,
    "start_time": "2022-11-19T12:07:46.168Z"
   },
   {
    "duration": 138,
    "start_time": "2022-11-19T12:07:46.538Z"
   },
   {
    "duration": 174,
    "start_time": "2022-11-19T12:07:46.677Z"
   },
   {
    "duration": 5,
    "start_time": "2022-11-19T12:07:46.852Z"
   },
   {
    "duration": 170,
    "start_time": "2022-11-19T12:07:46.859Z"
   },
   {
    "duration": 156,
    "start_time": "2022-11-19T12:07:47.031Z"
   },
   {
    "duration": 4,
    "start_time": "2022-11-19T12:07:47.189Z"
   },
   {
    "duration": 366,
    "start_time": "2022-11-19T12:07:47.195Z"
   },
   {
    "duration": 161,
    "start_time": "2022-11-19T12:07:47.563Z"
   },
   {
    "duration": 6,
    "start_time": "2022-11-19T12:07:47.728Z"
   },
   {
    "duration": 25,
    "start_time": "2022-11-19T12:07:47.735Z"
   },
   {
    "duration": 11,
    "start_time": "2022-11-19T12:07:47.761Z"
   },
   {
    "duration": 33,
    "start_time": "2022-11-19T12:07:47.773Z"
   },
   {
    "duration": 20,
    "start_time": "2022-11-19T12:07:47.807Z"
   },
   {
    "duration": 25,
    "start_time": "2022-11-19T12:07:47.828Z"
   },
   {
    "duration": 15,
    "start_time": "2022-11-19T12:07:47.854Z"
   },
   {
    "duration": 1163,
    "start_time": "2022-11-19T12:16:42.987Z"
   },
   {
    "duration": 82,
    "start_time": "2022-11-19T12:16:44.152Z"
   },
   {
    "duration": 12,
    "start_time": "2022-11-19T12:16:44.236Z"
   },
   {
    "duration": 15,
    "start_time": "2022-11-19T12:16:44.250Z"
   },
   {
    "duration": 4,
    "start_time": "2022-11-19T12:16:44.266Z"
   },
   {
    "duration": 16,
    "start_time": "2022-11-19T12:16:44.272Z"
   },
   {
    "duration": 12,
    "start_time": "2022-11-19T12:16:44.289Z"
   },
   {
    "duration": 22,
    "start_time": "2022-11-19T12:16:44.303Z"
   },
   {
    "duration": 15,
    "start_time": "2022-11-19T12:16:44.327Z"
   },
   {
    "duration": 6,
    "start_time": "2022-11-19T12:16:44.344Z"
   },
   {
    "duration": 9,
    "start_time": "2022-11-19T12:16:44.352Z"
   },
   {
    "duration": 11,
    "start_time": "2022-11-19T12:16:44.362Z"
   },
   {
    "duration": 5,
    "start_time": "2022-11-19T12:16:44.374Z"
   },
   {
    "duration": 30,
    "start_time": "2022-11-19T12:16:44.381Z"
   },
   {
    "duration": 15,
    "start_time": "2022-11-19T12:16:44.413Z"
   },
   {
    "duration": 14,
    "start_time": "2022-11-19T12:16:44.429Z"
   },
   {
    "duration": 13,
    "start_time": "2022-11-19T12:16:44.445Z"
   },
   {
    "duration": 282,
    "start_time": "2022-11-19T12:16:44.459Z"
   },
   {
    "duration": 289,
    "start_time": "2022-11-19T12:16:44.743Z"
   },
   {
    "duration": 215,
    "start_time": "2022-11-19T12:16:45.034Z"
   },
   {
    "duration": 282,
    "start_time": "2022-11-19T12:16:45.251Z"
   },
   {
    "duration": 226,
    "start_time": "2022-11-19T12:16:45.535Z"
   },
   {
    "duration": 362,
    "start_time": "2022-11-19T12:16:45.762Z"
   },
   {
    "duration": 154,
    "start_time": "2022-11-19T12:16:46.126Z"
   },
   {
    "duration": 175,
    "start_time": "2022-11-19T12:16:46.281Z"
   },
   {
    "duration": 4,
    "start_time": "2022-11-19T12:16:46.458Z"
   },
   {
    "duration": 173,
    "start_time": "2022-11-19T12:16:46.464Z"
   },
   {
    "duration": 159,
    "start_time": "2022-11-19T12:16:46.642Z"
   },
   {
    "duration": 14,
    "start_time": "2022-11-19T12:16:46.804Z"
   },
   {
    "duration": 319,
    "start_time": "2022-11-19T12:16:46.822Z"
   },
   {
    "duration": 135,
    "start_time": "2022-11-19T12:16:47.142Z"
   },
   {
    "duration": 5,
    "start_time": "2022-11-19T12:16:47.279Z"
   },
   {
    "duration": 46,
    "start_time": "2022-11-19T12:16:47.286Z"
   },
   {
    "duration": 13,
    "start_time": "2022-11-19T12:16:47.334Z"
   },
   {
    "duration": 9,
    "start_time": "2022-11-19T12:16:47.348Z"
   },
   {
    "duration": 10,
    "start_time": "2022-11-19T12:16:47.359Z"
   },
   {
    "duration": 38,
    "start_time": "2022-11-19T12:16:47.371Z"
   },
   {
    "duration": 14,
    "start_time": "2022-11-19T12:16:47.413Z"
   },
   {
    "duration": 1200,
    "start_time": "2022-11-20T06:47:35.465Z"
   },
   {
    "duration": 191,
    "start_time": "2022-11-20T06:47:36.669Z"
   },
   {
    "duration": 14,
    "start_time": "2022-11-20T06:47:36.861Z"
   },
   {
    "duration": 28,
    "start_time": "2022-11-20T06:47:36.877Z"
   },
   {
    "duration": 3,
    "start_time": "2022-11-20T06:47:36.907Z"
   },
   {
    "duration": 20,
    "start_time": "2022-11-20T06:47:36.911Z"
   },
   {
    "duration": 22,
    "start_time": "2022-11-20T06:47:36.932Z"
   },
   {
    "duration": 20,
    "start_time": "2022-11-20T06:47:36.956Z"
   },
   {
    "duration": 17,
    "start_time": "2022-11-20T06:47:36.977Z"
   },
   {
    "duration": 12,
    "start_time": "2022-11-20T06:47:36.996Z"
   },
   {
    "duration": 27,
    "start_time": "2022-11-20T06:47:37.010Z"
   },
   {
    "duration": 20,
    "start_time": "2022-11-20T06:47:37.038Z"
   },
   {
    "duration": 17,
    "start_time": "2022-11-20T06:47:37.060Z"
   },
   {
    "duration": 11,
    "start_time": "2022-11-20T06:47:37.078Z"
   },
   {
    "duration": 25,
    "start_time": "2022-11-20T06:47:37.090Z"
   },
   {
    "duration": 17,
    "start_time": "2022-11-20T06:47:37.117Z"
   },
   {
    "duration": 37,
    "start_time": "2022-11-20T06:47:37.136Z"
   },
   {
    "duration": 272,
    "start_time": "2022-11-20T06:47:37.174Z"
   },
   {
    "duration": 278,
    "start_time": "2022-11-20T06:47:37.447Z"
   },
   {
    "duration": 202,
    "start_time": "2022-11-20T06:47:37.726Z"
   },
   {
    "duration": 328,
    "start_time": "2022-11-20T06:47:37.930Z"
   },
   {
    "duration": 207,
    "start_time": "2022-11-20T06:47:38.259Z"
   },
   {
    "duration": 309,
    "start_time": "2022-11-20T06:47:38.468Z"
   },
   {
    "duration": 124,
    "start_time": "2022-11-20T06:47:38.779Z"
   },
   {
    "duration": 170,
    "start_time": "2022-11-20T06:47:38.905Z"
   },
   {
    "duration": 5,
    "start_time": "2022-11-20T06:47:39.077Z"
   },
   {
    "duration": 155,
    "start_time": "2022-11-20T06:47:39.084Z"
   },
   {
    "duration": 160,
    "start_time": "2022-11-20T06:47:39.242Z"
   },
   {
    "duration": 5,
    "start_time": "2022-11-20T06:47:39.403Z"
   },
   {
    "duration": 319,
    "start_time": "2022-11-20T06:47:39.410Z"
   },
   {
    "duration": 137,
    "start_time": "2022-11-20T06:47:39.731Z"
   },
   {
    "duration": 7,
    "start_time": "2022-11-20T06:47:39.869Z"
   },
   {
    "duration": 33,
    "start_time": "2022-11-20T06:47:39.878Z"
   },
   {
    "duration": 16,
    "start_time": "2022-11-20T06:47:39.912Z"
   },
   {
    "duration": 9,
    "start_time": "2022-11-20T06:47:39.930Z"
   },
   {
    "duration": 9,
    "start_time": "2022-11-20T06:47:39.941Z"
   },
   {
    "duration": 24,
    "start_time": "2022-11-20T06:47:39.951Z"
   },
   {
    "duration": 12,
    "start_time": "2022-11-20T06:47:39.977Z"
   },
   {
    "duration": 48,
    "start_time": "2022-11-21T16:43:54.991Z"
   },
   {
    "duration": 1124,
    "start_time": "2022-11-21T16:44:01.117Z"
   },
   {
    "duration": 199,
    "start_time": "2022-11-21T16:44:02.243Z"
   },
   {
    "duration": 13,
    "start_time": "2022-11-21T16:44:02.444Z"
   },
   {
    "duration": 23,
    "start_time": "2022-11-21T16:44:02.460Z"
   },
   {
    "duration": 4,
    "start_time": "2022-11-21T16:44:02.486Z"
   },
   {
    "duration": 11,
    "start_time": "2022-11-21T16:44:02.492Z"
   },
   {
    "duration": 15,
    "start_time": "2022-11-21T16:44:02.505Z"
   },
   {
    "duration": 7,
    "start_time": "2022-11-21T16:44:02.522Z"
   },
   {
    "duration": 18,
    "start_time": "2022-11-21T16:44:02.531Z"
   },
   {
    "duration": 32,
    "start_time": "2022-11-21T16:44:02.552Z"
   },
   {
    "duration": 14,
    "start_time": "2022-11-21T16:44:02.587Z"
   },
   {
    "duration": 17,
    "start_time": "2022-11-21T16:44:02.603Z"
   },
   {
    "duration": 20,
    "start_time": "2022-11-21T16:44:02.622Z"
   },
   {
    "duration": 8,
    "start_time": "2022-11-21T16:44:02.644Z"
   },
   {
    "duration": 25,
    "start_time": "2022-11-21T16:44:02.654Z"
   },
   {
    "duration": 12,
    "start_time": "2022-11-21T16:44:02.680Z"
   },
   {
    "duration": 16,
    "start_time": "2022-11-21T16:44:02.694Z"
   },
   {
    "duration": 291,
    "start_time": "2022-11-21T16:44:02.712Z"
   },
   {
    "duration": 301,
    "start_time": "2022-11-21T16:44:03.004Z"
   },
   {
    "duration": 227,
    "start_time": "2022-11-21T16:44:03.307Z"
   },
   {
    "duration": 302,
    "start_time": "2022-11-21T16:44:03.536Z"
   },
   {
    "duration": 281,
    "start_time": "2022-11-21T16:44:03.840Z"
   },
   {
    "duration": 378,
    "start_time": "2022-11-21T16:44:04.123Z"
   },
   {
    "duration": 176,
    "start_time": "2022-11-21T16:44:04.503Z"
   },
   {
    "duration": 179,
    "start_time": "2022-11-21T16:44:04.682Z"
   },
   {
    "duration": 6,
    "start_time": "2022-11-21T16:44:04.862Z"
   },
   {
    "duration": 173,
    "start_time": "2022-11-21T16:44:04.869Z"
   },
   {
    "duration": 158,
    "start_time": "2022-11-21T16:44:05.046Z"
   },
   {
    "duration": 5,
    "start_time": "2022-11-21T16:44:05.206Z"
   },
   {
    "duration": 327,
    "start_time": "2022-11-21T16:44:05.212Z"
   },
   {
    "duration": 170,
    "start_time": "2022-11-21T16:44:05.541Z"
   },
   {
    "duration": 9,
    "start_time": "2022-11-21T16:44:05.713Z"
   },
   {
    "duration": 56,
    "start_time": "2022-11-21T16:44:05.724Z"
   },
   {
    "duration": 20,
    "start_time": "2022-11-21T16:44:05.782Z"
   },
   {
    "duration": 36,
    "start_time": "2022-11-21T16:44:05.804Z"
   },
   {
    "duration": 31,
    "start_time": "2022-11-21T16:44:05.841Z"
   },
   {
    "duration": 31,
    "start_time": "2022-11-21T16:44:05.873Z"
   },
   {
    "duration": 16,
    "start_time": "2022-11-21T16:44:05.905Z"
   },
   {
    "duration": 16,
    "start_time": "2022-11-21T16:44:05.924Z"
   },
   {
    "duration": 1254,
    "start_time": "2023-01-23T12:44:21.277Z"
   },
   {
    "duration": 196,
    "start_time": "2023-01-23T12:44:22.533Z"
   },
   {
    "duration": 12,
    "start_time": "2023-01-23T12:44:22.730Z"
   },
   {
    "duration": 16,
    "start_time": "2023-01-23T12:44:22.744Z"
   },
   {
    "duration": 23,
    "start_time": "2023-01-23T12:44:22.762Z"
   },
   {
    "duration": 21,
    "start_time": "2023-01-23T12:44:22.787Z"
   },
   {
    "duration": 20,
    "start_time": "2023-01-23T12:44:22.809Z"
   },
   {
    "duration": 15,
    "start_time": "2023-01-23T12:44:22.831Z"
   },
   {
    "duration": 32,
    "start_time": "2023-01-23T12:44:22.848Z"
   },
   {
    "duration": 32,
    "start_time": "2023-01-23T12:44:22.883Z"
   },
   {
    "duration": 23,
    "start_time": "2023-01-23T12:44:22.917Z"
   },
   {
    "duration": 27,
    "start_time": "2023-01-23T12:44:22.942Z"
   },
   {
    "duration": 13,
    "start_time": "2023-01-23T12:44:22.971Z"
   },
   {
    "duration": 17,
    "start_time": "2023-01-23T12:44:22.986Z"
   },
   {
    "duration": 19,
    "start_time": "2023-01-23T12:44:23.006Z"
   },
   {
    "duration": 33,
    "start_time": "2023-01-23T12:44:23.027Z"
   },
   {
    "duration": 19,
    "start_time": "2023-01-23T12:44:23.061Z"
   },
   {
    "duration": 274,
    "start_time": "2023-01-23T12:44:23.081Z"
   },
   {
    "duration": 282,
    "start_time": "2023-01-23T12:44:23.357Z"
   },
   {
    "duration": 198,
    "start_time": "2023-01-23T12:44:23.641Z"
   },
   {
    "duration": 357,
    "start_time": "2023-01-23T12:44:23.841Z"
   },
   {
    "duration": 201,
    "start_time": "2023-01-23T12:44:24.200Z"
   },
   {
    "duration": 299,
    "start_time": "2023-01-23T12:44:24.403Z"
   },
   {
    "duration": 135,
    "start_time": "2023-01-23T12:44:24.703Z"
   },
   {
    "duration": 159,
    "start_time": "2023-01-23T12:44:24.840Z"
   },
   {
    "duration": 5,
    "start_time": "2023-01-23T12:44:25.000Z"
   },
   {
    "duration": 145,
    "start_time": "2023-01-23T12:44:25.006Z"
   },
   {
    "duration": 141,
    "start_time": "2023-01-23T12:44:25.154Z"
   },
   {
    "duration": 5,
    "start_time": "2023-01-23T12:44:25.296Z"
   },
   {
    "duration": 292,
    "start_time": "2023-01-23T12:44:25.303Z"
   },
   {
    "duration": 148,
    "start_time": "2023-01-23T12:44:25.596Z"
   },
   {
    "duration": 7,
    "start_time": "2023-01-23T12:44:25.746Z"
   },
   {
    "duration": 40,
    "start_time": "2023-01-23T12:44:25.755Z"
   },
   {
    "duration": 13,
    "start_time": "2023-01-23T12:44:25.797Z"
   },
   {
    "duration": 39,
    "start_time": "2023-01-23T12:44:25.812Z"
   },
   {
    "duration": 14,
    "start_time": "2023-01-23T12:44:25.853Z"
   },
   {
    "duration": 28,
    "start_time": "2023-01-23T12:44:25.868Z"
   },
   {
    "duration": 13,
    "start_time": "2023-01-23T12:44:25.897Z"
   }
  ],
  "kernelspec": {
   "display_name": "Python 3 (ipykernel)",
   "language": "python",
   "name": "python3"
  },
  "language_info": {
   "codemirror_mode": {
    "name": "ipython",
    "version": 3
   },
   "file_extension": ".py",
   "mimetype": "text/x-python",
   "name": "python",
   "nbconvert_exporter": "python",
   "pygments_lexer": "ipython3",
   "version": "3.9.5"
  },
  "toc": {
   "base_numbering": 1,
   "nav_menu": {},
   "number_sections": true,
   "sideBar": true,
   "skip_h1_title": true,
   "title_cell": "Table of Contents",
   "title_sidebar": "Contents",
   "toc_cell": false,
   "toc_position": {},
   "toc_section_display": true,
   "toc_window_display": true
  }
 },
 "nbformat": 4,
 "nbformat_minor": 2
}
