{
 "cells": [
  {
   "cell_type": "markdown",
   "id": "08509709",
   "metadata": {},
   "source": [
    "В самостоятельном проекте вы будете работать с базой данных StackOverflow — сервиса вопросов и ответов о программировании. StackOverflow похож на социальную сеть — пользователи сервиса задают вопросы, отвечают на посты, оставляют комментарии и ставят оценки другим ответам.\n",
    "\n",
    "Вы будете работать с версией базы, где хранятся данные о постах за 2008 год, но в таблицах вы найдёте информацию и о более поздних оценках, которые эти посты получили. "
   ]
  },
  {
   "cell_type": "markdown",
   "id": "dfb50072",
   "metadata": {},
   "source": [
    "# Часть 1"
   ]
  },
  {
   "cell_type": "markdown",
   "id": "e245dffb",
   "metadata": {},
   "source": [
    "1. Найдите количество вопросов, которые набрали больше 300 очков или как минимум 100 раз были добавлены в «Закладки»."
   ]
  },
  {
   "cell_type": "code",
   "execution_count": null,
   "id": "40ede672",
   "metadata": {},
   "outputs": [],
   "source": [
    "SELECT COUNT(p.id)\n",
    "FROM stackoverflow.posts AS p\n",
    "JOIN stackoverflow.post_types AS pt ON p.post_type_id=pt.id\n",
    "WHERE type = 'Question' AND (score > 300 OR favorites_count >= 100)"
   ]
  },
  {
   "cell_type": "markdown",
   "id": "6a441175",
   "metadata": {},
   "source": [
    "2.Сколько в среднем в день задавали вопросов с 1 по 18 ноября 2008 включительно? Результат округлите до целого числа."
   ]
  },
  {
   "cell_type": "code",
   "execution_count": null,
   "id": "eb25a2d9",
   "metadata": {},
   "outputs": [],
   "source": [
    "WITH cnt AS\n",
    "(      SELECT creation_date::date,\n",
    "       COUNT(id) OVER (PARTITION BY creation_date::date) AS cnt\n",
    "FROM stackoverflow.posts\n",
    "WHERE (creation_date::date BETWEEN '2008-11-01' AND '2008-11-18') AND post_type_id = 1\n",
    ")\n",
    "SELECT 383"
   ]
  },
  {
   "cell_type": "markdown",
   "id": "9c457a90",
   "metadata": {},
   "source": [
    "3. Сколько пользователей получили значки сразу в день регистрации? Выведите количество уникальных пользователей."
   ]
  },
  {
   "cell_type": "code",
   "execution_count": null,
   "id": "b893edb2",
   "metadata": {},
   "outputs": [],
   "source": [
    "SELECT COUNT(DISTINCT u.id)\n",
    "FROM stackoverflow.users AS u\n",
    "JOIN stackoverflow.badges AS b on u.id=b.user_id\n",
    "WHERE u.creation_date::date = b.creation_date::date"
   ]
  },
  {
   "cell_type": "markdown",
   "id": "991c1464",
   "metadata": {},
   "source": [
    "4. Сколько уникальных постов пользователя с именем Joel Coehoorn получили хотя бы один голос?"
   ]
  },
  {
   "cell_type": "code",
   "execution_count": null,
   "id": "db72196e",
   "metadata": {},
   "outputs": [],
   "source": [
    "SELECT COUNT(DISTINCT p.id)\n",
    "FROM stackoverflow.users u\n",
    "JOIN stackoverflow.posts p ON u.id = p.user_id\n",
    "JOIN stackoverflow.votes v ON p.id = v.post_id\n",
    "WHERE u.display_name = 'Joel Coehoorn'"
   ]
  },
  {
   "cell_type": "markdown",
   "id": "c1c33c62",
   "metadata": {},
   "source": [
    "5. Выгрузите все поля таблицы vote_types. Добавьте к таблице поле rank, в которое войдут номера записей в обратном порядке. Таблица должна быть отсортирована по полю id."
   ]
  },
  {
   "cell_type": "code",
   "execution_count": null,
   "id": "8f2226f2",
   "metadata": {},
   "outputs": [],
   "source": [
    "SELECT *,\n",
    "ROW_NUMBER() OVER(ORDER BY id DESC) AS rank\n",
    "FROM stackoverflow.vote_types\n",
    "ORDER BY id;"
   ]
  },
  {
   "cell_type": "markdown",
   "id": "56ca011a",
   "metadata": {},
   "source": [
    "6. Отберите 10 пользователей, которые поставили больше всего голосов типа Close. Отобразите таблицу из двух полей: идентификатором пользователя и количеством голосов. Отсортируйте данные сначала по убыванию количества голосов, потом по убыванию значения идентификатора пользователя."
   ]
  },
  {
   "cell_type": "code",
   "execution_count": null,
   "id": "4293d844",
   "metadata": {},
   "outputs": [],
   "source": [
    "SELECT DISTINCT u.id,\n",
    "       COUNT(v.vote_type_id) OVER (PARTITION BY u.id) AS total_votes\n",
    "FROM stackoverflow.users u \n",
    "JOIN stackoverflow.votes v on u.id=v.user_id\n",
    "WHERE v.vote_type_id = 6\n",
    "ORDER BY total_votes DESC,\n",
    "         u.id DESC\n",
    "LIMIT 10;"
   ]
  },
  {
   "cell_type": "markdown",
   "id": "13ec037a",
   "metadata": {},
   "source": [
    "7. Отберите 10 пользователей по количеству значков, полученных в период с 15 ноября по 15 декабря 2008 года включительно.\n",
    "Отобразите несколько полей:\n",
    "- идентификатор пользователя;\n",
    "- число значков;\n",
    "- место в рейтинге — чем больше значков, тем выше рейтинг.\n",
    "\n",
    "Пользователям, которые набрали одинаковое количество значков, присвойте одно и то же место в рейтинге.\n",
    "Отсортируйте записи по количеству значков по убыванию, а затем по возрастанию значения идентификатора пользователя."
   ]
  },
  {
   "cell_type": "code",
   "execution_count": null,
   "id": "f24acc81",
   "metadata": {},
   "outputs": [],
   "source": [
    "SELECT u.id, \n",
    "       COUNT(b.id), \n",
    "       DENSE_RANK() OVER (ORDER BY COUNT(b.id) DESC) as rating\n",
    "FROM stackoverflow.users u\n",
    "JOIN stackoverflow.badges b ON u.id = b.user_id\n",
    "WHERE b.creation_date::date between '2008-11-15' AND '2008-12-15'\n",
    "GROUP BY u.id\n",
    "ORDER BY COUNT(b.id) DESC, u.id \n",
    "LIMIT 10;"
   ]
  },
  {
   "cell_type": "markdown",
   "id": "6ab2214c",
   "metadata": {},
   "source": [
    "8. Сколько в среднем очков получает пост каждого пользователя?\n",
    "\n",
    "Сформируйте таблицу из следующих полей:\n",
    "- заголовок поста;\n",
    "- идентификатор пользователя;\n",
    "- число очков поста;\n",
    "- среднее число очков пользователя за пост, округлённое до целого числа.\n",
    "\n",
    "Не учитывайте посты без заголовка, а также те, что набрали ноль очков."
   ]
  },
  {
   "cell_type": "code",
   "execution_count": null,
   "id": "4035f1ff",
   "metadata": {},
   "outputs": [],
   "source": [
    "SELECT p.title,\n",
    "       u.id,\n",
    "       p.score,\n",
    "       ROUND(AVG(score) OVER (PARTITION BY u.id))\n",
    "FROM stackoverflow.posts p\n",
    "JOIN stackoverflow.users u ON p.user_id=u.id\n",
    "WHERE title is not null and score != 0;"
   ]
  },
  {
   "cell_type": "markdown",
   "id": "837588cb",
   "metadata": {},
   "source": [
    "9. Отобразите заголовки постов, которые были написаны пользователями, получившими более 1000 значков. Посты без заголовков не должны попасть в список."
   ]
  },
  {
   "cell_type": "code",
   "execution_count": null,
   "id": "8779789b",
   "metadata": {},
   "outputs": [],
   "source": [
    "WITH bd AS \n",
    "(SELECT DISTINCT \n",
    "        u.id AS id,\n",
    "        COUNT(b.id) AS sum_bd\n",
    "FROM stackoverflow.users AS u \n",
    "INNER JOIN stackoverflow.badges AS b ON b.user_id=u.id\n",
    "GROUP BY u.id\n",
    "HAVING COUNT(b.id)>1000)\n",
    "\n",
    "SELECT p.title\n",
    "FROM stackoverflow.posts AS p \n",
    "INNER JOIN bd ON bd.id=p.user_id\n",
    "WHERE p.title !='';"
   ]
  },
  {
   "cell_type": "markdown",
   "id": "807cfb79",
   "metadata": {},
   "source": [
    "10. Напишите запрос, который выгрузит данные о пользователях из США (англ. United States). \n",
    "\n",
    "Разделите пользователей на три группы в зависимости от количества просмотров их профилей:\n",
    "- пользователям с числом просмотров больше либо равным 350 присвойте группу 1;\n",
    "- пользователям с числом просмотров меньше 350, но больше либо равно 100 — группу 2;\n",
    "- пользователям с числом просмотров меньше 100 — группу 3.\n",
    "\n",
    "Отобразите в итоговой таблице идентификатор пользователя, количество просмотров профиля и группу. Пользователи с нулевым количеством просмотров не должны войти в итоговую таблицу."
   ]
  },
  {
   "cell_type": "code",
   "execution_count": null,
   "id": "7a60de91",
   "metadata": {},
   "outputs": [],
   "source": [
    "SELECT id,\n",
    "       views,\n",
    "       CASE\n",
    "           WHEN views >= 350 THEN 1\n",
    "           WHEN views >= 100 THEN 2\n",
    "           ELSE 3\n",
    "       END as group\n",
    "FROM stackoverflow.users\n",
    "WHERE location LIKE '%United States%'\n",
    " and views != 0"
   ]
  },
  {
   "cell_type": "markdown",
   "id": "94ccf2b8",
   "metadata": {},
   "source": [
    "11. Дополните предыдущий запрос. Отобразите лидеров каждой группы — пользователей, которые набрали максимальное число просмотров в своей группе. Выведите поля с идентификатором пользователя, группой и количеством просмотров. Отсортируйте таблицу по убыванию просмотров, а затем по возрастанию значения идентификатора."
   ]
  },
  {
   "cell_type": "code",
   "execution_count": null,
   "id": "62139e2c",
   "metadata": {},
   "outputs": [],
   "source": [
    "WITH df AS (SELECT id,\n",
    "views,\n",
    "CASE \n",
    "    WHEN views >= 350 THEN 1\n",
    "    WHEN views <= 350 AND views >= 100 THEN 2\n",
    "    WHEN views <= 100 THEN 3\n",
    "END AS group_name\n",
    "FROM stackoverflow.users\n",
    "WHERE views <> 0\n",
    "AND location LIKE '%United States%'),\n",
    " \n",
    "df_2 AS (SELECT id,\n",
    "group_name,        \n",
    "MAX(views) OVER(PARTITION BY group_name ORDER BY views) AS top\n",
    "FROM df),\n",
    " \n",
    "df_3 AS (SELECT *,\n",
    "RANK() OVER(PARTITION BY group_name ORDER BY top DESC) AS top_place\n",
    "FROM df_2)\n",
    " \n",
    "SELECT id,\n",
    "group_name, \n",
    "top\n",
    "FROM df_3\n",
    "WHERE top_place = 1\n",
    "ORDER BY 3 DESC, 1"
   ]
  },
  {
   "cell_type": "markdown",
   "id": "9f7f6175",
   "metadata": {},
   "source": [
    "12. Посчитайте ежедневный прирост новых пользователей в ноябре 2008 года. Сформируйте таблицу с полями:\n",
    "- номер дня;\n",
    "- число пользователей, зарегистрированных в этот день;\n",
    "- сумму пользователей с накоплением."
   ]
  },
  {
   "cell_type": "code",
   "execution_count": null,
   "id": "f2195ab8",
   "metadata": {},
   "outputs": [],
   "source": [
    "WITH a AS (\n",
    "SELECT distinct(EXTRACT(DAY FROM u.creation_date::DATE)) AS DAY,\n",
    "       count(u.id) AS b\n",
    "FROM stackoverflow.users u\n",
    "WHERE u.creation_date::DATE BETWEEN '2008-11-01' AND '2008-11-30'\n",
    "GROUP BY 1\n",
    ")\n",
    "SELECT DAY, \n",
    "       b,\n",
    "       SUM(b) OVER (ORDER BY DAY) AS costs_cum\n",
    "       \n",
    "FROM a"
   ]
  },
  {
   "cell_type": "markdown",
   "id": "310dade5",
   "metadata": {},
   "source": [
    "13.Для каждого пользователя, который написал хотя бы один пост, найдите интервал между регистрацией и временем создания первого поста. \n",
    "\n",
    "Отобразите:\n",
    "- идентификатор пользователя;\n",
    "- разницу во времени между регистрацией и первым постом."
   ]
  },
  {
   "cell_type": "code",
   "execution_count": null,
   "id": "f1a2eec7",
   "metadata": {},
   "outputs": [],
   "source": [
    "WITH t1 AS\n",
    "(select u.id AS user_id,\n",
    "       u.creation_date AS user_creation_date,\n",
    "       p.creation_date AS post_creation_date,\n",
    "       ROW_NUMBER() OVER (PARTITION BY user_id ORDER BY p.creation_date)\n",
    "FROM stackoverflow.posts p\n",
    "JOIN stackoverflow.users u ON p.user_id=u.id)\n",
    "\n",
    "SELECT user_id,\n",
    "       post_creation_date - user_creation_date\n",
    "FROM t1\n",
    "WHERE row_number = 1"
   ]
  },
  {
   "cell_type": "markdown",
   "id": "17398521",
   "metadata": {},
   "source": [
    "# Часть 2"
   ]
  },
  {
   "cell_type": "markdown",
   "id": "21084a8a",
   "metadata": {},
   "source": [
    "1. Выведите общую сумму просмотров постов за каждый месяц 2008 года. Если данных за какой-либо месяц в базе нет, такой месяц можно пропустить. Результат отсортируйте по убыванию общего количества просмотров."
   ]
  },
  {
   "cell_type": "code",
   "execution_count": null,
   "id": "8e55ceef",
   "metadata": {},
   "outputs": [],
   "source": [
    "SELECT DATE_TRUNC('month', creation_date)::date,\n",
    "       SUM(views_count)\n",
    "FROM stackoverflow.posts\n",
    "GROUP BY 1\n",
    "ORDER BY 2 DESC"
   ]
  },
  {
   "cell_type": "markdown",
   "id": "c35ea235",
   "metadata": {},
   "source": [
    "2. Выведите имена самых активных пользователей, которые в первый месяц после регистрации (включая день регистрации) дали больше 100 ответов. Вопросы, которые задавали пользователи, не учитывайте. Для каждого имени пользователя выведите количество уникальных значений user_id. Отсортируйте результат по полю с именами в лексикографическом порядке."
   ]
  },
  {
   "cell_type": "code",
   "execution_count": null,
   "id": "221d7fa5",
   "metadata": {},
   "outputs": [],
   "source": [
    "with t as (\n",
    "    select\n",
    "    display_name,\n",
    "    count(distinct user_id) as user_ids,  \n",
    "    count(p.id) as post_count\n",
    "\n",
    "from stackoverflow.users u\n",
    "join stackoverflow.posts p on u.id = p.user_id\n",
    "join stackoverflow.post_types pt on p.post_type_id = pt.id\n",
    "where type = 'Answer' and DATE_TRUNC('day', p.creation_date) <= DATE_TRUNC('day', u.creation_date) + INTERVAL '1 month'\n",
    "group by display_name\n",
    ")\n",
    "\n",
    "select \n",
    "    display_name,\n",
    "    user_ids\n",
    "from t\n",
    "group by display_name, user_ids, post_count\n",
    "having post_count > 100\n",
    "order by display_name"
   ]
  },
  {
   "cell_type": "markdown",
   "id": "d7893188",
   "metadata": {},
   "source": [
    "3. Выведите количество постов за 2008 год по месяцам. Отберите посты от пользователей, которые зарегистрировались в сентябре 2008 года и сделали хотя бы один пост в декабре того же года. Отсортируйте таблицу по значению месяца по убыванию."
   ]
  },
  {
   "cell_type": "code",
   "execution_count": null,
   "id": "f381f2a0",
   "metadata": {},
   "outputs": [],
   "source": [
    "WITH\n",
    "i AS (SELECT u.id\n",
    "      FROM stackoverflow.users AS u\n",
    "      WHERE DATE_TRUNC('month', u.creation_date) BETWEEN '2008-09-01'\n",
    "      AND '2008-09-30'),\n",
    "b AS (SELECT p.user_id,\n",
    "             COUNT(p.id) AS cnt_posts\n",
    "      FROM stackoverflow.posts AS p\n",
    "      WHERE DATE_TRUNC('month', p.creation_date) BETWEEN '2008-12-01'\n",
    "      AND '2008-12-31'\n",
    "      GROUP BY 1\n",
    "      HAVING COUNT(p.id) >= 1)\n",
    "SELECT DATE_TRUNC('month', p.creation_date) :: date AS month,\n",
    "       COUNT(p.id) AS cnt_posts\n",
    "FROM i\n",
    "JOIN b ON i.id = b.user_id\n",
    "JOIN stackoverflow.posts AS p ON i.id = p.user_id\n",
    "GROUP BY month\n",
    "ORDER BY month DESC;"
   ]
  },
  {
   "cell_type": "markdown",
   "id": "3d6f9abb",
   "metadata": {},
   "source": [
    "4.Используя данные о постах, выведите несколько полей:\n",
    "\n",
    "- идентификатор пользователя, который написал пост;\n",
    "- дата создания поста;\n",
    "- количество просмотров у текущего поста;\n",
    "- сумму просмотров постов автора с накоплением.\n",
    "\n",
    "Данные в таблице должны быть отсортированы по возрастанию идентификаторов пользователей, а данные об одном и том же пользователе — по возрастанию даты создания поста."
   ]
  },
  {
   "cell_type": "code",
   "execution_count": null,
   "id": "9aa12aa4",
   "metadata": {},
   "outputs": [],
   "source": [
    "SELECT user_id, \n",
    "       creation_date,\n",
    "       views_count, \n",
    "       sum(views_count) over (partition by user_id order by creation_date asc ) as views_cum \n",
    "FROM stackoverflow.posts \n",
    "ORDER by 1,2;"
   ]
  },
  {
   "cell_type": "markdown",
   "id": "3adbacf5",
   "metadata": {},
   "source": [
    "5. Сколько в среднем дней в период с 1 по 7 декабря 2008 года включительно пользователи взаимодействовали с платформой? Для каждого пользователя отберите дни, в которые он или она опубликовали хотя бы один пост. Нужно получить одно целое число — не забудьте округлить результат."
   ]
  },
  {
   "cell_type": "code",
   "execution_count": null,
   "id": "a1dd0e04",
   "metadata": {},
   "outputs": [],
   "source": [
    "WITH a AS\n",
    "(SELECT user_id,\n",
    "       creation_date,\n",
    "       COUNT(user_id) OVER (PARTITION BY user_id) as cnt\n",
    "FROM stackoverflow.posts\n",
    "WHERE creation_date BETWEEN '2008-12-01' AND '2008-12-07'\n",
    "GROUP BY 1, 2)\n",
    "SELECT ROUND(AVG(cnt))\n",
    "FROM a"
   ]
  },
  {
   "cell_type": "markdown",
   "id": "5e538f6b",
   "metadata": {},
   "source": [
    "6. На сколько процентов менялось количество постов ежемесячно с 1 сентября по 31 декабря 2008 года? Отобразите таблицу со следующими полями:\n",
    "- номер месяца;\n",
    "- количество постов за месяц;\n",
    "- процент, который показывает, насколько изменилось количество постов в текущем месяце по сравнению с предыдущим.\n",
    "\n",
    "Если постов стало меньше, значение процента должно быть отрицательным, если больше — положительным. Округлите значение процента до двух знаков после запятой.\n",
    "\n",
    "Напомним, что при делении одного целого числа на другое в PostgreSQL в результате получится целое число, округлённое до ближайшего целого вниз. Чтобы этого избежать, переведите делимое в тип numeric."
   ]
  },
  {
   "cell_type": "code",
   "execution_count": null,
   "id": "ded75605",
   "metadata": {},
   "outputs": [],
   "source": [
    "SELECT month,\n",
    "       current_cnt_posts,\n",
    "       ROUND((current_cnt_posts :: numeric / previous_cnt_posts - 1) * 100, 2) AS change_previous_month\n",
    "FROM (\n",
    "    SELECT *,\n",
    "           LAG(current_cnt_posts) OVER(ORDER BY month) AS previous_cnt_posts\n",
    "    FROM (\n",
    "        SELECT EXTRACT(MONTH FROM p.creation_date) AS month,\n",
    "               COUNT(p.id) AS current_cnt_posts\n",
    "        FROM stackoverflow.posts AS p\n",
    "        WHERE DATE_TRUNC('month', p.creation_date) BETWEEN '2008-09-01'\n",
    "        AND '2008-12-31'\n",
    "        GROUP BY month\n",
    "        ORDER BY month) AS i) AS a;"
   ]
  },
  {
   "cell_type": "markdown",
   "id": "da77dc8d",
   "metadata": {},
   "source": [
    "7. Выгрузите данные активности пользователя, который опубликовал больше всего постов за всё время. Выведите данные за октябрь 2008 года в таком виде:\n",
    "- номер недели;\n",
    "- дата и время последнего поста, опубликованного на этой неделе."
   ]
  },
  {
   "cell_type": "code",
   "execution_count": null,
   "id": "97c50950",
   "metadata": {},
   "outputs": [],
   "source": [
    "SELECT DISTINCT EXTRACT(WEEK FROM p.creation_date) AS week_number,\n",
    "       LAST_VALUE(p.creation_date) OVER(PARTITION BY EXTRACT(WEEK FROM p.creation_date) ORDER BY p.creation_date ROWS BETWEEN UNBOUNDED PRECEDING AND UNBOUNDED FOLLOWING) AS last_dt_post \n",
    "FROM (\n",
    "    SELECT DISTINCT FIRST_VALUE(user_id) OVER() AS first_user\n",
    "    FROM (\n",
    "        SELECT p.user_id AS user_id,\n",
    "               COUNT(p.id) AS count_posts\n",
    "        FROM stackoverflow.posts AS p\n",
    "        GROUP BY user_id\n",
    "        ORDER BY count_posts DESC) AS i) AS b\n",
    "JOIN stackoverflow.posts AS p ON b.first_user = p.user_id\n",
    "WHERE DATE_TRUNC('month', p.creation_date) BETWEEN '2008-10-01' \n",
    "AND '2008-10-31';"
   ]
  }
 ],
 "metadata": {
  "kernelspec": {
   "display_name": "Python 3 (ipykernel)",
   "language": "python",
   "name": "python3"
  },
  "language_info": {
   "codemirror_mode": {
    "name": "ipython",
    "version": 3
   },
   "file_extension": ".py",
   "mimetype": "text/x-python",
   "name": "python",
   "nbconvert_exporter": "python",
   "pygments_lexer": "ipython3",
   "version": "3.9.13"
  }
 },
 "nbformat": 4,
 "nbformat_minor": 5
}
