{
 "cells": [
  {
   "cell_type": "markdown",
   "id": "8449ed1b",
   "metadata": {},
   "source": [
    "# Исследование надежности заемщиков."
   ]
  },
  {
   "cell_type": "markdown",
   "id": "5a1d5425",
   "metadata": {},
   "source": [
    "<div style=\"border:solid Chocolate 2px; padding: 40px\">\n",
    "\n",
    "Заказчик — кредитный отдел банка. Нужно разобраться, влияет ли семейное положение и количество детей клиента на факт погашения кредита в срок. Входные данные от банка — статистика о платёжеспособности клиентов.\n",
    "    \n",
    "Результаты исследования будут учтены при построении модели кредитного скоринга — специальной системы, которая оценивает способность потенциального заёмщика вернуть кредит банку."
   ]
  },
  {
   "cell_type": "markdown",
   "id": "155dd6c7",
   "metadata": {},
   "source": [
    "## Обзор данных"
   ]
  },
  {
   "cell_type": "code",
   "execution_count": 1,
   "id": "e1d0abba",
   "metadata": {
    "scrolled": false
   },
   "outputs": [],
   "source": [
    "import pandas as pd\n",
    "import seaborn as sns\n",
    "import matplotlib.pyplot as plt"
   ]
  },
  {
   "cell_type": "code",
   "execution_count": 2,
   "id": "c007e855",
   "metadata": {},
   "outputs": [],
   "source": [
    "data = pd.read_csv ('/datasets/data.csv')\n",
    "data.to_csv('sprint4.csv', index=False)"
   ]
  },
  {
   "cell_type": "code",
   "execution_count": 3,
   "id": "05fa8180",
   "metadata": {},
   "outputs": [
    {
     "name": "stdout",
     "output_type": "stream",
     "text": [
      "<class 'pandas.core.frame.DataFrame'>\n",
      "RangeIndex: 21525 entries, 0 to 21524\n",
      "Data columns (total 12 columns):\n",
      " #   Column            Non-Null Count  Dtype  \n",
      "---  ------            --------------  -----  \n",
      " 0   children          21525 non-null  int64  \n",
      " 1   days_employed     19351 non-null  float64\n",
      " 2   dob_years         21525 non-null  int64  \n",
      " 3   education         21525 non-null  object \n",
      " 4   education_id      21525 non-null  int64  \n",
      " 5   family_status     21525 non-null  object \n",
      " 6   family_status_id  21525 non-null  int64  \n",
      " 7   gender            21525 non-null  object \n",
      " 8   income_type       21525 non-null  object \n",
      " 9   debt              21525 non-null  int64  \n",
      " 10  total_income      19351 non-null  float64\n",
      " 11  purpose           21525 non-null  object \n",
      "dtypes: float64(2), int64(5), object(5)\n",
      "memory usage: 2.0+ MB\n"
     ]
    }
   ],
   "source": [
    "data.info()"
   ]
  },
  {
   "cell_type": "markdown",
   "id": "3f83e52e",
   "metadata": {},
   "source": [
    "<div class=\"alert alert-info\"> <b>Комментарий:</b> Видим некоторые количество проблем. Пропуски, неправильные форматы и прочее. Поработаем с этим. </div>"
   ]
  },
  {
   "cell_type": "markdown",
   "id": "e11a1eea",
   "metadata": {},
   "source": [
    "## Предобработка данных"
   ]
  },
  {
   "cell_type": "markdown",
   "id": "7960858a",
   "metadata": {},
   "source": [
    "### Удаление пропусков"
   ]
  },
  {
   "cell_type": "code",
   "execution_count": 4,
   "id": "b39ca679",
   "metadata": {},
   "outputs": [
    {
     "data": {
      "text/plain": [
       "children               0\n",
       "days_employed       2174\n",
       "dob_years              0\n",
       "education              0\n",
       "education_id           0\n",
       "family_status          0\n",
       "family_status_id       0\n",
       "gender                 0\n",
       "income_type            0\n",
       "debt                   0\n",
       "total_income        2174\n",
       "purpose                0\n",
       "dtype: int64"
      ]
     },
     "execution_count": 4,
     "metadata": {},
     "output_type": "execute_result"
    }
   ],
   "source": [
    "#посчитаем пропуски\n",
    "data.isna().sum()"
   ]
  },
  {
   "cell_type": "markdown",
   "id": "621e5483",
   "metadata": {},
   "source": [
    "<div class=\"alert alert-info\"> <b>Комментарий:</b> В двух столбцах есть пропущенные значения. Один из них — days_employed. Пропуски в этом столбце мы обработаем на следующем этапе. Другой столбец с пропущенными значениями — total_income — хранит данные о доходах. На сумму дохода сильнее всего влияет тип занятости, поэтому заполнить пропуски в этом столбце нужно медианным значением по каждому типу из столбца income_type. Например, у человека с типом занятости сотрудник пропуск в столбце total_income должен быть заполнен медианным доходом среди всех записей с тем же типом. </div>"
   ]
  },
  {
   "cell_type": "code",
   "execution_count": 5,
   "id": "1e31b43b",
   "metadata": {},
   "outputs": [],
   "source": [
    "for t in data['income_type'].unique():\n",
    "    data.loc[(data['income_type'] == t) & (data['total_income'].isna()), 'total_income'] = \\\n",
    "    data.loc[(data['income_type'] == t), 'total_income'].median()"
   ]
  },
  {
   "cell_type": "markdown",
   "id": "d62260c8",
   "metadata": {},
   "source": [
    "### Обработка аномальных значений"
   ]
  },
  {
   "cell_type": "markdown",
   "id": "cd9552f2",
   "metadata": {},
   "source": [
    "<div class=\"alert alert-info\"> <b>Комментарий:</b> В данных есть несколько странных значений. Например, отрицательные значения. Уберем их. </div>"
   ]
  },
  {
   "cell_type": "code",
   "execution_count": 6,
   "id": "ed112dc8",
   "metadata": {},
   "outputs": [],
   "source": [
    "data['days_employed'] = data['days_employed'].abs()"
   ]
  },
  {
   "cell_type": "markdown",
   "id": "f14c4226",
   "metadata": {},
   "source": [
    "<div class=\"alert alert-info\"> <b>Комментарий:</b> Для каждого типа занятости покажем медианное значение трудового стажа `days_employed` в днях. </div>"
   ]
  },
  {
   "cell_type": "code",
   "execution_count": 7,
   "id": "b1ebc55a",
   "metadata": {},
   "outputs": [
    {
     "data": {
      "text/plain": [
       "income_type\n",
       "безработный        366413.652744\n",
       "в декрете            3296.759962\n",
       "госслужащий          2689.368353\n",
       "компаньон            1547.382223\n",
       "пенсионер          365213.306266\n",
       "предприниматель       520.848083\n",
       "сотрудник            1574.202821\n",
       "студент               578.751554\n",
       "Name: days_employed, dtype: float64"
      ]
     },
     "execution_count": 7,
     "metadata": {},
     "output_type": "execute_result"
    }
   ],
   "source": [
    "data.groupby('income_type')['days_employed'].agg('median')"
   ]
  },
  {
   "cell_type": "markdown",
   "id": "71ad9458",
   "metadata": {},
   "source": [
    "<div class=\"alert alert-info\"> <b>Комментарий:</b> У двух типов (безработные и пенсионеры) получатся аномально большие значения. Исправить такие значения сложно, поэтому оставим их как есть. Тем более этот столбец не понадобится нам для исследования. </div>"
   ]
  },
  {
   "cell_type": "markdown",
   "id": "dbf9a141",
   "metadata": {},
   "source": [
    "<div class=\"alert alert-info\"> <b>Комментарий:</b> Посмотрим на уникальные значения количества детей</div>"
   ]
  },
  {
   "cell_type": "code",
   "execution_count": 8,
   "id": "a107dfca",
   "metadata": {},
   "outputs": [
    {
     "data": {
      "text/plain": [
       "array([ 1,  0,  3,  2, -1,  4, 20,  5])"
      ]
     },
     "execution_count": 8,
     "metadata": {},
     "output_type": "execute_result"
    }
   ],
   "source": [
    "data['children'].unique()"
   ]
  },
  {
   "cell_type": "markdown",
   "id": "40959e37",
   "metadata": {},
   "source": [
    "<div class=\"alert alert-info\"> <b>Комментарий:</b> В столбце children есть два аномальных значения. Удалим строки, в которых встречаются такие аномальные значения из датафрейма. </div>"
   ]
  },
  {
   "cell_type": "code",
   "execution_count": 9,
   "id": "92fa3bec",
   "metadata": {},
   "outputs": [
    {
     "data": {
      "text/plain": [
       "array([1, 0, 3, 2, 4, 5])"
      ]
     },
     "execution_count": 9,
     "metadata": {},
     "output_type": "execute_result"
    }
   ],
   "source": [
    "data = data[(data['children'] != -1) & (data['children'] != 20)]\n",
    "data['children'].unique()"
   ]
  },
  {
   "cell_type": "markdown",
   "id": "5c84ce4f",
   "metadata": {},
   "source": [
    "<div class=\"alert alert-info\"> <b>Комментарий:</b> Теперь все ок </div>"
   ]
  },
  {
   "cell_type": "markdown",
   "id": "a30b81fb",
   "metadata": {},
   "source": [
    "<div class=\"alert alert-info\"> <b>Комментарий:</b> Заполним пропуски в столбце days_employed медианными значениями по каждого типа занятости income_type. </div>"
   ]
  },
  {
   "cell_type": "code",
   "execution_count": 10,
   "id": "0024e7e9",
   "metadata": {},
   "outputs": [],
   "source": [
    "for t in data['income_type'].unique():\n",
    "    data.loc[(data['income_type'] == t) & (data['days_employed'].isna()), 'days_employed'] = \\\n",
    "    data.loc[(data['income_type'] == t), 'days_employed'].median()"
   ]
  },
  {
   "cell_type": "code",
   "execution_count": 11,
   "id": "15e9403d",
   "metadata": {},
   "outputs": [
    {
     "data": {
      "text/plain": [
       "children            0\n",
       "days_employed       0\n",
       "dob_years           0\n",
       "education           0\n",
       "education_id        0\n",
       "family_status       0\n",
       "family_status_id    0\n",
       "gender              0\n",
       "income_type         0\n",
       "debt                0\n",
       "total_income        0\n",
       "purpose             0\n",
       "dtype: int64"
      ]
     },
     "execution_count": 11,
     "metadata": {},
     "output_type": "execute_result"
    }
   ],
   "source": [
    "data.isna().sum()"
   ]
  },
  {
   "cell_type": "markdown",
   "id": "a26f9dff",
   "metadata": {},
   "source": [
    "<div class=\"alert alert-info\"> <b>Комментарий:</b> Теперь в нашем фрейме нет пропусков. </div>"
   ]
  },
  {
   "cell_type": "markdown",
   "id": "25d74ddd",
   "metadata": {},
   "source": [
    "<div class=\"alert alert-info\"> <b>Комментарий:</b> Заменим вещественный тип данных в столбце `total_income` </div>"
   ]
  },
  {
   "cell_type": "code",
   "execution_count": 12,
   "id": "ad124800",
   "metadata": {},
   "outputs": [],
   "source": [
    "data['total_income'] = data['total_income'].astype(int)"
   ]
  },
  {
   "cell_type": "markdown",
   "id": "25d4d819",
   "metadata": {},
   "source": [
    "## Обработка дубликатов"
   ]
  },
  {
   "cell_type": "markdown",
   "id": "ff3733df",
   "metadata": {},
   "source": [
    "<div class=\"alert alert-info\"> <b>Комментарий:</b> В столбце education и family_status есть дубликаты из-за разного регистра. Исправим это. </div>"
   ]
  },
  {
   "cell_type": "code",
   "execution_count": 13,
   "id": "0860b6a9",
   "metadata": {},
   "outputs": [],
   "source": [
    "data['education'] = data['education'].str.lower()\n",
    "data['family_status'] = data['family_status'].str.lower()"
   ]
  },
  {
   "cell_type": "markdown",
   "id": "4d591704",
   "metadata": {},
   "source": [
    "<div class=\"alert alert-info\"> <b>Комментарий:</b> Посчитаем строки-дубликаты </div>"
   ]
  },
  {
   "cell_type": "code",
   "execution_count": 14,
   "id": "4a171167",
   "metadata": {},
   "outputs": [
    {
     "data": {
      "text/plain": [
       "71"
      ]
     },
     "execution_count": 14,
     "metadata": {},
     "output_type": "execute_result"
    }
   ],
   "source": [
    "data.duplicated().sum()"
   ]
  },
  {
   "cell_type": "code",
   "execution_count": 15,
   "id": "80d06812",
   "metadata": {},
   "outputs": [],
   "source": [
    "#удаляем дубликаты\n",
    "data = data.drop_duplicates()"
   ]
  },
  {
   "cell_type": "markdown",
   "id": "d5bd74e1",
   "metadata": {},
   "source": [
    "## Категоризация данных"
   ]
  },
  {
   "cell_type": "markdown",
   "id": "4fa14d5a",
   "metadata": {},
   "source": [
    "<div class=\"alert alert-info\"> <b>Комментарий:</b> \n",
    "    \n",
    "На основании диапазонов, указанных ниже, создадим в датафрейме столбец total_income_category с категориями:\n",
    "\n",
    "- 0–30000 — `'E'`;\n",
    "- 30001–50000 — `'D'`;\n",
    "- 50001–200000 — `'C'`;\n",
    "- 200001–1000000 — `'B'`;\n",
    "- 1000001 и выше — `'A'`. \n",
    "\n",
    "</div>"
   ]
  },
  {
   "cell_type": "code",
   "execution_count": 16,
   "id": "afff02dd",
   "metadata": {},
   "outputs": [],
   "source": [
    "def categorize_income(income):\n",
    "    try:\n",
    "        if 0 <= income <= 30000:\n",
    "            return 'E'\n",
    "        elif 30001 <= income <= 50000:\n",
    "            return 'D'\n",
    "        elif 50001 <= income <= 200000:\n",
    "            return 'C'\n",
    "        elif 200001 <= income <= 1000000:\n",
    "            return 'B'\n",
    "        elif income >= 1000001:\n",
    "            return 'A'\n",
    "    except:\n",
    "        pass"
   ]
  },
  {
   "cell_type": "code",
   "execution_count": 17,
   "id": "00a52391",
   "metadata": {},
   "outputs": [],
   "source": [
    "data['total_income_category'] = data['total_income'].apply(categorize_income)"
   ]
  },
  {
   "cell_type": "markdown",
   "id": "64d7f64b",
   "metadata": {},
   "source": [
    "<div class=\"alert alert-info\"> <b>Комментарий:</b> \n",
    "    \n",
    "Выведим на экран перечень уникальных целей взятия кредита из столбца `'purpose'`.\n",
    "\n",
    "</div>"
   ]
  },
  {
   "cell_type": "code",
   "execution_count": 18,
   "id": "683f633b",
   "metadata": {},
   "outputs": [
    {
     "data": {
      "text/plain": [
       "array(['покупка жилья', 'приобретение автомобиля',\n",
       "       'дополнительное образование', 'сыграть свадьбу',\n",
       "       'операции с жильем', 'образование', 'на проведение свадьбы',\n",
       "       'покупка жилья для семьи', 'покупка недвижимости',\n",
       "       'покупка коммерческой недвижимости', 'покупка жилой недвижимости',\n",
       "       'строительство собственной недвижимости', 'недвижимость',\n",
       "       'строительство недвижимости', 'на покупку подержанного автомобиля',\n",
       "       'на покупку своего автомобиля',\n",
       "       'операции с коммерческой недвижимостью',\n",
       "       'строительство жилой недвижимости', 'жилье',\n",
       "       'операции со своей недвижимостью', 'автомобили',\n",
       "       'заняться образованием', 'сделка с подержанным автомобилем',\n",
       "       'получение образования', 'автомобиль', 'свадьба',\n",
       "       'получение дополнительного образования', 'покупка своего жилья',\n",
       "       'операции с недвижимостью', 'получение высшего образования',\n",
       "       'свой автомобиль', 'сделка с автомобилем',\n",
       "       'профильное образование', 'высшее образование',\n",
       "       'покупка жилья для сдачи', 'на покупку автомобиля', 'ремонт жилью',\n",
       "       'заняться высшим образованием'], dtype=object)"
      ]
     },
     "execution_count": 18,
     "metadata": {},
     "output_type": "execute_result"
    }
   ],
   "source": [
    "data['purpose'].unique()"
   ]
  },
  {
   "cell_type": "markdown",
   "id": "7a3d0583",
   "metadata": {},
   "source": [
    "<div class=\"alert alert-info\"> <b>Комментарий:</b> \n",
    "    \n",
    "Создадим функцию, которая на основании данных из столбца `purpose` сформирует новый столбец `purpose_category`, в который войдут следующие категории:\n",
    "\n",
    "- `'операции с автомобилем'`,\n",
    "- `'операции с недвижимостью'`,\n",
    "- `'проведение свадьбы'`,\n",
    "- `'получение образования'`.\n",
    "\n",
    "</div>"
   ]
  },
  {
   "cell_type": "code",
   "execution_count": 19,
   "id": "5e8c37b3",
   "metadata": {},
   "outputs": [],
   "source": [
    "def categorize_purpose(row):\n",
    "    try:\n",
    "        if 'автом' in row:\n",
    "            return 'операции с автомобилем'\n",
    "        elif 'жил' in row or 'недвиж' in row:\n",
    "            return 'операции с недвижимостью'\n",
    "        elif 'свад' in row:\n",
    "            return 'проведение свадьбы'\n",
    "        elif 'образов' in row:\n",
    "            return 'получение образования'\n",
    "    except:\n",
    "        return 'нет категории'"
   ]
  },
  {
   "cell_type": "code",
   "execution_count": 20,
   "id": "fae8e7a1",
   "metadata": {},
   "outputs": [],
   "source": [
    "data['purpose_category'] = data['purpose'].apply(categorize_purpose)"
   ]
  },
  {
   "cell_type": "markdown",
   "id": "37092b01",
   "metadata": {},
   "source": [
    "## Ответы на вопросы."
   ]
  },
  {
   "cell_type": "markdown",
   "id": "9456bd22",
   "metadata": {},
   "source": [
    "### Какой общий процент задержек оплаты?"
   ]
  },
  {
   "cell_type": "code",
   "execution_count": 21,
   "id": "ee5a2460",
   "metadata": {},
   "outputs": [
    {
     "name": "stdout",
     "output_type": "stream",
     "text": [
      "8.84%\n"
     ]
    }
   ],
   "source": [
    "delay_payment = data[data['debt'] == 1].count() / data[data['debt'] == 0].count()*100\n",
    "print ('{0:.2f}%'.format(delay_payment['debt']))"
   ]
  },
  {
   "cell_type": "markdown",
   "id": "88624dc8",
   "metadata": {},
   "source": [
    "### Есть ли зависимость между количеством детей и возвратом кредита в срок?"
   ]
  },
  {
   "cell_type": "code",
   "execution_count": 22,
   "id": "3b2647e3",
   "metadata": {},
   "outputs": [
    {
     "name": "stdout",
     "output_type": "stream",
     "text": [
      "8.16% процент задержек у тех, у кого нет детей\n",
      "10.17% процент задержек у тех, у кого 1 ребенок\n",
      "10.44% процент задержек у тех, у кого 2 ребенка\n",
      "8.91% процент задержек у тех, у кого 3 ребенка\n",
      "10.81% процент задержек у тех, у кого 4 ребенка\n"
     ]
    },
    {
     "data": {
      "image/png": "[encoded data removed]",
      "text/plain": [
       "<Figure size 864x360 with 1 Axes>"
      ]
     },
     "metadata": {
      "needs_background": "light"
     },
     "output_type": "display_data"
    },
    {
     "name": "stdout",
     "output_type": "stream",
     "text": [
      "общий процент возврата кредита людей с детьми 10.08%\n"
     ]
    }
   ],
   "source": [
    "data_pivot1 = data.pivot_table(index=['debt'], columns='children', values = 'gender', aggfunc='count')\n",
    "\n",
    "\n",
    "ch0 = data_pivot1[0][1] / data_pivot1[0][0]*100\n",
    "ch1 = data_pivot1[1][1] / data_pivot1[1][0]*100\n",
    "ch2 = data_pivot1[2][1] / data_pivot1[2][0]*100\n",
    "ch3 = data_pivot1[3][1] / data_pivot1[3][0]*100\n",
    "ch4 = data_pivot1[4][1] / data_pivot1[4][0]*100\n",
    "with_child = (ch1+ch2+ch3+ch4)/4\n",
    "\n",
    "print(\"{0:.2f}% процент задержек у тех, у кого нет детей\".format(ch0))\n",
    "print(\"{0:.2f}% процент задержек у тех, у кого 1 ребенок\".format(ch1))\n",
    "print(\"{0:.2f}% процент задержек у тех, у кого 2 ребенка\".format(ch2))\n",
    "print(\"{0:.2f}% процент задержек у тех, у кого 3 ребенка\".format(ch3))\n",
    "print(\"{0:.2f}% процент задержек у тех, у кого 4 ребенка\".format(ch4))\n",
    "\n",
    "y_ch=[ ch4, ch3, ch2, ch1, ch0]\n",
    "x_ch = [4, 3, 2, 1, 'нет детей']\n",
    "\n",
    "plt.figure(figsize=(12,5))\n",
    "sns.barplot(x = x_ch, y=y_ch)\n",
    "plt.title('Процент задержек по количество детей')\n",
    "plt.show()\n",
    "\n",
    "\n",
    "\n",
    "\n",
    "print ('общий процент возврата кредита людей с детьми', '{0:.2f}%'.format(with_child))\n"
   ]
  },
  {
   "cell_type": "markdown",
   "id": "2c588acf",
   "metadata": {},
   "source": [
    "<div class=\"alert alert-info\"> <b>Комментарий:</b> \n",
    "    \n",
    "В целом наличие детей увеличивает процент задержек. При этом клиенты без детей чаще вовзращаю кредит в срок по сравнению с общим процентом задержек по всем клиентам\n",
    "\n",
    "</div>"
   ]
  },
  {
   "cell_type": "markdown",
   "id": "bf258e30",
   "metadata": {},
   "source": [
    "### Есть ли зависимость между семейным положением и возвратом кредита в срок?"
   ]
  },
  {
   "cell_type": "code",
   "execution_count": 28,
   "id": "5b773cb6",
   "metadata": {
    "scrolled": false
   },
   "outputs": [
    {
     "name": "stdout",
     "output_type": "stream",
     "text": [
      "7.60% в разводе\n",
      "7.09% вдовец / вдова\n",
      "10.27% гражданский брак\n",
      "8.18% женат / замужем\n",
      "10.82% не женат / не замужем\n",
      "10.54% процент среди одиноких и гражданский брак\n",
      "7.63% процент среди остальных групп\n"
     ]
    },
    {
     "data": {
      "image/png": "[encoded data removed]",
      "text/plain": [
       "<Figure size 864x360 with 1 Axes>"
      ]
     },
     "metadata": {
      "needs_background": "light"
     },
     "output_type": "display_data"
    }
   ],
   "source": [
    "\n",
    "data_pivot2 = data.pivot_table(index=['debt'], columns='family_status', values='children', aggfunc='count')\n",
    "single = data_pivot2['не женат / не замужем'][1] / data_pivot2['не женат / не замужем'][0]*100\n",
    "divorced = data_pivot2['в разводе'][1] / data_pivot2['в разводе'][0]*100\n",
    "widowed = data_pivot2['вдовец / вдова'][1] / data_pivot2['вдовец / вдова'][0]*100\n",
    "civil_marriage = data_pivot2['гражданский брак'][1] / data_pivot2['гражданский брак'][0]*100\n",
    "married = data_pivot2['женат / замужем'][1] / data_pivot2['женат / замужем'][0]*100\n",
    "\n",
    "single_and_civil_marriage = (single+civil_marriage)/2\n",
    "others = (divorced+widowed+married)/3\n",
    "\n",
    "print(\"{0:.2f}% в разводе\".format(divorced))\n",
    "print(\"{0:.2f}% вдовец / вдова\".format(widowed))\n",
    "print(\"{0:.2f}% гражданский брак\".format(civil_marriage))\n",
    "print(\"{0:.2f}% женат / замужем\".format(married))\n",
    "print(\"{0:.2f}% не женат / не замужем\".format(single))\n",
    "print(\"{0:.2f}% процент среди одиноких и гражданский брак\".format(single_and_civil_marriage))\n",
    "print(\"{0:.2f}% процент среди остальных групп\".format(others))\n",
    "\n",
    "\n",
    "x_status = [ divorced, widowed, civil_marriage, married, single]\n",
    "y_status = sorted(data['family_status'].unique())\n",
    "\n",
    "plt.figure(figsize=(12,5))\n",
    "sns.barplot(x = x_status, y=y_status)\n",
    "plt.title('Зависимость процента задержек от семейного статуса')\n",
    "plt.show()"
   ]
  },
  {
   "cell_type": "markdown",
   "id": "f1cde4fb",
   "metadata": {},
   "source": [
    "<div class=\"alert alert-info\"> <b>Комментарий:</b> \n",
    "    \n",
    "Семейный статус сильно влияет на процент воврата кредита в срок. Чаще всех задерживают одинокие люди. При этом те, кто разведен или является вдовой/вдовцом чаще всех возвращают кредиты в срок. \n",
    "\n",
    "</div>"
   ]
  },
  {
   "cell_type": "markdown",
   "id": "d6d79e81",
   "metadata": {},
   "source": [
    "###  Есть ли зависимость между уровнем дохода и возвратом кредита в срок?"
   ]
  },
  {
   "cell_type": "code",
   "execution_count": 31,
   "id": "05fac56f",
   "metadata": {},
   "outputs": [
    {
     "name": "stdout",
     "output_type": "stream",
     "text": [
      "8.70% задержек катеории А\n",
      "7.60% задержек катеории B\n",
      "9.29% задержек катеории C\n",
      "6.40% задержек катеории D\n",
      "10.00% задержек катеории E\n"
     ]
    },
    {
     "data": {
      "image/png": "[encoded data removed]",
      "text/plain": [
       "<Figure size 864x360 with 1 Axes>"
      ]
     },
     "metadata": {
      "needs_background": "light"
     },
     "output_type": "display_data"
    }
   ],
   "source": [
    "data_pivot3 = data.pivot_table(index=['debt'], columns='total_income_category', values='children', aggfunc='count')\n",
    "cat_a = data_pivot3['A'][1]/data_pivot3['A'][0]*100\n",
    "cat_b = data_pivot3['B'][1]/data_pivot3['B'][0]*100\n",
    "cat_c = data_pivot3['C'][1]/data_pivot3['C'][0]*100\n",
    "cat_d = data_pivot3['D'][1]/data_pivot3['D'][0]*100\n",
    "cat_e = data_pivot3['E'][1]/data_pivot3['E'][0]*100\n",
    "\n",
    "print(\"{0:.2f}% задержек катеории А\".format(cat_a))\n",
    "print(\"{0:.2f}% задержек катеории B\".format(cat_b))\n",
    "print(\"{0:.2f}% задержек катеории C\".format(cat_c))\n",
    "print(\"{0:.2f}% задержек катеории D\".format(cat_d))\n",
    "print(\"{0:.2f}% задержек катеории E\".format(cat_e))\n",
    "\n",
    "x_cat = [cat_a, cat_b, cat_c, cat_d, cat_e,]\n",
    "y_cat = sorted(data['total_income_category'].unique())\n",
    "\n",
    "plt.figure(figsize=(12,5))\n",
    "sns.barplot(x=x_cat, y=y_cat)\n",
    "plt.title('Зависимость процента задержек от категории дохода')\n",
    "plt.show()"
   ]
  },
  {
   "cell_type": "markdown",
   "id": "d9042d29",
   "metadata": {},
   "source": [
    "<div class=\"alert alert-info\"> <b>Комментарий:</b> \n",
    "    \n",
    "Люди с наименьшим доходом чаще всех задерживают выплаты. Однако на удивление выяснилось, что уровень достатка сильно не вляиет на возврат кредита в срок. Категории А, В и С задерживают выплату гораздо чаще, чем категория D.\n",
    "\n",
    "</div>"
   ]
  },
  {
   "cell_type": "markdown",
   "id": "1ccf0dcc",
   "metadata": {},
   "source": [
    "### Как разные цели кредита влияют на его возврат в срок?"
   ]
  },
  {
   "cell_type": "code",
   "execution_count": 36,
   "id": "a63e7d53",
   "metadata": {},
   "outputs": [
    {
     "name": "stdout",
     "output_type": "stream",
     "text": [
      "10.31% задержек в целях по операциям с автомобилями\n",
      "7.82% задержек в целях по операция с недвижимостью\n",
      "10.20% задержек в целях по получени образования\n",
      "8.59% задержек в целях по проведению свадьбы\n"
     ]
    },
    {
     "data": {
      "image/png": "[encoded data removed]",
      "text/plain": [
       "<Figure size 864x360 with 1 Axes>"
      ]
     },
     "metadata": {
      "needs_background": "light"
     },
     "output_type": "display_data"
    }
   ],
   "source": [
    "data_pivot4 = data.pivot_table(index=['debt'], columns='purpose_category', values='children', aggfunc='count')\n",
    "transport = data_pivot4['операции с автомобилем'][1]/data_pivot4['операции с автомобилем'][0]*100\n",
    "estate = data_pivot4['операции с недвижимостью'][1]/data_pivot4['операции с недвижимостью'][0]*100\n",
    "education = data_pivot4['получение образования'][1]/data_pivot4['получение образования'][0]*100\n",
    "marriage = data_pivot4['проведение свадьбы'][1]/data_pivot4['проведение свадьбы'][0]*100\n",
    "\n",
    "print(\"{0:.2f}% задержек в целях по операциям с автомобилями\".format(transport))\n",
    "print(\"{0:.2f}% задержек в целях по операция с недвижимостью\".format(estate))\n",
    "print(\"{0:.2f}% задержек в целях по получени образования\".format(education))\n",
    "print(\"{0:.2f}% задержек в целях по проведению свадьбы\".format(marriage))\n",
    "\n",
    "\n",
    "x = [transport, estate, education, marriage]\n",
    "y = sorted(data['purpose_category'].unique())\n",
    "\n",
    "\n",
    "plt.figure(figsize=(12,5))\n",
    "sns.barplot (x=x, y=y)\n",
    "plt.title('Зависимость процента задержек от целей кредита')\n",
    "plt.show()"
   ]
  },
  {
   "cell_type": "markdown",
   "id": "e74e35d1",
   "metadata": {},
   "source": [
    "<div class=\"alert alert-info\"> <b>Комментарий:</b> \n",
    "    \n",
    "Кредыты, взятые на недвижимость и свадьбу, возвращают в срок чаще, чем кредиты на транспорт и образование\n",
    "\n",
    "</div>"
   ]
  },
  {
   "cell_type": "markdown",
   "id": "05b81c37",
   "metadata": {},
   "source": [
    "## Общий вывод:"
   ]
  },
  {
   "cell_type": "markdown",
   "id": "aa0c08ae",
   "metadata": {},
   "source": [
    "**Общие выводы**\n",
    "<div style=\"border-radius: 15px; box-shadow: 2px 2px 4px; border: 1px solid; background:Gainsboro; padding: 20px\">\n",
    "\n",
    "Проведена предобработка таблицы. Пропущенные значения в столбцах total_income и days_employed заполнены медианными занчениями, таблица приведена в один регистр, убраны дубликаты. Сделана категоризация доходов клиентов и целей кредитов. После предобработки в данных осталость 21452 строк - количество, достаточное для продолжения исследования.\n",
    "\n",
    "</div>\n"
   ]
  },
  {
   "cell_type": "markdown",
   "id": "907ecb66",
   "metadata": {},
   "source": [
    "\n",
    "\n",
    "<div style=\"border-radius: 15px; box-shadow: 2px 2px 4px; border: 1px solid; background:Gainsboro; padding: 20px\">\n",
    "\n",
    "- Есть ли зависимость между количеством детей и возвратом кредита в срок? \n",
    "    \n",
    "Семейный статус и количество детей заметно вляет на процент задержек по кредиту. Процент задержек среди тех, у кого есть дети составляет 10,08%. Среди тех, у кого нет детей - 8,16%. При этом отдельно нужно отметить, что процент задержек среди тех, у кого ТРИ ребенка, не сильно выше по сравнению с  группой людей без детей и по сравнению с общим процентом задержек, который составляет 8,83%\n",
    "</div>"
   ]
  },
  {
   "cell_type": "markdown",
   "id": "fa50130d",
   "metadata": {},
   "source": [
    "\n",
    "<div style=\"border-radius: 15px; box-shadow: 2px 2px 4px; border: 1px solid; background:Gainsboro; padding: 20px\">\n",
    "\n",
    "- Есть ли зависимость между семейным положением и возвратом кредита в срок? \n",
    "    \n",
    "Семейное положение влияет на вероятность возврата кредита в срок. Процент задержек среди одиноких и людей в гражданском браке сильно выше - 10.56%. Общий процент задержек по осташимся группам - 7.62%\n",
    "\n",
    "</div>"
   ]
  },
  {
   "cell_type": "markdown",
   "id": "25019104",
   "metadata": {},
   "source": [
    "<div class=\"alert alert-info\"> <b> Идеальный клиент - вдова без детей, с низким доходом, берущая кредит на недвижимость :))  Непростая у нее жизнь, однако </b> </div>"
   ]
  }
 ],
 "metadata": {
  "ExecuteTimeLog": [
   {
    "duration": 532,
    "start_time": "2022-04-24T16:25:35.630Z"
   },
   {
    "duration": 60,
    "start_time": "2022-04-24T16:25:43.325Z"
   },
   {
    "duration": 82,
    "start_time": "2022-04-24T16:25:47.197Z"
   },
   {
    "duration": 74,
    "start_time": "2022-04-24T16:29:49.251Z"
   },
   {
    "duration": 62,
    "start_time": "2022-04-24T16:31:45.515Z"
   },
   {
    "duration": 59,
    "start_time": "2022-04-24T16:31:52.707Z"
   },
   {
    "duration": 64,
    "start_time": "2022-04-24T16:33:06.083Z"
   },
   {
    "duration": 72,
    "start_time": "2022-04-26T13:37:46.784Z"
   },
   {
    "duration": 685,
    "start_time": "2022-04-26T13:38:00.284Z"
   },
   {
    "duration": 2244,
    "start_time": "2022-04-26T13:38:00.972Z"
   },
   {
    "duration": 41,
    "start_time": "2022-04-26T13:38:13.359Z"
   },
   {
    "duration": 21,
    "start_time": "2022-04-26T13:38:33.759Z"
   },
   {
    "duration": 8,
    "start_time": "2022-04-26T13:39:19.490Z"
   },
   {
    "duration": 20,
    "start_time": "2022-04-26T13:39:58.000Z"
   },
   {
    "duration": 14,
    "start_time": "2022-04-26T13:40:03.119Z"
   },
   {
    "duration": 9,
    "start_time": "2022-04-26T13:42:22.331Z"
   },
   {
    "duration": 20,
    "start_time": "2022-04-26T13:42:34.663Z"
   },
   {
    "duration": 10,
    "start_time": "2022-04-26T13:42:48.321Z"
   },
   {
    "duration": 5,
    "start_time": "2022-04-26T13:43:09.012Z"
   },
   {
    "duration": 8,
    "start_time": "2022-04-26T13:43:20.892Z"
   },
   {
    "duration": 9,
    "start_time": "2022-04-26T13:43:31.693Z"
   },
   {
    "duration": 21,
    "start_time": "2022-04-26T13:43:59.403Z"
   },
   {
    "duration": 16,
    "start_time": "2022-04-26T13:44:36.085Z"
   },
   {
    "duration": 13,
    "start_time": "2022-04-26T13:45:19.026Z"
   },
   {
    "duration": 8,
    "start_time": "2022-04-26T13:45:23.681Z"
   },
   {
    "duration": 13,
    "start_time": "2022-04-26T13:45:39.804Z"
   },
   {
    "duration": 12,
    "start_time": "2022-04-26T13:45:45.204Z"
   },
   {
    "duration": 34,
    "start_time": "2022-04-26T13:47:23.503Z"
   },
   {
    "duration": 21,
    "start_time": "2022-04-26T13:47:31.434Z"
   },
   {
    "duration": 10,
    "start_time": "2022-04-26T13:47:47.481Z"
   },
   {
    "duration": 14,
    "start_time": "2022-04-26T13:48:03.015Z"
   },
   {
    "duration": 17,
    "start_time": "2022-04-26T13:48:56.763Z"
   },
   {
    "duration": 8,
    "start_time": "2022-04-26T13:49:06.024Z"
   },
   {
    "duration": 8,
    "start_time": "2022-04-26T13:49:48.553Z"
   },
   {
    "duration": 13,
    "start_time": "2022-04-26T13:49:51.874Z"
   },
   {
    "duration": 6,
    "start_time": "2022-04-26T13:50:09.976Z"
   },
   {
    "duration": 32,
    "start_time": "2022-04-26T13:50:13.553Z"
   },
   {
    "duration": 13,
    "start_time": "2022-04-26T13:50:30.084Z"
   },
   {
    "duration": 1835,
    "start_time": "2022-04-26T13:50:44.161Z"
   },
   {
    "duration": 2065,
    "start_time": "2022-04-26T13:50:46.572Z"
   },
   {
    "duration": 33,
    "start_time": "2022-04-26T13:50:57.133Z"
   },
   {
    "duration": 15,
    "start_time": "2022-04-26T13:52:27.055Z"
   },
   {
    "duration": 33,
    "start_time": "2022-04-26T13:52:35.170Z"
   },
   {
    "duration": 19,
    "start_time": "2022-04-26T13:53:30.195Z"
   },
   {
    "duration": 19,
    "start_time": "2022-04-26T13:53:35.984Z"
   },
   {
    "duration": 615,
    "start_time": "2022-04-26T13:53:42.022Z"
   },
   {
    "duration": 25,
    "start_time": "2022-04-26T13:53:42.639Z"
   },
   {
    "duration": 18,
    "start_time": "2022-04-26T13:53:42.666Z"
   },
   {
    "duration": 98,
    "start_time": "2022-04-26T13:54:32.192Z"
   },
   {
    "duration": 15,
    "start_time": "2022-04-26T13:54:40.662Z"
   },
   {
    "duration": 9,
    "start_time": "2022-04-26T13:54:54.923Z"
   },
   {
    "duration": 1941,
    "start_time": "2022-04-26T13:55:05.681Z"
   },
   {
    "duration": 25,
    "start_time": "2022-04-26T13:55:12.693Z"
   },
   {
    "duration": 6,
    "start_time": "2022-04-26T13:55:33.254Z"
   },
   {
    "duration": 6,
    "start_time": "2022-04-26T13:55:50.823Z"
   },
   {
    "duration": 6,
    "start_time": "2022-04-26T13:55:56.621Z"
   },
   {
    "duration": 14,
    "start_time": "2022-04-26T13:56:06.324Z"
   },
   {
    "duration": 6,
    "start_time": "2022-04-26T13:56:41.967Z"
   },
   {
    "duration": 7,
    "start_time": "2022-04-26T13:57:26.151Z"
   },
   {
    "duration": 6,
    "start_time": "2022-04-26T13:57:33.463Z"
   },
   {
    "duration": 10,
    "start_time": "2022-04-26T13:57:39.993Z"
   },
   {
    "duration": 10,
    "start_time": "2022-04-26T13:57:49.238Z"
   },
   {
    "duration": 10,
    "start_time": "2022-04-26T13:57:53.551Z"
   },
   {
    "duration": 15,
    "start_time": "2022-04-26T13:59:19.149Z"
   },
   {
    "duration": 9,
    "start_time": "2022-04-26T13:59:28.009Z"
   },
   {
    "duration": 23,
    "start_time": "2022-04-26T13:59:38.751Z"
   },
   {
    "duration": 23,
    "start_time": "2022-04-26T14:02:22.005Z"
   },
   {
    "duration": 10,
    "start_time": "2022-04-26T14:02:33.144Z"
   },
   {
    "duration": 7,
    "start_time": "2022-04-26T14:02:38.150Z"
   },
   {
    "duration": 9,
    "start_time": "2022-04-26T14:02:48.855Z"
   },
   {
    "duration": 6,
    "start_time": "2022-04-26T14:02:53.972Z"
   },
   {
    "duration": 16,
    "start_time": "2022-04-26T14:03:12.021Z"
   },
   {
    "duration": 121,
    "start_time": "2022-04-26T14:03:19.030Z"
   },
   {
    "duration": 10,
    "start_time": "2022-04-26T14:03:24.024Z"
   },
   {
    "duration": 12,
    "start_time": "2022-04-26T14:03:27.141Z"
   },
   {
    "duration": 11,
    "start_time": "2022-04-26T14:03:31.762Z"
   },
   {
    "duration": 12,
    "start_time": "2022-04-26T14:03:35.375Z"
   },
   {
    "duration": 22,
    "start_time": "2022-04-26T14:03:50.318Z"
   },
   {
    "duration": 642,
    "start_time": "2022-04-26T14:04:06.720Z"
   },
   {
    "duration": 7,
    "start_time": "2022-04-26T14:04:07.365Z"
   },
   {
    "duration": 22,
    "start_time": "2022-04-26T14:04:11.639Z"
   },
   {
    "duration": 7,
    "start_time": "2022-04-26T14:04:21.300Z"
   },
   {
    "duration": 12,
    "start_time": "2022-04-26T14:04:23.144Z"
   },
   {
    "duration": 571,
    "start_time": "2022-04-26T14:04:37.492Z"
   },
   {
    "duration": 6,
    "start_time": "2022-04-26T14:04:38.066Z"
   },
   {
    "duration": 26,
    "start_time": "2022-04-26T14:04:38.075Z"
   },
   {
    "duration": 828,
    "start_time": "2022-04-26T14:04:51.303Z"
   },
   {
    "duration": 72,
    "start_time": "2022-04-26T14:04:52.135Z"
   },
   {
    "duration": 7,
    "start_time": "2022-04-26T14:04:52.210Z"
   },
   {
    "duration": 8,
    "start_time": "2022-04-26T14:05:22.546Z"
   },
   {
    "duration": 11,
    "start_time": "2022-04-26T14:05:26.456Z"
   },
   {
    "duration": 13,
    "start_time": "2022-04-26T14:05:41.894Z"
   },
   {
    "duration": 12,
    "start_time": "2022-04-26T14:06:04.454Z"
   },
   {
    "duration": 99,
    "start_time": "2022-04-26T14:06:07.642Z"
   },
   {
    "duration": 34,
    "start_time": "2022-04-26T14:06:10.023Z"
   },
   {
    "duration": 13,
    "start_time": "2022-04-26T14:06:14.280Z"
   },
   {
    "duration": 10,
    "start_time": "2022-04-26T14:06:53.065Z"
   },
   {
    "duration": 12,
    "start_time": "2022-04-26T14:06:56.756Z"
   },
   {
    "duration": 26,
    "start_time": "2022-04-26T14:08:25.081Z"
   },
   {
    "duration": 30,
    "start_time": "2022-04-26T14:08:29.155Z"
   },
   {
    "duration": 114,
    "start_time": "2022-04-26T14:09:28.400Z"
   },
   {
    "duration": 6,
    "start_time": "2022-04-26T14:09:33.003Z"
   },
   {
    "duration": 8,
    "start_time": "2022-04-26T14:09:37.866Z"
   },
   {
    "duration": 7,
    "start_time": "2022-04-26T14:09:55.647Z"
   },
   {
    "duration": 7,
    "start_time": "2022-04-26T14:10:09.868Z"
   },
   {
    "duration": 4,
    "start_time": "2022-04-26T14:16:48.513Z"
   },
   {
    "duration": 7,
    "start_time": "2022-04-26T14:16:55.346Z"
   },
   {
    "duration": 6,
    "start_time": "2022-04-26T14:17:18.250Z"
   },
   {
    "duration": 8,
    "start_time": "2022-04-26T14:17:24.117Z"
   },
   {
    "duration": 8,
    "start_time": "2022-04-26T14:17:31.801Z"
   },
   {
    "duration": 99,
    "start_time": "2022-04-26T14:18:00.565Z"
   },
   {
    "duration": 9,
    "start_time": "2022-04-26T14:18:05.671Z"
   },
   {
    "duration": 8,
    "start_time": "2022-04-26T14:18:27.208Z"
   },
   {
    "duration": 126,
    "start_time": "2022-04-26T14:19:30.036Z"
   },
   {
    "duration": 8,
    "start_time": "2022-04-26T14:19:56.202Z"
   },
   {
    "duration": 6,
    "start_time": "2022-04-26T14:21:22.001Z"
   },
   {
    "duration": 24,
    "start_time": "2022-04-26T14:21:38.675Z"
   },
   {
    "duration": 24,
    "start_time": "2022-04-26T14:28:02.402Z"
   },
   {
    "duration": 22,
    "start_time": "2022-04-26T14:28:08.691Z"
   },
   {
    "duration": 7,
    "start_time": "2022-04-26T14:28:20.301Z"
   },
   {
    "duration": 560,
    "start_time": "2022-04-26T14:28:29.391Z"
   },
   {
    "duration": 15,
    "start_time": "2022-04-26T14:28:29.954Z"
   },
   {
    "duration": 23,
    "start_time": "2022-04-26T14:28:29.971Z"
   },
   {
    "duration": 117,
    "start_time": "2022-04-26T14:31:06.112Z"
   },
   {
    "duration": 121,
    "start_time": "2022-04-26T14:31:12.362Z"
   },
   {
    "duration": 37,
    "start_time": "2022-04-26T14:31:17.981Z"
   },
   {
    "duration": 92,
    "start_time": "2022-04-26T14:33:37.972Z"
   },
   {
    "duration": 49,
    "start_time": "2022-04-26T14:34:07.461Z"
   },
   {
    "duration": 5,
    "start_time": "2022-04-26T14:35:31.702Z"
   },
   {
    "duration": 48,
    "start_time": "2022-04-26T14:35:57.639Z"
   },
   {
    "duration": 25,
    "start_time": "2022-04-26T14:36:08.102Z"
   },
   {
    "duration": 26,
    "start_time": "2022-04-26T14:38:28.773Z"
   },
   {
    "duration": 26,
    "start_time": "2022-04-26T14:38:34.964Z"
   },
   {
    "duration": 610,
    "start_time": "2022-04-26T14:38:53.827Z"
   },
   {
    "duration": 14,
    "start_time": "2022-04-26T14:38:54.440Z"
   },
   {
    "duration": 24,
    "start_time": "2022-04-26T14:38:54.456Z"
   },
   {
    "duration": 27,
    "start_time": "2022-04-26T14:38:54.482Z"
   },
   {
    "duration": 26,
    "start_time": "2022-04-26T14:39:02.421Z"
   },
   {
    "duration": 6,
    "start_time": "2022-04-26T14:39:20.779Z"
   },
   {
    "duration": 32,
    "start_time": "2022-04-26T14:43:47.057Z"
   },
   {
    "duration": 23,
    "start_time": "2022-04-26T14:43:58.306Z"
   },
   {
    "duration": 6,
    "start_time": "2022-04-26T14:44:06.449Z"
   },
   {
    "duration": 5,
    "start_time": "2022-04-26T14:45:37.317Z"
   },
   {
    "duration": 21,
    "start_time": "2022-04-26T14:45:45.042Z"
   },
   {
    "duration": 4,
    "start_time": "2022-04-26T14:46:01.460Z"
   },
   {
    "duration": 31,
    "start_time": "2022-04-26T14:47:28.509Z"
   },
   {
    "duration": 27,
    "start_time": "2022-04-26T14:48:29.948Z"
   },
   {
    "duration": 27,
    "start_time": "2022-04-26T14:48:34.310Z"
   },
   {
    "duration": 54,
    "start_time": "2022-04-26T14:48:43.951Z"
   },
   {
    "duration": 7,
    "start_time": "2022-04-26T14:50:45.588Z"
   },
   {
    "duration": 53,
    "start_time": "2022-04-26T14:51:01.349Z"
   },
   {
    "duration": 177,
    "start_time": "2022-04-26T14:55:00.658Z"
   },
   {
    "duration": 14,
    "start_time": "2022-04-26T14:55:04.626Z"
   },
   {
    "duration": 82,
    "start_time": "2022-04-26T14:55:42.426Z"
   },
   {
    "duration": 10,
    "start_time": "2022-04-26T14:56:18.301Z"
   },
   {
    "duration": 7,
    "start_time": "2022-04-26T14:57:13.126Z"
   },
   {
    "duration": 19,
    "start_time": "2022-04-26T14:57:40.006Z"
   },
   {
    "duration": 8,
    "start_time": "2022-04-26T14:57:49.988Z"
   },
   {
    "duration": 29,
    "start_time": "2022-04-26T14:58:49.875Z"
   },
   {
    "duration": 8,
    "start_time": "2022-04-26T14:59:22.744Z"
   },
   {
    "duration": 8,
    "start_time": "2022-04-26T14:59:58.437Z"
   },
   {
    "duration": 18,
    "start_time": "2022-04-26T15:00:05.495Z"
   },
   {
    "duration": 10,
    "start_time": "2022-04-26T15:04:23.581Z"
   },
   {
    "duration": 43,
    "start_time": "2022-04-26T15:04:49.355Z"
   },
   {
    "duration": 14,
    "start_time": "2022-04-26T15:06:01.131Z"
   },
   {
    "duration": 15,
    "start_time": "2022-04-26T15:08:58.517Z"
   },
   {
    "duration": 42,
    "start_time": "2022-04-26T15:09:01.945Z"
   },
   {
    "duration": 20,
    "start_time": "2022-04-26T15:09:21.941Z"
   },
   {
    "duration": 6,
    "start_time": "2022-04-26T15:09:40.046Z"
   },
   {
    "duration": 8,
    "start_time": "2022-04-26T15:09:43.964Z"
   },
   {
    "duration": 614,
    "start_time": "2022-04-26T15:09:56.206Z"
   },
   {
    "duration": 15,
    "start_time": "2022-04-26T15:09:56.823Z"
   },
   {
    "duration": 21,
    "start_time": "2022-04-26T15:09:56.853Z"
   },
   {
    "duration": 7,
    "start_time": "2022-04-26T15:09:56.877Z"
   },
   {
    "duration": 8,
    "start_time": "2022-04-26T15:09:56.886Z"
   },
   {
    "duration": 14,
    "start_time": "2022-04-26T15:09:56.897Z"
   },
   {
    "duration": 56,
    "start_time": "2022-04-26T15:09:56.914Z"
   },
   {
    "duration": 33,
    "start_time": "2022-04-26T15:10:41.656Z"
   },
   {
    "duration": 98,
    "start_time": "2022-04-26T15:11:36.223Z"
   },
   {
    "duration": 9,
    "start_time": "2022-04-26T15:11:42.204Z"
   },
   {
    "duration": 8,
    "start_time": "2022-04-26T15:11:47.440Z"
   },
   {
    "duration": 30,
    "start_time": "2022-04-26T15:11:50.770Z"
   },
   {
    "duration": 9,
    "start_time": "2022-04-26T15:12:10.241Z"
   },
   {
    "duration": 14,
    "start_time": "2022-04-26T15:12:45.522Z"
   },
   {
    "duration": 10,
    "start_time": "2022-04-26T15:12:59.347Z"
   },
   {
    "duration": 20,
    "start_time": "2022-04-26T15:13:24.488Z"
   },
   {
    "duration": 48,
    "start_time": "2022-04-26T15:13:35.788Z"
   },
   {
    "duration": 10,
    "start_time": "2022-04-26T15:13:58.139Z"
   },
   {
    "duration": 18,
    "start_time": "2022-04-26T15:15:13.928Z"
   },
   {
    "duration": 18,
    "start_time": "2022-04-26T15:15:19.757Z"
   },
   {
    "duration": 19,
    "start_time": "2022-04-26T15:15:29.717Z"
   },
   {
    "duration": 10,
    "start_time": "2022-04-26T15:17:24.541Z"
   },
   {
    "duration": 12,
    "start_time": "2022-04-26T15:17:29.671Z"
   },
   {
    "duration": 12,
    "start_time": "2022-04-26T15:22:56.472Z"
   },
   {
    "duration": 39,
    "start_time": "2022-04-26T15:22:59.422Z"
   },
   {
    "duration": 9,
    "start_time": "2022-04-26T15:23:04.932Z"
   },
   {
    "duration": 29,
    "start_time": "2022-04-26T15:24:47.531Z"
   },
   {
    "duration": 10,
    "start_time": "2022-04-26T15:25:39.320Z"
   },
   {
    "duration": 9,
    "start_time": "2022-04-26T15:25:42.531Z"
   },
   {
    "duration": 41,
    "start_time": "2022-04-26T15:25:45.489Z"
   },
   {
    "duration": 38,
    "start_time": "2022-04-26T15:26:28.500Z"
   },
   {
    "duration": 25,
    "start_time": "2022-04-26T15:27:50.476Z"
   },
   {
    "duration": 31,
    "start_time": "2022-04-26T15:28:18.305Z"
   },
   {
    "duration": 8,
    "start_time": "2022-04-26T15:28:35.925Z"
   },
   {
    "duration": 7,
    "start_time": "2022-04-26T15:28:50.113Z"
   },
   {
    "duration": 1860,
    "start_time": "2022-04-26T15:29:26.696Z"
   },
   {
    "duration": 1759,
    "start_time": "2022-04-26T15:29:41.275Z"
   },
   {
    "duration": 30,
    "start_time": "2022-04-26T15:29:48.821Z"
   },
   {
    "duration": 9,
    "start_time": "2022-04-26T15:30:14.127Z"
   },
   {
    "duration": 5,
    "start_time": "2022-04-26T15:30:20.395Z"
   },
   {
    "duration": 9,
    "start_time": "2022-04-26T15:30:32.406Z"
   },
   {
    "duration": 8,
    "start_time": "2022-04-26T15:30:43.334Z"
   },
   {
    "duration": 35,
    "start_time": "2022-04-26T15:31:22.334Z"
   },
   {
    "duration": 13,
    "start_time": "2022-04-26T15:31:29.143Z"
   },
   {
    "duration": 14,
    "start_time": "2022-04-26T15:31:37.740Z"
   },
   {
    "duration": 13,
    "start_time": "2022-04-26T15:31:43.466Z"
   },
   {
    "duration": 110,
    "start_time": "2022-04-26T15:37:15.436Z"
   },
   {
    "duration": 25,
    "start_time": "2022-04-26T15:38:18.124Z"
   },
   {
    "duration": 30,
    "start_time": "2022-04-26T15:38:42.965Z"
   },
   {
    "duration": 118,
    "start_time": "2022-04-26T15:39:05.415Z"
   },
   {
    "duration": 106,
    "start_time": "2022-04-26T15:39:10.786Z"
   },
   {
    "duration": 82,
    "start_time": "2022-04-26T15:39:28.194Z"
   },
   {
    "duration": 8,
    "start_time": "2022-04-26T15:39:28.279Z"
   },
   {
    "duration": 22,
    "start_time": "2022-04-26T15:39:28.291Z"
   },
   {
    "duration": 40,
    "start_time": "2022-04-26T15:39:28.317Z"
   },
   {
    "duration": 5,
    "start_time": "2022-04-26T15:39:28.359Z"
   },
   {
    "duration": 119,
    "start_time": "2022-04-26T15:39:28.367Z"
   },
   {
    "duration": 9,
    "start_time": "2022-04-26T15:43:15.562Z"
   },
   {
    "duration": 30,
    "start_time": "2022-04-26T15:43:26.902Z"
   },
   {
    "duration": 12,
    "start_time": "2022-04-26T15:44:13.222Z"
   },
   {
    "duration": 12,
    "start_time": "2022-04-26T15:44:17.073Z"
   },
   {
    "duration": 15,
    "start_time": "2022-04-26T15:44:33.149Z"
   },
   {
    "duration": 15,
    "start_time": "2022-04-26T15:44:36.369Z"
   },
   {
    "duration": 29,
    "start_time": "2022-04-26T15:44:43.091Z"
   },
   {
    "duration": 115,
    "start_time": "2022-04-26T15:44:59.391Z"
   },
   {
    "duration": 9,
    "start_time": "2022-04-26T15:48:18.533Z"
   },
   {
    "duration": 15,
    "start_time": "2022-04-26T15:48:24.971Z"
   },
   {
    "duration": 31,
    "start_time": "2022-04-26T15:48:30.222Z"
   },
   {
    "duration": 15,
    "start_time": "2022-04-26T15:48:31.822Z"
   },
   {
    "duration": 7,
    "start_time": "2022-04-26T15:48:36.043Z"
   },
   {
    "duration": 7,
    "start_time": "2022-04-26T15:48:38.571Z"
   },
   {
    "duration": 799,
    "start_time": "2022-04-26T15:48:54.731Z"
   },
   {
    "duration": 25,
    "start_time": "2022-04-26T15:48:55.533Z"
   },
   {
    "duration": 24,
    "start_time": "2022-04-26T15:48:55.560Z"
   },
   {
    "duration": 6,
    "start_time": "2022-04-26T15:48:55.588Z"
   },
   {
    "duration": 7,
    "start_time": "2022-04-26T15:48:55.596Z"
   },
   {
    "duration": 132,
    "start_time": "2022-04-26T15:48:55.606Z"
   },
   {
    "duration": 10,
    "start_time": "2022-04-26T15:48:55.752Z"
   },
   {
    "duration": 33,
    "start_time": "2022-04-26T15:48:55.764Z"
   },
   {
    "duration": 20,
    "start_time": "2022-04-26T15:49:05.990Z"
   },
   {
    "duration": 32,
    "start_time": "2022-04-26T15:50:04.869Z"
   },
   {
    "duration": 0,
    "start_time": "2022-04-26T15:50:55.536Z"
   },
   {
    "duration": 2070,
    "start_time": "2022-04-26T15:51:03.772Z"
   },
   {
    "duration": 22,
    "start_time": "2022-04-26T15:51:20.802Z"
   },
   {
    "duration": 10,
    "start_time": "2022-04-26T15:52:05.318Z"
   },
   {
    "duration": 33,
    "start_time": "2022-04-26T15:52:13.574Z"
   },
   {
    "duration": 15,
    "start_time": "2022-04-26T15:52:31.665Z"
   },
   {
    "duration": 122,
    "start_time": "2022-04-26T15:53:08.832Z"
   },
   {
    "duration": 116,
    "start_time": "2022-04-26T15:53:14.719Z"
   },
   {
    "duration": 6,
    "start_time": "2022-04-26T15:53:22.345Z"
   },
   {
    "duration": 11,
    "start_time": "2022-04-26T15:53:31.599Z"
   },
   {
    "duration": 21,
    "start_time": "2022-04-26T15:55:51.040Z"
   },
   {
    "duration": 17,
    "start_time": "2022-04-26T15:56:11.759Z"
   },
   {
    "duration": 42,
    "start_time": "2022-04-26T15:56:34.548Z"
   },
   {
    "duration": 36,
    "start_time": "2022-04-26T15:56:59.496Z"
   },
   {
    "duration": 58,
    "start_time": "2022-04-26T15:57:02.237Z"
   },
   {
    "duration": 30,
    "start_time": "2022-04-26T15:57:42.228Z"
   },
   {
    "duration": 12,
    "start_time": "2022-04-26T15:59:13.021Z"
   },
   {
    "duration": 12,
    "start_time": "2022-04-26T15:59:17.137Z"
   },
   {
    "duration": 558,
    "start_time": "2022-04-26T15:59:26.582Z"
   },
   {
    "duration": 14,
    "start_time": "2022-04-26T15:59:27.143Z"
   },
   {
    "duration": 24,
    "start_time": "2022-04-26T15:59:27.160Z"
   },
   {
    "duration": 7,
    "start_time": "2022-04-26T15:59:27.187Z"
   },
   {
    "duration": 14,
    "start_time": "2022-04-26T15:59:27.196Z"
   },
   {
    "duration": 125,
    "start_time": "2022-04-26T15:59:27.212Z"
   },
   {
    "duration": 15,
    "start_time": "2022-04-26T15:59:27.351Z"
   },
   {
    "duration": 12,
    "start_time": "2022-04-26T15:59:27.368Z"
   },
   {
    "duration": 71,
    "start_time": "2022-04-26T15:59:27.381Z"
   },
   {
    "duration": 13,
    "start_time": "2022-04-26T16:00:44.106Z"
   },
   {
    "duration": 11,
    "start_time": "2022-04-26T16:00:52.603Z"
   },
   {
    "duration": 7,
    "start_time": "2022-04-26T16:01:27.953Z"
   },
   {
    "duration": 34,
    "start_time": "2022-04-26T16:02:39.666Z"
   },
   {
    "duration": 99,
    "start_time": "2022-04-26T16:07:37.039Z"
   },
   {
    "duration": 10,
    "start_time": "2022-04-26T16:07:44.926Z"
   },
   {
    "duration": 13,
    "start_time": "2022-04-26T16:08:08.419Z"
   },
   {
    "duration": 21,
    "start_time": "2022-04-26T16:08:20.459Z"
   },
   {
    "duration": 61,
    "start_time": "2022-04-26T16:08:28.858Z"
   },
   {
    "duration": 31,
    "start_time": "2022-04-26T16:08:38.559Z"
   },
   {
    "duration": 590,
    "start_time": "2022-04-26T16:10:42.657Z"
   },
   {
    "duration": 15,
    "start_time": "2022-04-26T16:10:43.250Z"
   },
   {
    "duration": 30,
    "start_time": "2022-04-26T16:10:43.268Z"
   },
   {
    "duration": 7,
    "start_time": "2022-04-26T16:10:43.301Z"
   },
   {
    "duration": 6,
    "start_time": "2022-04-26T16:10:43.310Z"
   },
   {
    "duration": 118,
    "start_time": "2022-04-26T16:10:43.319Z"
   },
   {
    "duration": 24,
    "start_time": "2022-04-26T16:10:43.439Z"
   },
   {
    "duration": 7,
    "start_time": "2022-04-26T16:10:43.465Z"
   },
   {
    "duration": 36,
    "start_time": "2022-04-26T16:10:43.474Z"
   },
   {
    "duration": 87,
    "start_time": "2022-04-26T16:10:43.513Z"
   },
   {
    "duration": 96,
    "start_time": "2022-04-26T16:11:20.531Z"
   },
   {
    "duration": 36,
    "start_time": "2022-04-26T16:11:28.555Z"
   },
   {
    "duration": 16,
    "start_time": "2022-04-26T16:11:38.877Z"
   },
   {
    "duration": 20,
    "start_time": "2022-04-26T16:11:52.382Z"
   },
   {
    "duration": 16,
    "start_time": "2022-04-26T16:14:50.068Z"
   },
   {
    "duration": 21,
    "start_time": "2022-04-26T16:15:12.492Z"
   },
   {
    "duration": 7,
    "start_time": "2022-04-26T16:15:25.496Z"
   },
   {
    "duration": 14,
    "start_time": "2022-04-26T16:15:45.985Z"
   },
   {
    "duration": 22,
    "start_time": "2022-04-26T16:15:51.575Z"
   },
   {
    "duration": 6,
    "start_time": "2022-04-26T16:16:03.646Z"
   },
   {
    "duration": 15,
    "start_time": "2022-04-26T16:16:06.721Z"
   },
   {
    "duration": 23,
    "start_time": "2022-04-26T16:16:13.608Z"
   },
   {
    "duration": 7,
    "start_time": "2022-04-26T16:16:44.160Z"
   },
   {
    "duration": 12,
    "start_time": "2022-04-26T16:17:58.082Z"
   },
   {
    "duration": 6,
    "start_time": "2022-04-26T16:18:02.487Z"
   },
   {
    "duration": 14,
    "start_time": "2022-04-26T16:18:22.802Z"
   },
   {
    "duration": 37,
    "start_time": "2022-04-26T16:20:17.642Z"
   },
   {
    "duration": 11,
    "start_time": "2022-04-26T16:20:24.228Z"
   },
   {
    "duration": 32,
    "start_time": "2022-04-26T16:20:30.028Z"
   },
   {
    "duration": 10,
    "start_time": "2022-04-26T16:20:45.728Z"
   },
   {
    "duration": 36,
    "start_time": "2022-04-26T16:21:28.704Z"
   },
   {
    "duration": 10,
    "start_time": "2022-04-26T16:21:33.454Z"
   },
   {
    "duration": 49,
    "start_time": "2022-04-26T16:22:42.500Z"
   },
   {
    "duration": 10,
    "start_time": "2022-04-26T16:22:49.077Z"
   },
   {
    "duration": 60,
    "start_time": "2022-04-26T16:24:51.956Z"
   },
   {
    "duration": 10,
    "start_time": "2022-04-26T16:24:53.205Z"
   },
   {
    "duration": 75,
    "start_time": "2022-04-26T16:25:16.239Z"
   },
   {
    "duration": 68,
    "start_time": "2022-04-26T16:26:14.667Z"
   },
   {
    "duration": 11,
    "start_time": "2022-04-26T16:26:16.291Z"
   },
   {
    "duration": 10,
    "start_time": "2022-04-26T16:27:50.242Z"
   },
   {
    "duration": 125,
    "start_time": "2022-04-26T16:27:52.381Z"
   },
   {
    "duration": 10,
    "start_time": "2022-04-26T16:27:53.909Z"
   },
   {
    "duration": 11,
    "start_time": "2022-04-26T16:27:57.870Z"
   },
   {
    "duration": 841,
    "start_time": "2022-04-26T16:28:10.420Z"
   },
   {
    "duration": 15,
    "start_time": "2022-04-26T16:28:11.263Z"
   },
   {
    "duration": 24,
    "start_time": "2022-04-26T16:28:11.280Z"
   },
   {
    "duration": 7,
    "start_time": "2022-04-26T16:28:11.306Z"
   },
   {
    "duration": 36,
    "start_time": "2022-04-26T16:28:11.316Z"
   },
   {
    "duration": 105,
    "start_time": "2022-04-26T16:28:11.355Z"
   },
   {
    "duration": 19,
    "start_time": "2022-04-26T16:28:11.462Z"
   },
   {
    "duration": 8,
    "start_time": "2022-04-26T16:28:11.483Z"
   },
   {
    "duration": 62,
    "start_time": "2022-04-26T16:28:11.493Z"
   },
   {
    "duration": 11,
    "start_time": "2022-04-26T16:28:11.558Z"
   },
   {
    "duration": 13,
    "start_time": "2022-04-26T16:28:11.572Z"
   },
   {
    "duration": 94,
    "start_time": "2022-04-26T16:29:08.220Z"
   },
   {
    "duration": 12,
    "start_time": "2022-04-26T16:29:27.843Z"
   },
   {
    "duration": 10,
    "start_time": "2022-04-26T16:30:09.625Z"
   },
   {
    "duration": 1884,
    "start_time": "2022-04-26T16:34:04.022Z"
   },
   {
    "duration": 2080,
    "start_time": "2022-04-26T16:34:06.252Z"
   },
   {
    "duration": 10,
    "start_time": "2022-04-26T16:34:08.345Z"
   },
   {
    "duration": 1844,
    "start_time": "2022-04-26T16:35:13.513Z"
   },
   {
    "duration": 1853,
    "start_time": "2022-04-26T16:35:32.824Z"
   },
   {
    "duration": 2293,
    "start_time": "2022-04-26T16:35:45.029Z"
   },
   {
    "duration": 2360,
    "start_time": "2022-04-26T16:36:15.375Z"
   },
   {
    "duration": 557,
    "start_time": "2022-04-26T16:36:28.089Z"
   },
   {
    "duration": 14,
    "start_time": "2022-04-26T16:36:28.649Z"
   },
   {
    "duration": 28,
    "start_time": "2022-04-26T16:36:28.665Z"
   },
   {
    "duration": 6,
    "start_time": "2022-04-26T16:36:28.696Z"
   },
   {
    "duration": 8,
    "start_time": "2022-04-26T16:36:28.704Z"
   },
   {
    "duration": 121,
    "start_time": "2022-04-26T16:36:28.714Z"
   },
   {
    "duration": 23,
    "start_time": "2022-04-26T16:36:28.837Z"
   },
   {
    "duration": 10,
    "start_time": "2022-04-26T16:36:28.864Z"
   },
   {
    "duration": 85,
    "start_time": "2022-04-26T16:36:28.876Z"
   },
   {
    "duration": 15,
    "start_time": "2022-04-26T16:36:28.966Z"
   },
   {
    "duration": 1961,
    "start_time": "2022-04-26T16:36:28.984Z"
   },
   {
    "duration": 0,
    "start_time": "2022-04-26T16:36:30.947Z"
   },
   {
    "duration": 2210,
    "start_time": "2022-04-26T16:38:02.371Z"
   },
   {
    "duration": 1789,
    "start_time": "2022-04-26T16:38:31.491Z"
   },
   {
    "duration": 5,
    "start_time": "2022-04-26T16:39:02.873Z"
   },
   {
    "duration": 10,
    "start_time": "2022-04-26T16:39:11.697Z"
   },
   {
    "duration": 33,
    "start_time": "2022-04-26T16:39:34.072Z"
   },
   {
    "duration": 29,
    "start_time": "2022-04-26T16:41:53.369Z"
   },
   {
    "duration": 13,
    "start_time": "2022-04-26T16:41:59.976Z"
   },
   {
    "duration": 614,
    "start_time": "2022-04-26T16:42:06.617Z"
   },
   {
    "duration": 19,
    "start_time": "2022-04-26T16:42:07.234Z"
   },
   {
    "duration": 28,
    "start_time": "2022-04-26T16:42:07.255Z"
   },
   {
    "duration": 6,
    "start_time": "2022-04-26T16:42:07.285Z"
   },
   {
    "duration": 8,
    "start_time": "2022-04-26T16:42:07.294Z"
   },
   {
    "duration": 113,
    "start_time": "2022-04-26T16:42:07.304Z"
   },
   {
    "duration": 16,
    "start_time": "2022-04-26T16:42:07.419Z"
   },
   {
    "duration": 21,
    "start_time": "2022-04-26T16:42:07.437Z"
   },
   {
    "duration": 33,
    "start_time": "2022-04-26T16:42:07.460Z"
   },
   {
    "duration": 10,
    "start_time": "2022-04-26T16:42:07.495Z"
   },
   {
    "duration": 68,
    "start_time": "2022-04-26T16:42:07.507Z"
   },
   {
    "duration": 10,
    "start_time": "2022-04-26T16:42:07.577Z"
   },
   {
    "duration": 0,
    "start_time": "2022-04-26T16:45:06.292Z"
   },
   {
    "duration": 594,
    "start_time": "2022-04-26T16:45:14.823Z"
   },
   {
    "duration": 15,
    "start_time": "2022-04-26T16:45:15.420Z"
   },
   {
    "duration": 28,
    "start_time": "2022-04-26T16:45:15.437Z"
   },
   {
    "duration": 7,
    "start_time": "2022-04-26T16:45:15.468Z"
   },
   {
    "duration": 6,
    "start_time": "2022-04-26T16:45:15.477Z"
   },
   {
    "duration": 129,
    "start_time": "2022-04-26T16:45:15.485Z"
   },
   {
    "duration": 16,
    "start_time": "2022-04-26T16:45:15.617Z"
   },
   {
    "duration": 22,
    "start_time": "2022-04-26T16:45:15.635Z"
   },
   {
    "duration": 37,
    "start_time": "2022-04-26T16:45:15.659Z"
   },
   {
    "duration": 2146,
    "start_time": "2022-04-26T16:45:15.699Z"
   },
   {
    "duration": 2052,
    "start_time": "2022-04-26T16:45:18.340Z"
   },
   {
    "duration": 34,
    "start_time": "2022-04-26T16:45:35.786Z"
   },
   {
    "duration": 8,
    "start_time": "2022-04-26T16:45:49.619Z"
   },
   {
    "duration": 9,
    "start_time": "2022-04-26T16:46:06.780Z"
   },
   {
    "duration": 29,
    "start_time": "2022-04-26T16:46:39.697Z"
   },
   {
    "duration": 1380,
    "start_time": "2022-04-26T16:56:21.528Z"
   },
   {
    "duration": 118,
    "start_time": "2022-04-26T16:56:38.169Z"
   },
   {
    "duration": 4,
    "start_time": "2022-04-26T16:56:42.879Z"
   },
   {
    "duration": 8,
    "start_time": "2022-04-26T16:56:52.349Z"
   },
   {
    "duration": 8,
    "start_time": "2022-04-26T16:57:03.853Z"
   },
   {
    "duration": 32,
    "start_time": "2022-04-26T16:57:48.498Z"
   },
   {
    "duration": 6,
    "start_time": "2022-04-26T17:25:44.793Z"
   },
   {
    "duration": 14,
    "start_time": "2022-04-26T17:25:51.219Z"
   },
   {
    "duration": 7,
    "start_time": "2022-04-26T17:26:49.323Z"
   },
   {
    "duration": 15,
    "start_time": "2022-04-26T17:28:28.551Z"
   },
   {
    "duration": 16,
    "start_time": "2022-04-26T17:28:44.205Z"
   },
   {
    "duration": 15,
    "start_time": "2022-04-26T17:29:13.432Z"
   },
   {
    "duration": 22,
    "start_time": "2022-04-26T17:29:16.640Z"
   },
   {
    "duration": 21,
    "start_time": "2022-04-26T17:29:19.744Z"
   },
   {
    "duration": 20,
    "start_time": "2022-04-26T17:29:30.885Z"
   },
   {
    "duration": 24,
    "start_time": "2022-04-26T17:29:48.004Z"
   },
   {
    "duration": 573,
    "start_time": "2022-04-26T17:30:07.960Z"
   },
   {
    "duration": 19,
    "start_time": "2022-04-26T17:30:08.536Z"
   },
   {
    "duration": 25,
    "start_time": "2022-04-26T17:30:08.557Z"
   },
   {
    "duration": 6,
    "start_time": "2022-04-26T17:30:08.585Z"
   },
   {
    "duration": 11,
    "start_time": "2022-04-26T17:30:08.593Z"
   },
   {
    "duration": 117,
    "start_time": "2022-04-26T17:30:08.606Z"
   },
   {
    "duration": 28,
    "start_time": "2022-04-26T17:30:08.726Z"
   },
   {
    "duration": 8,
    "start_time": "2022-04-26T17:30:08.756Z"
   },
   {
    "duration": 37,
    "start_time": "2022-04-26T17:30:08.766Z"
   },
   {
    "duration": 53,
    "start_time": "2022-04-26T17:30:08.806Z"
   },
   {
    "duration": 34,
    "start_time": "2022-04-26T17:30:08.861Z"
   },
   {
    "duration": 34,
    "start_time": "2022-04-26T17:30:14.638Z"
   },
   {
    "duration": 14,
    "start_time": "2022-04-26T17:30:23.944Z"
   },
   {
    "duration": 107,
    "start_time": "2022-04-26T17:30:31.753Z"
   },
   {
    "duration": 14,
    "start_time": "2022-04-26T17:31:13.072Z"
   },
   {
    "duration": 604,
    "start_time": "2022-04-26T17:31:19.029Z"
   },
   {
    "duration": 19,
    "start_time": "2022-04-26T17:31:19.636Z"
   },
   {
    "duration": 28,
    "start_time": "2022-04-26T17:31:19.658Z"
   },
   {
    "duration": 7,
    "start_time": "2022-04-26T17:31:19.689Z"
   },
   {
    "duration": 21,
    "start_time": "2022-04-26T17:31:19.698Z"
   },
   {
    "duration": 105,
    "start_time": "2022-04-26T17:31:19.722Z"
   },
   {
    "duration": 28,
    "start_time": "2022-04-26T17:31:19.829Z"
   },
   {
    "duration": 8,
    "start_time": "2022-04-26T17:31:19.859Z"
   },
   {
    "duration": 46,
    "start_time": "2022-04-26T17:31:19.869Z"
   },
   {
    "duration": 44,
    "start_time": "2022-04-26T17:31:19.918Z"
   },
   {
    "duration": 7,
    "start_time": "2022-04-26T17:31:19.964Z"
   },
   {
    "duration": 36,
    "start_time": "2022-04-26T17:31:24.524Z"
   },
   {
    "duration": 99,
    "start_time": "2022-04-26T17:32:30.033Z"
   },
   {
    "duration": 27,
    "start_time": "2022-04-26T17:32:47.521Z"
   },
   {
    "duration": 29,
    "start_time": "2022-04-26T17:33:14.781Z"
   },
   {
    "duration": 37,
    "start_time": "2022-04-26T17:33:22.951Z"
   },
   {
    "duration": 30,
    "start_time": "2022-04-26T17:33:28.670Z"
   },
   {
    "duration": 12,
    "start_time": "2022-04-26T17:33:38.401Z"
   },
   {
    "duration": 17,
    "start_time": "2022-04-26T17:33:41.721Z"
   },
   {
    "duration": 20,
    "start_time": "2022-04-26T17:35:09.108Z"
   },
   {
    "duration": 28,
    "start_time": "2022-04-26T17:35:21.872Z"
   },
   {
    "duration": 15,
    "start_time": "2022-04-26T17:35:35.587Z"
   },
   {
    "duration": 596,
    "start_time": "2022-04-26T17:35:41.935Z"
   },
   {
    "duration": 19,
    "start_time": "2022-04-26T17:35:42.535Z"
   },
   {
    "duration": 24,
    "start_time": "2022-04-26T17:35:42.556Z"
   },
   {
    "duration": 6,
    "start_time": "2022-04-26T17:35:42.583Z"
   },
   {
    "duration": 5,
    "start_time": "2022-04-26T17:35:42.591Z"
   },
   {
    "duration": 128,
    "start_time": "2022-04-26T17:35:42.598Z"
   },
   {
    "duration": 28,
    "start_time": "2022-04-26T17:35:42.728Z"
   },
   {
    "duration": 9,
    "start_time": "2022-04-26T17:35:42.758Z"
   },
   {
    "duration": 34,
    "start_time": "2022-04-26T17:35:42.769Z"
   },
   {
    "duration": 54,
    "start_time": "2022-04-26T17:35:42.807Z"
   },
   {
    "duration": 37,
    "start_time": "2022-04-26T17:35:42.863Z"
   },
   {
    "duration": 33,
    "start_time": "2022-04-26T17:35:49.999Z"
   },
   {
    "duration": 38,
    "start_time": "2022-04-26T17:35:55.410Z"
   },
   {
    "duration": 34,
    "start_time": "2022-04-26T17:36:27.813Z"
   },
   {
    "duration": 30,
    "start_time": "2022-04-26T17:36:36.937Z"
   },
   {
    "duration": 135,
    "start_time": "2022-04-26T17:42:05.610Z"
   },
   {
    "duration": 35,
    "start_time": "2022-04-26T17:42:17.238Z"
   },
   {
    "duration": 36,
    "start_time": "2022-04-26T17:42:25.984Z"
   },
   {
    "duration": 7,
    "start_time": "2022-04-26T17:44:58.604Z"
   },
   {
    "duration": 537,
    "start_time": "2022-04-26T17:52:40.742Z"
   },
   {
    "duration": 15,
    "start_time": "2022-04-26T17:52:51.928Z"
   },
   {
    "duration": 56,
    "start_time": "2022-04-26T17:52:55.489Z"
   },
   {
    "duration": 2241,
    "start_time": "2022-04-26T17:53:27.057Z"
   },
   {
    "duration": 12,
    "start_time": "2022-04-26T17:53:30.797Z"
   },
   {
    "duration": 14,
    "start_time": "2022-04-26T17:54:14.116Z"
   },
   {
    "duration": 13,
    "start_time": "2022-04-26T17:54:17.254Z"
   },
   {
    "duration": 679,
    "start_time": "2022-04-26T17:54:27.360Z"
   },
   {
    "duration": 16,
    "start_time": "2022-04-26T17:54:28.041Z"
   },
   {
    "duration": 42,
    "start_time": "2022-04-26T17:54:28.059Z"
   },
   {
    "duration": 6,
    "start_time": "2022-04-26T17:54:28.104Z"
   },
   {
    "duration": 20,
    "start_time": "2022-04-26T17:54:28.112Z"
   },
   {
    "duration": 108,
    "start_time": "2022-04-26T17:54:28.135Z"
   },
   {
    "duration": 16,
    "start_time": "2022-04-26T17:54:28.252Z"
   },
   {
    "duration": 8,
    "start_time": "2022-04-26T17:54:28.270Z"
   },
   {
    "duration": 37,
    "start_time": "2022-04-26T17:54:28.280Z"
   },
   {
    "duration": 27,
    "start_time": "2022-04-26T17:54:28.353Z"
   },
   {
    "duration": 7,
    "start_time": "2022-04-26T17:54:28.383Z"
   },
   {
    "duration": 19,
    "start_time": "2022-04-26T17:54:28.392Z"
   },
   {
    "duration": 4,
    "start_time": "2022-04-26T18:01:10.375Z"
   },
   {
    "duration": 553,
    "start_time": "2022-04-26T18:01:51.936Z"
   },
   {
    "duration": 477,
    "start_time": "2022-04-26T18:02:21.250Z"
   },
   {
    "duration": 483,
    "start_time": "2022-04-26T18:03:04.724Z"
   },
   {
    "duration": 541,
    "start_time": "2022-04-26T18:04:39.654Z"
   },
   {
    "duration": 595,
    "start_time": "2022-04-26T18:05:45.552Z"
   },
   {
    "duration": 15,
    "start_time": "2022-04-26T18:05:46.150Z"
   },
   {
    "duration": 22,
    "start_time": "2022-04-26T18:05:46.167Z"
   },
   {
    "duration": 7,
    "start_time": "2022-04-26T18:05:46.192Z"
   },
   {
    "duration": 7,
    "start_time": "2022-04-26T18:05:46.201Z"
   },
   {
    "duration": 126,
    "start_time": "2022-04-26T18:05:46.210Z"
   },
   {
    "duration": 25,
    "start_time": "2022-04-26T18:05:46.338Z"
   },
   {
    "duration": 10,
    "start_time": "2022-04-26T18:05:46.366Z"
   },
   {
    "duration": 41,
    "start_time": "2022-04-26T18:05:46.378Z"
   },
   {
    "duration": 28,
    "start_time": "2022-04-26T18:05:46.453Z"
   },
   {
    "duration": 6,
    "start_time": "2022-04-26T18:05:46.484Z"
   },
   {
    "duration": 24,
    "start_time": "2022-04-26T18:05:46.493Z"
   },
   {
    "duration": 759,
    "start_time": "2022-04-26T18:05:46.520Z"
   },
   {
    "duration": 24,
    "start_time": "2022-04-26T18:05:58.307Z"
   },
   {
    "duration": 10,
    "start_time": "2022-04-26T18:06:50.110Z"
   },
   {
    "duration": 9,
    "start_time": "2022-04-26T18:06:58.413Z"
   },
   {
    "duration": 6,
    "start_time": "2022-04-26T18:07:55.037Z"
   },
   {
    "duration": 20,
    "start_time": "2022-04-26T18:08:26.130Z"
   },
   {
    "duration": 554,
    "start_time": "2022-04-26T18:08:31.275Z"
   },
   {
    "duration": 21,
    "start_time": "2022-04-26T18:08:55.101Z"
   },
   {
    "duration": 628,
    "start_time": "2022-04-26T18:09:17.333Z"
   },
   {
    "duration": 16,
    "start_time": "2022-04-26T18:09:17.964Z"
   },
   {
    "duration": 26,
    "start_time": "2022-04-26T18:09:17.982Z"
   },
   {
    "duration": 7,
    "start_time": "2022-04-26T18:09:18.011Z"
   },
   {
    "duration": 34,
    "start_time": "2022-04-26T18:09:18.021Z"
   },
   {
    "duration": 164,
    "start_time": "2022-04-26T18:09:18.057Z"
   },
   {
    "duration": 33,
    "start_time": "2022-04-26T18:09:18.226Z"
   },
   {
    "duration": 10,
    "start_time": "2022-04-26T18:09:18.261Z"
   },
   {
    "duration": 82,
    "start_time": "2022-04-26T18:09:18.274Z"
   },
   {
    "duration": 45,
    "start_time": "2022-04-26T18:09:18.361Z"
   },
   {
    "duration": 9,
    "start_time": "2022-04-26T18:09:18.409Z"
   },
   {
    "duration": 48,
    "start_time": "2022-04-26T18:09:18.420Z"
   },
   {
    "duration": 27,
    "start_time": "2022-04-26T18:09:18.470Z"
   },
   {
    "duration": 8,
    "start_time": "2022-04-26T18:10:36.207Z"
   },
   {
    "duration": 7,
    "start_time": "2022-04-26T18:11:45.816Z"
   },
   {
    "duration": 11,
    "start_time": "2022-04-26T18:11:59.790Z"
   },
   {
    "duration": 96,
    "start_time": "2022-04-26T18:12:10.898Z"
   },
   {
    "duration": 20,
    "start_time": "2022-04-26T18:12:44.515Z"
   },
   {
    "duration": 21,
    "start_time": "2022-04-26T18:12:50.239Z"
   },
   {
    "duration": 10,
    "start_time": "2022-04-26T18:13:36.750Z"
   },
   {
    "duration": 11,
    "start_time": "2022-04-26T18:14:02.067Z"
   },
   {
    "duration": 825,
    "start_time": "2022-04-26T18:14:07.730Z"
   },
   {
    "duration": 15,
    "start_time": "2022-04-26T18:14:08.558Z"
   },
   {
    "duration": 24,
    "start_time": "2022-04-26T18:14:08.575Z"
   },
   {
    "duration": 7,
    "start_time": "2022-04-26T18:14:08.602Z"
   },
   {
    "duration": 41,
    "start_time": "2022-04-26T18:14:08.611Z"
   },
   {
    "duration": 115,
    "start_time": "2022-04-26T18:14:08.654Z"
   },
   {
    "duration": 19,
    "start_time": "2022-04-26T18:14:08.771Z"
   },
   {
    "duration": 7,
    "start_time": "2022-04-26T18:14:08.793Z"
   },
   {
    "duration": 69,
    "start_time": "2022-04-26T18:14:08.803Z"
   },
   {
    "duration": 28,
    "start_time": "2022-04-26T18:14:08.875Z"
   },
   {
    "duration": 6,
    "start_time": "2022-04-26T18:14:08.905Z"
   },
   {
    "duration": 51,
    "start_time": "2022-04-26T18:14:08.913Z"
   },
   {
    "duration": 14,
    "start_time": "2022-04-26T18:14:08.967Z"
   },
   {
    "duration": 13,
    "start_time": "2022-04-26T18:14:14.553Z"
   },
   {
    "duration": 612,
    "start_time": "2022-04-26T18:18:12.115Z"
   },
   {
    "duration": 10,
    "start_time": "2022-04-26T18:19:00.252Z"
   },
   {
    "duration": 43,
    "start_time": "2022-04-26T18:19:09.462Z"
   },
   {
    "duration": 110,
    "start_time": "2022-04-26T18:20:24.959Z"
   },
   {
    "duration": 120,
    "start_time": "2022-04-26T18:20:32.484Z"
   },
   {
    "duration": 13,
    "start_time": "2022-04-26T18:20:36.107Z"
   },
   {
    "duration": 41,
    "start_time": "2022-04-26T18:20:47.935Z"
   },
   {
    "duration": 45,
    "start_time": "2022-04-26T18:21:01.326Z"
   },
   {
    "duration": 22,
    "start_time": "2022-04-26T18:21:38.629Z"
   },
   {
    "duration": 15,
    "start_time": "2022-04-26T18:21:49.738Z"
   },
   {
    "duration": 26,
    "start_time": "2022-04-26T18:22:11.942Z"
   },
   {
    "duration": 21,
    "start_time": "2022-04-26T18:22:15.799Z"
   },
   {
    "duration": 45,
    "start_time": "2022-04-26T18:22:37.048Z"
   },
   {
    "duration": 647,
    "start_time": "2022-04-26T18:23:01.643Z"
   },
   {
    "duration": 16,
    "start_time": "2022-04-26T18:23:02.293Z"
   },
   {
    "duration": 47,
    "start_time": "2022-04-26T18:23:02.312Z"
   },
   {
    "duration": 7,
    "start_time": "2022-04-26T18:23:02.362Z"
   },
   {
    "duration": 9,
    "start_time": "2022-04-26T18:23:02.372Z"
   },
   {
    "duration": 120,
    "start_time": "2022-04-26T18:23:02.383Z"
   },
   {
    "duration": 22,
    "start_time": "2022-04-26T18:23:02.505Z"
   },
   {
    "duration": 25,
    "start_time": "2022-04-26T18:23:02.530Z"
   },
   {
    "duration": 37,
    "start_time": "2022-04-26T18:23:02.557Z"
   },
   {
    "duration": 57,
    "start_time": "2022-04-26T18:23:02.597Z"
   },
   {
    "duration": 7,
    "start_time": "2022-04-26T18:23:02.657Z"
   },
   {
    "duration": 19,
    "start_time": "2022-04-26T18:23:02.666Z"
   },
   {
    "duration": 69,
    "start_time": "2022-04-26T18:23:02.687Z"
   },
   {
    "duration": 59,
    "start_time": "2022-04-26T18:23:26.385Z"
   },
   {
    "duration": 136,
    "start_time": "2022-04-26T18:27:30.401Z"
   },
   {
    "duration": 574,
    "start_time": "2022-04-26T18:27:49.339Z"
   },
   {
    "duration": 487,
    "start_time": "2022-04-26T18:28:02.401Z"
   },
   {
    "duration": 5,
    "start_time": "2022-04-26T18:28:19.419Z"
   },
   {
    "duration": 36,
    "start_time": "2022-04-26T18:28:26.640Z"
   },
   {
    "duration": 5,
    "start_time": "2022-04-26T18:28:49.654Z"
   },
   {
    "duration": 573,
    "start_time": "2022-04-26T18:28:59.894Z"
   },
   {
    "duration": 16,
    "start_time": "2022-04-26T18:29:00.470Z"
   },
   {
    "duration": 49,
    "start_time": "2022-04-26T18:29:00.489Z"
   },
   {
    "duration": 12,
    "start_time": "2022-04-26T18:29:00.541Z"
   },
   {
    "duration": 38,
    "start_time": "2022-04-26T18:29:00.556Z"
   },
   {
    "duration": 125,
    "start_time": "2022-04-26T18:29:00.596Z"
   },
   {
    "duration": 30,
    "start_time": "2022-04-26T18:29:00.723Z"
   },
   {
    "duration": 14,
    "start_time": "2022-04-26T18:29:00.755Z"
   },
   {
    "duration": 73,
    "start_time": "2022-04-26T18:29:00.771Z"
   },
   {
    "duration": 28,
    "start_time": "2022-04-26T18:29:00.847Z"
   },
   {
    "duration": 10,
    "start_time": "2022-04-26T18:29:00.877Z"
   },
   {
    "duration": 37,
    "start_time": "2022-04-26T18:29:00.889Z"
   },
   {
    "duration": 37,
    "start_time": "2022-04-26T18:29:00.929Z"
   },
   {
    "duration": 36,
    "start_time": "2022-04-26T18:29:04.999Z"
   },
   {
    "duration": 7,
    "start_time": "2022-04-26T18:29:21.966Z"
   },
   {
    "duration": 567,
    "start_time": "2022-04-26T18:30:12.551Z"
   },
   {
    "duration": 429,
    "start_time": "2022-04-26T18:33:57.701Z"
   },
   {
    "duration": 493,
    "start_time": "2022-04-26T18:34:07.579Z"
   },
   {
    "duration": 439,
    "start_time": "2022-04-26T18:34:17.680Z"
   },
   {
    "duration": 579,
    "start_time": "2022-04-26T18:36:33.435Z"
   },
   {
    "duration": 11,
    "start_time": "2022-04-26T18:38:44.080Z"
   },
   {
    "duration": 555,
    "start_time": "2022-04-26T18:39:03.392Z"
   },
   {
    "duration": 508,
    "start_time": "2022-04-26T18:39:21.309Z"
   },
   {
    "duration": 474,
    "start_time": "2022-04-26T18:40:24.184Z"
   },
   {
    "duration": 463,
    "start_time": "2022-04-26T18:40:46.542Z"
   },
   {
    "duration": 491,
    "start_time": "2022-04-26T18:41:31.055Z"
   },
   {
    "duration": 533,
    "start_time": "2022-04-26T18:47:16.407Z"
   },
   {
    "duration": 482,
    "start_time": "2022-04-26T18:47:22.788Z"
   },
   {
    "duration": 5,
    "start_time": "2022-04-26T18:48:33.915Z"
   },
   {
    "duration": 5,
    "start_time": "2022-04-26T18:48:53.270Z"
   },
   {
    "duration": 473,
    "start_time": "2022-04-26T18:49:01.293Z"
   },
   {
    "duration": 4,
    "start_time": "2022-04-26T19:09:31.038Z"
   },
   {
    "duration": 656,
    "start_time": "2022-04-26T19:09:35.526Z"
   },
   {
    "duration": 497,
    "start_time": "2022-04-26T19:09:54.153Z"
   },
   {
    "duration": 8,
    "start_time": "2022-04-26T19:10:23.756Z"
   },
   {
    "duration": 3,
    "start_time": "2022-04-26T19:10:32.343Z"
   },
   {
    "duration": 128,
    "start_time": "2022-04-26T19:10:52.904Z"
   },
   {
    "duration": 6,
    "start_time": "2022-04-26T19:11:21.667Z"
   },
   {
    "duration": 4,
    "start_time": "2022-04-26T19:11:24.270Z"
   },
   {
    "duration": 6,
    "start_time": "2022-04-26T19:11:36.477Z"
   },
   {
    "duration": 536,
    "start_time": "2022-04-26T19:13:43.155Z"
   },
   {
    "duration": 642,
    "start_time": "2022-04-26T19:14:43.134Z"
   },
   {
    "duration": 14,
    "start_time": "2022-04-26T19:14:43.779Z"
   },
   {
    "duration": 26,
    "start_time": "2022-04-26T19:14:43.796Z"
   },
   {
    "duration": 27,
    "start_time": "2022-04-26T19:14:43.825Z"
   },
   {
    "duration": 6,
    "start_time": "2022-04-26T19:14:43.854Z"
   },
   {
    "duration": 116,
    "start_time": "2022-04-26T19:14:43.870Z"
   },
   {
    "duration": 22,
    "start_time": "2022-04-26T19:14:43.989Z"
   },
   {
    "duration": 10,
    "start_time": "2022-04-26T19:14:44.014Z"
   },
   {
    "duration": 66,
    "start_time": "2022-04-26T19:14:44.026Z"
   },
   {
    "duration": 28,
    "start_time": "2022-04-26T19:14:44.096Z"
   },
   {
    "duration": 32,
    "start_time": "2022-04-26T19:14:44.126Z"
   },
   {
    "duration": 30,
    "start_time": "2022-04-26T19:14:44.161Z"
   },
   {
    "duration": 569,
    "start_time": "2022-04-26T19:14:44.194Z"
   },
   {
    "duration": 150,
    "start_time": "2022-04-26T19:17:09.297Z"
   },
   {
    "duration": 584,
    "start_time": "2022-04-26T19:17:15.816Z"
   },
   {
    "duration": 42,
    "start_time": "2022-04-26T19:18:41.724Z"
   },
   {
    "duration": 22,
    "start_time": "2022-04-26T19:19:10.940Z"
   },
   {
    "duration": 24,
    "start_time": "2022-04-26T19:19:18.861Z"
   },
   {
    "duration": 17,
    "start_time": "2022-04-26T19:19:28.069Z"
   },
   {
    "duration": 22,
    "start_time": "2022-04-26T19:19:33.233Z"
   },
   {
    "duration": 4,
    "start_time": "2022-04-26T19:19:48.234Z"
   },
   {
    "duration": 16,
    "start_time": "2022-04-26T19:22:55.149Z"
   },
   {
    "duration": 7,
    "start_time": "2022-04-26T19:23:09.247Z"
   },
   {
    "duration": 16,
    "start_time": "2022-04-26T19:23:18.471Z"
   },
   {
    "duration": 50,
    "start_time": "2022-04-26T19:23:24.862Z"
   },
   {
    "duration": 31,
    "start_time": "2022-04-26T19:24:57.693Z"
   },
   {
    "duration": 34,
    "start_time": "2022-04-26T19:25:01.878Z"
   },
   {
    "duration": 25,
    "start_time": "2022-04-26T19:25:32.965Z"
   },
   {
    "duration": 22,
    "start_time": "2022-04-26T19:25:51.789Z"
   },
   {
    "duration": 637,
    "start_time": "2022-04-26T19:26:17.326Z"
   },
   {
    "duration": 17,
    "start_time": "2022-04-26T19:26:17.966Z"
   },
   {
    "duration": 25,
    "start_time": "2022-04-26T19:26:17.985Z"
   },
   {
    "duration": 6,
    "start_time": "2022-04-26T19:26:18.012Z"
   },
   {
    "duration": 37,
    "start_time": "2022-04-26T19:26:18.021Z"
   },
   {
    "duration": 116,
    "start_time": "2022-04-26T19:26:18.065Z"
   },
   {
    "duration": 16,
    "start_time": "2022-04-26T19:26:18.183Z"
   },
   {
    "duration": 9,
    "start_time": "2022-04-26T19:26:18.202Z"
   },
   {
    "duration": 78,
    "start_time": "2022-04-26T19:26:18.213Z"
   },
   {
    "duration": 28,
    "start_time": "2022-04-26T19:26:18.293Z"
   },
   {
    "duration": 7,
    "start_time": "2022-04-26T19:26:18.323Z"
   },
   {
    "duration": 53,
    "start_time": "2022-04-26T19:26:18.332Z"
   },
   {
    "duration": 33,
    "start_time": "2022-04-26T19:26:18.389Z"
   },
   {
    "duration": 126,
    "start_time": "2022-04-26T19:26:45.719Z"
   },
   {
    "duration": 16,
    "start_time": "2022-04-26T19:26:53.624Z"
   },
   {
    "duration": 47,
    "start_time": "2022-04-26T19:27:01.960Z"
   },
   {
    "duration": 19,
    "start_time": "2022-04-26T19:27:32.401Z"
   },
   {
    "duration": 21,
    "start_time": "2022-04-26T19:28:11.984Z"
   },
   {
    "duration": 21,
    "start_time": "2022-04-26T19:28:20.760Z"
   },
   {
    "duration": 127,
    "start_time": "2022-04-26T19:28:58.975Z"
   },
   {
    "duration": 21,
    "start_time": "2022-04-26T19:29:01.563Z"
   },
   {
    "duration": 20,
    "start_time": "2022-04-26T19:29:15.223Z"
   },
   {
    "duration": 647,
    "start_time": "2022-04-26T19:29:28.910Z"
   },
   {
    "duration": 18,
    "start_time": "2022-04-26T19:29:29.561Z"
   },
   {
    "duration": 23,
    "start_time": "2022-04-26T19:29:29.582Z"
   },
   {
    "duration": 7,
    "start_time": "2022-04-26T19:29:29.608Z"
   },
   {
    "duration": 10,
    "start_time": "2022-04-26T19:29:29.651Z"
   },
   {
    "duration": 117,
    "start_time": "2022-04-26T19:29:29.664Z"
   },
   {
    "duration": 25,
    "start_time": "2022-04-26T19:29:29.784Z"
   },
   {
    "duration": 8,
    "start_time": "2022-04-26T19:29:29.811Z"
   },
   {
    "duration": 67,
    "start_time": "2022-04-26T19:29:29.821Z"
   },
   {
    "duration": 27,
    "start_time": "2022-04-26T19:29:29.890Z"
   },
   {
    "duration": 7,
    "start_time": "2022-04-26T19:29:29.921Z"
   },
   {
    "duration": 58,
    "start_time": "2022-04-26T19:29:29.932Z"
   },
   {
    "duration": 32,
    "start_time": "2022-04-26T19:29:29.993Z"
   },
   {
    "duration": 26,
    "start_time": "2022-04-26T19:29:33.861Z"
   },
   {
    "duration": 20,
    "start_time": "2022-04-26T19:29:43.921Z"
   },
   {
    "duration": 18,
    "start_time": "2022-04-26T19:29:48.869Z"
   },
   {
    "duration": 17,
    "start_time": "2022-04-26T19:29:54.333Z"
   },
   {
    "duration": 18,
    "start_time": "2022-04-26T19:31:33.112Z"
   },
   {
    "duration": 23,
    "start_time": "2022-04-26T19:31:36.250Z"
   },
   {
    "duration": 71,
    "start_time": "2022-04-26T19:31:42.730Z"
   },
   {
    "duration": 2114,
    "start_time": "2022-04-26T19:32:12.509Z"
   },
   {
    "duration": 25,
    "start_time": "2022-04-26T19:32:18.232Z"
   },
   {
    "duration": 607,
    "start_time": "2022-04-26T19:32:35.385Z"
   },
   {
    "duration": 14,
    "start_time": "2022-04-26T19:32:35.995Z"
   },
   {
    "duration": 49,
    "start_time": "2022-04-26T19:32:36.012Z"
   },
   {
    "duration": 7,
    "start_time": "2022-04-26T19:32:36.064Z"
   },
   {
    "duration": 12,
    "start_time": "2022-04-26T19:32:36.074Z"
   },
   {
    "duration": 118,
    "start_time": "2022-04-26T19:32:36.089Z"
   },
   {
    "duration": 16,
    "start_time": "2022-04-26T19:32:36.210Z"
   },
   {
    "duration": 25,
    "start_time": "2022-04-26T19:32:36.228Z"
   },
   {
    "duration": 45,
    "start_time": "2022-04-26T19:32:36.255Z"
   },
   {
    "duration": 27,
    "start_time": "2022-04-26T19:32:36.302Z"
   },
   {
    "duration": 8,
    "start_time": "2022-04-26T19:32:36.352Z"
   },
   {
    "duration": 24,
    "start_time": "2022-04-26T19:32:36.362Z"
   },
   {
    "duration": 620,
    "start_time": "2022-04-26T19:32:36.388Z"
   },
   {
    "duration": 484,
    "start_time": "2022-04-26T19:33:04.543Z"
   },
   {
    "duration": 487,
    "start_time": "2022-04-26T19:33:37.010Z"
   },
   {
    "duration": 565,
    "start_time": "2022-04-26T19:35:21.301Z"
   },
   {
    "duration": 13,
    "start_time": "2022-04-26T19:35:38.733Z"
   },
   {
    "duration": 50,
    "start_time": "2022-04-26T19:35:44.651Z"
   },
   {
    "duration": 569,
    "start_time": "2022-04-26T19:36:25.688Z"
   },
   {
    "duration": 17,
    "start_time": "2022-04-26T19:36:26.260Z"
   },
   {
    "duration": 24,
    "start_time": "2022-04-26T19:36:26.279Z"
   },
   {
    "duration": 6,
    "start_time": "2022-04-26T19:36:26.306Z"
   },
   {
    "duration": 8,
    "start_time": "2022-04-26T19:36:26.314Z"
   },
   {
    "duration": 130,
    "start_time": "2022-04-26T19:36:26.324Z"
   },
   {
    "duration": 17,
    "start_time": "2022-04-26T19:36:26.459Z"
   },
   {
    "duration": 10,
    "start_time": "2022-04-26T19:36:26.478Z"
   },
   {
    "duration": 98,
    "start_time": "2022-04-26T19:36:26.490Z"
   },
   {
    "duration": 41,
    "start_time": "2022-04-26T19:36:26.593Z"
   },
   {
    "duration": 16,
    "start_time": "2022-04-26T19:36:26.637Z"
   },
   {
    "duration": 22,
    "start_time": "2022-04-26T19:36:26.657Z"
   },
   {
    "duration": 8,
    "start_time": "2022-04-26T19:36:26.682Z"
   },
   {
    "duration": 101,
    "start_time": "2022-04-26T19:36:47.982Z"
   },
   {
    "duration": 2131,
    "start_time": "2022-04-26T19:36:53.296Z"
   },
   {
    "duration": 32,
    "start_time": "2022-04-26T19:37:02.455Z"
   },
   {
    "duration": 29,
    "start_time": "2022-04-26T19:37:06.062Z"
   },
   {
    "duration": 53,
    "start_time": "2022-04-26T19:37:08.392Z"
   },
   {
    "duration": 70,
    "start_time": "2022-04-26T19:37:29.429Z"
   },
   {
    "duration": 76,
    "start_time": "2022-04-26T19:37:47.657Z"
   },
   {
    "duration": 559,
    "start_time": "2022-04-26T19:41:37.844Z"
   },
   {
    "duration": 67,
    "start_time": "2022-04-26T19:42:39.681Z"
   },
   {
    "duration": 639,
    "start_time": "2022-04-26T19:42:46.926Z"
   },
   {
    "duration": 16,
    "start_time": "2022-04-26T19:42:47.568Z"
   },
   {
    "duration": 23,
    "start_time": "2022-04-26T19:42:47.586Z"
   },
   {
    "duration": 7,
    "start_time": "2022-04-26T19:42:47.612Z"
   },
   {
    "duration": 37,
    "start_time": "2022-04-26T19:42:47.621Z"
   },
   {
    "duration": 106,
    "start_time": "2022-04-26T19:42:47.660Z"
   },
   {
    "duration": 18,
    "start_time": "2022-04-26T19:42:47.769Z"
   },
   {
    "duration": 8,
    "start_time": "2022-04-26T19:42:47.789Z"
   },
   {
    "duration": 62,
    "start_time": "2022-04-26T19:42:47.799Z"
   },
   {
    "duration": 29,
    "start_time": "2022-04-26T19:42:47.865Z"
   },
   {
    "duration": 7,
    "start_time": "2022-04-26T19:42:47.896Z"
   },
   {
    "duration": 18,
    "start_time": "2022-04-26T19:42:47.905Z"
   },
   {
    "duration": 80,
    "start_time": "2022-04-26T19:42:47.925Z"
   },
   {
    "duration": 44,
    "start_time": "2022-04-26T19:43:06.265Z"
   },
   {
    "duration": 25,
    "start_time": "2022-04-26T19:43:40.135Z"
   },
   {
    "duration": 163,
    "start_time": "2022-04-26T19:43:56.167Z"
   },
   {
    "duration": 52,
    "start_time": "2022-04-26T19:44:20.472Z"
   },
   {
    "duration": 45,
    "start_time": "2022-04-26T19:44:25.241Z"
   },
   {
    "duration": 1143,
    "start_time": "2022-04-26T19:44:29.943Z"
   },
   {
    "duration": 36,
    "start_time": "2022-04-26T19:44:33.281Z"
   },
   {
    "duration": 23,
    "start_time": "2022-04-26T19:45:16.890Z"
   },
   {
    "duration": 26,
    "start_time": "2022-04-26T19:45:29.139Z"
   },
   {
    "duration": 22,
    "start_time": "2022-04-26T19:46:07.513Z"
   },
   {
    "duration": 21,
    "start_time": "2022-04-26T19:46:15.105Z"
   },
   {
    "duration": 35,
    "start_time": "2022-04-26T19:46:25.835Z"
   },
   {
    "duration": 16,
    "start_time": "2022-04-26T19:46:35.715Z"
   },
   {
    "duration": 20,
    "start_time": "2022-04-26T19:46:43.620Z"
   },
   {
    "duration": 26,
    "start_time": "2022-04-26T19:47:08.749Z"
   },
   {
    "duration": 23,
    "start_time": "2022-04-26T19:47:16.838Z"
   },
   {
    "duration": 30,
    "start_time": "2022-04-26T19:47:19.347Z"
   },
   {
    "duration": 23,
    "start_time": "2022-04-26T19:47:55.882Z"
   },
   {
    "duration": 21,
    "start_time": "2022-04-26T19:48:07.326Z"
   },
   {
    "duration": 27,
    "start_time": "2022-04-26T19:48:12.391Z"
   },
   {
    "duration": 20,
    "start_time": "2022-04-26T19:48:15.073Z"
   },
   {
    "duration": 28,
    "start_time": "2022-04-26T19:48:26.656Z"
   },
   {
    "duration": 22,
    "start_time": "2022-04-26T19:48:42.086Z"
   },
   {
    "duration": 24,
    "start_time": "2022-04-26T19:48:55.469Z"
   },
   {
    "duration": 37,
    "start_time": "2022-04-26T19:49:21.381Z"
   },
   {
    "duration": 32,
    "start_time": "2022-04-26T19:49:32.097Z"
   },
   {
    "duration": 16,
    "start_time": "2022-04-26T19:50:03.613Z"
   },
   {
    "duration": 46,
    "start_time": "2022-04-26T19:51:53.346Z"
   },
   {
    "duration": 15,
    "start_time": "2022-04-26T19:54:01.377Z"
   },
   {
    "duration": 34,
    "start_time": "2022-04-26T19:56:11.079Z"
   },
   {
    "duration": 49,
    "start_time": "2022-04-26T20:00:13.018Z"
   },
   {
    "duration": 38,
    "start_time": "2022-04-26T20:00:39.653Z"
   },
   {
    "duration": 2040,
    "start_time": "2022-04-26T20:00:50.767Z"
   },
   {
    "duration": 32,
    "start_time": "2022-04-26T20:00:54.545Z"
   },
   {
    "duration": 25,
    "start_time": "2022-04-26T20:01:00.280Z"
   },
   {
    "duration": 32,
    "start_time": "2022-04-26T20:02:01.171Z"
   },
   {
    "duration": 7,
    "start_time": "2022-04-26T20:03:01.983Z"
   },
   {
    "duration": 37,
    "start_time": "2022-04-26T20:03:07.832Z"
   },
   {
    "duration": 138,
    "start_time": "2022-04-26T20:03:26.232Z"
   },
   {
    "duration": 115,
    "start_time": "2022-04-26T20:03:30.348Z"
   },
   {
    "duration": 136,
    "start_time": "2022-04-26T20:03:34.347Z"
   },
   {
    "duration": 118,
    "start_time": "2022-04-26T20:03:37.135Z"
   },
   {
    "duration": 26,
    "start_time": "2022-04-26T20:04:00.362Z"
   },
   {
    "duration": 115,
    "start_time": "2022-04-26T20:05:37.513Z"
   },
   {
    "duration": 28,
    "start_time": "2022-04-26T20:06:09.953Z"
   },
   {
    "duration": 38,
    "start_time": "2022-04-26T20:06:19.217Z"
   },
   {
    "duration": 29,
    "start_time": "2022-04-26T20:06:23.844Z"
   },
   {
    "duration": 45,
    "start_time": "2022-04-26T20:06:45.081Z"
   },
   {
    "duration": 32,
    "start_time": "2022-04-26T20:06:48.386Z"
   },
   {
    "duration": 28,
    "start_time": "2022-04-26T20:06:52.406Z"
   },
   {
    "duration": 25,
    "start_time": "2022-04-26T20:06:58.170Z"
   },
   {
    "duration": 25,
    "start_time": "2022-04-26T20:07:01.669Z"
   },
   {
    "duration": 32,
    "start_time": "2022-04-26T20:07:37.551Z"
   },
   {
    "duration": 26,
    "start_time": "2022-04-26T20:08:08.386Z"
   },
   {
    "duration": 38,
    "start_time": "2022-04-26T20:08:16.773Z"
   },
   {
    "duration": 37,
    "start_time": "2022-04-26T20:08:19.841Z"
   },
   {
    "duration": 26,
    "start_time": "2022-04-26T20:08:22.207Z"
   },
   {
    "duration": 35,
    "start_time": "2022-04-26T20:08:44.845Z"
   },
   {
    "duration": 33,
    "start_time": "2022-04-26T20:08:52.751Z"
   },
   {
    "duration": 49,
    "start_time": "2022-04-26T20:08:59.432Z"
   },
   {
    "duration": 168,
    "start_time": "2022-04-26T20:15:06.478Z"
   },
   {
    "duration": 7,
    "start_time": "2022-04-26T20:15:34.973Z"
   },
   {
    "duration": 6,
    "start_time": "2022-04-26T20:15:46.250Z"
   },
   {
    "duration": 6,
    "start_time": "2022-04-26T20:16:08.038Z"
   },
   {
    "duration": 611,
    "start_time": "2022-04-26T20:16:14.784Z"
   },
   {
    "duration": 7,
    "start_time": "2022-04-26T20:16:15.398Z"
   },
   {
    "duration": 35,
    "start_time": "2022-04-26T20:16:15.407Z"
   },
   {
    "duration": 6,
    "start_time": "2022-04-26T20:16:15.455Z"
   },
   {
    "duration": 10,
    "start_time": "2022-04-26T20:16:15.464Z"
   },
   {
    "duration": 131,
    "start_time": "2022-04-26T20:16:15.476Z"
   },
   {
    "duration": 23,
    "start_time": "2022-04-26T20:16:15.610Z"
   },
   {
    "duration": 32,
    "start_time": "2022-04-26T20:16:15.636Z"
   },
   {
    "duration": 50,
    "start_time": "2022-04-26T20:16:15.670Z"
   },
   {
    "duration": 36,
    "start_time": "2022-04-26T20:16:15.723Z"
   },
   {
    "duration": 8,
    "start_time": "2022-04-26T20:16:15.763Z"
   },
   {
    "duration": 27,
    "start_time": "2022-04-26T20:16:15.774Z"
   },
   {
    "duration": 15,
    "start_time": "2022-04-26T20:16:15.803Z"
   },
   {
    "duration": 51,
    "start_time": "2022-04-26T20:16:15.820Z"
   },
   {
    "duration": 30,
    "start_time": "2022-04-26T20:16:15.874Z"
   },
   {
    "duration": 10,
    "start_time": "2022-04-26T20:16:29.704Z"
   },
   {
    "duration": 10,
    "start_time": "2022-04-26T20:16:34.686Z"
   },
   {
    "duration": 5,
    "start_time": "2022-04-26T20:16:38.487Z"
   },
   {
    "duration": 11,
    "start_time": "2022-04-26T20:16:41.521Z"
   },
   {
    "duration": 617,
    "start_time": "2022-04-26T20:16:49.554Z"
   },
   {
    "duration": 16,
    "start_time": "2022-04-26T20:16:50.174Z"
   },
   {
    "duration": 25,
    "start_time": "2022-04-26T20:16:50.193Z"
   },
   {
    "duration": 38,
    "start_time": "2022-04-26T20:16:50.221Z"
   },
   {
    "duration": 8,
    "start_time": "2022-04-26T20:16:50.262Z"
   },
   {
    "duration": 120,
    "start_time": "2022-04-26T20:16:50.272Z"
   },
   {
    "duration": 17,
    "start_time": "2022-04-26T20:16:50.395Z"
   },
   {
    "duration": 9,
    "start_time": "2022-04-26T20:16:50.414Z"
   },
   {
    "duration": 79,
    "start_time": "2022-04-26T20:16:50.426Z"
   },
   {
    "duration": 29,
    "start_time": "2022-04-26T20:16:50.510Z"
   },
   {
    "duration": 9,
    "start_time": "2022-04-26T20:16:50.551Z"
   },
   {
    "duration": 31,
    "start_time": "2022-04-26T20:16:50.564Z"
   },
   {
    "duration": 16,
    "start_time": "2022-04-26T20:16:50.597Z"
   },
   {
    "duration": 44,
    "start_time": "2022-04-26T20:16:50.615Z"
   },
   {
    "duration": 31,
    "start_time": "2022-04-26T20:16:50.662Z"
   },
   {
    "duration": 112,
    "start_time": "2022-04-26T20:19:43.978Z"
   },
   {
    "duration": 87,
    "start_time": "2022-04-26T20:19:58.456Z"
   },
   {
    "duration": 36,
    "start_time": "2022-04-26T20:23:45.355Z"
   },
   {
    "duration": 26,
    "start_time": "2022-04-26T20:23:52.027Z"
   },
   {
    "duration": 25,
    "start_time": "2022-04-26T20:33:10.171Z"
   },
   {
    "duration": 22,
    "start_time": "2022-04-26T20:36:37.802Z"
   },
   {
    "duration": 35,
    "start_time": "2022-04-26T20:36:42.538Z"
   },
   {
    "duration": 35,
    "start_time": "2022-04-26T20:39:31.486Z"
   },
   {
    "duration": 33,
    "start_time": "2022-04-26T20:39:38.369Z"
   },
   {
    "duration": 35,
    "start_time": "2022-04-26T20:39:41.745Z"
   },
   {
    "duration": 43,
    "start_time": "2022-04-26T20:39:50.499Z"
   },
   {
    "duration": 20,
    "start_time": "2022-04-26T20:40:52.715Z"
   },
   {
    "duration": 36,
    "start_time": "2022-04-26T20:42:57.599Z"
   },
   {
    "duration": 56,
    "start_time": "2022-04-26T20:44:56.695Z"
   },
   {
    "duration": 36,
    "start_time": "2022-04-26T20:45:44.210Z"
   },
   {
    "duration": 2047,
    "start_time": "2022-04-26T20:46:15.637Z"
   },
   {
    "duration": 26,
    "start_time": "2022-04-26T20:46:47.062Z"
   },
   {
    "duration": 40,
    "start_time": "2022-04-26T20:47:00.544Z"
   },
   {
    "duration": 39,
    "start_time": "2022-04-26T20:47:51.406Z"
   },
   {
    "duration": 44,
    "start_time": "2022-04-26T20:48:05.276Z"
   },
   {
    "duration": 38,
    "start_time": "2022-04-26T20:48:13.506Z"
   },
   {
    "duration": 126,
    "start_time": "2022-04-26T20:48:27.590Z"
   },
   {
    "duration": 39,
    "start_time": "2022-04-26T20:48:30.395Z"
   },
   {
    "duration": 37,
    "start_time": "2022-04-26T20:48:39.935Z"
   },
   {
    "duration": 71,
    "start_time": "2022-04-26T20:48:50.937Z"
   },
   {
    "duration": 37,
    "start_time": "2022-04-26T20:48:55.419Z"
   },
   {
    "duration": 36,
    "start_time": "2022-04-26T20:49:07.564Z"
   },
   {
    "duration": 17,
    "start_time": "2022-04-26T20:53:16.422Z"
   },
   {
    "duration": 1808,
    "start_time": "2022-04-26T20:53:42.814Z"
   },
   {
    "duration": 1778,
    "start_time": "2022-04-26T20:53:54.224Z"
   },
   {
    "duration": 25,
    "start_time": "2022-04-26T20:53:57.422Z"
   },
   {
    "duration": 27,
    "start_time": "2022-04-26T21:00:37.350Z"
   },
   {
    "duration": 23,
    "start_time": "2022-04-26T21:01:24.888Z"
   },
   {
    "duration": 23,
    "start_time": "2022-04-26T21:01:34.094Z"
   },
   {
    "duration": 29,
    "start_time": "2022-04-26T21:01:39.344Z"
   },
   {
    "duration": 24,
    "start_time": "2022-04-26T21:01:43.739Z"
   },
   {
    "duration": 17,
    "start_time": "2022-04-26T21:02:00.565Z"
   },
   {
    "duration": 567,
    "start_time": "2022-04-26T21:02:06.005Z"
   },
   {
    "duration": 15,
    "start_time": "2022-04-26T21:02:06.575Z"
   },
   {
    "duration": 23,
    "start_time": "2022-04-26T21:02:06.592Z"
   },
   {
    "duration": 6,
    "start_time": "2022-04-26T21:02:06.618Z"
   },
   {
    "duration": 6,
    "start_time": "2022-04-26T21:02:06.659Z"
   },
   {
    "duration": 113,
    "start_time": "2022-04-26T21:02:06.668Z"
   },
   {
    "duration": 15,
    "start_time": "2022-04-26T21:02:06.783Z"
   },
   {
    "duration": 10,
    "start_time": "2022-04-26T21:02:06.800Z"
   },
   {
    "duration": 47,
    "start_time": "2022-04-26T21:02:06.812Z"
   },
   {
    "duration": 31,
    "start_time": "2022-04-26T21:02:06.862Z"
   },
   {
    "duration": 7,
    "start_time": "2022-04-26T21:02:06.895Z"
   },
   {
    "duration": 18,
    "start_time": "2022-04-26T21:02:06.904Z"
   },
   {
    "duration": 53,
    "start_time": "2022-04-26T21:02:06.924Z"
   },
   {
    "duration": 27,
    "start_time": "2022-04-26T21:02:06.980Z"
   },
   {
    "duration": 63,
    "start_time": "2022-04-26T21:02:07.009Z"
   },
   {
    "duration": 2051,
    "start_time": "2022-04-26T21:02:07.074Z"
   },
   {
    "duration": 24,
    "start_time": "2022-04-26T21:03:44.188Z"
   },
   {
    "duration": 21,
    "start_time": "2022-04-26T21:04:32.604Z"
   },
   {
    "duration": 574,
    "start_time": "2022-04-26T21:04:39.681Z"
   },
   {
    "duration": 17,
    "start_time": "2022-04-26T21:04:40.257Z"
   },
   {
    "duration": 23,
    "start_time": "2022-04-26T21:04:40.276Z"
   },
   {
    "duration": 6,
    "start_time": "2022-04-26T21:04:40.304Z"
   },
   {
    "duration": 11,
    "start_time": "2022-04-26T21:04:40.313Z"
   },
   {
    "duration": 103,
    "start_time": "2022-04-26T21:04:40.351Z"
   },
   {
    "duration": 17,
    "start_time": "2022-04-26T21:04:40.457Z"
   },
   {
    "duration": 7,
    "start_time": "2022-04-26T21:04:40.476Z"
   },
   {
    "duration": 19,
    "start_time": "2022-04-26T21:04:40.485Z"
   },
   {
    "duration": 72,
    "start_time": "2022-04-26T21:04:40.507Z"
   },
   {
    "duration": 6,
    "start_time": "2022-04-26T21:04:40.581Z"
   },
   {
    "duration": 17,
    "start_time": "2022-04-26T21:04:40.590Z"
   },
   {
    "duration": 617,
    "start_time": "2022-04-26T21:04:40.609Z"
   },
   {
    "duration": 0,
    "start_time": "2022-04-26T21:04:41.228Z"
   },
   {
    "duration": 0,
    "start_time": "2022-04-26T21:04:41.230Z"
   },
   {
    "duration": 0,
    "start_time": "2022-04-26T21:04:41.231Z"
   },
   {
    "duration": 22,
    "start_time": "2022-04-26T21:04:52.675Z"
   },
   {
    "duration": 589,
    "start_time": "2022-04-26T21:07:08.167Z"
   },
   {
    "duration": 18,
    "start_time": "2022-04-26T21:07:08.760Z"
   },
   {
    "duration": 26,
    "start_time": "2022-04-26T21:07:08.780Z"
   },
   {
    "duration": 6,
    "start_time": "2022-04-26T21:07:08.808Z"
   },
   {
    "duration": 41,
    "start_time": "2022-04-26T21:07:08.818Z"
   },
   {
    "duration": 99,
    "start_time": "2022-04-26T21:07:08.861Z"
   },
   {
    "duration": 16,
    "start_time": "2022-04-26T21:07:08.962Z"
   },
   {
    "duration": 8,
    "start_time": "2022-04-26T21:07:08.980Z"
   },
   {
    "duration": 20,
    "start_time": "2022-04-26T21:07:08.990Z"
   },
   {
    "duration": 61,
    "start_time": "2022-04-26T21:07:09.012Z"
   },
   {
    "duration": 6,
    "start_time": "2022-04-26T21:07:09.076Z"
   },
   {
    "duration": 19,
    "start_time": "2022-04-26T21:07:09.084Z"
   },
   {
    "duration": 62,
    "start_time": "2022-04-26T21:07:09.106Z"
   },
   {
    "duration": 27,
    "start_time": "2022-04-26T21:07:09.172Z"
   },
   {
    "duration": 61,
    "start_time": "2022-04-26T21:07:09.202Z"
   },
   {
    "duration": 26,
    "start_time": "2022-04-26T21:07:09.266Z"
   },
   {
    "duration": 23,
    "start_time": "2022-04-26T21:08:05.341Z"
   },
   {
    "duration": 17,
    "start_time": "2022-04-26T21:08:19.318Z"
   },
   {
    "duration": 23,
    "start_time": "2022-04-26T21:20:20.674Z"
   },
   {
    "duration": 572,
    "start_time": "2022-04-27T12:25:03.946Z"
   },
   {
    "duration": 76,
    "start_time": "2022-04-27T12:25:16.100Z"
   },
   {
    "duration": 23,
    "start_time": "2022-04-27T12:25:37.882Z"
   },
   {
    "duration": 355,
    "start_time": "2022-04-27T12:26:14.644Z"
   },
   {
    "duration": 396,
    "start_time": "2022-04-27T12:26:23.712Z"
   },
   {
    "duration": 22,
    "start_time": "2022-04-27T12:26:32.229Z"
   },
   {
    "duration": 5,
    "start_time": "2022-04-27T12:26:45.184Z"
   },
   {
    "duration": 6,
    "start_time": "2022-04-27T12:26:50.293Z"
   },
   {
    "duration": 103,
    "start_time": "2022-04-27T12:26:52.660Z"
   },
   {
    "duration": 586,
    "start_time": "2022-04-27T12:27:04.836Z"
   },
   {
    "duration": 12,
    "start_time": "2022-04-27T12:27:05.426Z"
   },
   {
    "duration": 25,
    "start_time": "2022-04-27T12:27:05.440Z"
   },
   {
    "duration": 4,
    "start_time": "2022-04-27T12:27:05.468Z"
   },
   {
    "duration": 22,
    "start_time": "2022-04-27T12:27:05.493Z"
   },
   {
    "duration": 146,
    "start_time": "2022-04-27T12:27:05.517Z"
   },
   {
    "duration": 90,
    "start_time": "2022-04-27T12:27:05.666Z"
   },
   {
    "duration": 9,
    "start_time": "2022-04-27T12:27:05.758Z"
   },
   {
    "duration": 30,
    "start_time": "2022-04-27T12:27:05.769Z"
   },
   {
    "duration": 31,
    "start_time": "2022-04-27T12:27:05.803Z"
   },
   {
    "duration": 6,
    "start_time": "2022-04-27T12:27:05.836Z"
   },
   {
    "duration": 28,
    "start_time": "2022-04-27T12:27:05.844Z"
   },
   {
    "duration": 30,
    "start_time": "2022-04-27T12:27:05.875Z"
   },
   {
    "duration": 32,
    "start_time": "2022-04-27T12:27:05.907Z"
   },
   {
    "duration": 61,
    "start_time": "2022-04-27T12:27:05.941Z"
   },
   {
    "duration": 19,
    "start_time": "2022-04-27T12:27:06.004Z"
   },
   {
    "duration": 571,
    "start_time": "2022-04-27T12:27:33.415Z"
   },
   {
    "duration": 13,
    "start_time": "2022-04-27T12:27:33.988Z"
   },
   {
    "duration": 24,
    "start_time": "2022-04-27T12:27:34.003Z"
   },
   {
    "duration": 5,
    "start_time": "2022-04-27T12:27:34.029Z"
   },
   {
    "duration": 7,
    "start_time": "2022-04-27T12:27:34.036Z"
   },
   {
    "duration": 150,
    "start_time": "2022-04-27T12:27:34.046Z"
   },
   {
    "duration": 17,
    "start_time": "2022-04-27T12:27:34.198Z"
   },
   {
    "duration": 20,
    "start_time": "2022-04-27T12:27:34.218Z"
   },
   {
    "duration": 18,
    "start_time": "2022-04-27T12:27:34.241Z"
   },
   {
    "duration": 44,
    "start_time": "2022-04-27T12:27:34.262Z"
   },
   {
    "duration": 7,
    "start_time": "2022-04-27T12:27:34.308Z"
   },
   {
    "duration": 15,
    "start_time": "2022-04-27T12:27:34.317Z"
   },
   {
    "duration": 19,
    "start_time": "2022-04-27T12:27:34.334Z"
   },
   {
    "duration": 59,
    "start_time": "2022-04-27T12:27:34.355Z"
   },
   {
    "duration": 41,
    "start_time": "2022-04-27T12:27:34.417Z"
   },
   {
    "duration": 38,
    "start_time": "2022-04-27T12:27:34.461Z"
   },
   {
    "duration": 10,
    "start_time": "2022-04-27T12:28:24.571Z"
   },
   {
    "duration": 19,
    "start_time": "2022-04-27T12:28:32.151Z"
   },
   {
    "duration": 13,
    "start_time": "2022-04-27T12:29:09.381Z"
   },
   {
    "duration": 7,
    "start_time": "2022-04-27T12:29:14.435Z"
   },
   {
    "duration": 8,
    "start_time": "2022-04-27T12:29:18.182Z"
   },
   {
    "duration": 522,
    "start_time": "2022-04-27T12:29:24.876Z"
   },
   {
    "duration": 12,
    "start_time": "2022-04-27T12:29:25.400Z"
   },
   {
    "duration": 19,
    "start_time": "2022-04-27T12:29:25.414Z"
   },
   {
    "duration": 4,
    "start_time": "2022-04-27T12:29:25.436Z"
   },
   {
    "duration": 7,
    "start_time": "2022-04-27T12:29:25.441Z"
   },
   {
    "duration": 102,
    "start_time": "2022-04-27T12:29:25.450Z"
   },
   {
    "duration": 8,
    "start_time": "2022-04-27T12:29:25.554Z"
   },
   {
    "duration": 14,
    "start_time": "2022-04-27T12:29:25.564Z"
   },
   {
    "duration": 15,
    "start_time": "2022-04-27T12:29:25.592Z"
   },
   {
    "duration": 30,
    "start_time": "2022-04-27T12:29:25.610Z"
   },
   {
    "duration": 7,
    "start_time": "2022-04-27T12:29:25.643Z"
   },
   {
    "duration": 41,
    "start_time": "2022-04-27T12:29:25.652Z"
   },
   {
    "duration": 23,
    "start_time": "2022-04-27T12:29:25.695Z"
   },
   {
    "duration": 29,
    "start_time": "2022-04-27T12:29:25.720Z"
   },
   {
    "duration": 48,
    "start_time": "2022-04-27T12:29:25.750Z"
   },
   {
    "duration": 21,
    "start_time": "2022-04-27T12:29:25.800Z"
   },
   {
    "duration": 14,
    "start_time": "2022-04-27T12:30:08.970Z"
   },
   {
    "duration": 8,
    "start_time": "2022-04-27T12:30:13.425Z"
   },
   {
    "duration": 7,
    "start_time": "2022-04-27T12:30:16.859Z"
   },
   {
    "duration": 518,
    "start_time": "2022-04-27T12:30:37.357Z"
   },
   {
    "duration": 13,
    "start_time": "2022-04-27T12:30:37.878Z"
   },
   {
    "duration": 19,
    "start_time": "2022-04-27T12:30:37.893Z"
   },
   {
    "duration": 4,
    "start_time": "2022-04-27T12:30:37.915Z"
   },
   {
    "duration": 10,
    "start_time": "2022-04-27T12:30:37.921Z"
   },
   {
    "duration": 92,
    "start_time": "2022-04-27T12:30:37.932Z"
   },
   {
    "duration": 6,
    "start_time": "2022-04-27T12:30:38.026Z"
   },
   {
    "duration": 10,
    "start_time": "2022-04-27T12:30:38.034Z"
   },
   {
    "duration": 12,
    "start_time": "2022-04-27T12:30:38.046Z"
   },
   {
    "duration": 47,
    "start_time": "2022-04-27T12:30:38.060Z"
   },
   {
    "duration": 18,
    "start_time": "2022-04-27T12:30:38.109Z"
   },
   {
    "duration": 22,
    "start_time": "2022-04-27T12:30:38.129Z"
   },
   {
    "duration": 19,
    "start_time": "2022-04-27T12:30:38.153Z"
   },
   {
    "duration": 32,
    "start_time": "2022-04-27T12:30:38.173Z"
   },
   {
    "duration": 31,
    "start_time": "2022-04-27T12:30:38.207Z"
   },
   {
    "duration": 19,
    "start_time": "2022-04-27T12:30:38.239Z"
   },
   {
    "duration": 15,
    "start_time": "2022-04-27T12:30:57.370Z"
   },
   {
    "duration": 16,
    "start_time": "2022-04-27T12:31:07.650Z"
   },
   {
    "duration": 30,
    "start_time": "2022-04-27T12:31:20.307Z"
   },
   {
    "duration": 15,
    "start_time": "2022-04-27T12:31:31.704Z"
   },
   {
    "duration": 13,
    "start_time": "2022-04-27T12:32:42.179Z"
   },
   {
    "duration": 478,
    "start_time": "2022-04-27T12:32:49.115Z"
   },
   {
    "duration": 18,
    "start_time": "2022-04-27T12:32:49.595Z"
   },
   {
    "duration": 33,
    "start_time": "2022-04-27T12:32:49.615Z"
   },
   {
    "duration": 4,
    "start_time": "2022-04-27T12:32:49.651Z"
   },
   {
    "duration": 8,
    "start_time": "2022-04-27T12:32:49.657Z"
   },
   {
    "duration": 103,
    "start_time": "2022-04-27T12:32:49.667Z"
   },
   {
    "duration": 28,
    "start_time": "2022-04-27T12:32:49.772Z"
   },
   {
    "duration": 9,
    "start_time": "2022-04-27T12:32:49.802Z"
   },
   {
    "duration": 15,
    "start_time": "2022-04-27T12:32:49.813Z"
   },
   {
    "duration": 20,
    "start_time": "2022-04-27T12:32:49.831Z"
   },
   {
    "duration": 5,
    "start_time": "2022-04-27T12:32:49.853Z"
   },
   {
    "duration": 47,
    "start_time": "2022-04-27T12:32:49.860Z"
   },
   {
    "duration": 32,
    "start_time": "2022-04-27T12:32:49.909Z"
   },
   {
    "duration": 32,
    "start_time": "2022-04-27T12:32:49.943Z"
   },
   {
    "duration": 59,
    "start_time": "2022-04-27T12:32:49.977Z"
   },
   {
    "duration": 28,
    "start_time": "2022-04-27T12:32:50.039Z"
   },
   {
    "duration": 9,
    "start_time": "2022-04-27T12:32:59.618Z"
   },
   {
    "duration": 8,
    "start_time": "2022-04-27T12:33:05.418Z"
   },
   {
    "duration": 8,
    "start_time": "2022-04-27T12:33:20.480Z"
   },
   {
    "duration": 16,
    "start_time": "2022-04-27T12:34:36.225Z"
   },
   {
    "duration": 21,
    "start_time": "2022-04-27T12:34:41.498Z"
   },
   {
    "duration": 14,
    "start_time": "2022-04-27T12:34:46.367Z"
   },
   {
    "duration": 615,
    "start_time": "2022-04-27T12:35:39.509Z"
   },
   {
    "duration": 12,
    "start_time": "2022-04-27T12:35:40.127Z"
   },
   {
    "duration": 24,
    "start_time": "2022-04-27T12:35:40.141Z"
   },
   {
    "duration": 4,
    "start_time": "2022-04-27T12:35:40.169Z"
   },
   {
    "duration": 5,
    "start_time": "2022-04-27T12:35:40.195Z"
   },
   {
    "duration": 85,
    "start_time": "2022-04-27T12:35:40.202Z"
   },
   {
    "duration": 10,
    "start_time": "2022-04-27T12:35:40.292Z"
   },
   {
    "duration": 19,
    "start_time": "2022-04-27T12:35:40.304Z"
   },
   {
    "duration": 34,
    "start_time": "2022-04-27T12:35:40.325Z"
   },
   {
    "duration": 49,
    "start_time": "2022-04-27T12:35:40.363Z"
   },
   {
    "duration": 6,
    "start_time": "2022-04-27T12:35:40.414Z"
   },
   {
    "duration": 14,
    "start_time": "2022-04-27T12:35:40.423Z"
   },
   {
    "duration": 19,
    "start_time": "2022-04-27T12:35:40.439Z"
   },
   {
    "duration": 53,
    "start_time": "2022-04-27T12:35:40.460Z"
   },
   {
    "duration": 30,
    "start_time": "2022-04-27T12:35:40.519Z"
   },
   {
    "duration": 2136,
    "start_time": "2022-04-27T12:35:40.550Z"
   },
   {
    "duration": 16,
    "start_time": "2022-04-27T12:36:40.659Z"
   },
   {
    "duration": 7,
    "start_time": "2022-04-27T12:36:43.888Z"
   },
   {
    "duration": 498,
    "start_time": "2022-04-27T12:36:49.961Z"
   },
   {
    "duration": 10,
    "start_time": "2022-04-27T12:36:50.462Z"
   },
   {
    "duration": 33,
    "start_time": "2022-04-27T12:36:50.474Z"
   },
   {
    "duration": 4,
    "start_time": "2022-04-27T12:36:50.509Z"
   },
   {
    "duration": 15,
    "start_time": "2022-04-27T12:36:50.516Z"
   },
   {
    "duration": 91,
    "start_time": "2022-04-27T12:36:50.532Z"
   },
   {
    "duration": 7,
    "start_time": "2022-04-27T12:36:50.624Z"
   },
   {
    "duration": 10,
    "start_time": "2022-04-27T12:36:50.633Z"
   },
   {
    "duration": 24,
    "start_time": "2022-04-27T12:36:50.645Z"
   },
   {
    "duration": 46,
    "start_time": "2022-04-27T12:36:50.671Z"
   },
   {
    "duration": 7,
    "start_time": "2022-04-27T12:36:50.720Z"
   },
   {
    "duration": 16,
    "start_time": "2022-04-27T12:36:50.729Z"
   },
   {
    "duration": 19,
    "start_time": "2022-04-27T12:36:50.746Z"
   },
   {
    "duration": 26,
    "start_time": "2022-04-27T12:36:50.797Z"
   },
   {
    "duration": 28,
    "start_time": "2022-04-27T12:36:50.825Z"
   },
   {
    "duration": 2230,
    "start_time": "2022-04-27T12:36:50.855Z"
   },
   {
    "duration": 13,
    "start_time": "2022-04-27T12:37:07.110Z"
   },
   {
    "duration": 15,
    "start_time": "2022-04-27T12:37:12.625Z"
   },
   {
    "duration": 12,
    "start_time": "2022-04-27T12:37:20.062Z"
   },
   {
    "duration": 528,
    "start_time": "2022-04-27T12:37:26.406Z"
   },
   {
    "duration": 12,
    "start_time": "2022-04-27T12:37:26.936Z"
   },
   {
    "duration": 45,
    "start_time": "2022-04-27T12:37:26.950Z"
   },
   {
    "duration": 5,
    "start_time": "2022-04-27T12:37:26.999Z"
   },
   {
    "duration": 19,
    "start_time": "2022-04-27T12:37:27.010Z"
   },
   {
    "duration": 125,
    "start_time": "2022-04-27T12:37:27.032Z"
   },
   {
    "duration": 17,
    "start_time": "2022-04-27T12:37:27.160Z"
   },
   {
    "duration": 12,
    "start_time": "2022-04-27T12:37:27.194Z"
   },
   {
    "duration": 53,
    "start_time": "2022-04-27T12:37:27.210Z"
   },
   {
    "duration": 33,
    "start_time": "2022-04-27T12:37:27.265Z"
   },
   {
    "duration": 11,
    "start_time": "2022-04-27T12:37:27.302Z"
   },
   {
    "duration": 22,
    "start_time": "2022-04-27T12:37:27.315Z"
   },
   {
    "duration": 544,
    "start_time": "2022-04-27T12:37:27.340Z"
   },
   {
    "duration": 0,
    "start_time": "2022-04-27T12:37:27.887Z"
   },
   {
    "duration": 0,
    "start_time": "2022-04-27T12:37:27.888Z"
   },
   {
    "duration": 0,
    "start_time": "2022-04-27T12:37:27.890Z"
   },
   {
    "duration": 14,
    "start_time": "2022-04-27T12:37:49.165Z"
   },
   {
    "duration": 7,
    "start_time": "2022-04-27T12:38:36.059Z"
   },
   {
    "duration": 471,
    "start_time": "2022-04-27T12:38:48.644Z"
   },
   {
    "duration": 11,
    "start_time": "2022-04-27T12:38:49.117Z"
   },
   {
    "duration": 24,
    "start_time": "2022-04-27T12:38:49.130Z"
   },
   {
    "duration": 4,
    "start_time": "2022-04-27T12:38:49.156Z"
   },
   {
    "duration": 33,
    "start_time": "2022-04-27T12:38:49.161Z"
   },
   {
    "duration": 111,
    "start_time": "2022-04-27T12:38:49.196Z"
   },
   {
    "duration": 13,
    "start_time": "2022-04-27T12:38:49.310Z"
   },
   {
    "duration": 66,
    "start_time": "2022-04-27T12:38:49.326Z"
   },
   {
    "duration": 40,
    "start_time": "2022-04-27T12:38:49.394Z"
   },
   {
    "duration": 22,
    "start_time": "2022-04-27T12:38:49.436Z"
   },
   {
    "duration": 5,
    "start_time": "2022-04-27T12:38:49.460Z"
   },
   {
    "duration": 13,
    "start_time": "2022-04-27T12:38:49.467Z"
   },
   {
    "duration": 32,
    "start_time": "2022-04-27T12:38:49.482Z"
   },
   {
    "duration": 27,
    "start_time": "2022-04-27T12:38:49.515Z"
   },
   {
    "duration": 31,
    "start_time": "2022-04-27T12:38:49.544Z"
   },
   {
    "duration": 1882,
    "start_time": "2022-04-27T12:38:49.576Z"
   },
   {
    "duration": 555,
    "start_time": "2022-04-27T12:42:23.875Z"
   },
   {
    "duration": 14,
    "start_time": "2022-04-27T12:42:24.432Z"
   },
   {
    "duration": 39,
    "start_time": "2022-04-27T12:42:24.448Z"
   },
   {
    "duration": 6,
    "start_time": "2022-04-27T12:42:24.490Z"
   },
   {
    "duration": 21,
    "start_time": "2022-04-27T12:42:24.497Z"
   },
   {
    "duration": 108,
    "start_time": "2022-04-27T12:42:24.520Z"
   },
   {
    "duration": 7,
    "start_time": "2022-04-27T12:42:24.630Z"
   },
   {
    "duration": 8,
    "start_time": "2022-04-27T12:42:24.638Z"
   },
   {
    "duration": 53,
    "start_time": "2022-04-27T12:42:24.648Z"
   },
   {
    "duration": 24,
    "start_time": "2022-04-27T12:42:24.707Z"
   },
   {
    "duration": 6,
    "start_time": "2022-04-27T12:42:24.733Z"
   },
   {
    "duration": 15,
    "start_time": "2022-04-27T12:42:24.741Z"
   },
   {
    "duration": 46,
    "start_time": "2022-04-27T12:42:24.757Z"
   },
   {
    "duration": 34,
    "start_time": "2022-04-27T12:42:24.806Z"
   },
   {
    "duration": 30,
    "start_time": "2022-04-27T12:42:24.843Z"
   },
   {
    "duration": 2203,
    "start_time": "2022-04-27T12:42:24.874Z"
   },
   {
    "duration": 22,
    "start_time": "2022-04-27T12:42:54.507Z"
   },
   {
    "duration": 15,
    "start_time": "2022-04-27T13:05:05.925Z"
   },
   {
    "duration": 20,
    "start_time": "2022-04-27T13:06:57.860Z"
   },
   {
    "duration": 23,
    "start_time": "2022-04-27T13:07:14.106Z"
   },
   {
    "duration": 20,
    "start_time": "2022-04-27T13:07:17.928Z"
   },
   {
    "duration": 22,
    "start_time": "2022-04-27T13:07:20.811Z"
   },
   {
    "duration": 35,
    "start_time": "2022-04-27T13:07:25.364Z"
   },
   {
    "duration": 32,
    "start_time": "2022-04-27T13:07:28.533Z"
   },
   {
    "duration": 30,
    "start_time": "2022-04-27T13:07:38.731Z"
   },
   {
    "duration": 21,
    "start_time": "2022-04-27T13:10:43.409Z"
   },
   {
    "duration": 25,
    "start_time": "2022-04-27T13:10:45.606Z"
   },
   {
    "duration": 28,
    "start_time": "2022-04-27T13:11:27.289Z"
   },
   {
    "duration": 26,
    "start_time": "2022-04-27T13:11:51.346Z"
   },
   {
    "duration": 35,
    "start_time": "2022-04-27T13:18:54.195Z"
   },
   {
    "duration": 18,
    "start_time": "2022-04-27T13:19:37.147Z"
   },
   {
    "duration": 19,
    "start_time": "2022-04-27T13:19:39.737Z"
   },
   {
    "duration": 28,
    "start_time": "2022-04-27T13:19:45.203Z"
   },
   {
    "duration": 19,
    "start_time": "2022-04-27T13:20:48.947Z"
   },
   {
    "duration": 24,
    "start_time": "2022-04-27T13:21:58.288Z"
   },
   {
    "duration": 33,
    "start_time": "2022-04-27T13:23:36.915Z"
   },
   {
    "duration": 20,
    "start_time": "2022-04-27T13:23:59.532Z"
   },
   {
    "duration": 22,
    "start_time": "2022-04-27T13:25:25.536Z"
   },
   {
    "duration": 27,
    "start_time": "2022-04-27T13:25:29.535Z"
   },
   {
    "duration": 30,
    "start_time": "2022-04-27T13:25:43.837Z"
   },
   {
    "duration": 20,
    "start_time": "2022-04-27T13:25:47.552Z"
   },
   {
    "duration": 1375,
    "start_time": "2022-04-27T13:28:57.778Z"
   },
   {
    "duration": 1356,
    "start_time": "2022-04-27T13:29:06.125Z"
   },
   {
    "duration": 10,
    "start_time": "2022-04-27T13:29:07.483Z"
   },
   {
    "duration": 50,
    "start_time": "2022-04-27T13:29:07.499Z"
   },
   {
    "duration": 5,
    "start_time": "2022-04-27T13:29:07.551Z"
   },
   {
    "duration": 7,
    "start_time": "2022-04-27T13:29:07.559Z"
   },
   {
    "duration": 95,
    "start_time": "2022-04-27T13:29:07.568Z"
   },
   {
    "duration": 7,
    "start_time": "2022-04-27T13:29:07.665Z"
   },
   {
    "duration": 23,
    "start_time": "2022-04-27T13:29:07.674Z"
   },
   {
    "duration": 37,
    "start_time": "2022-04-27T13:29:07.699Z"
   },
   {
    "duration": 26,
    "start_time": "2022-04-27T13:29:07.739Z"
   },
   {
    "duration": 6,
    "start_time": "2022-04-27T13:29:07.766Z"
   },
   {
    "duration": 45,
    "start_time": "2022-04-27T13:29:07.773Z"
   },
   {
    "duration": 17,
    "start_time": "2022-04-27T13:29:07.828Z"
   },
   {
    "duration": 25,
    "start_time": "2022-04-27T13:29:07.848Z"
   },
   {
    "duration": 55,
    "start_time": "2022-04-27T13:29:07.874Z"
   },
   {
    "duration": 143,
    "start_time": "2022-04-27T13:29:07.931Z"
   },
   {
    "duration": 0,
    "start_time": "2022-04-27T13:29:08.076Z"
   },
   {
    "duration": 43,
    "start_time": "2022-04-27T13:32:46.287Z"
   },
   {
    "duration": 23,
    "start_time": "2022-04-27T13:33:01.434Z"
   },
   {
    "duration": 25,
    "start_time": "2022-04-27T13:33:29.606Z"
   },
   {
    "duration": 20,
    "start_time": "2022-04-27T13:43:13.693Z"
   },
   {
    "duration": 25,
    "start_time": "2022-04-27T13:48:15.594Z"
   },
   {
    "duration": 25,
    "start_time": "2022-04-27T13:48:26.960Z"
   },
   {
    "duration": 24,
    "start_time": "2022-04-27T13:48:43.372Z"
   },
   {
    "duration": 24,
    "start_time": "2022-04-27T13:48:48.039Z"
   },
   {
    "duration": 24,
    "start_time": "2022-04-27T13:49:09.488Z"
   },
   {
    "duration": 23,
    "start_time": "2022-04-27T13:49:20.385Z"
   },
   {
    "duration": 24,
    "start_time": "2022-04-27T13:49:45.797Z"
   },
   {
    "duration": 25,
    "start_time": "2022-04-27T13:49:51.551Z"
   },
   {
    "duration": 111,
    "start_time": "2022-04-27T13:50:15.893Z"
   },
   {
    "duration": 26,
    "start_time": "2022-04-27T13:50:24.592Z"
   },
   {
    "duration": 20,
    "start_time": "2022-04-27T13:50:30.585Z"
   },
   {
    "duration": 146,
    "start_time": "2022-04-27T13:53:27.283Z"
   },
   {
    "duration": 117,
    "start_time": "2022-04-27T13:53:36.862Z"
   },
   {
    "duration": 126,
    "start_time": "2022-04-27T13:53:54.605Z"
   },
   {
    "duration": 118,
    "start_time": "2022-04-27T13:54:19.362Z"
   },
   {
    "duration": 33,
    "start_time": "2022-04-27T13:55:01.248Z"
   },
   {
    "duration": 31,
    "start_time": "2022-04-27T13:55:47.086Z"
   },
   {
    "duration": 21,
    "start_time": "2022-04-27T13:56:15.914Z"
   },
   {
    "duration": 140,
    "start_time": "2022-04-27T13:57:03.585Z"
   },
   {
    "duration": 128,
    "start_time": "2022-04-27T13:59:02.354Z"
   },
   {
    "duration": 141,
    "start_time": "2022-04-27T13:59:13.252Z"
   },
   {
    "duration": 164,
    "start_time": "2022-04-27T13:59:39.519Z"
   },
   {
    "duration": 169,
    "start_time": "2022-04-27T14:04:20.090Z"
   },
   {
    "duration": 2511,
    "start_time": "2022-04-27T14:04:47.964Z"
   },
   {
    "duration": 21,
    "start_time": "2022-04-27T14:05:07.633Z"
   },
   {
    "duration": 32,
    "start_time": "2022-04-27T14:05:36.741Z"
   },
   {
    "duration": 240,
    "start_time": "2022-04-27T14:05:41.421Z"
   },
   {
    "duration": 205,
    "start_time": "2022-04-27T14:07:28.907Z"
   },
   {
    "duration": 921,
    "start_time": "2022-04-27T14:09:26.929Z"
   },
   {
    "duration": 41,
    "start_time": "2022-04-27T14:09:39.190Z"
   },
   {
    "duration": 161,
    "start_time": "2022-04-27T14:10:02.870Z"
   },
   {
    "duration": 226,
    "start_time": "2022-04-27T14:11:00.528Z"
   },
   {
    "duration": 230,
    "start_time": "2022-04-27T14:11:08.562Z"
   },
   {
    "duration": 213,
    "start_time": "2022-04-27T14:11:33.011Z"
   },
   {
    "duration": 39,
    "start_time": "2022-04-27T14:11:40.680Z"
   },
   {
    "duration": 150,
    "start_time": "2022-04-27T14:12:26.895Z"
   },
   {
    "duration": 229,
    "start_time": "2022-04-27T14:13:00.766Z"
   },
   {
    "duration": 170,
    "start_time": "2022-04-27T14:13:17.372Z"
   },
   {
    "duration": 110,
    "start_time": "2022-04-27T14:14:14.426Z"
   },
   {
    "duration": 112,
    "start_time": "2022-04-27T14:14:36.989Z"
   },
   {
    "duration": 1220,
    "start_time": "2022-04-27T14:14:51.409Z"
   },
   {
    "duration": 890,
    "start_time": "2022-04-27T14:15:13.796Z"
   },
   {
    "duration": 1091,
    "start_time": "2022-04-27T14:15:32.619Z"
   },
   {
    "duration": 41,
    "start_time": "2022-04-27T14:15:38.569Z"
   },
   {
    "duration": 38,
    "start_time": "2022-04-27T14:15:41.759Z"
   },
   {
    "duration": 33,
    "start_time": "2022-04-27T14:15:56.651Z"
   },
   {
    "duration": 993,
    "start_time": "2022-04-27T14:16:05.713Z"
   },
   {
    "duration": 136,
    "start_time": "2022-04-27T14:16:44.617Z"
   },
   {
    "duration": 139,
    "start_time": "2022-04-27T14:17:19.047Z"
   },
   {
    "duration": 20,
    "start_time": "2022-04-27T14:17:55.740Z"
   },
   {
    "duration": 17,
    "start_time": "2022-04-27T14:18:16.714Z"
   },
   {
    "duration": 17,
    "start_time": "2022-04-27T14:18:32.450Z"
   },
   {
    "duration": 20,
    "start_time": "2022-04-27T14:18:36.301Z"
   },
   {
    "duration": 18,
    "start_time": "2022-04-27T14:18:51.313Z"
   },
   {
    "duration": 24,
    "start_time": "2022-04-27T14:18:55.337Z"
   },
   {
    "duration": 23,
    "start_time": "2022-04-27T14:19:08.945Z"
   },
   {
    "duration": 30,
    "start_time": "2022-04-27T14:19:13.165Z"
   },
   {
    "duration": 112,
    "start_time": "2022-04-27T14:19:17.034Z"
   },
   {
    "duration": 212,
    "start_time": "2022-04-27T14:20:35.321Z"
   },
   {
    "duration": 25,
    "start_time": "2022-04-27T14:22:54.034Z"
   },
   {
    "duration": 26,
    "start_time": "2022-04-27T14:22:59.380Z"
   },
   {
    "duration": 27,
    "start_time": "2022-04-27T14:23:05.842Z"
   },
   {
    "duration": 26,
    "start_time": "2022-04-27T14:23:09.898Z"
   },
   {
    "duration": 24,
    "start_time": "2022-04-27T14:23:16.985Z"
   },
   {
    "duration": 153,
    "start_time": "2022-04-27T14:23:22.585Z"
   },
   {
    "duration": 27,
    "start_time": "2022-04-27T14:23:34.778Z"
   },
   {
    "duration": 225,
    "start_time": "2022-04-27T14:24:23.388Z"
   },
   {
    "duration": 26,
    "start_time": "2022-04-27T14:24:33.427Z"
   },
   {
    "duration": 25,
    "start_time": "2022-04-27T14:24:38.195Z"
   },
   {
    "duration": 121,
    "start_time": "2022-04-27T14:24:44.730Z"
   },
   {
    "duration": 25,
    "start_time": "2022-04-27T14:25:36.419Z"
   },
   {
    "duration": 124,
    "start_time": "2022-04-27T14:28:45.727Z"
   },
   {
    "duration": 129,
    "start_time": "2022-04-27T14:29:30.782Z"
   },
   {
    "duration": 122,
    "start_time": "2022-04-27T14:30:35.523Z"
   },
   {
    "duration": 143,
    "start_time": "2022-04-27T14:30:56.259Z"
   },
   {
    "duration": 206,
    "start_time": "2022-04-27T14:31:19.616Z"
   },
   {
    "duration": 161,
    "start_time": "2022-04-27T14:32:00.740Z"
   },
   {
    "duration": 168,
    "start_time": "2022-04-27T14:32:15.796Z"
   },
   {
    "duration": 1633,
    "start_time": "2022-04-27T14:32:23.822Z"
   },
   {
    "duration": 12,
    "start_time": "2022-04-27T14:32:25.458Z"
   },
   {
    "duration": 32,
    "start_time": "2022-04-27T14:32:25.473Z"
   },
   {
    "duration": 4,
    "start_time": "2022-04-27T14:32:25.508Z"
   },
   {
    "duration": 9,
    "start_time": "2022-04-27T14:32:25.514Z"
   },
   {
    "duration": 155,
    "start_time": "2022-04-27T14:32:25.525Z"
   },
   {
    "duration": 15,
    "start_time": "2022-04-27T14:32:25.682Z"
   },
   {
    "duration": 12,
    "start_time": "2022-04-27T14:32:25.700Z"
   },
   {
    "duration": 31,
    "start_time": "2022-04-27T14:32:25.714Z"
   },
   {
    "duration": 23,
    "start_time": "2022-04-27T14:32:25.748Z"
   },
   {
    "duration": 7,
    "start_time": "2022-04-27T14:32:25.793Z"
   },
   {
    "duration": 19,
    "start_time": "2022-04-27T14:32:25.802Z"
   },
   {
    "duration": 19,
    "start_time": "2022-04-27T14:32:25.823Z"
   },
   {
    "duration": 53,
    "start_time": "2022-04-27T14:32:25.844Z"
   },
   {
    "duration": 162,
    "start_time": "2022-04-27T14:32:25.898Z"
   },
   {
    "duration": 164,
    "start_time": "2022-04-27T14:32:26.062Z"
   },
   {
    "duration": 182,
    "start_time": "2022-04-27T14:32:26.228Z"
   },
   {
    "duration": 160,
    "start_time": "2022-04-27T14:33:14.766Z"
   },
   {
    "duration": 32,
    "start_time": "2022-04-27T14:35:57.134Z"
   },
   {
    "duration": 25,
    "start_time": "2022-04-27T14:36:53.794Z"
   },
   {
    "duration": 108,
    "start_time": "2022-04-27T14:38:48.149Z"
   },
   {
    "duration": 125,
    "start_time": "2022-04-27T14:38:57.987Z"
   },
   {
    "duration": 18,
    "start_time": "2022-04-27T14:39:12.501Z"
   },
   {
    "duration": 26,
    "start_time": "2022-04-27T14:39:21.414Z"
   },
   {
    "duration": 20,
    "start_time": "2022-04-27T14:39:29.009Z"
   },
   {
    "duration": 18,
    "start_time": "2022-04-27T14:39:45.828Z"
   },
   {
    "duration": 34,
    "start_time": "2022-04-27T14:40:02.132Z"
   },
   {
    "duration": 31,
    "start_time": "2022-04-27T14:40:12.715Z"
   },
   {
    "duration": 23,
    "start_time": "2022-04-27T14:40:56.400Z"
   },
   {
    "duration": 25,
    "start_time": "2022-04-27T14:42:24.137Z"
   },
   {
    "duration": 1777,
    "start_time": "2022-04-27T14:42:41.093Z"
   },
   {
    "duration": 1928,
    "start_time": "2022-04-27T14:43:06.998Z"
   },
   {
    "duration": 1810,
    "start_time": "2022-04-27T14:43:11.135Z"
   },
   {
    "duration": 22,
    "start_time": "2022-04-27T14:43:37.845Z"
   },
   {
    "duration": 130,
    "start_time": "2022-04-27T14:43:57.801Z"
   },
   {
    "duration": 24,
    "start_time": "2022-04-27T14:44:13.002Z"
   },
   {
    "duration": 132,
    "start_time": "2022-04-27T14:44:16.871Z"
   },
   {
    "duration": 149,
    "start_time": "2022-04-27T14:46:21.051Z"
   },
   {
    "duration": 139,
    "start_time": "2022-04-27T14:53:11.877Z"
   },
   {
    "duration": 134,
    "start_time": "2022-04-27T14:53:36.835Z"
   },
   {
    "duration": 24,
    "start_time": "2022-04-27T15:07:57.869Z"
   },
   {
    "duration": 111,
    "start_time": "2022-04-27T15:08:23.394Z"
   },
   {
    "duration": 8,
    "start_time": "2022-04-27T15:08:26.856Z"
   },
   {
    "duration": 12,
    "start_time": "2022-04-27T15:09:34.342Z"
   },
   {
    "duration": 28,
    "start_time": "2022-04-27T15:09:37.547Z"
   },
   {
    "duration": 12,
    "start_time": "2022-04-27T15:10:21.198Z"
   },
   {
    "duration": 1774,
    "start_time": "2022-04-27T15:10:50.169Z"
   },
   {
    "duration": 34,
    "start_time": "2022-04-27T15:11:05.033Z"
   },
   {
    "duration": 14,
    "start_time": "2022-04-27T15:11:34.443Z"
   },
   {
    "duration": 21,
    "start_time": "2022-04-27T15:11:37.833Z"
   },
   {
    "duration": 36,
    "start_time": "2022-04-27T15:11:42.054Z"
   },
   {
    "duration": 27,
    "start_time": "2022-04-27T15:12:01.307Z"
   },
   {
    "duration": 24,
    "start_time": "2022-04-27T15:12:14.134Z"
   },
   {
    "duration": 18,
    "start_time": "2022-04-27T15:13:30.936Z"
   },
   {
    "duration": 19,
    "start_time": "2022-04-27T15:13:33.535Z"
   },
   {
    "duration": 96,
    "start_time": "2022-04-27T15:13:57.580Z"
   },
   {
    "duration": 12,
    "start_time": "2022-04-27T15:14:02.268Z"
   },
   {
    "duration": 25,
    "start_time": "2022-04-27T15:14:04.479Z"
   },
   {
    "duration": 14,
    "start_time": "2022-04-27T15:14:52.115Z"
   },
   {
    "duration": 17,
    "start_time": "2022-04-27T15:14:55.134Z"
   },
   {
    "duration": 14,
    "start_time": "2022-04-27T15:15:07.302Z"
   },
   {
    "duration": 13,
    "start_time": "2022-04-27T15:15:09.716Z"
   },
   {
    "duration": 20,
    "start_time": "2022-04-27T15:15:16.155Z"
   },
   {
    "duration": 6,
    "start_time": "2022-04-27T15:20:05.552Z"
   },
   {
    "duration": 19,
    "start_time": "2022-04-27T15:23:09.236Z"
   },
   {
    "duration": 17,
    "start_time": "2022-04-27T15:23:13.948Z"
   },
   {
    "duration": 33,
    "start_time": "2022-04-27T15:24:21.044Z"
   },
   {
    "duration": 43,
    "start_time": "2022-04-27T15:24:59.247Z"
   },
   {
    "duration": 112,
    "start_time": "2022-04-27T15:26:52.619Z"
   },
   {
    "duration": 156,
    "start_time": "2022-04-27T15:27:05.409Z"
   },
   {
    "duration": 178,
    "start_time": "2022-04-27T15:27:28.341Z"
   },
   {
    "duration": 156,
    "start_time": "2022-04-27T15:28:02.691Z"
   },
   {
    "duration": 200,
    "start_time": "2022-04-27T15:28:29.224Z"
   },
   {
    "duration": 199,
    "start_time": "2022-04-27T15:28:38.786Z"
   },
   {
    "duration": 169,
    "start_time": "2022-04-27T15:28:51.412Z"
   },
   {
    "duration": 136,
    "start_time": "2022-04-27T15:29:36.897Z"
   },
   {
    "duration": 208,
    "start_time": "2022-04-27T15:30:08.844Z"
   },
   {
    "duration": 171,
    "start_time": "2022-04-27T15:30:14.511Z"
   },
   {
    "duration": 184,
    "start_time": "2022-04-27T15:37:09.176Z"
   },
   {
    "duration": 156,
    "start_time": "2022-04-27T15:37:41.886Z"
   },
   {
    "duration": 164,
    "start_time": "2022-04-27T15:38:20.881Z"
   },
   {
    "duration": 156,
    "start_time": "2022-04-27T15:38:53.185Z"
   },
   {
    "duration": 1257,
    "start_time": "2022-04-27T15:43:39.828Z"
   },
   {
    "duration": 10,
    "start_time": "2022-04-27T15:43:41.088Z"
   },
   {
    "duration": 21,
    "start_time": "2022-04-27T15:43:41.101Z"
   },
   {
    "duration": 4,
    "start_time": "2022-04-27T15:43:41.124Z"
   },
   {
    "duration": 15,
    "start_time": "2022-04-27T15:43:41.130Z"
   },
   {
    "duration": 96,
    "start_time": "2022-04-27T15:43:41.147Z"
   },
   {
    "duration": 7,
    "start_time": "2022-04-27T15:43:41.245Z"
   },
   {
    "duration": 15,
    "start_time": "2022-04-27T15:43:41.254Z"
   },
   {
    "duration": 33,
    "start_time": "2022-04-27T15:43:41.271Z"
   },
   {
    "duration": 23,
    "start_time": "2022-04-27T15:43:41.306Z"
   },
   {
    "duration": 6,
    "start_time": "2022-04-27T15:43:41.330Z"
   },
   {
    "duration": 19,
    "start_time": "2022-04-27T15:43:41.337Z"
   },
   {
    "duration": 42,
    "start_time": "2022-04-27T15:43:41.358Z"
   },
   {
    "duration": 24,
    "start_time": "2022-04-27T15:43:41.402Z"
   },
   {
    "duration": 142,
    "start_time": "2022-04-27T15:43:41.428Z"
   },
   {
    "duration": 158,
    "start_time": "2022-04-27T15:43:41.572Z"
   },
   {
    "duration": 136,
    "start_time": "2022-04-27T15:43:41.732Z"
   },
   {
    "duration": 153,
    "start_time": "2022-04-27T15:43:41.871Z"
   },
   {
    "duration": 32,
    "start_time": "2022-04-27T15:43:42.027Z"
   },
   {
    "duration": 22,
    "start_time": "2022-04-27T15:44:39.757Z"
   },
   {
    "duration": 16,
    "start_time": "2022-04-27T15:44:43.887Z"
   },
   {
    "duration": 135,
    "start_time": "2022-04-27T15:45:29.852Z"
   },
   {
    "duration": 144,
    "start_time": "2022-04-27T15:47:10.357Z"
   },
   {
    "duration": 131,
    "start_time": "2022-04-27T15:47:33.430Z"
   },
   {
    "duration": 139,
    "start_time": "2022-04-27T15:47:45.191Z"
   },
   {
    "duration": 170,
    "start_time": "2022-04-27T15:50:47.738Z"
   },
   {
    "duration": 201,
    "start_time": "2022-04-27T15:51:09.053Z"
   },
   {
    "duration": 112,
    "start_time": "2022-04-27T15:51:20.060Z"
   },
   {
    "duration": 113,
    "start_time": "2022-04-27T15:51:38.665Z"
   },
   {
    "duration": 198,
    "start_time": "2022-04-27T15:51:47.525Z"
   },
   {
    "duration": 114,
    "start_time": "2022-04-27T15:51:54.261Z"
   },
   {
    "duration": 114,
    "start_time": "2022-04-27T15:52:06.321Z"
   },
   {
    "duration": 107,
    "start_time": "2022-04-27T15:52:11.103Z"
   },
   {
    "duration": 158,
    "start_time": "2022-04-27T15:52:16.484Z"
   },
   {
    "duration": 6,
    "start_time": "2022-04-27T15:55:55.814Z"
   },
   {
    "duration": 5,
    "start_time": "2022-04-27T15:56:22.365Z"
   },
   {
    "duration": 6,
    "start_time": "2022-04-27T15:56:27.134Z"
   },
   {
    "duration": 1358,
    "start_time": "2022-04-27T15:56:33.361Z"
   },
   {
    "duration": 6,
    "start_time": "2022-04-27T15:56:34.721Z"
   },
   {
    "duration": 29,
    "start_time": "2022-04-27T15:56:34.729Z"
   },
   {
    "duration": 3,
    "start_time": "2022-04-27T15:56:34.761Z"
   },
   {
    "duration": 19,
    "start_time": "2022-04-27T15:56:34.766Z"
   },
   {
    "duration": 79,
    "start_time": "2022-04-27T15:56:34.787Z"
   },
   {
    "duration": 9,
    "start_time": "2022-04-27T15:56:34.868Z"
   },
   {
    "duration": 9,
    "start_time": "2022-04-27T15:56:34.893Z"
   },
   {
    "duration": 24,
    "start_time": "2022-04-27T15:56:34.904Z"
   },
   {
    "duration": 22,
    "start_time": "2022-04-27T15:56:34.931Z"
   },
   {
    "duration": 5,
    "start_time": "2022-04-27T15:56:34.955Z"
   },
   {
    "duration": 44,
    "start_time": "2022-04-27T15:56:34.962Z"
   },
   {
    "duration": 22,
    "start_time": "2022-04-27T15:56:35.008Z"
   },
   {
    "duration": 31,
    "start_time": "2022-04-27T15:56:35.032Z"
   },
   {
    "duration": 138,
    "start_time": "2022-04-27T15:56:35.065Z"
   },
   {
    "duration": 144,
    "start_time": "2022-04-27T15:56:35.204Z"
   },
   {
    "duration": 123,
    "start_time": "2022-04-27T15:56:35.350Z"
   },
   {
    "duration": 140,
    "start_time": "2022-04-27T15:56:35.475Z"
   },
   {
    "duration": 108,
    "start_time": "2022-04-27T15:56:35.617Z"
   },
   {
    "duration": 142,
    "start_time": "2022-04-27T15:56:35.727Z"
   },
   {
    "duration": 6,
    "start_time": "2022-04-27T15:56:41.504Z"
   },
   {
    "duration": 1278,
    "start_time": "2022-04-27T15:56:47.613Z"
   },
   {
    "duration": 5,
    "start_time": "2022-04-27T15:56:48.893Z"
   },
   {
    "duration": 21,
    "start_time": "2022-04-27T15:56:48.900Z"
   },
   {
    "duration": 3,
    "start_time": "2022-04-27T15:56:48.923Z"
   },
   {
    "duration": 4,
    "start_time": "2022-04-27T15:56:48.930Z"
   },
   {
    "duration": 98,
    "start_time": "2022-04-27T15:56:48.935Z"
   },
   {
    "duration": 8,
    "start_time": "2022-04-27T15:56:49.034Z"
   },
   {
    "duration": 16,
    "start_time": "2022-04-27T15:56:49.044Z"
   },
   {
    "duration": 54,
    "start_time": "2022-04-27T15:56:49.062Z"
   },
   {
    "duration": 31,
    "start_time": "2022-04-27T15:56:49.118Z"
   },
   {
    "duration": 6,
    "start_time": "2022-04-27T15:56:49.152Z"
   },
   {
    "duration": 36,
    "start_time": "2022-04-27T15:56:49.160Z"
   },
   {
    "duration": 26,
    "start_time": "2022-04-27T15:56:49.198Z"
   },
   {
    "duration": 29,
    "start_time": "2022-04-27T15:56:49.227Z"
   },
   {
    "duration": 159,
    "start_time": "2022-04-27T15:56:49.258Z"
   },
   {
    "duration": 146,
    "start_time": "2022-04-27T15:56:49.419Z"
   },
   {
    "duration": 141,
    "start_time": "2022-04-27T15:56:49.567Z"
   },
   {
    "duration": 149,
    "start_time": "2022-04-27T15:56:49.710Z"
   },
   {
    "duration": 100,
    "start_time": "2022-04-27T15:56:49.861Z"
   },
   {
    "duration": 120,
    "start_time": "2022-04-27T15:56:49.963Z"
   },
   {
    "duration": 132,
    "start_time": "2022-04-27T16:06:39.086Z"
   },
   {
    "duration": 102,
    "start_time": "2022-04-27T16:06:54.582Z"
   },
   {
    "duration": 110,
    "start_time": "2022-04-27T16:07:12.788Z"
   },
   {
    "duration": 167,
    "start_time": "2022-04-27T16:07:52.996Z"
   },
   {
    "duration": 10,
    "start_time": "2022-04-27T16:09:40.881Z"
   },
   {
    "duration": 14,
    "start_time": "2022-04-27T16:10:27.560Z"
   },
   {
    "duration": 17,
    "start_time": "2022-04-27T16:10:36.788Z"
   },
   {
    "duration": 197,
    "start_time": "2022-04-27T16:12:17.729Z"
   },
   {
    "duration": 21,
    "start_time": "2022-04-27T16:12:40.892Z"
   },
   {
    "duration": 15,
    "start_time": "2022-04-27T16:12:49.870Z"
   },
   {
    "duration": 174,
    "start_time": "2022-04-27T16:16:07.429Z"
   },
   {
    "duration": 141,
    "start_time": "2022-04-27T16:18:30.572Z"
   },
   {
    "duration": 110,
    "start_time": "2022-04-27T16:20:23.133Z"
   },
   {
    "duration": 19,
    "start_time": "2022-04-27T16:22:01.437Z"
   },
   {
    "duration": 29,
    "start_time": "2022-04-27T16:22:10.986Z"
   },
   {
    "duration": 169,
    "start_time": "2022-04-27T16:22:15.614Z"
   },
   {
    "duration": 809,
    "start_time": "2022-04-27T16:22:20.834Z"
   },
   {
    "duration": 15,
    "start_time": "2022-04-27T16:22:32.727Z"
   },
   {
    "duration": 123,
    "start_time": "2022-04-27T16:22:35.445Z"
   },
   {
    "duration": 1390,
    "start_time": "2022-04-27T16:31:40.594Z"
   },
   {
    "duration": 6,
    "start_time": "2022-04-27T16:31:41.987Z"
   },
   {
    "duration": 41,
    "start_time": "2022-04-27T16:31:41.994Z"
   },
   {
    "duration": 88,
    "start_time": "2022-04-27T16:31:42.038Z"
   },
   {
    "duration": 4,
    "start_time": "2022-04-27T16:31:42.129Z"
   },
   {
    "duration": 10,
    "start_time": "2022-04-27T16:31:42.135Z"
   },
   {
    "duration": 15,
    "start_time": "2022-04-27T16:31:42.147Z"
   },
   {
    "duration": 52,
    "start_time": "2022-04-27T16:31:42.163Z"
   },
   {
    "duration": 25,
    "start_time": "2022-04-27T16:31:42.217Z"
   },
   {
    "duration": 6,
    "start_time": "2022-04-27T16:31:42.246Z"
   },
   {
    "duration": 45,
    "start_time": "2022-04-27T16:31:42.253Z"
   },
   {
    "duration": 31,
    "start_time": "2022-04-27T16:31:42.300Z"
   },
   {
    "duration": 37,
    "start_time": "2022-04-27T16:31:42.334Z"
   },
   {
    "duration": 153,
    "start_time": "2022-04-27T16:31:42.373Z"
   },
   {
    "duration": 240,
    "start_time": "2022-04-27T16:31:42.528Z"
   },
   {
    "duration": 205,
    "start_time": "2022-04-27T16:31:42.770Z"
   },
   {
    "duration": 217,
    "start_time": "2022-04-27T16:31:42.978Z"
   },
   {
    "duration": 172,
    "start_time": "2022-04-27T16:31:43.200Z"
   },
   {
    "duration": 141,
    "start_time": "2022-04-27T16:31:43.374Z"
   },
   {
    "duration": 27,
    "start_time": "2022-04-27T16:35:48.455Z"
   },
   {
    "duration": 10,
    "start_time": "2022-04-27T16:35:58.808Z"
   },
   {
    "duration": 1347,
    "start_time": "2022-04-27T16:36:38.542Z"
   },
   {
    "duration": 8,
    "start_time": "2022-04-27T16:36:39.891Z"
   },
   {
    "duration": 25,
    "start_time": "2022-04-27T16:36:39.901Z"
   },
   {
    "duration": 123,
    "start_time": "2022-04-27T16:36:39.930Z"
   },
   {
    "duration": 6,
    "start_time": "2022-04-27T16:36:40.055Z"
   },
   {
    "duration": 38,
    "start_time": "2022-04-27T16:36:40.063Z"
   },
   {
    "duration": 26,
    "start_time": "2022-04-27T16:36:40.103Z"
   },
   {
    "duration": 27,
    "start_time": "2022-04-27T16:36:40.130Z"
   },
   {
    "duration": 30,
    "start_time": "2022-04-27T16:36:40.159Z"
   },
   {
    "duration": 34,
    "start_time": "2022-04-27T16:36:40.191Z"
   },
   {
    "duration": 22,
    "start_time": "2022-04-27T16:36:40.227Z"
   },
   {
    "duration": 1881,
    "start_time": "2022-04-27T16:36:40.251Z"
   },
   {
    "duration": 0,
    "start_time": "2022-04-27T16:36:42.134Z"
   },
   {
    "duration": 0,
    "start_time": "2022-04-27T16:36:42.135Z"
   },
   {
    "duration": 0,
    "start_time": "2022-04-27T16:36:42.136Z"
   },
   {
    "duration": 0,
    "start_time": "2022-04-27T16:36:42.137Z"
   },
   {
    "duration": 0,
    "start_time": "2022-04-27T16:36:42.139Z"
   },
   {
    "duration": 0,
    "start_time": "2022-04-27T16:36:42.140Z"
   },
   {
    "duration": 0,
    "start_time": "2022-04-27T16:36:42.141Z"
   },
   {
    "duration": 14,
    "start_time": "2022-04-27T16:37:15.863Z"
   },
   {
    "duration": 1839,
    "start_time": "2022-04-27T16:37:49.873Z"
   },
   {
    "duration": 2188,
    "start_time": "2022-04-27T16:38:00.875Z"
   },
   {
    "duration": 1412,
    "start_time": "2022-04-27T16:38:09.674Z"
   },
   {
    "duration": 7,
    "start_time": "2022-04-27T16:38:11.088Z"
   },
   {
    "duration": 32,
    "start_time": "2022-04-27T16:38:11.097Z"
   },
   {
    "duration": 86,
    "start_time": "2022-04-27T16:38:11.132Z"
   },
   {
    "duration": 4,
    "start_time": "2022-04-27T16:38:11.220Z"
   },
   {
    "duration": 15,
    "start_time": "2022-04-27T16:38:11.226Z"
   },
   {
    "duration": 7,
    "start_time": "2022-04-27T16:38:11.243Z"
   },
   {
    "duration": 42,
    "start_time": "2022-04-27T16:38:11.252Z"
   },
   {
    "duration": 27,
    "start_time": "2022-04-27T16:38:11.298Z"
   },
   {
    "duration": 6,
    "start_time": "2022-04-27T16:38:11.328Z"
   },
   {
    "duration": 13,
    "start_time": "2022-04-27T16:38:11.335Z"
   },
   {
    "duration": 16,
    "start_time": "2022-04-27T16:38:11.350Z"
   },
   {
    "duration": 49,
    "start_time": "2022-04-27T16:38:11.368Z"
   },
   {
    "duration": 140,
    "start_time": "2022-04-27T16:38:11.419Z"
   },
   {
    "duration": 168,
    "start_time": "2022-04-27T16:38:11.561Z"
   },
   {
    "duration": 190,
    "start_time": "2022-04-27T16:38:11.731Z"
   },
   {
    "duration": 201,
    "start_time": "2022-04-27T16:38:11.923Z"
   },
   {
    "duration": 121,
    "start_time": "2022-04-27T16:38:12.126Z"
   },
   {
    "duration": 124,
    "start_time": "2022-04-27T16:38:12.248Z"
   },
   {
    "duration": 22,
    "start_time": "2022-04-27T16:38:41.691Z"
   },
   {
    "duration": 12,
    "start_time": "2022-04-27T16:38:48.382Z"
   },
   {
    "duration": 1298,
    "start_time": "2022-04-27T16:38:55.167Z"
   },
   {
    "duration": 5,
    "start_time": "2022-04-27T16:38:56.466Z"
   },
   {
    "duration": 20,
    "start_time": "2022-04-27T16:38:56.473Z"
   },
   {
    "duration": 73,
    "start_time": "2022-04-27T16:38:56.495Z"
   },
   {
    "duration": 3,
    "start_time": "2022-04-27T16:38:56.570Z"
   },
   {
    "duration": 24,
    "start_time": "2022-04-27T16:38:56.575Z"
   },
   {
    "duration": 8,
    "start_time": "2022-04-27T16:38:56.601Z"
   },
   {
    "duration": 26,
    "start_time": "2022-04-27T16:38:56.611Z"
   },
   {
    "duration": 23,
    "start_time": "2022-04-27T16:38:56.639Z"
   },
   {
    "duration": 10,
    "start_time": "2022-04-27T16:38:56.692Z"
   },
   {
    "duration": 13,
    "start_time": "2022-04-27T16:38:56.704Z"
   },
   {
    "duration": 14,
    "start_time": "2022-04-27T16:38:56.719Z"
   },
   {
    "duration": 23,
    "start_time": "2022-04-27T16:38:56.735Z"
   },
   {
    "duration": 153,
    "start_time": "2022-04-27T16:38:56.760Z"
   },
   {
    "duration": 126,
    "start_time": "2022-04-27T16:38:56.915Z"
   },
   {
    "duration": 0,
    "start_time": "2022-04-27T16:38:57.042Z"
   },
   {
    "duration": 0,
    "start_time": "2022-04-27T16:38:57.043Z"
   },
   {
    "duration": 0,
    "start_time": "2022-04-27T16:38:57.044Z"
   },
   {
    "duration": 0,
    "start_time": "2022-04-27T16:38:57.045Z"
   },
   {
    "duration": 21,
    "start_time": "2022-04-27T16:40:09.054Z"
   },
   {
    "duration": 1373,
    "start_time": "2022-04-27T16:40:49.740Z"
   },
   {
    "duration": 5,
    "start_time": "2022-04-27T16:40:51.115Z"
   },
   {
    "duration": 28,
    "start_time": "2022-04-27T16:40:51.122Z"
   },
   {
    "duration": 100,
    "start_time": "2022-04-27T16:40:51.153Z"
   },
   {
    "duration": 5,
    "start_time": "2022-04-27T16:40:51.255Z"
   },
   {
    "duration": 17,
    "start_time": "2022-04-27T16:40:51.262Z"
   },
   {
    "duration": 8,
    "start_time": "2022-04-27T16:40:51.292Z"
   },
   {
    "duration": 26,
    "start_time": "2022-04-27T16:40:51.302Z"
   },
   {
    "duration": 37,
    "start_time": "2022-04-27T16:40:51.330Z"
   },
   {
    "duration": 22,
    "start_time": "2022-04-27T16:40:51.371Z"
   },
   {
    "duration": 37,
    "start_time": "2022-04-27T16:40:51.395Z"
   },
   {
    "duration": 44,
    "start_time": "2022-04-27T16:40:51.434Z"
   },
   {
    "duration": 54,
    "start_time": "2022-04-27T16:40:51.480Z"
   },
   {
    "duration": 137,
    "start_time": "2022-04-27T16:40:51.536Z"
   },
   {
    "duration": 139,
    "start_time": "2022-04-27T16:40:51.675Z"
   },
   {
    "duration": 0,
    "start_time": "2022-04-27T16:40:51.816Z"
   },
   {
    "duration": 0,
    "start_time": "2022-04-27T16:40:51.818Z"
   },
   {
    "duration": 0,
    "start_time": "2022-04-27T16:40:51.819Z"
   },
   {
    "duration": 0,
    "start_time": "2022-04-27T16:40:51.821Z"
   },
   {
    "duration": 18,
    "start_time": "2022-04-27T16:41:16.367Z"
   },
   {
    "duration": 18,
    "start_time": "2022-04-27T16:41:36.939Z"
   },
   {
    "duration": 1407,
    "start_time": "2022-04-27T16:41:43.242Z"
   },
   {
    "duration": 5,
    "start_time": "2022-04-27T16:41:44.651Z"
   },
   {
    "duration": 22,
    "start_time": "2022-04-27T16:41:44.661Z"
   },
   {
    "duration": 81,
    "start_time": "2022-04-27T16:41:44.693Z"
   },
   {
    "duration": 19,
    "start_time": "2022-04-27T16:41:44.776Z"
   },
   {
    "duration": 14,
    "start_time": "2022-04-27T16:41:44.797Z"
   },
   {
    "duration": 8,
    "start_time": "2022-04-27T16:41:44.813Z"
   },
   {
    "duration": 23,
    "start_time": "2022-04-27T16:41:44.823Z"
   },
   {
    "duration": 46,
    "start_time": "2022-04-27T16:41:44.850Z"
   },
   {
    "duration": 6,
    "start_time": "2022-04-27T16:41:44.898Z"
   },
   {
    "duration": 22,
    "start_time": "2022-04-27T16:41:44.905Z"
   },
   {
    "duration": 24,
    "start_time": "2022-04-27T16:41:44.930Z"
   },
   {
    "duration": 29,
    "start_time": "2022-04-27T16:41:44.956Z"
   },
   {
    "duration": 152,
    "start_time": "2022-04-27T16:41:44.993Z"
   },
   {
    "duration": 169,
    "start_time": "2022-04-27T16:41:45.147Z"
   },
   {
    "duration": 132,
    "start_time": "2022-04-27T16:41:45.317Z"
   },
   {
    "duration": 154,
    "start_time": "2022-04-27T16:41:45.451Z"
   },
   {
    "duration": 120,
    "start_time": "2022-04-27T16:41:45.607Z"
   },
   {
    "duration": 135,
    "start_time": "2022-04-27T16:41:45.729Z"
   },
   {
    "duration": 155,
    "start_time": "2022-04-27T16:41:56.176Z"
   },
   {
    "duration": 2622,
    "start_time": "2022-05-02T14:45:21.526Z"
   },
   {
    "duration": 5,
    "start_time": "2022-05-02T14:45:24.151Z"
   },
   {
    "duration": 26,
    "start_time": "2022-05-02T14:45:24.158Z"
   },
   {
    "duration": 82,
    "start_time": "2022-05-02T14:45:24.186Z"
   },
   {
    "duration": 4,
    "start_time": "2022-05-02T14:45:24.269Z"
   },
   {
    "duration": 12,
    "start_time": "2022-05-02T14:45:24.274Z"
   },
   {
    "duration": 10,
    "start_time": "2022-05-02T14:45:24.287Z"
   },
   {
    "duration": 33,
    "start_time": "2022-05-02T14:45:24.298Z"
   },
   {
    "duration": 19,
    "start_time": "2022-05-02T14:45:24.333Z"
   },
   {
    "duration": 5,
    "start_time": "2022-05-02T14:45:24.355Z"
   },
   {
    "duration": 16,
    "start_time": "2022-05-02T14:45:24.362Z"
   },
   {
    "duration": 17,
    "start_time": "2022-05-02T14:45:24.380Z"
   },
   {
    "duration": 40,
    "start_time": "2022-05-02T14:45:24.399Z"
   },
   {
    "duration": 153,
    "start_time": "2022-05-02T14:45:24.441Z"
   },
   {
    "duration": 138,
    "start_time": "2022-05-02T14:45:24.596Z"
   },
   {
    "duration": 121,
    "start_time": "2022-05-02T14:45:24.735Z"
   },
   {
    "duration": 132,
    "start_time": "2022-05-02T14:45:24.857Z"
   },
   {
    "duration": 105,
    "start_time": "2022-05-02T14:45:24.991Z"
   },
   {
    "duration": 117,
    "start_time": "2022-05-02T14:45:25.098Z"
   },
   {
    "duration": 48,
    "start_time": "2022-05-03T16:54:43.450Z"
   },
   {
    "duration": 1389,
    "start_time": "2022-05-03T16:55:26.147Z"
   },
   {
    "duration": 4,
    "start_time": "2022-05-03T16:55:27.538Z"
   },
   {
    "duration": 21,
    "start_time": "2022-05-03T16:55:27.544Z"
   },
   {
    "duration": 74,
    "start_time": "2022-05-03T16:55:27.567Z"
   },
   {
    "duration": 4,
    "start_time": "2022-05-03T16:55:27.643Z"
   },
   {
    "duration": 28,
    "start_time": "2022-05-03T16:55:27.649Z"
   },
   {
    "duration": 8,
    "start_time": "2022-05-03T16:55:27.679Z"
   },
   {
    "duration": 23,
    "start_time": "2022-05-03T16:55:27.689Z"
   },
   {
    "duration": 21,
    "start_time": "2022-05-03T16:55:27.713Z"
   },
   {
    "duration": 48,
    "start_time": "2022-05-03T16:55:27.736Z"
   },
   {
    "duration": 6,
    "start_time": "2022-05-03T16:55:27.785Z"
   },
   {
    "duration": 25,
    "start_time": "2022-05-03T16:55:27.793Z"
   },
   {
    "duration": 18,
    "start_time": "2022-05-03T16:55:27.820Z"
   },
   {
    "duration": 39,
    "start_time": "2022-05-03T16:55:27.840Z"
   },
   {
    "duration": 135,
    "start_time": "2022-05-03T16:55:27.881Z"
   },
   {
    "duration": 138,
    "start_time": "2022-05-03T16:55:28.018Z"
   },
   {
    "duration": 131,
    "start_time": "2022-05-03T16:55:28.158Z"
   },
   {
    "duration": 139,
    "start_time": "2022-05-03T16:55:28.291Z"
   },
   {
    "duration": 101,
    "start_time": "2022-05-03T16:55:28.432Z"
   },
   {
    "duration": 117,
    "start_time": "2022-05-03T16:55:28.534Z"
   },
   {
    "duration": 22,
    "start_time": "2022-05-03T16:55:42.424Z"
   },
   {
    "duration": 40,
    "start_time": "2022-05-03T16:56:00.733Z"
   },
   {
    "duration": 23,
    "start_time": "2022-05-03T16:56:07.110Z"
   },
   {
    "duration": 96,
    "start_time": "2022-05-03T16:56:22.335Z"
   },
   {
    "duration": 1193,
    "start_time": "2022-05-03T16:56:41.268Z"
   },
   {
    "duration": 4,
    "start_time": "2022-05-03T16:56:42.463Z"
   },
   {
    "duration": 19,
    "start_time": "2022-05-03T16:56:42.469Z"
   },
   {
    "duration": 67,
    "start_time": "2022-05-03T16:56:42.490Z"
   },
   {
    "duration": 15,
    "start_time": "2022-05-03T16:56:42.559Z"
   },
   {
    "duration": 11,
    "start_time": "2022-05-03T16:56:42.576Z"
   },
   {
    "duration": 8,
    "start_time": "2022-05-03T16:56:42.589Z"
   },
   {
    "duration": 22,
    "start_time": "2022-05-03T16:56:42.598Z"
   },
   {
    "duration": 22,
    "start_time": "2022-05-03T16:56:42.621Z"
   },
   {
    "duration": 141,
    "start_time": "2022-05-03T16:56:42.645Z"
   },
   {
    "duration": 0,
    "start_time": "2022-05-03T16:56:42.788Z"
   },
   {
    "duration": 0,
    "start_time": "2022-05-03T16:56:42.789Z"
   },
   {
    "duration": 0,
    "start_time": "2022-05-03T16:56:42.790Z"
   },
   {
    "duration": 0,
    "start_time": "2022-05-03T16:56:42.791Z"
   },
   {
    "duration": 0,
    "start_time": "2022-05-03T16:56:42.792Z"
   },
   {
    "duration": 0,
    "start_time": "2022-05-03T16:56:42.793Z"
   },
   {
    "duration": 0,
    "start_time": "2022-05-03T16:56:42.794Z"
   },
   {
    "duration": 0,
    "start_time": "2022-05-03T16:56:42.795Z"
   },
   {
    "duration": 0,
    "start_time": "2022-05-03T16:56:42.796Z"
   },
   {
    "duration": 0,
    "start_time": "2022-05-03T16:56:42.796Z"
   },
   {
    "duration": 6,
    "start_time": "2022-05-03T16:57:03.643Z"
   },
   {
    "duration": 6,
    "start_time": "2022-05-03T16:57:11.284Z"
   },
   {
    "duration": 1205,
    "start_time": "2022-05-03T16:58:35.769Z"
   },
   {
    "duration": 5,
    "start_time": "2022-05-03T16:58:36.976Z"
   },
   {
    "duration": 21,
    "start_time": "2022-05-03T16:58:36.983Z"
   },
   {
    "duration": 79,
    "start_time": "2022-05-03T16:58:37.006Z"
   },
   {
    "duration": 4,
    "start_time": "2022-05-03T16:58:37.086Z"
   },
   {
    "duration": 11,
    "start_time": "2022-05-03T16:58:37.091Z"
   },
   {
    "duration": 7,
    "start_time": "2022-05-03T16:58:37.104Z"
   },
   {
    "duration": 20,
    "start_time": "2022-05-03T16:58:37.112Z"
   },
   {
    "duration": 48,
    "start_time": "2022-05-03T16:58:37.134Z"
   },
   {
    "duration": 5,
    "start_time": "2022-05-03T16:58:37.184Z"
   },
   {
    "duration": 12,
    "start_time": "2022-05-03T16:58:37.191Z"
   },
   {
    "duration": 18,
    "start_time": "2022-05-03T16:58:37.205Z"
   },
   {
    "duration": 24,
    "start_time": "2022-05-03T16:58:37.224Z"
   },
   {
    "duration": 163,
    "start_time": "2022-05-03T16:58:37.250Z"
   },
   {
    "duration": 148,
    "start_time": "2022-05-03T16:58:37.415Z"
   },
   {
    "duration": 131,
    "start_time": "2022-05-03T16:58:37.565Z"
   },
   {
    "duration": 139,
    "start_time": "2022-05-03T16:58:37.698Z"
   },
   {
    "duration": 118,
    "start_time": "2022-05-03T16:58:37.839Z"
   },
   {
    "duration": 128,
    "start_time": "2022-05-03T16:58:37.959Z"
   },
   {
    "duration": 28,
    "start_time": "2022-05-03T16:59:39.237Z"
   },
   {
    "duration": 32,
    "start_time": "2022-05-03T16:59:49.486Z"
   },
   {
    "duration": 34,
    "start_time": "2022-05-03T16:59:55.226Z"
   },
   {
    "duration": 1265,
    "start_time": "2022-05-03T17:00:07.098Z"
   },
   {
    "duration": 5,
    "start_time": "2022-05-03T17:00:08.365Z"
   },
   {
    "duration": 27,
    "start_time": "2022-05-03T17:00:08.371Z"
   },
   {
    "duration": 74,
    "start_time": "2022-05-03T17:00:08.400Z"
   },
   {
    "duration": 5,
    "start_time": "2022-05-03T17:00:08.475Z"
   },
   {
    "duration": 13,
    "start_time": "2022-05-03T17:00:08.481Z"
   },
   {
    "duration": 10,
    "start_time": "2022-05-03T17:00:08.495Z"
   },
   {
    "duration": 21,
    "start_time": "2022-05-03T17:00:08.507Z"
   },
   {
    "duration": 44,
    "start_time": "2022-05-03T17:00:08.530Z"
   },
   {
    "duration": 33,
    "start_time": "2022-05-03T17:00:08.577Z"
   },
   {
    "duration": 5,
    "start_time": "2022-05-03T17:00:08.612Z"
   },
   {
    "duration": 18,
    "start_time": "2022-05-03T17:00:08.619Z"
   },
   {
    "duration": 34,
    "start_time": "2022-05-03T17:00:08.639Z"
   },
   {
    "duration": 22,
    "start_time": "2022-05-03T17:00:08.675Z"
   },
   {
    "duration": 147,
    "start_time": "2022-05-03T17:00:08.699Z"
   },
   {
    "duration": 160,
    "start_time": "2022-05-03T17:00:08.848Z"
   },
   {
    "duration": 136,
    "start_time": "2022-05-03T17:00:09.010Z"
   },
   {
    "duration": 148,
    "start_time": "2022-05-03T17:00:09.147Z"
   },
   {
    "duration": 117,
    "start_time": "2022-05-03T17:00:09.297Z"
   },
   {
    "duration": 122,
    "start_time": "2022-05-03T17:00:09.415Z"
   },
   {
    "duration": 132,
    "start_time": "2022-05-03T17:00:43.178Z"
   },
   {
    "duration": 11,
    "start_time": "2022-05-03T17:00:50.462Z"
   },
   {
    "duration": 1237,
    "start_time": "2022-05-03T17:00:56.475Z"
   },
   {
    "duration": 5,
    "start_time": "2022-05-03T17:00:57.714Z"
   },
   {
    "duration": 21,
    "start_time": "2022-05-03T17:00:57.721Z"
   },
   {
    "duration": 83,
    "start_time": "2022-05-03T17:00:57.744Z"
   },
   {
    "duration": 4,
    "start_time": "2022-05-03T17:00:57.829Z"
   },
   {
    "duration": 12,
    "start_time": "2022-05-03T17:00:57.835Z"
   },
   {
    "duration": 25,
    "start_time": "2022-05-03T17:00:57.849Z"
   },
   {
    "duration": 22,
    "start_time": "2022-05-03T17:00:57.876Z"
   },
   {
    "duration": 22,
    "start_time": "2022-05-03T17:00:57.899Z"
   },
   {
    "duration": 55,
    "start_time": "2022-05-03T17:00:57.924Z"
   },
   {
    "duration": 5,
    "start_time": "2022-05-03T17:00:57.981Z"
   },
   {
    "duration": 15,
    "start_time": "2022-05-03T17:00:57.988Z"
   },
   {
    "duration": 15,
    "start_time": "2022-05-03T17:00:58.005Z"
   },
   {
    "duration": 22,
    "start_time": "2022-05-03T17:00:58.021Z"
   },
   {
    "duration": 158,
    "start_time": "2022-05-03T17:00:58.045Z"
   },
   {
    "duration": 144,
    "start_time": "2022-05-03T17:00:58.205Z"
   },
   {
    "duration": 136,
    "start_time": "2022-05-03T17:00:58.351Z"
   },
   {
    "duration": 141,
    "start_time": "2022-05-03T17:00:58.489Z"
   },
   {
    "duration": 114,
    "start_time": "2022-05-03T17:00:58.631Z"
   },
   {
    "duration": 127,
    "start_time": "2022-05-03T17:00:58.747Z"
   },
   {
    "duration": 11,
    "start_time": "2022-05-03T17:02:42.131Z"
   },
   {
    "duration": 15,
    "start_time": "2022-05-03T17:02:49.792Z"
   },
   {
    "duration": 1176,
    "start_time": "2022-05-03T17:03:22.909Z"
   },
   {
    "duration": 5,
    "start_time": "2022-05-03T17:03:24.087Z"
   },
   {
    "duration": 20,
    "start_time": "2022-05-03T17:03:24.093Z"
   },
   {
    "duration": 83,
    "start_time": "2022-05-03T17:03:24.115Z"
   },
   {
    "duration": 4,
    "start_time": "2022-05-03T17:03:24.200Z"
   },
   {
    "duration": 11,
    "start_time": "2022-05-03T17:03:24.205Z"
   },
   {
    "duration": 7,
    "start_time": "2022-05-03T17:03:24.218Z"
   },
   {
    "duration": 20,
    "start_time": "2022-05-03T17:03:24.227Z"
   },
   {
    "duration": 21,
    "start_time": "2022-05-03T17:03:24.273Z"
   },
   {
    "duration": 31,
    "start_time": "2022-05-03T17:03:24.297Z"
   },
   {
    "duration": 4,
    "start_time": "2022-05-03T17:03:24.330Z"
   },
   {
    "duration": 37,
    "start_time": "2022-05-03T17:03:24.336Z"
   },
   {
    "duration": 15,
    "start_time": "2022-05-03T17:03:24.375Z"
   },
   {
    "duration": 28,
    "start_time": "2022-05-03T17:03:24.391Z"
   },
   {
    "duration": 145,
    "start_time": "2022-05-03T17:03:24.421Z"
   },
   {
    "duration": 143,
    "start_time": "2022-05-03T17:03:24.574Z"
   },
   {
    "duration": 132,
    "start_time": "2022-05-03T17:03:24.719Z"
   },
   {
    "duration": 155,
    "start_time": "2022-05-03T17:03:24.854Z"
   },
   {
    "duration": 126,
    "start_time": "2022-05-03T17:03:25.011Z"
   },
   {
    "duration": 123,
    "start_time": "2022-05-03T17:03:25.139Z"
   },
   {
    "duration": 1572,
    "start_time": "2022-05-03T17:54:20.612Z"
   },
   {
    "duration": 7,
    "start_time": "2022-05-03T17:54:22.187Z"
   },
   {
    "duration": 25,
    "start_time": "2022-05-03T17:54:22.197Z"
   },
   {
    "duration": 119,
    "start_time": "2022-05-03T17:54:22.226Z"
   },
   {
    "duration": 6,
    "start_time": "2022-05-03T17:54:22.347Z"
   },
   {
    "duration": 14,
    "start_time": "2022-05-03T17:54:22.356Z"
   },
   {
    "duration": 14,
    "start_time": "2022-05-03T17:54:22.394Z"
   },
   {
    "duration": 30,
    "start_time": "2022-05-03T17:54:22.410Z"
   },
   {
    "duration": 52,
    "start_time": "2022-05-03T17:54:22.442Z"
   },
   {
    "duration": 46,
    "start_time": "2022-05-03T17:54:22.497Z"
   },
   {
    "duration": 7,
    "start_time": "2022-05-03T17:54:22.545Z"
   },
   {
    "duration": 45,
    "start_time": "2022-05-03T17:54:22.554Z"
   },
   {
    "duration": 12,
    "start_time": "2022-05-03T17:54:22.602Z"
   },
   {
    "duration": 16,
    "start_time": "2022-05-03T17:54:22.616Z"
   },
   {
    "duration": 20,
    "start_time": "2022-05-03T17:54:22.634Z"
   },
   {
    "duration": 61,
    "start_time": "2022-05-03T17:54:22.656Z"
   },
   {
    "duration": 306,
    "start_time": "2022-05-03T17:54:22.719Z"
   },
   {
    "duration": 465,
    "start_time": "2022-05-03T17:54:23.027Z"
   },
   {
    "duration": 400,
    "start_time": "2022-05-03T17:54:23.495Z"
   },
   {
    "duration": 406,
    "start_time": "2022-05-03T17:54:23.897Z"
   },
   {
    "duration": 326,
    "start_time": "2022-05-03T17:54:24.306Z"
   },
   {
    "duration": 395,
    "start_time": "2022-05-03T17:54:24.635Z"
   },
   {
    "duration": 1745,
    "start_time": "2022-05-03T18:00:42.191Z"
   },
   {
    "duration": 6,
    "start_time": "2022-05-03T18:00:43.992Z"
   },
   {
    "duration": 42,
    "start_time": "2022-05-03T18:00:44.000Z"
   },
   {
    "duration": 185,
    "start_time": "2022-05-03T18:00:44.045Z"
   },
   {
    "duration": 61,
    "start_time": "2022-05-03T18:00:44.232Z"
   },
   {
    "duration": 11,
    "start_time": "2022-05-03T18:00:44.295Z"
   },
   {
    "duration": 11,
    "start_time": "2022-05-03T18:00:44.308Z"
   },
   {
    "duration": 9,
    "start_time": "2022-05-03T18:00:44.321Z"
   },
   {
    "duration": 86,
    "start_time": "2022-05-03T18:00:44.332Z"
   },
   {
    "duration": 83,
    "start_time": "2022-05-03T18:00:44.421Z"
   },
   {
    "duration": 95,
    "start_time": "2022-05-03T18:00:44.506Z"
   },
   {
    "duration": 7,
    "start_time": "2022-05-03T18:00:44.603Z"
   },
   {
    "duration": 20,
    "start_time": "2022-05-03T18:00:44.612Z"
   },
   {
    "duration": 77,
    "start_time": "2022-05-03T18:00:44.635Z"
   },
   {
    "duration": 80,
    "start_time": "2022-05-03T18:00:44.714Z"
   },
   {
    "duration": 413,
    "start_time": "2022-05-03T18:00:44.796Z"
   },
   {
    "duration": 414,
    "start_time": "2022-05-03T18:00:45.211Z"
   },
   {
    "duration": 397,
    "start_time": "2022-05-03T18:00:45.627Z"
   },
   {
    "duration": 394,
    "start_time": "2022-05-03T18:00:46.027Z"
   },
   {
    "duration": 290,
    "start_time": "2022-05-03T18:00:46.424Z"
   },
   {
    "duration": 189,
    "start_time": "2022-05-03T18:00:46.716Z"
   },
   {
    "duration": 175,
    "start_time": "2022-05-03T18:03:47.561Z"
   },
   {
    "duration": 310,
    "start_time": "2022-05-03T18:06:38.977Z"
   },
   {
    "duration": 191,
    "start_time": "2022-05-03T18:06:46.602Z"
   },
   {
    "duration": 129,
    "start_time": "2022-05-03T18:09:07.707Z"
   },
   {
    "duration": 199,
    "start_time": "2022-05-03T18:10:01.441Z"
   },
   {
    "duration": 226,
    "start_time": "2022-05-03T18:10:08.169Z"
   },
   {
    "duration": 235,
    "start_time": "2022-05-03T18:11:30.134Z"
   },
   {
    "duration": 10584,
    "start_time": "2022-05-03T18:12:23.875Z"
   },
   {
    "duration": 184,
    "start_time": "2022-05-03T18:13:53.027Z"
   },
   {
    "duration": 186,
    "start_time": "2022-05-03T18:13:57.384Z"
   },
   {
    "duration": 200,
    "start_time": "2022-05-03T18:14:10.855Z"
   },
   {
    "duration": 183,
    "start_time": "2022-05-03T18:15:40.612Z"
   },
   {
    "duration": 6888,
    "start_time": "2022-05-03T18:16:03.762Z"
   },
   {
    "duration": 8925,
    "start_time": "2022-05-03T18:19:02.657Z"
   },
   {
    "duration": 8208,
    "start_time": "2022-05-03T18:20:15.637Z"
   },
   {
    "duration": 7848,
    "start_time": "2022-05-03T18:20:36.322Z"
   },
   {
    "duration": 4280,
    "start_time": "2022-05-03T18:21:03.273Z"
   },
   {
    "duration": 1645,
    "start_time": "2022-05-03T18:23:54.826Z"
   },
   {
    "duration": 8,
    "start_time": "2022-05-03T18:23:56.473Z"
   },
   {
    "duration": 41,
    "start_time": "2022-05-03T18:23:56.483Z"
   },
   {
    "duration": 107,
    "start_time": "2022-05-03T18:23:56.528Z"
   },
   {
    "duration": 5,
    "start_time": "2022-05-03T18:23:56.638Z"
   },
   {
    "duration": 17,
    "start_time": "2022-05-03T18:23:56.645Z"
   },
   {
    "duration": 30,
    "start_time": "2022-05-03T18:23:56.665Z"
   },
   {
    "duration": 9,
    "start_time": "2022-05-03T18:23:56.697Z"
   },
   {
    "duration": 30,
    "start_time": "2022-05-03T18:23:56.709Z"
   },
   {
    "duration": 60,
    "start_time": "2022-05-03T18:23:56.743Z"
   },
   {
    "duration": 45,
    "start_time": "2022-05-03T18:23:56.805Z"
   },
   {
    "duration": 6,
    "start_time": "2022-05-03T18:23:56.853Z"
   },
   {
    "duration": 42,
    "start_time": "2022-05-03T18:23:56.861Z"
   },
   {
    "duration": 30,
    "start_time": "2022-05-03T18:23:56.905Z"
   },
   {
    "duration": 31,
    "start_time": "2022-05-03T18:23:56.937Z"
   },
   {
    "duration": 347,
    "start_time": "2022-05-03T18:23:56.970Z"
   },
   {
    "duration": 413,
    "start_time": "2022-05-03T18:23:57.319Z"
   },
   {
    "duration": 395,
    "start_time": "2022-05-03T18:23:57.735Z"
   },
   {
    "duration": 461,
    "start_time": "2022-05-03T18:23:58.132Z"
   },
   {
    "duration": 312,
    "start_time": "2022-05-03T18:23:58.595Z"
   },
   {
    "duration": 328,
    "start_time": "2022-05-03T18:23:58.909Z"
   },
   {
    "duration": 20,
    "start_time": "2022-05-03T18:34:46.720Z"
   },
   {
    "duration": 15,
    "start_time": "2022-05-03T18:35:17.177Z"
   },
   {
    "duration": 11,
    "start_time": "2022-05-03T18:35:36.314Z"
   },
   {
    "duration": 11,
    "start_time": "2022-05-03T18:35:42.141Z"
   },
   {
    "duration": 14,
    "start_time": "2022-05-03T18:36:05.589Z"
   },
   {
    "duration": 13,
    "start_time": "2022-05-03T18:36:14.378Z"
   },
   {
    "duration": 13,
    "start_time": "2022-05-03T18:37:12.183Z"
   },
   {
    "duration": 10,
    "start_time": "2022-05-03T18:37:23.269Z"
   },
   {
    "duration": 14,
    "start_time": "2022-05-03T18:37:30.593Z"
   },
   {
    "duration": 16,
    "start_time": "2022-05-03T18:37:37.440Z"
   },
   {
    "duration": 13,
    "start_time": "2022-05-03T18:37:47.663Z"
   },
   {
    "duration": 14,
    "start_time": "2022-05-03T18:38:07.281Z"
   },
   {
    "duration": 1152,
    "start_time": "2022-05-03T18:38:30.925Z"
   },
   {
    "duration": 5,
    "start_time": "2022-05-03T18:38:32.079Z"
   },
   {
    "duration": 35,
    "start_time": "2022-05-03T18:38:32.085Z"
   },
   {
    "duration": 71,
    "start_time": "2022-05-03T18:38:32.122Z"
   },
   {
    "duration": 5,
    "start_time": "2022-05-03T18:38:32.194Z"
   },
   {
    "duration": 20,
    "start_time": "2022-05-03T18:38:32.200Z"
   },
   {
    "duration": 8,
    "start_time": "2022-05-03T18:38:32.222Z"
   },
   {
    "duration": 21,
    "start_time": "2022-05-03T18:38:32.232Z"
   },
   {
    "duration": 29,
    "start_time": "2022-05-03T18:38:32.255Z"
   },
   {
    "duration": 28,
    "start_time": "2022-05-03T18:38:32.287Z"
   },
   {
    "duration": 33,
    "start_time": "2022-05-03T18:38:32.317Z"
   },
   {
    "duration": 25,
    "start_time": "2022-05-03T18:38:32.351Z"
   },
   {
    "duration": 16,
    "start_time": "2022-05-03T18:38:32.377Z"
   },
   {
    "duration": 21,
    "start_time": "2022-05-03T18:38:32.395Z"
   },
   {
    "duration": 24,
    "start_time": "2022-05-03T18:38:32.417Z"
   },
   {
    "duration": 146,
    "start_time": "2022-05-03T18:38:32.443Z"
   },
   {
    "duration": 142,
    "start_time": "2022-05-03T18:38:32.591Z"
   },
   {
    "duration": 121,
    "start_time": "2022-05-03T18:38:32.735Z"
   },
   {
    "duration": 139,
    "start_time": "2022-05-03T18:38:32.858Z"
   },
   {
    "duration": 114,
    "start_time": "2022-05-03T18:38:32.999Z"
   },
   {
    "duration": 109,
    "start_time": "2022-05-03T18:38:33.115Z"
   },
   {
    "duration": 10,
    "start_time": "2022-05-03T18:38:50.601Z"
   },
   {
    "duration": 14,
    "start_time": "2022-05-03T18:38:59.246Z"
   },
   {
    "duration": 106,
    "start_time": "2022-05-03T18:39:28.410Z"
   },
   {
    "duration": 14,
    "start_time": "2022-05-03T18:39:46.876Z"
   },
   {
    "duration": 14,
    "start_time": "2022-05-03T18:40:07.309Z"
   },
   {
    "duration": 14,
    "start_time": "2022-05-03T18:40:23.170Z"
   },
   {
    "duration": 15,
    "start_time": "2022-05-03T18:40:34.777Z"
   },
   {
    "duration": 12,
    "start_time": "2022-05-03T18:40:45.229Z"
   },
   {
    "duration": 13,
    "start_time": "2022-05-03T18:40:56.875Z"
   },
   {
    "duration": 35,
    "start_time": "2022-05-03T18:41:34.721Z"
   },
   {
    "duration": 1308,
    "start_time": "2022-05-03T18:41:43.624Z"
   },
   {
    "duration": 6,
    "start_time": "2022-05-03T18:41:44.934Z"
   },
   {
    "duration": 26,
    "start_time": "2022-05-03T18:41:44.941Z"
   },
   {
    "duration": 82,
    "start_time": "2022-05-03T18:41:44.974Z"
   },
   {
    "duration": 17,
    "start_time": "2022-05-03T18:41:45.059Z"
   },
   {
    "duration": 68,
    "start_time": "2022-05-03T18:41:45.078Z"
   },
   {
    "duration": 18,
    "start_time": "2022-05-03T18:41:45.148Z"
   },
   {
    "duration": 8,
    "start_time": "2022-05-03T18:41:45.168Z"
   },
   {
    "duration": 23,
    "start_time": "2022-05-03T18:41:45.178Z"
   },
   {
    "duration": 25,
    "start_time": "2022-05-03T18:41:45.203Z"
   },
   {
    "duration": 157,
    "start_time": "2022-05-03T18:41:45.230Z"
   },
   {
    "duration": 0,
    "start_time": "2022-05-03T18:41:45.389Z"
   },
   {
    "duration": 0,
    "start_time": "2022-05-03T18:41:45.390Z"
   },
   {
    "duration": 0,
    "start_time": "2022-05-03T18:41:45.391Z"
   },
   {
    "duration": 0,
    "start_time": "2022-05-03T18:41:45.392Z"
   },
   {
    "duration": 0,
    "start_time": "2022-05-03T18:41:45.393Z"
   },
   {
    "duration": 0,
    "start_time": "2022-05-03T18:41:45.394Z"
   },
   {
    "duration": 0,
    "start_time": "2022-05-03T18:41:45.397Z"
   },
   {
    "duration": 0,
    "start_time": "2022-05-03T18:41:45.398Z"
   },
   {
    "duration": 0,
    "start_time": "2022-05-03T18:41:45.399Z"
   },
   {
    "duration": 0,
    "start_time": "2022-05-03T18:41:45.400Z"
   },
   {
    "duration": 57,
    "start_time": "2022-05-03T18:42:02.375Z"
   },
   {
    "duration": 49,
    "start_time": "2022-05-03T18:42:09.273Z"
   },
   {
    "duration": 1210,
    "start_time": "2022-05-03T18:42:25.222Z"
   },
   {
    "duration": 6,
    "start_time": "2022-05-03T18:42:26.434Z"
   },
   {
    "duration": 20,
    "start_time": "2022-05-03T18:42:26.442Z"
   },
   {
    "duration": 76,
    "start_time": "2022-05-03T18:42:26.464Z"
   },
   {
    "duration": 4,
    "start_time": "2022-05-03T18:42:26.543Z"
   },
   {
    "duration": 29,
    "start_time": "2022-05-03T18:42:26.549Z"
   },
   {
    "duration": 7,
    "start_time": "2022-05-03T18:42:26.580Z"
   },
   {
    "duration": 7,
    "start_time": "2022-05-03T18:42:26.588Z"
   },
   {
    "duration": 22,
    "start_time": "2022-05-03T18:42:26.596Z"
   },
   {
    "duration": 31,
    "start_time": "2022-05-03T18:42:26.620Z"
   },
   {
    "duration": 38,
    "start_time": "2022-05-03T18:42:26.674Z"
   },
   {
    "duration": 7,
    "start_time": "2022-05-03T18:42:26.714Z"
   },
   {
    "duration": 16,
    "start_time": "2022-05-03T18:42:26.722Z"
   },
   {
    "duration": 42,
    "start_time": "2022-05-03T18:42:26.741Z"
   },
   {
    "duration": 26,
    "start_time": "2022-05-03T18:42:26.785Z"
   },
   {
    "duration": 143,
    "start_time": "2022-05-03T18:42:26.814Z"
   },
   {
    "duration": 157,
    "start_time": "2022-05-03T18:42:26.959Z"
   },
   {
    "duration": 132,
    "start_time": "2022-05-03T18:42:27.118Z"
   },
   {
    "duration": 141,
    "start_time": "2022-05-03T18:42:27.252Z"
   },
   {
    "duration": 118,
    "start_time": "2022-05-03T18:42:27.395Z"
   },
   {
    "duration": 131,
    "start_time": "2022-05-03T18:42:27.515Z"
   },
   {
    "duration": 15,
    "start_time": "2022-05-03T18:43:48.174Z"
   },
   {
    "duration": 13,
    "start_time": "2022-05-03T18:44:03.554Z"
   },
   {
    "duration": 67,
    "start_time": "2022-05-03T18:46:23.479Z"
   },
   {
    "duration": 71,
    "start_time": "2022-05-03T18:46:48.863Z"
   },
   {
    "duration": 81,
    "start_time": "2022-05-03T18:59:01.432Z"
   },
   {
    "duration": 105,
    "start_time": "2022-05-03T19:01:02.309Z"
   },
   {
    "duration": 1112,
    "start_time": "2022-05-03T19:04:16.598Z"
   },
   {
    "duration": 70,
    "start_time": "2022-05-03T19:04:17.712Z"
   },
   {
    "duration": 5,
    "start_time": "2022-05-03T19:04:17.784Z"
   },
   {
    "duration": 33,
    "start_time": "2022-05-03T19:04:17.790Z"
   },
   {
    "duration": 73,
    "start_time": "2022-05-03T19:04:17.826Z"
   },
   {
    "duration": 4,
    "start_time": "2022-05-03T19:04:17.901Z"
   },
   {
    "duration": 16,
    "start_time": "2022-05-03T19:04:17.907Z"
   },
   {
    "duration": 7,
    "start_time": "2022-05-03T19:04:17.924Z"
   },
   {
    "duration": 8,
    "start_time": "2022-05-03T19:04:17.933Z"
   },
   {
    "duration": 43,
    "start_time": "2022-05-03T19:04:17.943Z"
   },
   {
    "duration": 22,
    "start_time": "2022-05-03T19:04:17.988Z"
   },
   {
    "duration": 38,
    "start_time": "2022-05-03T19:04:18.012Z"
   },
   {
    "duration": 32,
    "start_time": "2022-05-03T19:04:18.052Z"
   },
   {
    "duration": 12,
    "start_time": "2022-05-03T19:04:18.086Z"
   },
   {
    "duration": 15,
    "start_time": "2022-05-03T19:04:18.099Z"
   },
   {
    "duration": 22,
    "start_time": "2022-05-03T19:04:18.115Z"
   },
   {
    "duration": 155,
    "start_time": "2022-05-03T19:04:18.139Z"
   },
   {
    "duration": 136,
    "start_time": "2022-05-03T19:04:18.296Z"
   },
   {
    "duration": 121,
    "start_time": "2022-05-03T19:04:18.434Z"
   },
   {
    "duration": 144,
    "start_time": "2022-05-03T19:04:18.556Z"
   },
   {
    "duration": 108,
    "start_time": "2022-05-03T19:04:18.702Z"
   },
   {
    "duration": 117,
    "start_time": "2022-05-03T19:04:18.812Z"
   },
   {
    "duration": 6,
    "start_time": "2022-05-03T19:05:26.824Z"
   },
   {
    "duration": 52,
    "start_time": "2022-05-09T19:23:59.740Z"
   },
   {
    "duration": 9,
    "start_time": "2022-05-09T19:24:13.191Z"
   },
   {
    "duration": 46,
    "start_time": "2022-06-28T20:37:26.340Z"
   },
   {
    "duration": 1191,
    "start_time": "2022-06-28T20:38:03.633Z"
   },
   {
    "duration": 451,
    "start_time": "2022-06-28T20:38:04.825Z"
   },
   {
    "duration": 5,
    "start_time": "2022-06-28T20:38:05.277Z"
   },
   {
    "duration": 28,
    "start_time": "2022-06-28T20:38:05.284Z"
   },
   {
    "duration": 73,
    "start_time": "2022-06-28T20:38:05.314Z"
   },
   {
    "duration": 3,
    "start_time": "2022-06-28T20:38:05.389Z"
   },
   {
    "duration": 22,
    "start_time": "2022-06-28T20:38:05.394Z"
   },
   {
    "duration": 13,
    "start_time": "2022-06-28T20:38:05.418Z"
   },
   {
    "duration": 12,
    "start_time": "2022-06-28T20:38:05.433Z"
   },
   {
    "duration": 25,
    "start_time": "2022-06-28T20:38:05.447Z"
   },
   {
    "duration": 27,
    "start_time": "2022-06-28T20:38:05.473Z"
   },
   {
    "duration": 43,
    "start_time": "2022-06-28T20:38:05.502Z"
   },
   {
    "duration": 13,
    "start_time": "2022-06-28T20:38:05.548Z"
   },
   {
    "duration": 16,
    "start_time": "2022-06-28T20:38:05.563Z"
   },
   {
    "duration": 28,
    "start_time": "2022-06-28T20:38:05.580Z"
   },
   {
    "duration": 28,
    "start_time": "2022-06-28T20:38:05.610Z"
   },
   {
    "duration": 141,
    "start_time": "2022-06-28T20:38:05.639Z"
   },
   {
    "duration": 139,
    "start_time": "2022-06-28T20:38:05.782Z"
   },
   {
    "duration": 133,
    "start_time": "2022-06-28T20:38:05.925Z"
   },
   {
    "duration": 141,
    "start_time": "2022-06-28T20:38:06.060Z"
   },
   {
    "duration": 131,
    "start_time": "2022-06-28T20:38:06.202Z"
   },
   {
    "duration": 127,
    "start_time": "2022-06-28T20:38:06.335Z"
   },
   {
    "duration": 1427,
    "start_time": "2023-02-13T13:56:01.348Z"
   },
   {
    "duration": 1269,
    "start_time": "2023-02-13T13:56:07.836Z"
   },
   {
    "duration": 450,
    "start_time": "2023-02-13T13:56:09.108Z"
   },
   {
    "duration": 5,
    "start_time": "2023-02-13T13:56:09.560Z"
   },
   {
    "duration": 49,
    "start_time": "2023-02-13T13:56:09.567Z"
   },
   {
    "duration": 76,
    "start_time": "2023-02-13T13:56:09.618Z"
   },
   {
    "duration": 5,
    "start_time": "2023-02-13T13:56:09.696Z"
   },
   {
    "duration": 28,
    "start_time": "2023-02-13T13:56:09.703Z"
   },
   {
    "duration": 10,
    "start_time": "2023-02-13T13:56:09.734Z"
   },
   {
    "duration": 19,
    "start_time": "2023-02-13T13:56:09.746Z"
   },
   {
    "duration": 43,
    "start_time": "2023-02-13T13:56:09.768Z"
   },
   {
    "duration": 23,
    "start_time": "2023-02-13T13:56:09.813Z"
   },
   {
    "duration": 35,
    "start_time": "2023-02-13T13:56:09.838Z"
   },
   {
    "duration": 14,
    "start_time": "2023-02-13T13:56:09.875Z"
   },
   {
    "duration": 12,
    "start_time": "2023-02-13T13:56:09.891Z"
   },
   {
    "duration": 54,
    "start_time": "2023-02-13T13:56:09.904Z"
   },
   {
    "duration": 32,
    "start_time": "2023-02-13T13:56:09.959Z"
   },
   {
    "duration": 139,
    "start_time": "2023-02-13T13:56:09.993Z"
   },
   {
    "duration": 152,
    "start_time": "2023-02-13T13:56:10.139Z"
   },
   {
    "duration": 134,
    "start_time": "2023-02-13T13:56:10.292Z"
   },
   {
    "duration": 159,
    "start_time": "2023-02-13T13:56:10.428Z"
   },
   {
    "duration": 124,
    "start_time": "2023-02-13T13:56:10.589Z"
   },
   {
    "duration": 132,
    "start_time": "2023-02-13T13:56:10.714Z"
   },
   {
    "duration": 27,
    "start_time": "2023-02-13T13:56:54.057Z"
   },
   {
    "duration": 403,
    "start_time": "2023-02-13T13:56:56.965Z"
   },
   {
    "duration": 24,
    "start_time": "2023-02-13T13:56:58.471Z"
   },
   {
    "duration": 1259,
    "start_time": "2023-02-13T13:59:07.746Z"
   },
   {
    "duration": 511,
    "start_time": "2023-02-13T13:59:09.007Z"
   },
   {
    "duration": 21,
    "start_time": "2023-02-13T13:59:09.520Z"
   },
   {
    "duration": 5,
    "start_time": "2023-02-13T13:59:09.543Z"
   },
   {
    "duration": 20,
    "start_time": "2023-02-13T13:59:09.550Z"
   },
   {
    "duration": 98,
    "start_time": "2023-02-13T13:59:09.572Z"
   },
   {
    "duration": 4,
    "start_time": "2023-02-13T13:59:09.672Z"
   },
   {
    "duration": 20,
    "start_time": "2023-02-13T13:59:09.678Z"
   },
   {
    "duration": 29,
    "start_time": "2023-02-13T13:59:09.699Z"
   },
   {
    "duration": 14,
    "start_time": "2023-02-13T13:59:09.730Z"
   },
   {
    "duration": 46,
    "start_time": "2023-02-13T13:59:09.746Z"
   },
   {
    "duration": 23,
    "start_time": "2023-02-13T13:59:09.794Z"
   },
   {
    "duration": 56,
    "start_time": "2023-02-13T13:59:09.819Z"
   },
   {
    "duration": 15,
    "start_time": "2023-02-13T13:59:09.877Z"
   },
   {
    "duration": 15,
    "start_time": "2023-02-13T13:59:09.894Z"
   },
   {
    "duration": 49,
    "start_time": "2023-02-13T13:59:09.911Z"
   },
   {
    "duration": 23,
    "start_time": "2023-02-13T13:59:09.962Z"
   },
   {
    "duration": 157,
    "start_time": "2023-02-13T13:59:09.987Z"
   },
   {
    "duration": 180,
    "start_time": "2023-02-13T13:59:10.146Z"
   },
   {
    "duration": 167,
    "start_time": "2023-02-13T13:59:10.341Z"
   },
   {
    "duration": 156,
    "start_time": "2023-02-13T13:59:10.510Z"
   },
   {
    "duration": 131,
    "start_time": "2023-02-13T13:59:10.667Z"
   },
   {
    "duration": 134,
    "start_time": "2023-02-13T13:59:10.800Z"
   },
   {
    "duration": 1209,
    "start_time": "2023-02-13T13:59:22.331Z"
   },
   {
    "duration": 479,
    "start_time": "2023-02-13T13:59:23.542Z"
   },
   {
    "duration": 18,
    "start_time": "2023-02-13T13:59:24.022Z"
   },
   {
    "duration": 7,
    "start_time": "2023-02-13T13:59:24.042Z"
   },
   {
    "duration": 32,
    "start_time": "2023-02-13T13:59:24.051Z"
   },
   {
    "duration": 90,
    "start_time": "2023-02-13T13:59:24.085Z"
   },
   {
    "duration": 8,
    "start_time": "2023-02-13T13:59:24.176Z"
   },
   {
    "duration": 23,
    "start_time": "2023-02-13T13:59:24.186Z"
   },
   {
    "duration": 18,
    "start_time": "2023-02-13T13:59:24.211Z"
   },
   {
    "duration": 12,
    "start_time": "2023-02-13T13:59:24.232Z"
   },
   {
    "duration": 41,
    "start_time": "2023-02-13T13:59:24.247Z"
   },
   {
    "duration": 53,
    "start_time": "2023-02-13T13:59:24.291Z"
   },
   {
    "duration": 56,
    "start_time": "2023-02-13T13:59:24.346Z"
   },
   {
    "duration": 16,
    "start_time": "2023-02-13T13:59:24.405Z"
   },
   {
    "duration": 14,
    "start_time": "2023-02-13T13:59:24.441Z"
   },
   {
    "duration": 19,
    "start_time": "2023-02-13T13:59:24.457Z"
   },
   {
    "duration": 26,
    "start_time": "2023-02-13T13:59:24.478Z"
   },
   {
    "duration": 182,
    "start_time": "2023-02-13T13:59:24.506Z"
   },
   {
    "duration": 199,
    "start_time": "2023-02-13T13:59:24.690Z"
   },
   {
    "duration": 157,
    "start_time": "2023-02-13T13:59:24.891Z"
   },
   {
    "duration": 158,
    "start_time": "2023-02-13T13:59:25.049Z"
   },
   {
    "duration": 146,
    "start_time": "2023-02-13T13:59:25.209Z"
   },
   {
    "duration": 133,
    "start_time": "2023-02-13T13:59:25.356Z"
   },
   {
    "duration": 15,
    "start_time": "2023-02-13T14:00:36.075Z"
   },
   {
    "duration": 1287,
    "start_time": "2023-02-13T14:00:42.453Z"
   },
   {
    "duration": 381,
    "start_time": "2023-02-13T14:00:43.742Z"
   },
   {
    "duration": 18,
    "start_time": "2023-02-13T14:00:44.124Z"
   },
   {
    "duration": 14,
    "start_time": "2023-02-13T14:00:44.144Z"
   },
   {
    "duration": 6,
    "start_time": "2023-02-13T14:00:44.161Z"
   },
   {
    "duration": 30,
    "start_time": "2023-02-13T14:00:44.169Z"
   },
   {
    "duration": 89,
    "start_time": "2023-02-13T14:00:44.201Z"
   },
   {
    "duration": 4,
    "start_time": "2023-02-13T14:00:44.292Z"
   },
   {
    "duration": 25,
    "start_time": "2023-02-13T14:00:44.298Z"
   },
   {
    "duration": 21,
    "start_time": "2023-02-13T14:00:44.325Z"
   },
   {
    "duration": 7,
    "start_time": "2023-02-13T14:00:44.348Z"
   },
   {
    "duration": 24,
    "start_time": "2023-02-13T14:00:44.356Z"
   },
   {
    "duration": 22,
    "start_time": "2023-02-13T14:00:44.382Z"
   },
   {
    "duration": 60,
    "start_time": "2023-02-13T14:00:44.407Z"
   },
   {
    "duration": 13,
    "start_time": "2023-02-13T14:00:44.469Z"
   },
   {
    "duration": 12,
    "start_time": "2023-02-13T14:00:44.484Z"
   },
   {
    "duration": 43,
    "start_time": "2023-02-13T14:00:44.498Z"
   },
   {
    "duration": 21,
    "start_time": "2023-02-13T14:00:44.543Z"
   },
   {
    "duration": 159,
    "start_time": "2023-02-13T14:00:44.566Z"
   },
   {
    "duration": 169,
    "start_time": "2023-02-13T14:00:44.727Z"
   },
   {
    "duration": 130,
    "start_time": "2023-02-13T14:00:44.898Z"
   },
   {
    "duration": 149,
    "start_time": "2023-02-13T14:00:45.030Z"
   },
   {
    "duration": 123,
    "start_time": "2023-02-13T14:00:45.181Z"
   },
   {
    "duration": 136,
    "start_time": "2023-02-13T14:00:45.306Z"
   },
   {
    "duration": 46,
    "start_time": "2023-02-13T14:02:37.117Z"
   },
   {
    "duration": 3,
    "start_time": "2023-02-13T14:04:46.699Z"
   },
   {
    "duration": 9,
    "start_time": "2023-02-13T14:05:15.453Z"
   },
   {
    "duration": 10,
    "start_time": "2023-02-13T14:05:45.985Z"
   },
   {
    "duration": 5,
    "start_time": "2023-02-13T14:06:47.186Z"
   },
   {
    "duration": 1109,
    "start_time": "2023-02-13T14:06:54.195Z"
   },
   {
    "duration": 374,
    "start_time": "2023-02-13T14:06:55.306Z"
   },
   {
    "duration": 17,
    "start_time": "2023-02-13T14:06:55.682Z"
   },
   {
    "duration": 27,
    "start_time": "2023-02-13T14:06:55.700Z"
   },
   {
    "duration": 35,
    "start_time": "2023-02-13T14:06:55.729Z"
   },
   {
    "duration": 3,
    "start_time": "2023-02-13T14:06:55.766Z"
   },
   {
    "duration": 27,
    "start_time": "2023-02-13T14:06:55.770Z"
   },
   {
    "duration": 4,
    "start_time": "2023-02-13T14:06:55.799Z"
   },
   {
    "duration": 9,
    "start_time": "2023-02-13T14:06:55.805Z"
   },
   {
    "duration": 22,
    "start_time": "2023-02-13T14:06:55.815Z"
   },
   {
    "duration": 83,
    "start_time": "2023-02-13T14:06:55.840Z"
   },
   {
    "duration": 17,
    "start_time": "2023-02-13T14:06:55.925Z"
   },
   {
    "duration": 9,
    "start_time": "2023-02-13T14:06:55.943Z"
   },
   {
    "duration": 7,
    "start_time": "2023-02-13T14:06:55.955Z"
   },
   {
    "duration": 7,
    "start_time": "2023-02-13T14:06:55.963Z"
   },
   {
    "duration": 33,
    "start_time": "2023-02-13T14:06:55.971Z"
   },
   {
    "duration": 44,
    "start_time": "2023-02-13T14:06:56.005Z"
   },
   {
    "duration": 46,
    "start_time": "2023-02-13T14:06:56.051Z"
   },
   {
    "duration": 19,
    "start_time": "2023-02-13T14:06:56.099Z"
   },
   {
    "duration": 28,
    "start_time": "2023-02-13T14:06:56.120Z"
   },
   {
    "duration": 17,
    "start_time": "2023-02-13T14:06:56.150Z"
   },
   {
    "duration": 24,
    "start_time": "2023-02-13T14:06:56.169Z"
   },
   {
    "duration": 170,
    "start_time": "2023-02-13T14:06:56.195Z"
   },
   {
    "duration": 161,
    "start_time": "2023-02-13T14:06:56.367Z"
   },
   {
    "duration": 145,
    "start_time": "2023-02-13T14:06:56.530Z"
   },
   {
    "duration": 148,
    "start_time": "2023-02-13T14:06:56.677Z"
   },
   {
    "duration": 128,
    "start_time": "2023-02-13T14:06:56.827Z"
   },
   {
    "duration": 137,
    "start_time": "2023-02-13T14:06:56.957Z"
   },
   {
    "duration": 8,
    "start_time": "2023-02-13T14:08:10.366Z"
   },
   {
    "duration": 10,
    "start_time": "2023-02-13T14:08:23.801Z"
   },
   {
    "duration": 34,
    "start_time": "2023-02-13T14:09:08.494Z"
   },
   {
    "duration": 14,
    "start_time": "2023-02-13T14:09:15.532Z"
   },
   {
    "duration": 4,
    "start_time": "2023-02-13T14:10:09.215Z"
   },
   {
    "duration": 19,
    "start_time": "2023-02-13T14:11:19.157Z"
   },
   {
    "duration": 24,
    "start_time": "2023-02-13T14:11:59.459Z"
   },
   {
    "duration": 1284,
    "start_time": "2023-02-13T14:12:05.036Z"
   },
   {
    "duration": 384,
    "start_time": "2023-02-13T14:12:06.322Z"
   },
   {
    "duration": 18,
    "start_time": "2023-02-13T14:12:06.708Z"
   },
   {
    "duration": 13,
    "start_time": "2023-02-13T14:12:06.728Z"
   },
   {
    "duration": 35,
    "start_time": "2023-02-13T14:12:06.743Z"
   },
   {
    "duration": 4,
    "start_time": "2023-02-13T14:12:06.780Z"
   },
   {
    "duration": 18,
    "start_time": "2023-02-13T14:12:06.786Z"
   },
   {
    "duration": 6,
    "start_time": "2023-02-13T14:12:06.807Z"
   },
   {
    "duration": 32,
    "start_time": "2023-02-13T14:12:06.815Z"
   },
   {
    "duration": 52,
    "start_time": "2023-02-13T14:12:06.849Z"
   },
   {
    "duration": 11,
    "start_time": "2023-02-13T14:12:06.904Z"
   },
   {
    "duration": 4,
    "start_time": "2023-02-13T14:12:06.917Z"
   },
   {
    "duration": 18,
    "start_time": "2023-02-13T14:12:06.939Z"
   },
   {
    "duration": 28,
    "start_time": "2023-02-13T14:12:06.960Z"
   },
   {
    "duration": 9,
    "start_time": "2023-02-13T14:12:06.990Z"
   },
   {
    "duration": 23,
    "start_time": "2023-02-13T14:12:07.001Z"
   },
   {
    "duration": 128,
    "start_time": "2023-02-13T14:12:07.027Z"
   },
   {
    "duration": 4,
    "start_time": "2023-02-13T14:12:07.157Z"
   },
   {
    "duration": 14,
    "start_time": "2023-02-13T14:12:07.163Z"
   },
   {
    "duration": 8,
    "start_time": "2023-02-13T14:12:07.180Z"
   },
   {
    "duration": 7,
    "start_time": "2023-02-13T14:12:07.190Z"
   },
   {
    "duration": 62,
    "start_time": "2023-02-13T14:12:07.199Z"
   },
   {
    "duration": 34,
    "start_time": "2023-02-13T14:12:07.264Z"
   },
   {
    "duration": 53,
    "start_time": "2023-02-13T14:12:07.300Z"
   },
   {
    "duration": 13,
    "start_time": "2023-02-13T14:12:07.355Z"
   },
   {
    "duration": 17,
    "start_time": "2023-02-13T14:12:07.371Z"
   },
   {
    "duration": 17,
    "start_time": "2023-02-13T14:12:07.389Z"
   },
   {
    "duration": 45,
    "start_time": "2023-02-13T14:12:07.408Z"
   },
   {
    "duration": 153,
    "start_time": "2023-02-13T14:12:07.455Z"
   },
   {
    "duration": 173,
    "start_time": "2023-02-13T14:12:07.610Z"
   },
   {
    "duration": 170,
    "start_time": "2023-02-13T14:12:07.785Z"
   },
   {
    "duration": 168,
    "start_time": "2023-02-13T14:12:07.957Z"
   },
   {
    "duration": 132,
    "start_time": "2023-02-13T14:12:08.128Z"
   },
   {
    "duration": 128,
    "start_time": "2023-02-13T14:12:08.262Z"
   },
   {
    "duration": 24,
    "start_time": "2023-02-13T14:12:34.447Z"
   },
   {
    "duration": 4,
    "start_time": "2023-02-13T14:14:16.430Z"
   },
   {
    "duration": 10,
    "start_time": "2023-02-13T14:14:39.667Z"
   },
   {
    "duration": 9,
    "start_time": "2023-02-13T14:15:25.175Z"
   },
   {
    "duration": 3,
    "start_time": "2023-02-13T14:16:30.409Z"
   },
   {
    "duration": 8,
    "start_time": "2023-02-13T14:16:31.803Z"
   },
   {
    "duration": 19,
    "start_time": "2023-02-13T14:18:17.710Z"
   },
   {
    "duration": 122,
    "start_time": "2023-02-13T14:18:56.301Z"
   },
   {
    "duration": 124,
    "start_time": "2023-02-13T14:19:34.475Z"
   },
   {
    "duration": 89,
    "start_time": "2023-02-13T14:19:48.500Z"
   },
   {
    "duration": 166,
    "start_time": "2023-02-13T14:20:31.935Z"
   },
   {
    "duration": 166,
    "start_time": "2023-02-13T14:23:59.979Z"
   },
   {
    "duration": 368,
    "start_time": "2023-02-13T14:24:07.226Z"
   },
   {
    "duration": 60,
    "start_time": "2023-02-13T14:24:12.561Z"
   },
   {
    "duration": 56,
    "start_time": "2023-02-13T14:24:22.527Z"
   },
   {
    "duration": 234,
    "start_time": "2023-02-13T14:24:28.777Z"
   },
   {
    "duration": 129,
    "start_time": "2023-02-13T14:24:57.383Z"
   },
   {
    "duration": 85,
    "start_time": "2023-02-13T14:25:32.079Z"
   },
   {
    "duration": 36,
    "start_time": "2023-02-13T14:25:46.876Z"
   },
   {
    "duration": 37,
    "start_time": "2023-02-13T14:26:23.802Z"
   },
   {
    "duration": 124,
    "start_time": "2023-02-13T14:26:38.705Z"
   },
   {
    "duration": 34,
    "start_time": "2023-02-13T14:28:59.074Z"
   },
   {
    "duration": 1447,
    "start_time": "2023-02-13T14:29:08.830Z"
   },
   {
    "duration": 400,
    "start_time": "2023-02-13T14:29:10.279Z"
   },
   {
    "duration": 19,
    "start_time": "2023-02-13T14:29:10.681Z"
   },
   {
    "duration": 13,
    "start_time": "2023-02-13T14:29:10.702Z"
   },
   {
    "duration": 39,
    "start_time": "2023-02-13T14:29:10.717Z"
   },
   {
    "duration": 4,
    "start_time": "2023-02-13T14:29:10.758Z"
   },
   {
    "duration": 15,
    "start_time": "2023-02-13T14:29:10.764Z"
   },
   {
    "duration": 5,
    "start_time": "2023-02-13T14:29:10.781Z"
   },
   {
    "duration": 10,
    "start_time": "2023-02-13T14:29:10.788Z"
   },
   {
    "duration": 67,
    "start_time": "2023-02-13T14:29:10.801Z"
   },
   {
    "duration": 11,
    "start_time": "2023-02-13T14:29:10.869Z"
   },
   {
    "duration": 12,
    "start_time": "2023-02-13T14:29:10.882Z"
   },
   {
    "duration": 16,
    "start_time": "2023-02-13T14:29:10.896Z"
   },
   {
    "duration": 38,
    "start_time": "2023-02-13T14:29:10.914Z"
   },
   {
    "duration": 19,
    "start_time": "2023-02-13T14:29:10.953Z"
   },
   {
    "duration": 4,
    "start_time": "2023-02-13T14:29:10.974Z"
   },
   {
    "duration": 17,
    "start_time": "2023-02-13T14:29:10.979Z"
   },
   {
    "duration": 14,
    "start_time": "2023-02-13T14:29:10.998Z"
   },
   {
    "duration": 4,
    "start_time": "2023-02-13T14:29:11.014Z"
   },
   {
    "duration": 28,
    "start_time": "2023-02-13T14:29:11.020Z"
   },
   {
    "duration": 23,
    "start_time": "2023-02-13T14:29:11.050Z"
   },
   {
    "duration": 138,
    "start_time": "2023-02-13T14:29:11.075Z"
   },
   {
    "duration": 0,
    "start_time": "2023-02-13T14:29:11.215Z"
   },
   {
    "duration": 0,
    "start_time": "2023-02-13T14:29:11.216Z"
   },
   {
    "duration": 0,
    "start_time": "2023-02-13T14:29:11.217Z"
   },
   {
    "duration": 0,
    "start_time": "2023-02-13T14:29:11.219Z"
   },
   {
    "duration": 0,
    "start_time": "2023-02-13T14:29:11.220Z"
   },
   {
    "duration": 1193,
    "start_time": "2023-02-13T14:30:17.956Z"
   },
   {
    "duration": 415,
    "start_time": "2023-02-13T14:30:19.152Z"
   },
   {
    "duration": 16,
    "start_time": "2023-02-13T14:30:19.570Z"
   },
   {
    "duration": 12,
    "start_time": "2023-02-13T14:30:19.588Z"
   },
   {
    "duration": 38,
    "start_time": "2023-02-13T14:30:19.601Z"
   },
   {
    "duration": 3,
    "start_time": "2023-02-13T14:30:19.641Z"
   },
   {
    "duration": 12,
    "start_time": "2023-02-13T14:30:19.646Z"
   },
   {
    "duration": 6,
    "start_time": "2023-02-13T14:30:19.660Z"
   },
   {
    "duration": 33,
    "start_time": "2023-02-13T14:30:19.668Z"
   },
   {
    "duration": 38,
    "start_time": "2023-02-13T14:30:19.703Z"
   },
   {
    "duration": 13,
    "start_time": "2023-02-13T14:30:19.742Z"
   },
   {
    "duration": 4,
    "start_time": "2023-02-13T14:30:19.757Z"
   },
   {
    "duration": 12,
    "start_time": "2023-02-13T14:30:19.763Z"
   },
   {
    "duration": 19,
    "start_time": "2023-02-13T14:30:19.776Z"
   },
   {
    "duration": 47,
    "start_time": "2023-02-13T14:30:19.797Z"
   },
   {
    "duration": 5,
    "start_time": "2023-02-13T14:30:19.846Z"
   },
   {
    "duration": 19,
    "start_time": "2023-02-13T14:30:19.853Z"
   },
   {
    "duration": 9,
    "start_time": "2023-02-13T14:30:19.874Z"
   },
   {
    "duration": 5,
    "start_time": "2023-02-13T14:30:19.885Z"
   },
   {
    "duration": 11,
    "start_time": "2023-02-13T14:30:19.892Z"
   },
   {
    "duration": 44,
    "start_time": "2023-02-13T14:30:19.905Z"
   },
   {
    "duration": 159,
    "start_time": "2023-02-13T14:30:19.951Z"
   },
   {
    "duration": 1387,
    "start_time": "2023-02-13T14:30:20.112Z"
   },
   {
    "duration": 0,
    "start_time": "2023-02-13T14:30:21.501Z"
   },
   {
    "duration": 0,
    "start_time": "2023-02-13T14:30:21.502Z"
   },
   {
    "duration": 0,
    "start_time": "2023-02-13T14:30:21.504Z"
   },
   {
    "duration": 0,
    "start_time": "2023-02-13T14:30:21.505Z"
   },
   {
    "duration": 168,
    "start_time": "2023-02-13T14:31:10.710Z"
   },
   {
    "duration": 159,
    "start_time": "2023-02-13T14:31:18.038Z"
   },
   {
    "duration": 167,
    "start_time": "2023-02-13T14:32:35.892Z"
   },
   {
    "duration": 168,
    "start_time": "2023-02-13T14:34:27.808Z"
   },
   {
    "duration": 150,
    "start_time": "2023-02-13T14:34:45.626Z"
   },
   {
    "duration": 265,
    "start_time": "2023-02-13T14:35:38.380Z"
   },
   {
    "duration": 338,
    "start_time": "2023-02-13T14:35:51.104Z"
   },
   {
    "duration": 168,
    "start_time": "2023-02-13T14:35:57.031Z"
   },
   {
    "duration": 168,
    "start_time": "2023-02-13T14:36:07.674Z"
   },
   {
    "duration": 151,
    "start_time": "2023-02-13T14:36:13.712Z"
   },
   {
    "duration": 155,
    "start_time": "2023-02-13T14:37:31.015Z"
   },
   {
    "duration": 137,
    "start_time": "2023-02-13T14:38:03.167Z"
   },
   {
    "duration": 1265,
    "start_time": "2023-02-13T14:38:20.757Z"
   },
   {
    "duration": 1197,
    "start_time": "2023-02-13T14:38:42.244Z"
   },
   {
    "duration": 397,
    "start_time": "2023-02-13T14:38:43.443Z"
   },
   {
    "duration": 21,
    "start_time": "2023-02-13T14:38:43.841Z"
   },
   {
    "duration": 14,
    "start_time": "2023-02-13T14:38:43.864Z"
   },
   {
    "duration": 62,
    "start_time": "2023-02-13T14:38:43.880Z"
   },
   {
    "duration": 5,
    "start_time": "2023-02-13T14:38:43.944Z"
   },
   {
    "duration": 19,
    "start_time": "2023-02-13T14:38:43.951Z"
   },
   {
    "duration": 18,
    "start_time": "2023-02-13T14:38:43.972Z"
   },
   {
    "duration": 14,
    "start_time": "2023-02-13T14:38:43.992Z"
   },
   {
    "duration": 41,
    "start_time": "2023-02-13T14:38:44.009Z"
   },
   {
    "duration": 11,
    "start_time": "2023-02-13T14:38:44.052Z"
   },
   {
    "duration": 9,
    "start_time": "2023-02-13T14:38:44.064Z"
   },
   {
    "duration": 14,
    "start_time": "2023-02-13T14:38:44.075Z"
   },
   {
    "duration": 38,
    "start_time": "2023-02-13T14:38:44.091Z"
   },
   {
    "duration": 23,
    "start_time": "2023-02-13T14:38:44.130Z"
   },
   {
    "duration": 3,
    "start_time": "2023-02-13T14:38:44.155Z"
   },
   {
    "duration": 34,
    "start_time": "2023-02-13T14:38:44.160Z"
   },
   {
    "duration": 10,
    "start_time": "2023-02-13T14:38:44.196Z"
   },
   {
    "duration": 3,
    "start_time": "2023-02-13T14:38:44.208Z"
   },
   {
    "duration": 17,
    "start_time": "2023-02-13T14:38:44.213Z"
   },
   {
    "duration": 24,
    "start_time": "2023-02-13T14:38:44.232Z"
   },
   {
    "duration": 168,
    "start_time": "2023-02-13T14:38:44.257Z"
   },
   {
    "duration": 1281,
    "start_time": "2023-02-13T14:38:44.427Z"
   },
   {
    "duration": 0,
    "start_time": "2023-02-13T14:38:45.710Z"
   },
   {
    "duration": 0,
    "start_time": "2023-02-13T14:38:45.711Z"
   },
   {
    "duration": 0,
    "start_time": "2023-02-13T14:38:45.712Z"
   },
   {
    "duration": 0,
    "start_time": "2023-02-13T14:38:45.713Z"
   },
   {
    "duration": 25,
    "start_time": "2023-02-13T14:39:14.080Z"
   },
   {
    "duration": 1141,
    "start_time": "2023-02-13T14:39:27.964Z"
   },
   {
    "duration": 5,
    "start_time": "2023-02-13T14:39:39.437Z"
   },
   {
    "duration": 1213,
    "start_time": "2023-02-13T14:40:49.618Z"
   },
   {
    "duration": 351,
    "start_time": "2023-02-13T14:40:50.833Z"
   },
   {
    "duration": 20,
    "start_time": "2023-02-13T14:40:51.186Z"
   },
   {
    "duration": 19,
    "start_time": "2023-02-13T14:40:51.208Z"
   },
   {
    "duration": 45,
    "start_time": "2023-02-13T14:40:51.230Z"
   },
   {
    "duration": 5,
    "start_time": "2023-02-13T14:40:51.276Z"
   },
   {
    "duration": 18,
    "start_time": "2023-02-13T14:40:51.283Z"
   },
   {
    "duration": 7,
    "start_time": "2023-02-13T14:40:51.303Z"
   },
   {
    "duration": 20,
    "start_time": "2023-02-13T14:40:51.312Z"
   },
   {
    "duration": 63,
    "start_time": "2023-02-13T14:40:51.334Z"
   },
   {
    "duration": 10,
    "start_time": "2023-02-13T14:40:51.398Z"
   },
   {
    "duration": 21,
    "start_time": "2023-02-13T14:40:51.410Z"
   },
   {
    "duration": 50,
    "start_time": "2023-02-13T14:40:51.434Z"
   },
   {
    "duration": 22,
    "start_time": "2023-02-13T14:40:51.487Z"
   },
   {
    "duration": 19,
    "start_time": "2023-02-13T14:40:51.511Z"
   },
   {
    "duration": 23,
    "start_time": "2023-02-13T14:40:51.532Z"
   },
   {
    "duration": 26,
    "start_time": "2023-02-13T14:40:51.557Z"
   },
   {
    "duration": 8,
    "start_time": "2023-02-13T14:40:51.585Z"
   },
   {
    "duration": 6,
    "start_time": "2023-02-13T14:40:51.595Z"
   },
   {
    "duration": 19,
    "start_time": "2023-02-13T14:40:51.603Z"
   },
   {
    "duration": 32,
    "start_time": "2023-02-13T14:40:51.624Z"
   },
   {
    "duration": 162,
    "start_time": "2023-02-13T14:40:51.658Z"
   },
   {
    "duration": 6,
    "start_time": "2023-02-13T14:40:51.822Z"
   },
   {
    "duration": 167,
    "start_time": "2023-02-13T14:40:51.841Z"
   },
   {
    "duration": 130,
    "start_time": "2023-02-13T14:40:52.010Z"
   },
   {
    "duration": 0,
    "start_time": "2023-02-13T14:40:52.142Z"
   },
   {
    "duration": 0,
    "start_time": "2023-02-13T14:40:52.143Z"
   },
   {
    "duration": 0,
    "start_time": "2023-02-13T14:40:52.144Z"
   },
   {
    "duration": 149,
    "start_time": "2023-02-13T14:41:50.119Z"
   },
   {
    "duration": 160,
    "start_time": "2023-02-13T14:42:24.973Z"
   },
   {
    "duration": 172,
    "start_time": "2023-02-13T14:44:10.514Z"
   },
   {
    "duration": 135,
    "start_time": "2023-02-13T14:44:17.594Z"
   },
   {
    "duration": 3,
    "start_time": "2023-02-13T14:44:55.850Z"
   },
   {
    "duration": 155,
    "start_time": "2023-02-13T14:45:22.836Z"
   },
   {
    "duration": 2,
    "start_time": "2023-02-13T14:46:29.757Z"
   },
   {
    "duration": 26,
    "start_time": "2023-02-13T14:46:34.228Z"
   },
   {
    "duration": 146,
    "start_time": "2023-02-13T14:47:15.977Z"
   },
   {
    "duration": 173,
    "start_time": "2023-02-13T14:47:41.148Z"
   },
   {
    "duration": 244,
    "start_time": "2023-02-13T14:47:50.919Z"
   },
   {
    "duration": 10,
    "start_time": "2023-02-13T14:48:28.955Z"
   },
   {
    "duration": 10,
    "start_time": "2023-02-13T14:48:33.231Z"
   },
   {
    "duration": 125,
    "start_time": "2023-02-13T14:48:35.986Z"
   }
  ],
  "kernelspec": {
   "display_name": "Python 3 (ipykernel)",
   "language": "python",
   "name": "python3"
  },
  "language_info": {
   "codemirror_mode": {
    "name": "ipython",
    "version": 3
   },
   "file_extension": ".py",
   "mimetype": "text/x-python",
   "name": "python",
   "nbconvert_exporter": "python",
   "pygments_lexer": "ipython3",
   "version": "3.9.5"
  },
  "toc": {
   "base_numbering": 1,
   "nav_menu": {},
   "number_sections": true,
   "sideBar": true,
   "skip_h1_title": true,
   "title_cell": "Table of Contents",
   "title_sidebar": "Contents",
   "toc_cell": false,
   "toc_position": {},
   "toc_section_display": true,
   "toc_window_display": true
  }
 },
 "nbformat": 4,
 "nbformat_minor": 5
}
